{
 "cells": [
  {
   "cell_type": "code",
   "execution_count": 2,
   "id": "b0c2a86a-6bb6-4ae8-a5b6-964ff1e9f915",
   "metadata": {},
   "outputs": [
    {
     "name": "stdout",
     "output_type": "stream",
     "text": [
      "Requirement already satisfied: polars in /usr/local/lib/python3.10/site-packages (1.19.0)\n",
      "\u001b[33mWARNING: Running pip as the 'root' user can result in broken permissions and conflicting behaviour with the system package manager. It is recommended to use a virtual environment instead: https://pip.pypa.io/warnings/venv\u001b[0m\u001b[33m\n",
      "\u001b[0m\n",
      "\u001b[1m[\u001b[0m\u001b[34;49mnotice\u001b[0m\u001b[1;39;49m]\u001b[0m\u001b[39;49m A new release of pip is available: \u001b[0m\u001b[31;49m23.0.1\u001b[0m\u001b[39;49m -> \u001b[0m\u001b[32;49m24.3.1\u001b[0m\n",
      "\u001b[1m[\u001b[0m\u001b[34;49mnotice\u001b[0m\u001b[1;39;49m]\u001b[0m\u001b[39;49m To update, run: \u001b[0m\u001b[32;49mpip install --upgrade pip\u001b[0m\n"
     ]
    }
   ],
   "source": [
    "!pip install polars"
   ]
  },
  {
   "cell_type": "code",
   "execution_count": 2,
   "id": "e4317b69-a51c-40b2-8ca4-db0b3d3c1845",
   "metadata": {},
   "outputs": [
    {
     "name": "stdout",
     "output_type": "stream",
     "text": [
      "AGGREGATE\n",
      "\t[len().alias(\"trips\"), col(\"passenger_count\").sum().alias(\"passengers\"), col(\"trip_distance\").sum().alias(\"distance_driven\")] BY [col(\"VendorID\")] FROM\n",
      "  Csv SCAN [./yellow_tripdata_2015-01.csv]\n",
      "  PROJECT 3/19 COLUMNS\n",
      "  SELECTION: [(col(\"passenger_count\")) < (3)]\n"
     ]
    }
   ],
   "source": [
    "import polars as pl\n",
    "\n",
    "_file_location = './yellow_tripdata_2015-01.csv'\n",
    "\n",
    "lf = (\n",
    "    pl.scan_csv(_file_location)\n",
    "    .select('tpep_pickup_datetime', 'VendorID', 'passenger_count', 'trip_distance')\n",
    "    .with_columns(pl.col('tpep_pickup_datetime').str.strptime(pl.Datetime, format=\"%Y-%m-%d %H:%M:%S\"))\n",
    "    .filter(pl.col('passenger_count') < 3)\n",
    "    .group_by('VendorID')\n",
    "    .agg(\n",
    "        pl.len().alias('trips'),\n",
    "        pl.col('passenger_count').sum().alias('passengers'),\n",
    "        pl.col('trip_distance').sum().alias('distance_driven')\n",
    "    )\n",
    ")\n",
    "\n",
    "print(lf.explain())\n",
    "\n"
   ]
  },
  {
   "cell_type": "code",
   "execution_count": 3,
   "id": "e8a413da-17b7-4d6d-a4f6-09e917417c9d",
   "metadata": {},
   "outputs": [
    {
     "name": "stdout",
     "output_type": "stream",
     "text": [
      "CPU times: user 2.99 s, sys: 1.97 s, total: 4.96 s\n",
      "Wall time: 2.21 s\n"
     ]
    }
   ],
   "source": [
    "%time result = lf.collect(streaming=True)"
   ]
  },
  {
   "cell_type": "code",
   "execution_count": null,
   "id": "95c48a6e-1077-4bd5-bc9e-57fc36274486",
   "metadata": {},
   "outputs": [],
   "source": []
  }
 ],
 "metadata": {
  "kernelspec": {
   "display_name": "Python 3 (ipykernel)",
   "language": "python",
   "name": "python3"
  },
  "language_info": {
   "codemirror_mode": {
    "name": "ipython",
    "version": 3
   },
   "file_extension": ".py",
   "mimetype": "text/x-python",
   "name": "python",
   "nbconvert_exporter": "python",
   "pygments_lexer": "ipython3",
   "version": "3.10.16"
  }
 },
 "nbformat": 4,
 "nbformat_minor": 5
}
