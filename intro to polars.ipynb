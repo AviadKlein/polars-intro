{
 "cells": [
  {
   "cell_type": "markdown",
   "id": "930de69e",
   "metadata": {},
   "source": [
    "<img src=\"https://www.pola.rs/share.jpg\" width=400 height=200></img>"
   ]
  },
  {
   "cell_type": "code",
   "execution_count": 1,
   "id": "6b8475e9",
   "metadata": {},
   "outputs": [],
   "source": [
    "# !pip install polars altair great-tables colorzero"
   ]
  },
  {
   "cell_type": "code",
   "execution_count": 2,
   "id": "0444c940",
   "metadata": {},
   "outputs": [],
   "source": [
    "import polars as pl\n",
    "import pandas as pd\n",
    "import numpy as np\n",
    "import math\n",
    "import matplotlib.pyplot as plt"
   ]
  },
  {
   "cell_type": "markdown",
   "id": "7bfdb056",
   "metadata": {},
   "source": [
    "# On the history of `DataFrame`"
   ]
  },
  {
   "cell_type": "markdown",
   "id": "05507dad",
   "metadata": {},
   "source": [
    "<img src=\"./df_hist.png\" width=1000 height=500></img>"
   ]
  },
  {
   "cell_type": "markdown",
   "id": "09287a1a",
   "metadata": {},
   "source": [
    "# Why the name \"Polars\"?\n",
    "\n",
    "<font size=5>Because Pandas started it!</font>\n",
    "\n",
    "<font size=5>Pandas: **Pan**el **Da**ta</font>\n",
    "\n",
    "<font size=5>Polars: still an ursine, but with the `rs` suffix</font>"
   ]
  },
  {
   "cell_type": "markdown",
   "id": "7586d15a",
   "metadata": {},
   "source": [
    "# Who?\n",
    "\n",
    "https://www.ritchievink.com/"
   ]
  },
  {
   "cell_type": "markdown",
   "id": "c7e3bae8",
   "metadata": {},
   "source": [
    "# Why?\n",
    "\n",
    "### 1. Based on the Rust programming language, which is a very interesting language to know, might be very relevant for DS one day. polars has a python and a rust api.\n",
    "### 2. FAST!\n",
    "### 3. Can operate on datasets beyond the RAM size\n",
    "### 4. Come for speed, stay for the API."
   ]
  },
  {
   "cell_type": "markdown",
   "id": "99bba9dd",
   "metadata": {},
   "source": [
    "# A few words on Rust \n",
    "\n",
    "1. C/C++ performance \n",
    "2. Memory safety\n",
    "3. Out of the box parallelism and concurrency\n",
    "4. Data processing and ML: \n",
    "    - [Linfa](https://github.com/rust-ml/linfa) - scikit equivalent\n",
    "    - [Burn](https://github.com/tracel-ai/burn) - DL package\n",
    "    - [Polars](https://github.com/pola-rs/polars) - pandas equivalent\n",
    "    \n",
    "<img src=\"https://upload.wikimedia.org/wikipedia/commons/thumb/d/d5/Rust_programming_language_black_logo.svg/2048px-Rust_programming_language_black_logo.svg.png\" width=50 height=50></img>"
   ]
  },
  {
   "cell_type": "markdown",
   "id": "40606fce",
   "metadata": {},
   "source": [
    "<br>\n",
    "<br>\n",
    "<br>\n",
    "<br>\n",
    " "
   ]
  },
  {
   "cell_type": "markdown",
   "id": "fa9fa3ec",
   "metadata": {},
   "source": [
    "## What we will cover:\n",
    "\n",
    "- Benefits of polars, namely speed\n",
    "- API differences from Pandas\n",
    "- Eager API\n",
    "- Lazy API\n",
    "- SQL API (Yes, you can use polars directly with SQL)\n"
   ]
  },
  {
   "cell_type": "markdown",
   "id": "b1f4f8a4",
   "metadata": {},
   "source": [
    "# The main claim to fame: _speed_\n",
    "\n",
    "[Link1](https://duckdblabs.github.io/db-benchmark/), [Link2](https://pola.rs/posts/benchmarks/)\n",
    "\n",
    "## `polars` uses apache's Arrow internally which allows for optimized columnar storage\n",
    "\n",
    "- `numpy`/`pandas` $\\rightarrow$ `polars`: slow since a lot of conversion takes place...\n",
    "- python primitives $\\rightarrow$ `polars`: very fast\n",
    "- binary files, parquet files... $\\rightarrow$ `polars`: smart and fast"
   ]
  },
  {
   "cell_type": "code",
   "execution_count": 3,
   "id": "be79f5f9",
   "metadata": {},
   "outputs": [
    {
     "name": "stdout",
     "output_type": "stream",
     "text": [
      "CPU times: user 1.05 s, sys: 658 ms, total: 1.71 s\n",
      "Wall time: 1.93 s\n"
     ]
    }
   ],
   "source": [
    "%time _ = pl.Series([_ for _ in range(50_000_000)])"
   ]
  },
  {
   "cell_type": "code",
   "execution_count": 4,
   "id": "ebeaa931",
   "metadata": {},
   "outputs": [
    {
     "name": "stdout",
     "output_type": "stream",
     "text": [
      "CPU times: user 4.96 s, sys: 1.61 s, total: 6.58 s\n",
      "Wall time: 7.07 s\n"
     ]
    }
   ],
   "source": [
    "# fails on 100M, while polars achieves it in ~6.2 seconds\n",
    "%time _ = pd.Series([_ for _ in range(50_000_000)])"
   ]
  },
  {
   "cell_type": "code",
   "execution_count": 5,
   "id": "9b730f4f",
   "metadata": {},
   "outputs": [],
   "source": [
    "arr = np.random.choice(['A', 'B', 'C'], size=100_000_000)"
   ]
  },
  {
   "cell_type": "code",
   "execution_count": 6,
   "id": "dda89684",
   "metadata": {},
   "outputs": [
    {
     "name": "stdout",
     "output_type": "stream",
     "text": [
      "CPU times: user 14.1 s, sys: 320 ms, total: 14.4 s\n",
      "Wall time: 14.5 s\n"
     ]
    }
   ],
   "source": [
    "%time pls = pl.Series(arr) # very slow due to conversion from numpy, better to work with primitives"
   ]
  },
  {
   "cell_type": "code",
   "execution_count": 7,
   "id": "17842b4d",
   "metadata": {},
   "outputs": [
    {
     "name": "stdout",
     "output_type": "stream",
     "text": [
      "CPU times: user 831 ms, sys: 118 ms, total: 949 ms\n",
      "Wall time: 957 ms\n"
     ]
    }
   ],
   "source": [
    "%time pds = pd.Series(arr)"
   ]
  },
  {
   "cell_type": "code",
   "execution_count": 8,
   "id": "3ab58c3f",
   "metadata": {},
   "outputs": [
    {
     "name": "stdout",
     "output_type": "stream",
     "text": [
      "CPU times: user 538 ms, sys: 290 ms, total: 827 ms\n",
      "Wall time: 997 ms\n"
     ]
    },
    {
     "data": {
      "text/plain": [
       "'C'"
      ]
     },
     "execution_count": 8,
     "metadata": {},
     "output_type": "execute_result"
    }
   ],
   "source": [
    "%time pls.max()"
   ]
  },
  {
   "cell_type": "code",
   "execution_count": 9,
   "id": "4d31389c",
   "metadata": {},
   "outputs": [
    {
     "name": "stdout",
     "output_type": "stream",
     "text": [
      "CPU times: user 3 s, sys: 388 ms, total: 3.39 s\n",
      "Wall time: 4.38 s\n"
     ]
    },
    {
     "data": {
      "text/plain": [
       "'C'"
      ]
     },
     "execution_count": 9,
     "metadata": {},
     "output_type": "execute_result"
    }
   ],
   "source": [
    "%time pds.max()"
   ]
  },
  {
   "cell_type": "markdown",
   "id": "957accb9",
   "metadata": {},
   "source": [
    "## How long does it take to load a 5M row data set in Polars vs. Pandas? "
   ]
  },
  {
   "cell_type": "code",
   "execution_count": 10,
   "id": "58799ce3",
   "metadata": {},
   "outputs": [],
   "source": [
    "_file_location = './limited-memory-example/yellow_tripdata_2015-01.csv'"
   ]
  },
  {
   "cell_type": "code",
   "execution_count": 11,
   "id": "8c12e51f",
   "metadata": {},
   "outputs": [
    {
     "name": "stdout",
     "output_type": "stream",
     "text": [
      "CPU times: user 1.87 s, sys: 504 ms, total: 2.38 s\n",
      "Wall time: 2.51 s\n"
     ]
    }
   ],
   "source": [
    "%time df_5m = pl.read_csv(_file_location, n_rows=5_000_000)"
   ]
  },
  {
   "cell_type": "code",
   "execution_count": 12,
   "id": "2e25bb09",
   "metadata": {},
   "outputs": [
    {
     "name": "stdout",
     "output_type": "stream",
     "text": [
      "CPU times: user 5.12 s, sys: 1.24 s, total: 6.36 s\n",
      "Wall time: 6.93 s\n"
     ]
    }
   ],
   "source": [
    "%time pd_df = pd.read_csv(_file_location, nrows=5_000_000)"
   ]
  },
  {
   "cell_type": "markdown",
   "id": "b0110188",
   "metadata": {},
   "source": [
    "#### The full dataset contains 12,748,986 rows and 19 columns\n",
    "\n",
    "#### Reading the full dataset with pandas will kill the kernel...\n",
    "\n",
    "#### On polars, however..."
   ]
  },
  {
   "cell_type": "code",
   "execution_count": 13,
   "id": "754db9cb",
   "metadata": {},
   "outputs": [
    {
     "name": "stdout",
     "output_type": "stream",
     "text": [
      "CPU times: user 5.04 s, sys: 962 ms, total: 6 s\n",
      "Wall time: 3.15 s\n"
     ]
    }
   ],
   "source": [
    "%time df = pl.read_csv(_file_location)"
   ]
  },
  {
   "cell_type": "markdown",
   "id": "f574892a",
   "metadata": {},
   "source": [
    "#### Forcing it to use the arrow parser is even shorter"
   ]
  },
  {
   "cell_type": "code",
   "execution_count": 14,
   "id": "5f5c9c97",
   "metadata": {},
   "outputs": [
    {
     "name": "stdout",
     "output_type": "stream",
     "text": [
      "CPU times: user 9.23 s, sys: 3.08 s, total: 12.3 s\n",
      "Wall time: 2.23 s\n"
     ]
    }
   ],
   "source": [
    "%time df = pl.read_csv(_file_location, use_pyarrow=True)"
   ]
  },
  {
   "cell_type": "code",
   "execution_count": 15,
   "id": "0ffde76e",
   "metadata": {},
   "outputs": [
    {
     "data": {
      "text/plain": [
       "polars.dataframe.frame.DataFrame"
      ]
     },
     "execution_count": 15,
     "metadata": {},
     "output_type": "execute_result"
    }
   ],
   "source": [
    "type(df)"
   ]
  },
  {
   "cell_type": "code",
   "execution_count": 16,
   "id": "aeebe76e",
   "metadata": {},
   "outputs": [
    {
     "data": {
      "text/plain": [
       "(12748986, 19)"
      ]
     },
     "execution_count": 16,
     "metadata": {},
     "output_type": "execute_result"
    }
   ],
   "source": [
    "df.shape"
   ]
  },
  {
   "cell_type": "markdown",
   "id": "cf1ef736",
   "metadata": {},
   "source": [
    "## polars DataFrames have `Schema`s\n",
    "\n",
    "[`Schemas`](https://docs.pola.rs/api/python/dev/reference/dataframe/api/polars.DataFrame.schema.html) operate like `dict` with keys that are the column names and types that are part of `polars` magic.\n",
    "\n",
    "Some key methods are:\n",
    "- `names()` can also be accessed via `df.columns`\n",
    "- `dtypes()`\n",
    "- `values()`\n",
    "- `items()`\n",
    "- `keys()`\n",
    "- `to_python()`- will return a `dict`"
   ]
  },
  {
   "cell_type": "code",
   "execution_count": 17,
   "id": "386718c3",
   "metadata": {},
   "outputs": [
    {
     "data": {
      "text/plain": [
       "Schema([('VendorID', Int64),\n",
       "        ('tpep_pickup_datetime', Datetime(time_unit='ms', time_zone=None)),\n",
       "        ('tpep_dropoff_datetime', Datetime(time_unit='ms', time_zone=None)),\n",
       "        ('passenger_count', Int64),\n",
       "        ('trip_distance', Float64),\n",
       "        ('pickup_longitude', Float64),\n",
       "        ('pickup_latitude', Float64),\n",
       "        ('RateCodeID', Int64),\n",
       "        ('store_and_fwd_flag', String),\n",
       "        ('dropoff_longitude', Float64),\n",
       "        ('dropoff_latitude', Float64),\n",
       "        ('payment_type', Int64),\n",
       "        ('fare_amount', Float64),\n",
       "        ('extra', Float64),\n",
       "        ('mta_tax', Float64),\n",
       "        ('tip_amount', Float64),\n",
       "        ('tolls_amount', Float64),\n",
       "        ('improvement_surcharge', Float64),\n",
       "        ('total_amount', Float64)])"
      ]
     },
     "execution_count": 17,
     "metadata": {},
     "output_type": "execute_result"
    }
   ],
   "source": [
    "df.schema"
   ]
  },
  {
   "cell_type": "code",
   "execution_count": 18,
   "id": "8082c506",
   "metadata": {},
   "outputs": [
    {
     "data": {
      "text/plain": [
       "['VendorID',\n",
       " 'tpep_pickup_datetime',\n",
       " 'tpep_dropoff_datetime',\n",
       " 'passenger_count',\n",
       " 'trip_distance',\n",
       " 'pickup_longitude',\n",
       " 'pickup_latitude',\n",
       " 'RateCodeID',\n",
       " 'store_and_fwd_flag',\n",
       " 'dropoff_longitude',\n",
       " 'dropoff_latitude',\n",
       " 'payment_type',\n",
       " 'fare_amount',\n",
       " 'extra',\n",
       " 'mta_tax',\n",
       " 'tip_amount',\n",
       " 'tolls_amount',\n",
       " 'improvement_surcharge',\n",
       " 'total_amount']"
      ]
     },
     "execution_count": 18,
     "metadata": {},
     "output_type": "execute_result"
    }
   ],
   "source": [
    "df.columns # is equivalent to df.schema.names()"
   ]
  },
  {
   "cell_type": "code",
   "execution_count": 19,
   "id": "fb4b779e",
   "metadata": {},
   "outputs": [
    {
     "data": {
      "text/plain": [
       "1.7216464607045054"
      ]
     },
     "execution_count": 19,
     "metadata": {},
     "output_type": "execute_result"
    }
   ],
   "source": [
    "df.estimated_size('gb')"
   ]
  },
  {
   "cell_type": "markdown",
   "id": "81252c8b",
   "metadata": {},
   "source": [
    "## Dtypes\n",
    "\n",
    "### `polars` uses columnar storage, since logically, every column has 1 type, having a declared type for each column allows for storing and treating each column separately and in an optimized way"
   ]
  },
  {
   "cell_type": "code",
   "execution_count": 20,
   "id": "96114e6d",
   "metadata": {},
   "outputs": [
    {
     "data": {
      "text/plain": [
       "Int64"
      ]
     },
     "execution_count": 20,
     "metadata": {},
     "output_type": "execute_result"
    }
   ],
   "source": [
    "df.schema['VendorID']"
   ]
  },
  {
   "cell_type": "code",
   "execution_count": 21,
   "id": "56970a92",
   "metadata": {},
   "outputs": [],
   "source": [
    "dt = df.schema['VendorID']"
   ]
  },
  {
   "cell_type": "code",
   "execution_count": 22,
   "id": "a04dcd9f",
   "metadata": {},
   "outputs": [
    {
     "data": {
      "text/plain": [
       "polars.datatypes.classes.DataTypeClass"
      ]
     },
     "execution_count": 22,
     "metadata": {},
     "output_type": "execute_result"
    }
   ],
   "source": [
    "type(type(dt))"
   ]
  },
  {
   "cell_type": "code",
   "execution_count": 23,
   "id": "190172c1",
   "metadata": {},
   "outputs": [
    {
     "data": {
      "text/plain": [
       "(<Expr ['-9223372036854775808'] at 0x443130E50>,\n",
       " <Expr ['9223372036854775807'] at 0x12EDA6550>)"
      ]
     },
     "execution_count": 23,
     "metadata": {},
     "output_type": "execute_result"
    }
   ],
   "source": [
    "dt.min(), dt.max()"
   ]
  },
  {
   "cell_type": "code",
   "execution_count": 24,
   "id": "b88cb431",
   "metadata": {},
   "outputs": [
    {
     "data": {
      "text/plain": [
       "True"
      ]
     },
     "execution_count": 24,
     "metadata": {},
     "output_type": "execute_result"
    }
   ],
   "source": [
    "dt.is_numeric()"
   ]
  },
  {
   "cell_type": "code",
   "execution_count": 25,
   "id": "c8c5c577",
   "metadata": {},
   "outputs": [
    {
     "data": {
      "text/plain": [
       "False"
      ]
     },
     "execution_count": 25,
     "metadata": {},
     "output_type": "execute_result"
    }
   ],
   "source": [
    "dt.is_decimal()"
   ]
  },
  {
   "cell_type": "code",
   "execution_count": 28,
   "id": "0e01c775",
   "metadata": {},
   "outputs": [
    {
     "data": {
      "text/plain": [
       "True"
      ]
     },
     "execution_count": 28,
     "metadata": {},
     "output_type": "execute_result"
    }
   ],
   "source": [
    "dt.is_(df.schema['passenger_count'])"
   ]
  },
  {
   "cell_type": "markdown",
   "id": "b0fb7038",
   "metadata": {},
   "source": [
    "### dtypes can help us optimize"
   ]
  },
  {
   "cell_type": "code",
   "execution_count": 29,
   "id": "416eeca0",
   "metadata": {},
   "outputs": [
    {
     "data": {
      "text/html": [
       "<div><style>\n",
       ".dataframe > thead > tr,\n",
       ".dataframe > tbody > tr {\n",
       "  text-align: right;\n",
       "  white-space: pre-wrap;\n",
       "}\n",
       "</style>\n",
       "<small>shape: (2,)</small><table border=\"1\" class=\"dataframe\"><thead><tr><th>store_and_fwd_flag</th></tr><tr><td>str</td></tr></thead><tbody><tr><td>&quot;Y&quot;</td></tr><tr><td>&quot;N&quot;</td></tr></tbody></table></div>"
      ],
      "text/plain": [
       "shape: (2,)\n",
       "Series: 'store_and_fwd_flag' [str]\n",
       "[\n",
       "\t\"Y\"\n",
       "\t\"N\"\n",
       "]"
      ]
     },
     "execution_count": 29,
     "metadata": {},
     "output_type": "execute_result"
    }
   ],
   "source": [
    "df['store_and_fwd_flag'].unique()"
   ]
  },
  {
   "cell_type": "code",
   "execution_count": 30,
   "id": "42ab3735",
   "metadata": {},
   "outputs": [],
   "source": [
    "_c = df['store_and_fwd_flag'].cast(pl.Categorical()) # special data type for low cardinality"
   ]
  },
  {
   "cell_type": "code",
   "execution_count": 31,
   "id": "a9ea1460",
   "metadata": {},
   "outputs": [
    {
     "name": "stdout",
     "output_type": "stream",
     "text": [
      "CPU times: user 156 ms, sys: 91.5 ms, total: 247 ms\n",
      "Wall time: 269 ms\n"
     ]
    },
    {
     "data": {
      "text/html": [
       "<div><style>\n",
       ".dataframe > thead > tr,\n",
       ".dataframe > tbody > tr {\n",
       "  text-align: right;\n",
       "  white-space: pre-wrap;\n",
       "}\n",
       "</style>\n",
       "<small>shape: (2, 2)</small><table border=\"1\" class=\"dataframe\"><thead><tr><th>store_and_fwd_flag</th><th>count</th></tr><tr><td>str</td><td>u32</td></tr></thead><tbody><tr><td>&quot;Y&quot;</td><td>115033</td></tr><tr><td>&quot;N&quot;</td><td>12633953</td></tr></tbody></table></div>"
      ],
      "text/plain": [
       "shape: (2, 2)\n",
       "┌────────────────────┬──────────┐\n",
       "│ store_and_fwd_flag ┆ count    │\n",
       "│ ---                ┆ ---      │\n",
       "│ str                ┆ u32      │\n",
       "╞════════════════════╪══════════╡\n",
       "│ Y                  ┆ 115033   │\n",
       "│ N                  ┆ 12633953 │\n",
       "└────────────────────┴──────────┘"
      ]
     },
     "execution_count": 31,
     "metadata": {},
     "output_type": "execute_result"
    }
   ],
   "source": [
    "%time df['store_and_fwd_flag'].value_counts()"
   ]
  },
  {
   "cell_type": "code",
   "execution_count": 32,
   "id": "3f07eb23",
   "metadata": {},
   "outputs": [
    {
     "name": "stdout",
     "output_type": "stream",
     "text": [
      "CPU times: user 46.8 ms, sys: 35.6 ms, total: 82.4 ms\n",
      "Wall time: 92.1 ms\n"
     ]
    },
    {
     "data": {
      "text/html": [
       "<div><style>\n",
       ".dataframe > thead > tr,\n",
       ".dataframe > tbody > tr {\n",
       "  text-align: right;\n",
       "  white-space: pre-wrap;\n",
       "}\n",
       "</style>\n",
       "<small>shape: (2, 2)</small><table border=\"1\" class=\"dataframe\"><thead><tr><th>store_and_fwd_flag</th><th>count</th></tr><tr><td>cat</td><td>u32</td></tr></thead><tbody><tr><td>&quot;N&quot;</td><td>12633953</td></tr><tr><td>&quot;Y&quot;</td><td>115033</td></tr></tbody></table></div>"
      ],
      "text/plain": [
       "shape: (2, 2)\n",
       "┌────────────────────┬──────────┐\n",
       "│ store_and_fwd_flag ┆ count    │\n",
       "│ ---                ┆ ---      │\n",
       "│ cat                ┆ u32      │\n",
       "╞════════════════════╪══════════╡\n",
       "│ N                  ┆ 12633953 │\n",
       "│ Y                  ┆ 115033   │\n",
       "└────────────────────┴──────────┘"
      ]
     },
     "execution_count": 32,
     "metadata": {},
     "output_type": "execute_result"
    }
   ],
   "source": [
    "%time _c.value_counts()"
   ]
  },
  {
   "cell_type": "markdown",
   "id": "e139f101",
   "metadata": {},
   "source": [
    "# Eager Execution using `polars`"
   ]
  },
  {
   "cell_type": "markdown",
   "id": "3606c0e0",
   "metadata": {},
   "source": [
    "## Basic DataFrame methods"
   ]
  },
  {
   "cell_type": "markdown",
   "id": "df8922d3",
   "metadata": {},
   "source": [
    "### Creating DataFrames ad hoc"
   ]
  },
  {
   "cell_type": "code",
   "execution_count": 33,
   "id": "4b1835b2",
   "metadata": {},
   "outputs": [
    {
     "data": {
      "text/html": [
       "<div><style>\n",
       ".dataframe > thead > tr,\n",
       ".dataframe > tbody > tr {\n",
       "  text-align: right;\n",
       "  white-space: pre-wrap;\n",
       "}\n",
       "</style>\n",
       "<small>shape: (4, 2)</small><table border=\"1\" class=\"dataframe\"><thead><tr><th>a</th><th>b</th></tr><tr><td>i64</td><td>i64</td></tr></thead><tbody><tr><td>1</td><td>4</td></tr><tr><td>2</td><td>5</td></tr><tr><td>3</td><td>6</td></tr><tr><td>4</td><td>7</td></tr></tbody></table></div>"
      ],
      "text/plain": [
       "shape: (4, 2)\n",
       "┌─────┬─────┐\n",
       "│ a   ┆ b   │\n",
       "│ --- ┆ --- │\n",
       "│ i64 ┆ i64 │\n",
       "╞═════╪═════╡\n",
       "│ 1   ┆ 4   │\n",
       "│ 2   ┆ 5   │\n",
       "│ 3   ┆ 6   │\n",
       "│ 4   ┆ 7   │\n",
       "└─────┴─────┘"
      ]
     },
     "execution_count": 33,
     "metadata": {},
     "output_type": "execute_result"
    }
   ],
   "source": [
    "pl.DataFrame({'a': [1,2,3,4], 'b': [4,5,6,7]})"
   ]
  },
  {
   "cell_type": "code",
   "execution_count": 34,
   "id": "7295cc19",
   "metadata": {},
   "outputs": [
    {
     "data": {
      "text/html": [
       "<div><style>\n",
       ".dataframe > thead > tr,\n",
       ".dataframe > tbody > tr {\n",
       "  text-align: right;\n",
       "  white-space: pre-wrap;\n",
       "}\n",
       "</style>\n",
       "<small>shape: (5, 19)</small><table border=\"1\" class=\"dataframe\"><thead><tr><th>VendorID</th><th>tpep_pickup_datetime</th><th>tpep_dropoff_datetime</th><th>passenger_count</th><th>trip_distance</th><th>pickup_longitude</th><th>pickup_latitude</th><th>RateCodeID</th><th>store_and_fwd_flag</th><th>dropoff_longitude</th><th>dropoff_latitude</th><th>payment_type</th><th>fare_amount</th><th>extra</th><th>mta_tax</th><th>tip_amount</th><th>tolls_amount</th><th>improvement_surcharge</th><th>total_amount</th></tr><tr><td>i64</td><td>datetime[ms]</td><td>datetime[ms]</td><td>i64</td><td>f64</td><td>f64</td><td>f64</td><td>i64</td><td>str</td><td>f64</td><td>f64</td><td>i64</td><td>f64</td><td>f64</td><td>f64</td><td>f64</td><td>f64</td><td>f64</td><td>f64</td></tr></thead><tbody><tr><td>2</td><td>2015-01-15 19:05:39</td><td>2015-01-15 19:23:42</td><td>1</td><td>1.59</td><td>-73.993896</td><td>40.750111</td><td>1</td><td>&quot;N&quot;</td><td>-73.974785</td><td>40.750618</td><td>1</td><td>12.0</td><td>1.0</td><td>0.5</td><td>3.25</td><td>0.0</td><td>0.3</td><td>17.05</td></tr><tr><td>1</td><td>2015-01-10 20:33:38</td><td>2015-01-10 20:53:28</td><td>1</td><td>3.3</td><td>-74.001648</td><td>40.724243</td><td>1</td><td>&quot;N&quot;</td><td>-73.994415</td><td>40.759109</td><td>1</td><td>14.5</td><td>0.5</td><td>0.5</td><td>2.0</td><td>0.0</td><td>0.3</td><td>17.8</td></tr><tr><td>1</td><td>2015-01-10 20:33:38</td><td>2015-01-10 20:43:41</td><td>1</td><td>1.8</td><td>-73.963341</td><td>40.802788</td><td>1</td><td>&quot;N&quot;</td><td>-73.95182</td><td>40.824413</td><td>2</td><td>9.5</td><td>0.5</td><td>0.5</td><td>0.0</td><td>0.0</td><td>0.3</td><td>10.8</td></tr><tr><td>1</td><td>2015-01-10 20:33:39</td><td>2015-01-10 20:35:31</td><td>1</td><td>0.5</td><td>-74.009087</td><td>40.713818</td><td>1</td><td>&quot;N&quot;</td><td>-74.004326</td><td>40.719986</td><td>2</td><td>3.5</td><td>0.5</td><td>0.5</td><td>0.0</td><td>0.0</td><td>0.3</td><td>4.8</td></tr><tr><td>1</td><td>2015-01-10 20:33:39</td><td>2015-01-10 20:52:58</td><td>1</td><td>3.0</td><td>-73.971176</td><td>40.762428</td><td>1</td><td>&quot;N&quot;</td><td>-74.004181</td><td>40.742653</td><td>2</td><td>15.0</td><td>0.5</td><td>0.5</td><td>0.0</td><td>0.0</td><td>0.3</td><td>16.3</td></tr></tbody></table></div>"
      ],
      "text/plain": [
       "shape: (5, 19)\n",
       "┌──────────┬───────────┬───────────┬───────────┬───┬───────────┬───────────┬───────────┬───────────┐\n",
       "│ VendorID ┆ tpep_pick ┆ tpep_drop ┆ passenger ┆ … ┆ tip_amoun ┆ tolls_amo ┆ improveme ┆ total_amo │\n",
       "│ ---      ┆ up_dateti ┆ off_datet ┆ _count    ┆   ┆ t         ┆ unt       ┆ nt_surcha ┆ unt       │\n",
       "│ i64      ┆ me        ┆ ime       ┆ ---       ┆   ┆ ---       ┆ ---       ┆ rge       ┆ ---       │\n",
       "│          ┆ ---       ┆ ---       ┆ i64       ┆   ┆ f64       ┆ f64       ┆ ---       ┆ f64       │\n",
       "│          ┆ datetime[ ┆ datetime[ ┆           ┆   ┆           ┆           ┆ f64       ┆           │\n",
       "│          ┆ ms]       ┆ ms]       ┆           ┆   ┆           ┆           ┆           ┆           │\n",
       "╞══════════╪═══════════╪═══════════╪═══════════╪═══╪═══════════╪═══════════╪═══════════╪═══════════╡\n",
       "│ 2        ┆ 2015-01-1 ┆ 2015-01-1 ┆ 1         ┆ … ┆ 3.25      ┆ 0.0       ┆ 0.3       ┆ 17.05     │\n",
       "│          ┆ 5         ┆ 5         ┆           ┆   ┆           ┆           ┆           ┆           │\n",
       "│          ┆ 19:05:39  ┆ 19:23:42  ┆           ┆   ┆           ┆           ┆           ┆           │\n",
       "│ 1        ┆ 2015-01-1 ┆ 2015-01-1 ┆ 1         ┆ … ┆ 2.0       ┆ 0.0       ┆ 0.3       ┆ 17.8      │\n",
       "│          ┆ 0         ┆ 0         ┆           ┆   ┆           ┆           ┆           ┆           │\n",
       "│          ┆ 20:33:38  ┆ 20:53:28  ┆           ┆   ┆           ┆           ┆           ┆           │\n",
       "│ 1        ┆ 2015-01-1 ┆ 2015-01-1 ┆ 1         ┆ … ┆ 0.0       ┆ 0.0       ┆ 0.3       ┆ 10.8      │\n",
       "│          ┆ 0         ┆ 0         ┆           ┆   ┆           ┆           ┆           ┆           │\n",
       "│          ┆ 20:33:38  ┆ 20:43:41  ┆           ┆   ┆           ┆           ┆           ┆           │\n",
       "│ 1        ┆ 2015-01-1 ┆ 2015-01-1 ┆ 1         ┆ … ┆ 0.0       ┆ 0.0       ┆ 0.3       ┆ 4.8       │\n",
       "│          ┆ 0         ┆ 0         ┆           ┆   ┆           ┆           ┆           ┆           │\n",
       "│          ┆ 20:33:39  ┆ 20:35:31  ┆           ┆   ┆           ┆           ┆           ┆           │\n",
       "│ 1        ┆ 2015-01-1 ┆ 2015-01-1 ┆ 1         ┆ … ┆ 0.0       ┆ 0.0       ┆ 0.3       ┆ 16.3      │\n",
       "│          ┆ 0         ┆ 0         ┆           ┆   ┆           ┆           ┆           ┆           │\n",
       "│          ┆ 20:33:39  ┆ 20:52:58  ┆           ┆   ┆           ┆           ┆           ┆           │\n",
       "└──────────┴───────────┴───────────┴───────────┴───┴───────────┴───────────┴───────────┴───────────┘"
      ]
     },
     "execution_count": 34,
     "metadata": {},
     "output_type": "execute_result"
    }
   ],
   "source": [
    "# Our NYC dataset\n",
    "\n",
    "df.head()\n",
    "\n",
    "# Note that strings are quoted \"some str\""
   ]
  },
  {
   "cell_type": "markdown",
   "id": "a5619b29",
   "metadata": {},
   "source": [
    "## Some attributes"
   ]
  },
  {
   "cell_type": "code",
   "execution_count": 35,
   "id": "b3a8246c",
   "metadata": {},
   "outputs": [
    {
     "data": {
      "text/plain": [
       "12748986"
      ]
     },
     "execution_count": 35,
     "metadata": {},
     "output_type": "execute_result"
    }
   ],
   "source": [
    "df.height  # how many rows"
   ]
  },
  {
   "cell_type": "code",
   "execution_count": 36,
   "id": "48479402",
   "metadata": {},
   "outputs": [
    {
     "data": {
      "text/plain": [
       "19"
      ]
     },
     "execution_count": 36,
     "metadata": {},
     "output_type": "execute_result"
    }
   ],
   "source": [
    "df.width  # how many columns"
   ]
  },
  {
   "cell_type": "code",
   "execution_count": 37,
   "id": "4c016052",
   "metadata": {},
   "outputs": [
    {
     "data": {
      "text/plain": [
       "{'VendorID': {'SORTED_ASC': False, 'SORTED_DESC': False},\n",
       " 'tpep_pickup_datetime': {'SORTED_ASC': False, 'SORTED_DESC': False},\n",
       " 'tpep_dropoff_datetime': {'SORTED_ASC': False, 'SORTED_DESC': False},\n",
       " 'passenger_count': {'SORTED_ASC': False, 'SORTED_DESC': False},\n",
       " 'trip_distance': {'SORTED_ASC': False, 'SORTED_DESC': False},\n",
       " 'pickup_longitude': {'SORTED_ASC': False, 'SORTED_DESC': False},\n",
       " 'pickup_latitude': {'SORTED_ASC': False, 'SORTED_DESC': False},\n",
       " 'RateCodeID': {'SORTED_ASC': False, 'SORTED_DESC': False},\n",
       " 'store_and_fwd_flag': {'SORTED_ASC': False, 'SORTED_DESC': False},\n",
       " 'dropoff_longitude': {'SORTED_ASC': False, 'SORTED_DESC': False},\n",
       " 'dropoff_latitude': {'SORTED_ASC': False, 'SORTED_DESC': False},\n",
       " 'payment_type': {'SORTED_ASC': False, 'SORTED_DESC': False},\n",
       " 'fare_amount': {'SORTED_ASC': False, 'SORTED_DESC': False},\n",
       " 'extra': {'SORTED_ASC': False, 'SORTED_DESC': False},\n",
       " 'mta_tax': {'SORTED_ASC': False, 'SORTED_DESC': False},\n",
       " 'tip_amount': {'SORTED_ASC': False, 'SORTED_DESC': False},\n",
       " 'tolls_amount': {'SORTED_ASC': False, 'SORTED_DESC': False},\n",
       " 'improvement_surcharge': {'SORTED_ASC': False, 'SORTED_DESC': False},\n",
       " 'total_amount': {'SORTED_ASC': False, 'SORTED_DESC': False}}"
      ]
     },
     "execution_count": 37,
     "metadata": {},
     "output_type": "execute_result"
    }
   ],
   "source": [
    "df.flags  # holds the information if a column is sorted or not to avoid repeat sorting"
   ]
  },
  {
   "cell_type": "markdown",
   "id": "01ed929f",
   "metadata": {},
   "source": [
    "### The `describe()` method"
   ]
  },
  {
   "cell_type": "code",
   "execution_count": 38,
   "id": "994fda95",
   "metadata": {},
   "outputs": [
    {
     "name": "stdout",
     "output_type": "stream",
     "text": [
      "CPU times: user 958 ms, sys: 1.3 s, total: 2.26 s\n",
      "Wall time: 1.4 s\n"
     ]
    },
    {
     "data": {
      "text/html": [
       "<div><style>\n",
       ".dataframe > thead > tr,\n",
       ".dataframe > tbody > tr {\n",
       "  text-align: right;\n",
       "  white-space: pre-wrap;\n",
       "}\n",
       "</style>\n",
       "<small>shape: (9, 20)</small><table border=\"1\" class=\"dataframe\"><thead><tr><th>statistic</th><th>VendorID</th><th>tpep_pickup_datetime</th><th>tpep_dropoff_datetime</th><th>passenger_count</th><th>trip_distance</th><th>pickup_longitude</th><th>pickup_latitude</th><th>RateCodeID</th><th>store_and_fwd_flag</th><th>dropoff_longitude</th><th>dropoff_latitude</th><th>payment_type</th><th>fare_amount</th><th>extra</th><th>mta_tax</th><th>tip_amount</th><th>tolls_amount</th><th>improvement_surcharge</th><th>total_amount</th></tr><tr><td>str</td><td>f64</td><td>str</td><td>str</td><td>f64</td><td>f64</td><td>f64</td><td>f64</td><td>f64</td><td>str</td><td>f64</td><td>f64</td><td>f64</td><td>f64</td><td>f64</td><td>f64</td><td>f64</td><td>f64</td><td>f64</td><td>f64</td></tr></thead><tbody><tr><td>&quot;count&quot;</td><td>5e6</td><td>&quot;5000000&quot;</td><td>&quot;5000000&quot;</td><td>5e6</td><td>5e6</td><td>5e6</td><td>5e6</td><td>5e6</td><td>&quot;5000000&quot;</td><td>5e6</td><td>5e6</td><td>5e6</td><td>5e6</td><td>5e6</td><td>5e6</td><td>5e6</td><td>5e6</td><td>5e6</td><td>5e6</td></tr><tr><td>&quot;null_count&quot;</td><td>0.0</td><td>&quot;0&quot;</td><td>&quot;0&quot;</td><td>0.0</td><td>0.0</td><td>0.0</td><td>0.0</td><td>0.0</td><td>&quot;0&quot;</td><td>0.0</td><td>0.0</td><td>0.0</td><td>0.0</td><td>0.0</td><td>0.0</td><td>0.0</td><td>0.0</td><td>0.0</td><td>0.0</td></tr><tr><td>&quot;mean&quot;</td><td>1.5199624</td><td>null</td><td>null</td><td>1.679231</td><td>8.050024</td><td>-72.557148</td><td>39.970157</td><td>1.0365444</td><td>null</td><td>-72.604608</td><td>39.997219</td><td>1.3866874</td><td>11.903924</td><td>0.310775</td><td>0.4978076</td><td>1.545083</td><td>0.24298</td><td>0.283626</td><td>14.799807</td></tr><tr><td>&quot;std&quot;</td><td>0.499601</td><td>null</td><td>null</td><td>1.33552</td><td>6473.289552</td><td>10.141781</td><td>5.586894</td><td>0.647231</td><td>null</td><td>9.982288</td><td>5.496567</td><td>0.49878</td><td>10.308317</td><td>0.753201</td><td>0.035267</td><td>2.417063</td><td>1.534495</td><td>0.068147</td><td>12.571749</td></tr><tr><td>&quot;min&quot;</td><td>1.0</td><td>&quot;2015-01-01 00:03:48&quot;</td><td>&quot;2015-01-01 00:04:12&quot;</td><td>0.0</td><td>0.0</td><td>-121.925812</td><td>0.0</td><td>1.0</td><td>&quot;N&quot;</td><td>-736.416687</td><td>-9.029157</td><td>1.0</td><td>-450.0</td><td>-2.0</td><td>-0.5</td><td>-81.0</td><td>-11.75</td><td>0.0</td><td>-450.3</td></tr><tr><td>&quot;25%&quot;</td><td>1.0</td><td>null</td><td>null</td><td>1.0</td><td>1.0</td><td>-73.991684</td><td>40.735516</td><td>1.0</td><td>null</td><td>-73.991196</td><td>40.734352</td><td>1.0</td><td>6.5</td><td>0.0</td><td>0.5</td><td>0.0</td><td>0.0</td><td>0.3</td><td>8.19</td></tr><tr><td>&quot;50%&quot;</td><td>2.0</td><td>null</td><td>null</td><td>1.0</td><td>1.67</td><td>-73.981606</td><td>40.753151</td><td>1.0</td><td>null</td><td>-73.979759</td><td>40.753616</td><td>1.0</td><td>9.0</td><td>0.0</td><td>0.5</td><td>1.0</td><td>0.0</td><td>0.3</td><td>11.16</td></tr><tr><td>&quot;75%&quot;</td><td>2.0</td><td>null</td><td>null</td><td>2.0</td><td>3.0</td><td>-73.966667</td><td>40.767555</td><td>1.0</td><td>null</td><td>-73.96244</td><td>40.768833</td><td>2.0</td><td>13.5</td><td>0.5</td><td>0.5</td><td>2.06</td><td>0.0</td><td>0.3</td><td>16.3</td></tr><tr><td>&quot;max&quot;</td><td>2.0</td><td>&quot;2015-01-31 23:59:59&quot;</td><td>&quot;2016-02-02 13:51:38&quot;</td><td>9.0</td><td>1.1800e7</td><td>78.662651</td><td>53.784027</td><td>99.0</td><td>&quot;Y&quot;</td><td>85.274025</td><td>404.833344</td><td>5.0</td><td>3005.5</td><td>999.99</td><td>0.5</td><td>750.0</td><td>1000.66</td><td>0.3</td><td>3006.35</td></tr></tbody></table></div>"
      ],
      "text/plain": [
       "shape: (9, 20)\n",
       "┌───────────┬───────────┬───────────┬───────────┬───┬───────────┬───────────┬───────────┬──────────┐\n",
       "│ statistic ┆ VendorID  ┆ tpep_pick ┆ tpep_drop ┆ … ┆ tip_amoun ┆ tolls_amo ┆ improveme ┆ total_am │\n",
       "│ ---       ┆ ---       ┆ up_dateti ┆ off_datet ┆   ┆ t         ┆ unt       ┆ nt_surcha ┆ ount     │\n",
       "│ str       ┆ f64       ┆ me        ┆ ime       ┆   ┆ ---       ┆ ---       ┆ rge       ┆ ---      │\n",
       "│           ┆           ┆ ---       ┆ ---       ┆   ┆ f64       ┆ f64       ┆ ---       ┆ f64      │\n",
       "│           ┆           ┆ str       ┆ str       ┆   ┆           ┆           ┆ f64       ┆          │\n",
       "╞═══════════╪═══════════╪═══════════╪═══════════╪═══╪═══════════╪═══════════╪═══════════╪══════════╡\n",
       "│ count     ┆ 5e6       ┆ 5000000   ┆ 5000000   ┆ … ┆ 5e6       ┆ 5e6       ┆ 5e6       ┆ 5e6      │\n",
       "│ null_coun ┆ 0.0       ┆ 0         ┆ 0         ┆ … ┆ 0.0       ┆ 0.0       ┆ 0.0       ┆ 0.0      │\n",
       "│ t         ┆           ┆           ┆           ┆   ┆           ┆           ┆           ┆          │\n",
       "│ mean      ┆ 1.5199624 ┆ null      ┆ null      ┆ … ┆ 1.545083  ┆ 0.24298   ┆ 0.283626  ┆ 14.79980 │\n",
       "│           ┆           ┆           ┆           ┆   ┆           ┆           ┆           ┆ 7        │\n",
       "│ std       ┆ 0.499601  ┆ null      ┆ null      ┆ … ┆ 2.417063  ┆ 1.534495  ┆ 0.068147  ┆ 12.57174 │\n",
       "│           ┆           ┆           ┆           ┆   ┆           ┆           ┆           ┆ 9        │\n",
       "│ min       ┆ 1.0       ┆ 2015-01-0 ┆ 2015-01-0 ┆ … ┆ -81.0     ┆ -11.75    ┆ 0.0       ┆ -450.3   │\n",
       "│           ┆           ┆ 1         ┆ 1         ┆   ┆           ┆           ┆           ┆          │\n",
       "│           ┆           ┆ 00:03:48  ┆ 00:04:12  ┆   ┆           ┆           ┆           ┆          │\n",
       "│ 25%       ┆ 1.0       ┆ null      ┆ null      ┆ … ┆ 0.0       ┆ 0.0       ┆ 0.3       ┆ 8.19     │\n",
       "│ 50%       ┆ 2.0       ┆ null      ┆ null      ┆ … ┆ 1.0       ┆ 0.0       ┆ 0.3       ┆ 11.16    │\n",
       "│ 75%       ┆ 2.0       ┆ null      ┆ null      ┆ … ┆ 2.06      ┆ 0.0       ┆ 0.3       ┆ 16.3     │\n",
       "│ max       ┆ 2.0       ┆ 2015-01-3 ┆ 2016-02-0 ┆ … ┆ 750.0     ┆ 1000.66   ┆ 0.3       ┆ 3006.35  │\n",
       "│           ┆           ┆ 1         ┆ 2         ┆   ┆           ┆           ┆           ┆          │\n",
       "│           ┆           ┆ 23:59:59  ┆ 13:51:38  ┆   ┆           ┆           ┆           ┆          │\n",
       "└───────────┴───────────┴───────────┴───────────┴───┴───────────┴───────────┴───────────┴──────────┘"
      ]
     },
     "execution_count": 38,
     "metadata": {},
     "output_type": "execute_result"
    }
   ],
   "source": [
    "%time df_5m.describe()"
   ]
  },
  {
   "cell_type": "code",
   "execution_count": 39,
   "id": "2c98b807",
   "metadata": {},
   "outputs": [
    {
     "name": "stdout",
     "output_type": "stream",
     "text": [
      "CPU times: user 1.35 s, sys: 557 ms, total: 1.91 s\n",
      "Wall time: 3.17 s\n"
     ]
    },
    {
     "data": {
      "text/html": [
       "<div>\n",
       "<style scoped>\n",
       "    .dataframe tbody tr th:only-of-type {\n",
       "        vertical-align: middle;\n",
       "    }\n",
       "\n",
       "    .dataframe tbody tr th {\n",
       "        vertical-align: top;\n",
       "    }\n",
       "\n",
       "    .dataframe thead th {\n",
       "        text-align: right;\n",
       "    }\n",
       "</style>\n",
       "<table border=\"1\" class=\"dataframe\">\n",
       "  <thead>\n",
       "    <tr style=\"text-align: right;\">\n",
       "      <th></th>\n",
       "      <th>VendorID</th>\n",
       "      <th>passenger_count</th>\n",
       "      <th>trip_distance</th>\n",
       "      <th>pickup_longitude</th>\n",
       "      <th>pickup_latitude</th>\n",
       "      <th>RateCodeID</th>\n",
       "      <th>dropoff_longitude</th>\n",
       "      <th>dropoff_latitude</th>\n",
       "      <th>payment_type</th>\n",
       "      <th>fare_amount</th>\n",
       "      <th>extra</th>\n",
       "      <th>mta_tax</th>\n",
       "      <th>tip_amount</th>\n",
       "      <th>tolls_amount</th>\n",
       "      <th>improvement_surcharge</th>\n",
       "      <th>total_amount</th>\n",
       "    </tr>\n",
       "  </thead>\n",
       "  <tbody>\n",
       "    <tr>\n",
       "      <th>count</th>\n",
       "      <td>5.000000e+06</td>\n",
       "      <td>5.000000e+06</td>\n",
       "      <td>5.000000e+06</td>\n",
       "      <td>5.000000e+06</td>\n",
       "      <td>5.000000e+06</td>\n",
       "      <td>5.000000e+06</td>\n",
       "      <td>5.000000e+06</td>\n",
       "      <td>5.000000e+06</td>\n",
       "      <td>5.000000e+06</td>\n",
       "      <td>5.000000e+06</td>\n",
       "      <td>5.000000e+06</td>\n",
       "      <td>5.000000e+06</td>\n",
       "      <td>5.000000e+06</td>\n",
       "      <td>5.000000e+06</td>\n",
       "      <td>5.000000e+06</td>\n",
       "      <td>5.000000e+06</td>\n",
       "    </tr>\n",
       "    <tr>\n",
       "      <th>mean</th>\n",
       "      <td>1.519962e+00</td>\n",
       "      <td>1.679231e+00</td>\n",
       "      <td>8.050024e+00</td>\n",
       "      <td>-7.255715e+01</td>\n",
       "      <td>3.997016e+01</td>\n",
       "      <td>1.036544e+00</td>\n",
       "      <td>-7.260461e+01</td>\n",
       "      <td>3.999722e+01</td>\n",
       "      <td>1.386687e+00</td>\n",
       "      <td>1.190392e+01</td>\n",
       "      <td>3.107748e-01</td>\n",
       "      <td>4.978076e-01</td>\n",
       "      <td>1.545083e+00</td>\n",
       "      <td>2.429798e-01</td>\n",
       "      <td>2.836262e-01</td>\n",
       "      <td>1.479981e+01</td>\n",
       "    </tr>\n",
       "    <tr>\n",
       "      <th>std</th>\n",
       "      <td>4.996014e-01</td>\n",
       "      <td>1.335520e+00</td>\n",
       "      <td>6.473290e+03</td>\n",
       "      <td>1.014178e+01</td>\n",
       "      <td>5.586894e+00</td>\n",
       "      <td>6.472306e-01</td>\n",
       "      <td>9.982288e+00</td>\n",
       "      <td>5.496567e+00</td>\n",
       "      <td>4.987796e-01</td>\n",
       "      <td>1.030832e+01</td>\n",
       "      <td>7.532012e-01</td>\n",
       "      <td>3.526746e-02</td>\n",
       "      <td>2.417063e+00</td>\n",
       "      <td>1.534495e+00</td>\n",
       "      <td>6.814711e-02</td>\n",
       "      <td>1.257175e+01</td>\n",
       "    </tr>\n",
       "    <tr>\n",
       "      <th>min</th>\n",
       "      <td>1.000000e+00</td>\n",
       "      <td>0.000000e+00</td>\n",
       "      <td>0.000000e+00</td>\n",
       "      <td>-1.219258e+02</td>\n",
       "      <td>0.000000e+00</td>\n",
       "      <td>1.000000e+00</td>\n",
       "      <td>-7.364167e+02</td>\n",
       "      <td>-9.029157e+00</td>\n",
       "      <td>1.000000e+00</td>\n",
       "      <td>-4.500000e+02</td>\n",
       "      <td>-2.000000e+00</td>\n",
       "      <td>-5.000000e-01</td>\n",
       "      <td>-8.100000e+01</td>\n",
       "      <td>-1.175000e+01</td>\n",
       "      <td>0.000000e+00</td>\n",
       "      <td>-4.503000e+02</td>\n",
       "    </tr>\n",
       "    <tr>\n",
       "      <th>25%</th>\n",
       "      <td>1.000000e+00</td>\n",
       "      <td>1.000000e+00</td>\n",
       "      <td>1.000000e+00</td>\n",
       "      <td>-7.399168e+01</td>\n",
       "      <td>4.073552e+01</td>\n",
       "      <td>1.000000e+00</td>\n",
       "      <td>-7.399120e+01</td>\n",
       "      <td>4.073435e+01</td>\n",
       "      <td>1.000000e+00</td>\n",
       "      <td>6.500000e+00</td>\n",
       "      <td>0.000000e+00</td>\n",
       "      <td>5.000000e-01</td>\n",
       "      <td>0.000000e+00</td>\n",
       "      <td>0.000000e+00</td>\n",
       "      <td>3.000000e-01</td>\n",
       "      <td>8.190000e+00</td>\n",
       "    </tr>\n",
       "    <tr>\n",
       "      <th>50%</th>\n",
       "      <td>2.000000e+00</td>\n",
       "      <td>1.000000e+00</td>\n",
       "      <td>1.670000e+00</td>\n",
       "      <td>-7.398161e+01</td>\n",
       "      <td>4.075315e+01</td>\n",
       "      <td>1.000000e+00</td>\n",
       "      <td>-7.397976e+01</td>\n",
       "      <td>4.075362e+01</td>\n",
       "      <td>1.000000e+00</td>\n",
       "      <td>9.000000e+00</td>\n",
       "      <td>0.000000e+00</td>\n",
       "      <td>5.000000e-01</td>\n",
       "      <td>1.000000e+00</td>\n",
       "      <td>0.000000e+00</td>\n",
       "      <td>3.000000e-01</td>\n",
       "      <td>1.116000e+01</td>\n",
       "    </tr>\n",
       "    <tr>\n",
       "      <th>75%</th>\n",
       "      <td>2.000000e+00</td>\n",
       "      <td>2.000000e+00</td>\n",
       "      <td>3.000000e+00</td>\n",
       "      <td>-7.396667e+01</td>\n",
       "      <td>4.076756e+01</td>\n",
       "      <td>1.000000e+00</td>\n",
       "      <td>-7.396244e+01</td>\n",
       "      <td>4.076883e+01</td>\n",
       "      <td>2.000000e+00</td>\n",
       "      <td>1.350000e+01</td>\n",
       "      <td>5.000000e-01</td>\n",
       "      <td>5.000000e-01</td>\n",
       "      <td>2.060000e+00</td>\n",
       "      <td>0.000000e+00</td>\n",
       "      <td>3.000000e-01</td>\n",
       "      <td>1.630000e+01</td>\n",
       "    </tr>\n",
       "    <tr>\n",
       "      <th>max</th>\n",
       "      <td>2.000000e+00</td>\n",
       "      <td>9.000000e+00</td>\n",
       "      <td>1.180000e+07</td>\n",
       "      <td>7.866265e+01</td>\n",
       "      <td>5.378403e+01</td>\n",
       "      <td>9.900000e+01</td>\n",
       "      <td>8.527402e+01</td>\n",
       "      <td>4.048333e+02</td>\n",
       "      <td>5.000000e+00</td>\n",
       "      <td>3.005500e+03</td>\n",
       "      <td>9.999900e+02</td>\n",
       "      <td>5.000000e-01</td>\n",
       "      <td>7.500000e+02</td>\n",
       "      <td>1.000660e+03</td>\n",
       "      <td>3.000000e-01</td>\n",
       "      <td>3.006350e+03</td>\n",
       "    </tr>\n",
       "  </tbody>\n",
       "</table>\n",
       "</div>"
      ],
      "text/plain": [
       "           VendorID  passenger_count  trip_distance  pickup_longitude  \\\n",
       "count  5.000000e+06     5.000000e+06   5.000000e+06      5.000000e+06   \n",
       "mean   1.519962e+00     1.679231e+00   8.050024e+00     -7.255715e+01   \n",
       "std    4.996014e-01     1.335520e+00   6.473290e+03      1.014178e+01   \n",
       "min    1.000000e+00     0.000000e+00   0.000000e+00     -1.219258e+02   \n",
       "25%    1.000000e+00     1.000000e+00   1.000000e+00     -7.399168e+01   \n",
       "50%    2.000000e+00     1.000000e+00   1.670000e+00     -7.398161e+01   \n",
       "75%    2.000000e+00     2.000000e+00   3.000000e+00     -7.396667e+01   \n",
       "max    2.000000e+00     9.000000e+00   1.180000e+07      7.866265e+01   \n",
       "\n",
       "       pickup_latitude    RateCodeID  dropoff_longitude  dropoff_latitude  \\\n",
       "count     5.000000e+06  5.000000e+06       5.000000e+06      5.000000e+06   \n",
       "mean      3.997016e+01  1.036544e+00      -7.260461e+01      3.999722e+01   \n",
       "std       5.586894e+00  6.472306e-01       9.982288e+00      5.496567e+00   \n",
       "min       0.000000e+00  1.000000e+00      -7.364167e+02     -9.029157e+00   \n",
       "25%       4.073552e+01  1.000000e+00      -7.399120e+01      4.073435e+01   \n",
       "50%       4.075315e+01  1.000000e+00      -7.397976e+01      4.075362e+01   \n",
       "75%       4.076756e+01  1.000000e+00      -7.396244e+01      4.076883e+01   \n",
       "max       5.378403e+01  9.900000e+01       8.527402e+01      4.048333e+02   \n",
       "\n",
       "       payment_type   fare_amount         extra       mta_tax    tip_amount  \\\n",
       "count  5.000000e+06  5.000000e+06  5.000000e+06  5.000000e+06  5.000000e+06   \n",
       "mean   1.386687e+00  1.190392e+01  3.107748e-01  4.978076e-01  1.545083e+00   \n",
       "std    4.987796e-01  1.030832e+01  7.532012e-01  3.526746e-02  2.417063e+00   \n",
       "min    1.000000e+00 -4.500000e+02 -2.000000e+00 -5.000000e-01 -8.100000e+01   \n",
       "25%    1.000000e+00  6.500000e+00  0.000000e+00  5.000000e-01  0.000000e+00   \n",
       "50%    1.000000e+00  9.000000e+00  0.000000e+00  5.000000e-01  1.000000e+00   \n",
       "75%    2.000000e+00  1.350000e+01  5.000000e-01  5.000000e-01  2.060000e+00   \n",
       "max    5.000000e+00  3.005500e+03  9.999900e+02  5.000000e-01  7.500000e+02   \n",
       "\n",
       "       tolls_amount  improvement_surcharge  total_amount  \n",
       "count  5.000000e+06           5.000000e+06  5.000000e+06  \n",
       "mean   2.429798e-01           2.836262e-01  1.479981e+01  \n",
       "std    1.534495e+00           6.814711e-02  1.257175e+01  \n",
       "min   -1.175000e+01           0.000000e+00 -4.503000e+02  \n",
       "25%    0.000000e+00           3.000000e-01  8.190000e+00  \n",
       "50%    0.000000e+00           3.000000e-01  1.116000e+01  \n",
       "75%    0.000000e+00           3.000000e-01  1.630000e+01  \n",
       "max    1.000660e+03           3.000000e-01  3.006350e+03  "
      ]
     },
     "execution_count": 39,
     "metadata": {},
     "output_type": "execute_result"
    }
   ],
   "source": [
    "%time pd_df.describe()"
   ]
  },
  {
   "cell_type": "markdown",
   "id": "0f478767",
   "metadata": {},
   "source": [
    "## Indexing: No `index` attribute, no `loc`/`iloc` methods... \n",
    "instead one canjust refer to row number (0 based indexing)"
   ]
  },
  {
   "cell_type": "code",
   "execution_count": 40,
   "id": "c20d416f",
   "metadata": {},
   "outputs": [
    {
     "data": {
      "text/plain": [
       "2"
      ]
     },
     "execution_count": 40,
     "metadata": {},
     "output_type": "execute_result"
    }
   ],
   "source": [
    "df[0,0]"
   ]
  },
  {
   "cell_type": "code",
   "execution_count": 41,
   "id": "9c323d68",
   "metadata": {},
   "outputs": [
    {
     "data": {
      "text/html": [
       "<div><style>\n",
       ".dataframe > thead > tr,\n",
       ".dataframe > tbody > tr {\n",
       "  text-align: right;\n",
       "  white-space: pre-wrap;\n",
       "}\n",
       "</style>\n",
       "<small>shape: (12_748_986,)</small><table border=\"1\" class=\"dataframe\"><thead><tr><th>VendorID</th></tr><tr><td>i64</td></tr></thead><tbody><tr><td>2</td></tr><tr><td>1</td></tr><tr><td>1</td></tr><tr><td>1</td></tr><tr><td>1</td></tr><tr><td>&hellip;</td></tr><tr><td>1</td></tr><tr><td>1</td></tr><tr><td>1</td></tr><tr><td>1</td></tr><tr><td>1</td></tr></tbody></table></div>"
      ],
      "text/plain": [
       "shape: (12_748_986,)\n",
       "Series: 'VendorID' [i64]\n",
       "[\n",
       "\t2\n",
       "\t1\n",
       "\t1\n",
       "\t1\n",
       "\t1\n",
       "\t…\n",
       "\t1\n",
       "\t1\n",
       "\t1\n",
       "\t1\n",
       "\t1\n",
       "]"
      ]
     },
     "execution_count": 41,
     "metadata": {},
     "output_type": "execute_result"
    }
   ],
   "source": [
    "df['VendorID']"
   ]
  },
  {
   "cell_type": "code",
   "execution_count": 42,
   "id": "438a75e0",
   "metadata": {},
   "outputs": [
    {
     "data": {
      "text/plain": [
       "2"
      ]
     },
     "execution_count": 42,
     "metadata": {},
     "output_type": "execute_result"
    }
   ],
   "source": [
    "df[0,'VendorID']"
   ]
  },
  {
   "cell_type": "code",
   "execution_count": 43,
   "id": "56c0075f",
   "metadata": {},
   "outputs": [
    {
     "data": {
      "text/html": [
       "<div><style>\n",
       ".dataframe > thead > tr,\n",
       ".dataframe > tbody > tr {\n",
       "  text-align: right;\n",
       "  white-space: pre-wrap;\n",
       "}\n",
       "</style>\n",
       "<small>shape: (4, 2)</small><table border=\"1\" class=\"dataframe\"><thead><tr><th>tpep_dropoff_datetime</th><th>pickup_longitude</th></tr><tr><td>datetime[ms]</td><td>f64</td></tr></thead><tbody><tr><td>2015-01-07 20:45:40</td><td>-73.995155</td></tr><tr><td>2015-01-07 20:43:41</td><td>-73.960281</td></tr><tr><td>2015-01-07 20:53:31</td><td>-73.967667</td></tr><tr><td>2015-01-07 21:02:08</td><td>-73.986908</td></tr></tbody></table></div>"
      ],
      "text/plain": [
       "shape: (4, 2)\n",
       "┌───────────────────────┬──────────────────┐\n",
       "│ tpep_dropoff_datetime ┆ pickup_longitude │\n",
       "│ ---                   ┆ ---              │\n",
       "│ datetime[ms]          ┆ f64              │\n",
       "╞═══════════════════════╪══════════════════╡\n",
       "│ 2015-01-07 20:45:40   ┆ -73.995155       │\n",
       "│ 2015-01-07 20:43:41   ┆ -73.960281       │\n",
       "│ 2015-01-07 20:53:31   ┆ -73.967667       │\n",
       "│ 2015-01-07 21:02:08   ┆ -73.986908       │\n",
       "└───────────────────────┴──────────────────┘"
      ]
     },
     "execution_count": 43,
     "metadata": {},
     "output_type": "execute_result"
    }
   ],
   "source": [
    "df[1000:1004,['tpep_dropoff_datetime', 'pickup_longitude']]"
   ]
  },
  {
   "cell_type": "code",
   "execution_count": 44,
   "id": "cfd3e32c",
   "metadata": {},
   "outputs": [
    {
     "data": {
      "text/plain": [
       "polars.dataframe.frame.DataFrame"
      ]
     },
     "execution_count": 44,
     "metadata": {},
     "output_type": "execute_result"
    }
   ],
   "source": [
    "type(df[0,:])"
   ]
  },
  {
   "cell_type": "code",
   "execution_count": 45,
   "id": "0ccf2d16",
   "metadata": {},
   "outputs": [
    {
     "data": {
      "text/plain": [
       "polars.series.series.Series"
      ]
     },
     "execution_count": 45,
     "metadata": {},
     "output_type": "execute_result"
    }
   ],
   "source": [
    "type(df[:,0])"
   ]
  },
  {
   "cell_type": "markdown",
   "id": "abc3edae",
   "metadata": {},
   "source": [
    "## A common `pandas` pattern is to use masks for filtering...\n",
    "\n",
    "```python\n",
    "df = pd.read_csv('/somewhere/something.csv')\n",
    "\n",
    "mask = df['age'] > 30\n",
    "\n",
    "df = df[mask] # would filter the DataFrame\n",
    "\n",
    "```"
   ]
  },
  {
   "cell_type": "markdown",
   "id": "786000a1",
   "metadata": {},
   "source": [
    "## ... but it's not supported in `polars` ..."
   ]
  },
  {
   "cell_type": "code",
   "execution_count": 46,
   "id": "50ab196a",
   "metadata": {},
   "outputs": [],
   "source": [
    "mask = df['VendorID'] == 1"
   ]
  },
  {
   "cell_type": "code",
   "execution_count": 48,
   "id": "03b41c3c",
   "metadata": {
    "scrolled": true
   },
   "outputs": [
    {
     "ename": "TypeError",
     "evalue": "selecting rows by passing a boolean mask to `__getitem__` is not supported\n\nHint: Use the `filter` method instead.",
     "output_type": "error",
     "traceback": [
      "\u001b[0;31m---------------------------------------------------------------------------\u001b[0m",
      "\u001b[0;31mTypeError\u001b[0m                                 Traceback (most recent call last)",
      "Cell \u001b[0;32mIn[48], line 1\u001b[0m\n\u001b[0;32m----> 1\u001b[0m \u001b[43mdf\u001b[49m\u001b[43m[\u001b[49m\u001b[43mmask\u001b[49m\u001b[43m,\u001b[49m\u001b[43m \u001b[49m\u001b[38;5;124;43m'\u001b[39;49m\u001b[38;5;124;43mpassenger_count\u001b[39;49m\u001b[38;5;124;43m'\u001b[39;49m\u001b[43m]\u001b[49m \u001b[38;5;66;03m# this should fail\u001b[39;00m\n",
      "File \u001b[0;32m/Library/Frameworks/Python.framework/Versions/3.11/lib/python3.11/site-packages/polars/dataframe/frame.py:1353\u001b[0m, in \u001b[0;36mDataFrame.__getitem__\u001b[0;34m(self, key)\u001b[0m\n\u001b[1;32m   1216\u001b[0m \u001b[38;5;28;01mdef\u001b[39;00m \u001b[38;5;21m__getitem__\u001b[39m(\n\u001b[1;32m   1217\u001b[0m     \u001b[38;5;28mself\u001b[39m,\n\u001b[1;32m   1218\u001b[0m     key: (\n\u001b[0;32m   (...)\u001b[0m\n\u001b[1;32m   1227\u001b[0m     ),\n\u001b[1;32m   1228\u001b[0m ) \u001b[38;5;241m-\u001b[39m\u001b[38;5;241m>\u001b[39m DataFrame \u001b[38;5;241m|\u001b[39m Series \u001b[38;5;241m|\u001b[39m Any:\n\u001b[1;32m   1229\u001b[0m \u001b[38;5;250m    \u001b[39m\u001b[38;5;124;03m\"\"\"\u001b[39;00m\n\u001b[1;32m   1230\u001b[0m \u001b[38;5;124;03m    Get part of the DataFrame as a new DataFrame, Series, or scalar.\u001b[39;00m\n\u001b[1;32m   1231\u001b[0m \n\u001b[0;32m   (...)\u001b[0m\n\u001b[1;32m   1351\u001b[0m \u001b[38;5;124;03m    └─────┴─────┴─────┘\u001b[39;00m\n\u001b[1;32m   1352\u001b[0m \u001b[38;5;124;03m    \"\"\"\u001b[39;00m\n\u001b[0;32m-> 1353\u001b[0m     \u001b[38;5;28;01mreturn\u001b[39;00m \u001b[43mget_df_item_by_key\u001b[49m\u001b[43m(\u001b[49m\u001b[38;5;28;43mself\u001b[39;49m\u001b[43m,\u001b[49m\u001b[43m \u001b[49m\u001b[43mkey\u001b[49m\u001b[43m)\u001b[49m\n",
      "File \u001b[0;32m/Library/Frameworks/Python.framework/Versions/3.11/lib/python3.11/site-packages/polars/_utils/getitem.py:155\u001b[0m, in \u001b[0;36mget_df_item_by_key\u001b[0;34m(df, key)\u001b[0m\n\u001b[1;32m    153\u001b[0m     \u001b[38;5;28;01mreturn\u001b[39;00m selection\n\u001b[1;32m    154\u001b[0m \u001b[38;5;28;01melif\u001b[39;00m \u001b[38;5;28misinstance\u001b[39m(selection, pl\u001b[38;5;241m.\u001b[39mSeries):\n\u001b[0;32m--> 155\u001b[0m     \u001b[38;5;28;01mreturn\u001b[39;00m \u001b[43mget_series_item_by_key\u001b[49m\u001b[43m(\u001b[49m\u001b[43mselection\u001b[49m\u001b[43m,\u001b[49m\u001b[43m \u001b[49m\u001b[43mrow_key\u001b[49m\u001b[43m)\u001b[49m\n\u001b[1;32m    156\u001b[0m \u001b[38;5;28;01melse\u001b[39;00m:\n\u001b[1;32m    157\u001b[0m     \u001b[38;5;28;01mreturn\u001b[39;00m _select_rows(selection, row_key)\n",
      "File \u001b[0;32m/Library/Frameworks/Python.framework/Versions/3.11/lib/python3.11/site-packages/polars/_utils/getitem.py:82\u001b[0m, in \u001b[0;36mget_series_item_by_key\u001b[0;34m(s, key)\u001b[0m\n\u001b[1;32m     79\u001b[0m     \u001b[38;5;28;01mreturn\u001b[39;00m _select_elements_by_index(s, indices)\n\u001b[1;32m     81\u001b[0m \u001b[38;5;28;01melif\u001b[39;00m \u001b[38;5;28misinstance\u001b[39m(key, pl\u001b[38;5;241m.\u001b[39mSeries):\n\u001b[0;32m---> 82\u001b[0m     indices \u001b[38;5;241m=\u001b[39m \u001b[43m_convert_series_to_indices\u001b[49m\u001b[43m(\u001b[49m\u001b[43mkey\u001b[49m\u001b[43m,\u001b[49m\u001b[43m \u001b[49m\u001b[43ms\u001b[49m\u001b[38;5;241;43m.\u001b[39;49m\u001b[43mlen\u001b[49m\u001b[43m(\u001b[49m\u001b[43m)\u001b[49m\u001b[43m)\u001b[49m\n\u001b[1;32m     83\u001b[0m     \u001b[38;5;28;01mreturn\u001b[39;00m _select_elements_by_index(s, indices)\n\u001b[1;32m     85\u001b[0m \u001b[38;5;28;01melif\u001b[39;00m _check_for_numpy(key) \u001b[38;5;129;01mand\u001b[39;00m \u001b[38;5;28misinstance\u001b[39m(key, np\u001b[38;5;241m.\u001b[39mndarray):\n",
      "File \u001b[0;32m/Library/Frameworks/Python.framework/Versions/3.11/lib/python3.11/site-packages/polars/_utils/getitem.py:354\u001b[0m, in \u001b[0;36m_convert_series_to_indices\u001b[0;34m(s, size)\u001b[0m\n\u001b[1;32m    352\u001b[0m \u001b[38;5;28;01mif\u001b[39;00m \u001b[38;5;129;01mnot\u001b[39;00m s\u001b[38;5;241m.\u001b[39mdtype\u001b[38;5;241m.\u001b[39mis_integer():\n\u001b[1;32m    353\u001b[0m     \u001b[38;5;28;01mif\u001b[39;00m s\u001b[38;5;241m.\u001b[39mdtype \u001b[38;5;241m==\u001b[39m Boolean:\n\u001b[0;32m--> 354\u001b[0m         \u001b[43m_raise_on_boolean_mask\u001b[49m\u001b[43m(\u001b[49m\u001b[43m)\u001b[49m\n\u001b[1;32m    355\u001b[0m     \u001b[38;5;28;01melse\u001b[39;00m:\n\u001b[1;32m    356\u001b[0m         msg \u001b[38;5;241m=\u001b[39m \u001b[38;5;124mf\u001b[39m\u001b[38;5;124m\"\u001b[39m\u001b[38;5;124mcannot treat Series of type \u001b[39m\u001b[38;5;132;01m{\u001b[39;00ms\u001b[38;5;241m.\u001b[39mdtype\u001b[38;5;132;01m}\u001b[39;00m\u001b[38;5;124m as indices\u001b[39m\u001b[38;5;124m\"\u001b[39m\n",
      "File \u001b[0;32m/Library/Frameworks/Python.framework/Versions/3.11/lib/python3.11/site-packages/polars/_utils/getitem.py:451\u001b[0m, in \u001b[0;36m_raise_on_boolean_mask\u001b[0;34m()\u001b[0m\n\u001b[1;32m    446\u001b[0m \u001b[38;5;28;01mdef\u001b[39;00m \u001b[38;5;21m_raise_on_boolean_mask\u001b[39m() \u001b[38;5;241m-\u001b[39m\u001b[38;5;241m>\u001b[39m NoReturn:\n\u001b[1;32m    447\u001b[0m     msg \u001b[38;5;241m=\u001b[39m (\n\u001b[1;32m    448\u001b[0m         \u001b[38;5;124m\"\u001b[39m\u001b[38;5;124mselecting rows by passing a boolean mask to `__getitem__` is not supported\u001b[39m\u001b[38;5;124m\"\u001b[39m\n\u001b[1;32m    449\u001b[0m         \u001b[38;5;124m\"\u001b[39m\u001b[38;5;130;01m\\n\u001b[39;00m\u001b[38;5;130;01m\\n\u001b[39;00m\u001b[38;5;124mHint: Use the `filter` method instead.\u001b[39m\u001b[38;5;124m\"\u001b[39m\n\u001b[1;32m    450\u001b[0m     )\n\u001b[0;32m--> 451\u001b[0m     \u001b[38;5;28;01mraise\u001b[39;00m \u001b[38;5;167;01mTypeError\u001b[39;00m(msg)\n",
      "\u001b[0;31mTypeError\u001b[0m: selecting rows by passing a boolean mask to `__getitem__` is not supported\n\nHint: Use the `filter` method instead."
     ]
    }
   ],
   "source": [
    "df[mask, 'passenger_count'] # this should fail"
   ]
  },
  {
   "cell_type": "markdown",
   "id": "9488bb7e",
   "metadata": {},
   "source": [
    "## ... we'll get to `filter` later"
   ]
  },
  {
   "cell_type": "markdown",
   "id": "1a077b17",
   "metadata": {},
   "source": [
    "## Other indexing methods `rows`/`iter_rows`/`rows_by_key`"
   ]
  },
  {
   "cell_type": "code",
   "execution_count": 49,
   "id": "1538f72d",
   "metadata": {},
   "outputs": [
    {
     "data": {
      "text/html": [
       "<div><style>\n",
       ".dataframe > thead > tr,\n",
       ".dataframe > tbody > tr {\n",
       "  text-align: right;\n",
       "  white-space: pre-wrap;\n",
       "}\n",
       "</style>\n",
       "<small>shape: (4, 3)</small><table border=\"1\" class=\"dataframe\"><thead><tr><th>x</th><th>y</th><th>z</th></tr><tr><td>str</td><td>i64</td><td>i64</td></tr></thead><tbody><tr><td>&quot;a&quot;</td><td>1</td><td>0</td></tr><tr><td>&quot;b&quot;</td><td>2</td><td>3</td></tr><tr><td>&quot;b&quot;</td><td>3</td><td>6</td></tr><tr><td>&quot;a&quot;</td><td>4</td><td>9</td></tr></tbody></table></div>"
      ],
      "text/plain": [
       "shape: (4, 3)\n",
       "┌─────┬─────┬─────┐\n",
       "│ x   ┆ y   ┆ z   │\n",
       "│ --- ┆ --- ┆ --- │\n",
       "│ str ┆ i64 ┆ i64 │\n",
       "╞═════╪═════╪═════╡\n",
       "│ a   ┆ 1   ┆ 0   │\n",
       "│ b   ┆ 2   ┆ 3   │\n",
       "│ b   ┆ 3   ┆ 6   │\n",
       "│ a   ┆ 4   ┆ 9   │\n",
       "└─────┴─────┴─────┘"
      ]
     },
     "execution_count": 49,
     "metadata": {},
     "output_type": "execute_result"
    }
   ],
   "source": [
    "df_ex = pl.DataFrame(\n",
    "     {\n",
    "         \"x\": [\"a\", \"b\", \"b\", \"a\"],\n",
    "         \"y\": [1, 2, 3, 4],\n",
    "         \"z\": [0, 3, 6, 9],\n",
    "     }\n",
    ")\n",
    "\n",
    "df_ex"
   ]
  },
  {
   "cell_type": "markdown",
   "id": "c387663b",
   "metadata": {},
   "source": [
    "### <font color='red'>Materialization Warning:</font> Use with caution: `rows`\n",
    "\n",
    "Unlike `pandas`, `polars` does not store the values of the dataframe directly in memory, there is some disk usage that takes place and also the serialization is columnar, so when we call `rows()` it means that:<br>\n",
    "1 - we materialize the entire dataframe<br>\n",
    "2 - we circulate through each row and each column resulting in $O(N\\times C)$ complexity<br>"
   ]
  },
  {
   "cell_type": "code",
   "execution_count": 50,
   "id": "f56103d2",
   "metadata": {},
   "outputs": [
    {
     "data": {
      "text/plain": [
       "[('a', 1, 0), ('b', 2, 3), ('b', 3, 6), ('a', 4, 9)]"
      ]
     },
     "execution_count": 50,
     "metadata": {},
     "output_type": "execute_result"
    }
   ],
   "source": [
    "df_ex.rows() # a very expensive operation"
   ]
  },
  {
   "cell_type": "code",
   "execution_count": 51,
   "id": "7776cab5",
   "metadata": {},
   "outputs": [
    {
     "data": {
      "text/plain": [
       "[{'x': 'a', 'y': 1, 'z': 0},\n",
       " {'x': 'b', 'y': 2, 'z': 3},\n",
       " {'x': 'b', 'y': 3, 'z': 6},\n",
       " {'x': 'a', 'y': 4, 'z': 9}]"
      ]
     },
     "execution_count": 51,
     "metadata": {},
     "output_type": "execute_result"
    }
   ],
   "source": [
    "df_ex.rows(named=True) # or use df_ex.to_dicts()"
   ]
  },
  {
   "cell_type": "markdown",
   "id": "1996b12f",
   "metadata": {},
   "source": [
    "### Memory effective option is using iterators: `iter_rows`"
   ]
  },
  {
   "cell_type": "code",
   "execution_count": 52,
   "id": "414d64d7",
   "metadata": {},
   "outputs": [
    {
     "name": "stdout",
     "output_type": "stream",
     "text": [
      "('a', 1, 0)\n",
      "('b', 2, 3)\n",
      "('b', 3, 6)\n",
      "('a', 4, 9)\n"
     ]
    }
   ],
   "source": [
    "for row in df_ex.iter_rows():\n",
    "    print(row)"
   ]
  },
  {
   "cell_type": "code",
   "execution_count": 53,
   "id": "27721dda",
   "metadata": {},
   "outputs": [
    {
     "name": "stdout",
     "output_type": "stream",
     "text": [
      "the sum of the 2nd column is 10\n"
     ]
    }
   ],
   "source": [
    "_sum = 0\n",
    "for row in df_ex.iter_rows():\n",
    "    _sum += row[1]\n",
    "    \n",
    "print(f\"the sum of the 2nd column is {_sum}\")"
   ]
  },
  {
   "cell_type": "code",
   "execution_count": 54,
   "id": "2592e214",
   "metadata": {},
   "outputs": [
    {
     "data": {
      "text/plain": [
       "[0, 3, 6, 9]"
      ]
     },
     "execution_count": 54,
     "metadata": {},
     "output_type": "execute_result"
    }
   ],
   "source": [
    "# value of last column in each row as a list\n",
    "[row[-1] for row in df_ex.iter_rows()]"
   ]
  },
  {
   "cell_type": "code",
   "execution_count": 55,
   "id": "783694f8",
   "metadata": {},
   "outputs": [
    {
     "data": {
      "text/plain": [
       "['a', 'b', 'b', 'a']"
      ]
     },
     "execution_count": 55,
     "metadata": {},
     "output_type": "execute_result"
    }
   ],
   "source": [
    "# value of named in each row as a list\n",
    "[row['x'] for row in df_ex.iter_rows(named=True)]"
   ]
  },
  {
   "cell_type": "markdown",
   "id": "045af5c4",
   "metadata": {},
   "source": [
    "### <font color='red'>Materialization Warning:</font> `rows_by_key`"
   ]
  },
  {
   "cell_type": "code",
   "execution_count": 56,
   "id": "f13486b3",
   "metadata": {},
   "outputs": [
    {
     "data": {
      "text/html": [
       "<div><style>\n",
       ".dataframe > thead > tr,\n",
       ".dataframe > tbody > tr {\n",
       "  text-align: right;\n",
       "  white-space: pre-wrap;\n",
       "}\n",
       "</style>\n",
       "<small>shape: (4, 3)</small><table border=\"1\" class=\"dataframe\"><thead><tr><th>x</th><th>y</th><th>z</th></tr><tr><td>str</td><td>i64</td><td>i64</td></tr></thead><tbody><tr><td>&quot;a&quot;</td><td>1</td><td>0</td></tr><tr><td>&quot;b&quot;</td><td>2</td><td>3</td></tr><tr><td>&quot;b&quot;</td><td>3</td><td>6</td></tr><tr><td>&quot;a&quot;</td><td>4</td><td>9</td></tr></tbody></table></div>"
      ],
      "text/plain": [
       "shape: (4, 3)\n",
       "┌─────┬─────┬─────┐\n",
       "│ x   ┆ y   ┆ z   │\n",
       "│ --- ┆ --- ┆ --- │\n",
       "│ str ┆ i64 ┆ i64 │\n",
       "╞═════╪═════╪═════╡\n",
       "│ a   ┆ 1   ┆ 0   │\n",
       "│ b   ┆ 2   ┆ 3   │\n",
       "│ b   ┆ 3   ┆ 6   │\n",
       "│ a   ┆ 4   ┆ 9   │\n",
       "└─────┴─────┴─────┘"
      ]
     },
     "execution_count": 56,
     "metadata": {},
     "output_type": "execute_result"
    }
   ],
   "source": [
    "df_ex"
   ]
  },
  {
   "cell_type": "code",
   "execution_count": 57,
   "id": "44fbf2ec",
   "metadata": {},
   "outputs": [
    {
     "data": {
      "text/plain": [
       "defaultdict(list, {'a': [(1, 0), (4, 9)], 'b': [(2, 3), (3, 6)]})"
      ]
     },
     "execution_count": 57,
     "metadata": {},
     "output_type": "execute_result"
    }
   ],
   "source": [
    "df_ex.rows_by_key(key=['x'])"
   ]
  },
  {
   "cell_type": "code",
   "execution_count": 58,
   "id": "6ddc27db",
   "metadata": {},
   "outputs": [
    {
     "data": {
      "text/plain": [
       "defaultdict(list,\n",
       "            {'a': [{'y': 1, 'z': 0}, {'y': 4, 'z': 9}],\n",
       "             'b': [{'y': 2, 'z': 3}, {'y': 3, 'z': 6}]})"
      ]
     },
     "execution_count": 58,
     "metadata": {},
     "output_type": "execute_result"
    }
   ],
   "source": [
    "df_ex.rows_by_key(key=['x'], named=True)"
   ]
  },
  {
   "cell_type": "markdown",
   "id": "d9afccd4",
   "metadata": {},
   "source": [
    "###  Unsure? Confused? You can always go back `to_pandas` or `to_numpy` "
   ]
  },
  {
   "cell_type": "code",
   "execution_count": 59,
   "id": "b9911d4e",
   "metadata": {},
   "outputs": [
    {
     "data": {
      "text/html": [
       "<div>\n",
       "<style scoped>\n",
       "    .dataframe tbody tr th:only-of-type {\n",
       "        vertical-align: middle;\n",
       "    }\n",
       "\n",
       "    .dataframe tbody tr th {\n",
       "        vertical-align: top;\n",
       "    }\n",
       "\n",
       "    .dataframe thead th {\n",
       "        text-align: right;\n",
       "    }\n",
       "</style>\n",
       "<table border=\"1\" class=\"dataframe\">\n",
       "  <thead>\n",
       "    <tr style=\"text-align: right;\">\n",
       "      <th></th>\n",
       "      <th>x</th>\n",
       "      <th>y</th>\n",
       "      <th>z</th>\n",
       "    </tr>\n",
       "  </thead>\n",
       "  <tbody>\n",
       "    <tr>\n",
       "      <th>0</th>\n",
       "      <td>a</td>\n",
       "      <td>1</td>\n",
       "      <td>0</td>\n",
       "    </tr>\n",
       "    <tr>\n",
       "      <th>1</th>\n",
       "      <td>b</td>\n",
       "      <td>2</td>\n",
       "      <td>3</td>\n",
       "    </tr>\n",
       "    <tr>\n",
       "      <th>2</th>\n",
       "      <td>b</td>\n",
       "      <td>3</td>\n",
       "      <td>6</td>\n",
       "    </tr>\n",
       "    <tr>\n",
       "      <th>3</th>\n",
       "      <td>a</td>\n",
       "      <td>4</td>\n",
       "      <td>9</td>\n",
       "    </tr>\n",
       "  </tbody>\n",
       "</table>\n",
       "</div>"
      ],
      "text/plain": [
       "   x  y  z\n",
       "0  a  1  0\n",
       "1  b  2  3\n",
       "2  b  3  6\n",
       "3  a  4  9"
      ]
     },
     "execution_count": 59,
     "metadata": {},
     "output_type": "execute_result"
    }
   ],
   "source": [
    "df_ex.to_pandas()"
   ]
  },
  {
   "cell_type": "code",
   "execution_count": 60,
   "id": "46e4abbb",
   "metadata": {},
   "outputs": [
    {
     "data": {
      "text/plain": [
       "array([['a', 1, 0],\n",
       "       ['b', 2, 3],\n",
       "       ['b', 3, 6],\n",
       "       ['a', 4, 9]], dtype=object)"
      ]
     },
     "execution_count": 60,
     "metadata": {},
     "output_type": "execute_result"
    }
   ],
   "source": [
    "df_ex.to_numpy()"
   ]
  },
  {
   "cell_type": "markdown",
   "id": "b73ed98b",
   "metadata": {},
   "source": [
    "## Expressions\n",
    "\n",
    "### (The diagram is my own)\n",
    "\n",
    "<img src=\"./api_layers.png\" height=1200 width=400></img>"
   ]
  },
  {
   "cell_type": "code",
   "execution_count": 61,
   "id": "a0566947",
   "metadata": {},
   "outputs": [],
   "source": [
    "c1 = pl.col(\"VendorID\")"
   ]
  },
  {
   "cell_type": "code",
   "execution_count": 62,
   "id": "a8473126",
   "metadata": {},
   "outputs": [
    {
     "data": {
      "text/html": [
       "col(\"VendorID\")"
      ],
      "text/plain": [
       "<Expr ['col(\"VendorID\")'] at 0x146316B10>"
      ]
     },
     "execution_count": 62,
     "metadata": {},
     "output_type": "execute_result"
    }
   ],
   "source": [
    "c1"
   ]
  },
  {
   "cell_type": "code",
   "execution_count": 63,
   "id": "4c277fe9",
   "metadata": {},
   "outputs": [
    {
     "data": {
      "text/plain": [
       "polars.expr.expr.Expr"
      ]
     },
     "execution_count": 63,
     "metadata": {},
     "output_type": "execute_result"
    }
   ],
   "source": [
    "type(c1)"
   ]
  },
  {
   "cell_type": "code",
   "execution_count": 64,
   "id": "a2481dda",
   "metadata": {},
   "outputs": [
    {
     "data": {
      "text/html": [
       "<div><style>\n",
       ".dataframe > thead > tr,\n",
       ".dataframe > tbody > tr {\n",
       "  text-align: right;\n",
       "  white-space: pre-wrap;\n",
       "}\n",
       "</style>\n",
       "<small>shape: (3, 1)</small><table border=\"1\" class=\"dataframe\"><thead><tr><th>VendorID</th></tr><tr><td>i64</td></tr></thead><tbody><tr><td>2</td></tr><tr><td>1</td></tr><tr><td>1</td></tr></tbody></table></div>"
      ],
      "text/plain": [
       "shape: (3, 1)\n",
       "┌──────────┐\n",
       "│ VendorID │\n",
       "│ ---      │\n",
       "│ i64      │\n",
       "╞══════════╡\n",
       "│ 2        │\n",
       "│ 1        │\n",
       "│ 1        │\n",
       "└──────────┘"
      ]
     },
     "execution_count": 64,
     "metadata": {},
     "output_type": "execute_result"
    }
   ],
   "source": [
    "df.select(c1).head(3)"
   ]
  },
  {
   "cell_type": "code",
   "execution_count": 65,
   "id": "e18e4b1e",
   "metadata": {},
   "outputs": [
    {
     "data": {
      "text/html": [
       "<div><style>\n",
       ".dataframe > thead > tr,\n",
       ".dataframe > tbody > tr {\n",
       "  text-align: right;\n",
       "  white-space: pre-wrap;\n",
       "}\n",
       "</style>\n",
       "<small>shape: (12_748_986, 2)</small><table border=\"1\" class=\"dataframe\"><thead><tr><th>VendorID</th><th>pickup_longitude</th></tr><tr><td>i64</td><td>f64</td></tr></thead><tbody><tr><td>2</td><td>-73.993896</td></tr><tr><td>1</td><td>-74.001648</td></tr><tr><td>1</td><td>-73.963341</td></tr><tr><td>1</td><td>-74.009087</td></tr><tr><td>1</td><td>-73.971176</td></tr><tr><td>&hellip;</td><td>&hellip;</td></tr><tr><td>1</td><td>-73.951988</td></tr><tr><td>1</td><td>-73.982742</td></tr><tr><td>1</td><td>-73.979324</td></tr><tr><td>1</td><td>-73.999565</td></tr><tr><td>1</td><td>-73.96035</td></tr></tbody></table></div>"
      ],
      "text/plain": [
       "shape: (12_748_986, 2)\n",
       "┌──────────┬──────────────────┐\n",
       "│ VendorID ┆ pickup_longitude │\n",
       "│ ---      ┆ ---              │\n",
       "│ i64      ┆ f64              │\n",
       "╞══════════╪══════════════════╡\n",
       "│ 2        ┆ -73.993896       │\n",
       "│ 1        ┆ -74.001648       │\n",
       "│ 1        ┆ -73.963341       │\n",
       "│ 1        ┆ -74.009087       │\n",
       "│ 1        ┆ -73.971176       │\n",
       "│ …        ┆ …                │\n",
       "│ 1        ┆ -73.951988       │\n",
       "│ 1        ┆ -73.982742       │\n",
       "│ 1        ┆ -73.979324       │\n",
       "│ 1        ┆ -73.999565       │\n",
       "│ 1        ┆ -73.96035        │\n",
       "└──────────┴──────────────────┘"
      ]
     },
     "execution_count": 65,
     "metadata": {},
     "output_type": "execute_result"
    }
   ],
   "source": [
    "df.select(pl.col(\"VendorID\", \"pickup_longitude\"))"
   ]
  },
  {
   "cell_type": "code",
   "execution_count": 66,
   "id": "9603ce71",
   "metadata": {},
   "outputs": [
    {
     "data": {
      "text/html": [
       "<div><style>\n",
       ".dataframe > thead > tr,\n",
       ".dataframe > tbody > tr {\n",
       "  text-align: right;\n",
       "  white-space: pre-wrap;\n",
       "}\n",
       "</style>\n",
       "<small>shape: (12_748_986, 2)</small><table border=\"1\" class=\"dataframe\"><thead><tr><th>VendorID</th><th>pickup_longitude</th></tr><tr><td>i64</td><td>f64</td></tr></thead><tbody><tr><td>2</td><td>-73.993896</td></tr><tr><td>1</td><td>-74.001648</td></tr><tr><td>1</td><td>-73.963341</td></tr><tr><td>1</td><td>-74.009087</td></tr><tr><td>1</td><td>-73.971176</td></tr><tr><td>&hellip;</td><td>&hellip;</td></tr><tr><td>1</td><td>-73.951988</td></tr><tr><td>1</td><td>-73.982742</td></tr><tr><td>1</td><td>-73.979324</td></tr><tr><td>1</td><td>-73.999565</td></tr><tr><td>1</td><td>-73.96035</td></tr></tbody></table></div>"
      ],
      "text/plain": [
       "shape: (12_748_986, 2)\n",
       "┌──────────┬──────────────────┐\n",
       "│ VendorID ┆ pickup_longitude │\n",
       "│ ---      ┆ ---              │\n",
       "│ i64      ┆ f64              │\n",
       "╞══════════╪══════════════════╡\n",
       "│ 2        ┆ -73.993896       │\n",
       "│ 1        ┆ -74.001648       │\n",
       "│ 1        ┆ -73.963341       │\n",
       "│ 1        ┆ -74.009087       │\n",
       "│ 1        ┆ -73.971176       │\n",
       "│ …        ┆ …                │\n",
       "│ 1        ┆ -73.951988       │\n",
       "│ 1        ┆ -73.982742       │\n",
       "│ 1        ┆ -73.979324       │\n",
       "│ 1        ┆ -73.999565       │\n",
       "│ 1        ┆ -73.96035        │\n",
       "└──────────┴──────────────────┘"
      ]
     },
     "execution_count": 66,
     "metadata": {},
     "output_type": "execute_result"
    }
   ],
   "source": [
    "df.select(\"VendorID\", \"pickup_longitude\")"
   ]
  },
  {
   "cell_type": "markdown",
   "id": "235ea62d",
   "metadata": {},
   "source": [
    "### Filtering using expressions"
   ]
  },
  {
   "cell_type": "code",
   "execution_count": 67,
   "id": "a8a652cc",
   "metadata": {},
   "outputs": [],
   "source": [
    "mask = pl.col(\"pickup_longitude\") > -73."
   ]
  },
  {
   "cell_type": "code",
   "execution_count": 68,
   "id": "fcfec01b",
   "metadata": {},
   "outputs": [
    {
     "data": {
      "text/html": [
       "[(col(\"pickup_longitude\")) > (dyn float: -73.0)]"
      ],
      "text/plain": [
       "<Expr ['[(col(\"pickup_longitude\")) > (…'] at 0x12EE14250>"
      ]
     },
     "execution_count": 68,
     "metadata": {},
     "output_type": "execute_result"
    }
   ],
   "source": [
    "mask # Not materialized, just the instruction"
   ]
  },
  {
   "cell_type": "code",
   "execution_count": 69,
   "id": "749cde8c",
   "metadata": {},
   "outputs": [
    {
     "data": {
      "text/plain": [
       "polars.expr.expr.Expr"
      ]
     },
     "execution_count": 69,
     "metadata": {},
     "output_type": "execute_result"
    }
   ],
   "source": [
    "type(mask)"
   ]
  },
  {
   "cell_type": "code",
   "execution_count": 70,
   "id": "28624d5a",
   "metadata": {},
   "outputs": [
    {
     "data": {
      "text/plain": [
       "polars.expr.expr.Expr"
      ]
     },
     "execution_count": 70,
     "metadata": {},
     "output_type": "execute_result"
    }
   ],
   "source": [
    "type((pl.col(\"pickup_longitude\") > -73.) & (pl.col(\"passenger_count\") < 1))"
   ]
  },
  {
   "cell_type": "code",
   "execution_count": 155,
   "id": "512b0409",
   "metadata": {},
   "outputs": [
    {
     "data": {
      "text/html": [
       "<div><style>\n",
       ".dataframe > thead > tr,\n",
       ".dataframe > tbody > tr {\n",
       "  text-align: right;\n",
       "  white-space: pre-wrap;\n",
       "}\n",
       "</style>\n",
       "<small>shape: (348, 19)</small><table border=\"1\" class=\"dataframe\"><thead><tr><th>VendorID</th><th>tpep_pickup_datetime</th><th>tpep_dropoff_datetime</th><th>passenger_count</th><th>trip_distance</th><th>pickup_longitude</th><th>pickup_latitude</th><th>RateCodeID</th><th>store_and_fwd_flag</th><th>dropoff_longitude</th><th>dropoff_latitude</th><th>payment_type</th><th>fare_amount</th><th>extra</th><th>mta_tax</th><th>tip_amount</th><th>tolls_amount</th><th>improvement_surcharge</th><th>total_amount</th></tr><tr><td>i64</td><td>str</td><td>str</td><td>i64</td><td>f64</td><td>f64</td><td>f64</td><td>i64</td><td>str</td><td>f64</td><td>f64</td><td>i64</td><td>f64</td><td>f64</td><td>f64</td><td>f64</td><td>f64</td><td>f64</td><td>f64</td></tr></thead><tbody><tr><td>1</td><td>&quot;2015-01-14 09:59:32&quot;</td><td>&quot;2015-01-14 10:03:36&quot;</td><td>0</td><td>0.7</td><td>0.0</td><td>0.0</td><td>1</td><td>&quot;N&quot;</td><td>-73.989235</td><td>40.769493</td><td>2</td><td>5.0</td><td>0.0</td><td>0.5</td><td>0.0</td><td>0.0</td><td>0.3</td><td>5.8</td></tr><tr><td>1</td><td>&quot;2015-01-15 22:51:35&quot;</td><td>&quot;2015-01-15 23:10:11&quot;</td><td>0</td><td>5.6</td><td>0.0</td><td>0.0</td><td>1</td><td>&quot;N&quot;</td><td>-73.923241</td><td>40.743538</td><td>1</td><td>19.0</td><td>0.5</td><td>0.5</td><td>4.05</td><td>0.0</td><td>0.3</td><td>24.35</td></tr><tr><td>1</td><td>&quot;2015-01-01 02:52:01&quot;</td><td>&quot;2015-01-01 03:15:09&quot;</td><td>0</td><td>4.2</td><td>0.0</td><td>0.0</td><td>1</td><td>&quot;N&quot;</td><td>-73.952553</td><td>40.7141</td><td>1</td><td>18.0</td><td>0.5</td><td>0.5</td><td>3.85</td><td>0.0</td><td>0.0</td><td>23.15</td></tr><tr><td>1</td><td>&quot;2015-01-31 00:39:09&quot;</td><td>&quot;2015-01-31 00:48:51&quot;</td><td>0</td><td>1.5</td><td>0.0</td><td>0.0</td><td>1</td><td>&quot;N&quot;</td><td>-73.981911</td><td>40.736889</td><td>1</td><td>8.0</td><td>0.5</td><td>0.5</td><td>1.85</td><td>0.0</td><td>0.3</td><td>11.15</td></tr><tr><td>1</td><td>&quot;2015-01-24 20:07:52&quot;</td><td>&quot;2015-01-24 20:10:52&quot;</td><td>0</td><td>0.5</td><td>0.0</td><td>0.0</td><td>1</td><td>&quot;N&quot;</td><td>-73.97126</td><td>40.758507</td><td>1</td><td>4.0</td><td>0.5</td><td>0.5</td><td>1.55</td><td>0.0</td><td>0.3</td><td>6.85</td></tr><tr><td>&hellip;</td><td>&hellip;</td><td>&hellip;</td><td>&hellip;</td><td>&hellip;</td><td>&hellip;</td><td>&hellip;</td><td>&hellip;</td><td>&hellip;</td><td>&hellip;</td><td>&hellip;</td><td>&hellip;</td><td>&hellip;</td><td>&hellip;</td><td>&hellip;</td><td>&hellip;</td><td>&hellip;</td><td>&hellip;</td><td>&hellip;</td></tr><tr><td>1</td><td>&quot;2015-01-16 21:26:44&quot;</td><td>&quot;2015-01-16 21:39:23&quot;</td><td>0</td><td>3.0</td><td>0.0</td><td>0.0</td><td>1</td><td>&quot;N&quot;</td><td>-73.970886</td><td>40.693371</td><td>1</td><td>12.0</td><td>0.5</td><td>0.5</td><td>3.3</td><td>0.0</td><td>0.3</td><td>16.6</td></tr><tr><td>1</td><td>&quot;2015-01-11 11:31:09&quot;</td><td>&quot;2015-01-11 11:38:52&quot;</td><td>0</td><td>1.5</td><td>0.0</td><td>0.0</td><td>1</td><td>&quot;N&quot;</td><td>0.0</td><td>0.0</td><td>2</td><td>7.5</td><td>0.0</td><td>0.5</td><td>0.0</td><td>0.0</td><td>0.3</td><td>8.3</td></tr><tr><td>1</td><td>&quot;2015-01-18 01:47:30&quot;</td><td>&quot;2015-01-18 01:55:03&quot;</td><td>0</td><td>1.4</td><td>0.0</td><td>0.0</td><td>1</td><td>&quot;N&quot;</td><td>-74.004585</td><td>40.742241</td><td>1</td><td>7.0</td><td>0.5</td><td>0.5</td><td>0.11</td><td>0.0</td><td>0.3</td><td>8.41</td></tr><tr><td>1</td><td>&quot;2015-01-12 00:52:05&quot;</td><td>&quot;2015-01-12 01:18:43&quot;</td><td>0</td><td>17.9</td><td>0.0</td><td>0.0</td><td>2</td><td>&quot;N&quot;</td><td>-73.974854</td><td>40.759514</td><td>1</td><td>52.0</td><td>0.0</td><td>0.5</td><td>10.0</td><td>5.33</td><td>0.3</td><td>68.13</td></tr><tr><td>1</td><td>&quot;2015-01-16 16:39:33&quot;</td><td>&quot;2015-01-16 16:39:56&quot;</td><td>0</td><td>0.0</td><td>0.0</td><td>0.0</td><td>5</td><td>&quot;N&quot;</td><td>0.0</td><td>0.0</td><td>2</td><td>0.0</td><td>0.0</td><td>0.0</td><td>0.0</td><td>0.0</td><td>0.3</td><td>0.3</td></tr></tbody></table></div>"
      ],
      "text/plain": [
       "shape: (348, 19)\n",
       "┌──────────┬───────────┬───────────┬───────────┬───┬───────────┬───────────┬───────────┬───────────┐\n",
       "│ VendorID ┆ tpep_pick ┆ tpep_drop ┆ passenger ┆ … ┆ tip_amoun ┆ tolls_amo ┆ improveme ┆ total_amo │\n",
       "│ ---      ┆ up_dateti ┆ off_datet ┆ _count    ┆   ┆ t         ┆ unt       ┆ nt_surcha ┆ unt       │\n",
       "│ i64      ┆ me        ┆ ime       ┆ ---       ┆   ┆ ---       ┆ ---       ┆ rge       ┆ ---       │\n",
       "│          ┆ ---       ┆ ---       ┆ i64       ┆   ┆ f64       ┆ f64       ┆ ---       ┆ f64       │\n",
       "│          ┆ str       ┆ str       ┆           ┆   ┆           ┆           ┆ f64       ┆           │\n",
       "╞══════════╪═══════════╪═══════════╪═══════════╪═══╪═══════════╪═══════════╪═══════════╪═══════════╡\n",
       "│ 1        ┆ 2015-01-1 ┆ 2015-01-1 ┆ 0         ┆ … ┆ 0.0       ┆ 0.0       ┆ 0.3       ┆ 5.8       │\n",
       "│          ┆ 4         ┆ 4         ┆           ┆   ┆           ┆           ┆           ┆           │\n",
       "│          ┆ 09:59:32  ┆ 10:03:36  ┆           ┆   ┆           ┆           ┆           ┆           │\n",
       "│ 1        ┆ 2015-01-1 ┆ 2015-01-1 ┆ 0         ┆ … ┆ 4.05      ┆ 0.0       ┆ 0.3       ┆ 24.35     │\n",
       "│          ┆ 5         ┆ 5         ┆           ┆   ┆           ┆           ┆           ┆           │\n",
       "│          ┆ 22:51:35  ┆ 23:10:11  ┆           ┆   ┆           ┆           ┆           ┆           │\n",
       "│ 1        ┆ 2015-01-0 ┆ 2015-01-0 ┆ 0         ┆ … ┆ 3.85      ┆ 0.0       ┆ 0.0       ┆ 23.15     │\n",
       "│          ┆ 1         ┆ 1         ┆           ┆   ┆           ┆           ┆           ┆           │\n",
       "│          ┆ 02:52:01  ┆ 03:15:09  ┆           ┆   ┆           ┆           ┆           ┆           │\n",
       "│ 1        ┆ 2015-01-3 ┆ 2015-01-3 ┆ 0         ┆ … ┆ 1.85      ┆ 0.0       ┆ 0.3       ┆ 11.15     │\n",
       "│          ┆ 1         ┆ 1         ┆           ┆   ┆           ┆           ┆           ┆           │\n",
       "│          ┆ 00:39:09  ┆ 00:48:51  ┆           ┆   ┆           ┆           ┆           ┆           │\n",
       "│ 1        ┆ 2015-01-2 ┆ 2015-01-2 ┆ 0         ┆ … ┆ 1.55      ┆ 0.0       ┆ 0.3       ┆ 6.85      │\n",
       "│          ┆ 4         ┆ 4         ┆           ┆   ┆           ┆           ┆           ┆           │\n",
       "│          ┆ 20:07:52  ┆ 20:10:52  ┆           ┆   ┆           ┆           ┆           ┆           │\n",
       "│ …        ┆ …         ┆ …         ┆ …         ┆ … ┆ …         ┆ …         ┆ …         ┆ …         │\n",
       "│ 1        ┆ 2015-01-1 ┆ 2015-01-1 ┆ 0         ┆ … ┆ 3.3       ┆ 0.0       ┆ 0.3       ┆ 16.6      │\n",
       "│          ┆ 6         ┆ 6         ┆           ┆   ┆           ┆           ┆           ┆           │\n",
       "│          ┆ 21:26:44  ┆ 21:39:23  ┆           ┆   ┆           ┆           ┆           ┆           │\n",
       "│ 1        ┆ 2015-01-1 ┆ 2015-01-1 ┆ 0         ┆ … ┆ 0.0       ┆ 0.0       ┆ 0.3       ┆ 8.3       │\n",
       "│          ┆ 1         ┆ 1         ┆           ┆   ┆           ┆           ┆           ┆           │\n",
       "│          ┆ 11:31:09  ┆ 11:38:52  ┆           ┆   ┆           ┆           ┆           ┆           │\n",
       "│ 1        ┆ 2015-01-1 ┆ 2015-01-1 ┆ 0         ┆ … ┆ 0.11      ┆ 0.0       ┆ 0.3       ┆ 8.41      │\n",
       "│          ┆ 8         ┆ 8         ┆           ┆   ┆           ┆           ┆           ┆           │\n",
       "│          ┆ 01:47:30  ┆ 01:55:03  ┆           ┆   ┆           ┆           ┆           ┆           │\n",
       "│ 1        ┆ 2015-01-1 ┆ 2015-01-1 ┆ 0         ┆ … ┆ 10.0      ┆ 5.33      ┆ 0.3       ┆ 68.13     │\n",
       "│          ┆ 2         ┆ 2         ┆           ┆   ┆           ┆           ┆           ┆           │\n",
       "│          ┆ 00:52:05  ┆ 01:18:43  ┆           ┆   ┆           ┆           ┆           ┆           │\n",
       "│ 1        ┆ 2015-01-1 ┆ 2015-01-1 ┆ 0         ┆ … ┆ 0.0       ┆ 0.0       ┆ 0.3       ┆ 0.3       │\n",
       "│          ┆ 6         ┆ 6         ┆           ┆   ┆           ┆           ┆           ┆           │\n",
       "│          ┆ 16:39:33  ┆ 16:39:56  ┆           ┆   ┆           ┆           ┆           ┆           │\n",
       "└──────────┴───────────┴───────────┴───────────┴───┴───────────┴───────────┴───────────┴───────────┘"
      ]
     },
     "execution_count": 155,
     "metadata": {},
     "output_type": "execute_result"
    }
   ],
   "source": [
    "df.filter(\n",
    "    (pl.col(\"pickup_longitude\") > -73.) &\n",
    "    (pl.col(\"passenger_count\") < 1)\n",
    ")"
   ]
  },
  {
   "cell_type": "markdown",
   "id": "6b7d8202",
   "metadata": {},
   "source": [
    "### Adding columns - the wrong way (another common `pandas` pattern)"
   ]
  },
  {
   "cell_type": "code",
   "execution_count": 75,
   "id": "4c2e55e6",
   "metadata": {},
   "outputs": [
    {
     "ename": "TypeError",
     "evalue": "DataFrame object does not support `Series` assignment by index\n\nUse `DataFrame.with_columns`.",
     "output_type": "error",
     "traceback": [
      "\u001b[0;31m---------------------------------------------------------------------------\u001b[0m",
      "\u001b[0;31mTypeError\u001b[0m                                 Traceback (most recent call last)",
      "Cell \u001b[0;32mIn[75], line 1\u001b[0m\n\u001b[0;32m----> 1\u001b[0m \u001b[43mdf\u001b[49m\u001b[43m[\u001b[49m\u001b[38;5;124;43m'\u001b[39;49m\u001b[38;5;124;43mx\u001b[39;49m\u001b[38;5;124;43m'\u001b[39;49m\u001b[43m]\u001b[49m \u001b[38;5;241m=\u001b[39m \u001b[38;5;241m1\u001b[39m \u001b[38;5;66;03m# this should fail\u001b[39;00m\n",
      "File \u001b[0;32m/Library/Frameworks/Python.framework/Versions/3.11/lib/python3.11/site-packages/polars/dataframe/frame.py:1366\u001b[0m, in \u001b[0;36mDataFrame.__setitem__\u001b[0;34m(self, key, value)\u001b[0m\n\u001b[1;32m   1361\u001b[0m \u001b[38;5;28;01mif\u001b[39;00m \u001b[38;5;28misinstance\u001b[39m(key, \u001b[38;5;28mstr\u001b[39m):\n\u001b[1;32m   1362\u001b[0m     msg \u001b[38;5;241m=\u001b[39m (\n\u001b[1;32m   1363\u001b[0m         \u001b[38;5;124m\"\u001b[39m\u001b[38;5;124mDataFrame object does not support `Series` assignment by index\u001b[39m\u001b[38;5;124m\"\u001b[39m\n\u001b[1;32m   1364\u001b[0m         \u001b[38;5;124m\"\u001b[39m\u001b[38;5;130;01m\\n\u001b[39;00m\u001b[38;5;130;01m\\n\u001b[39;00m\u001b[38;5;124mUse `DataFrame.with_columns`.\u001b[39m\u001b[38;5;124m\"\u001b[39m\n\u001b[1;32m   1365\u001b[0m     )\n\u001b[0;32m-> 1366\u001b[0m     \u001b[38;5;28;01mraise\u001b[39;00m \u001b[38;5;167;01mTypeError\u001b[39;00m(msg)\n\u001b[1;32m   1368\u001b[0m \u001b[38;5;66;03m# df[[\"C\", \"D\"]]\u001b[39;00m\n\u001b[1;32m   1369\u001b[0m \u001b[38;5;28;01melif\u001b[39;00m \u001b[38;5;28misinstance\u001b[39m(key, \u001b[38;5;28mlist\u001b[39m):\n\u001b[1;32m   1370\u001b[0m     \u001b[38;5;66;03m# TODO: Use python sequence constructors\u001b[39;00m\n",
      "\u001b[0;31mTypeError\u001b[0m: DataFrame object does not support `Series` assignment by index\n\nUse `DataFrame.with_columns`."
     ]
    }
   ],
   "source": [
    "df['x'] = 1 # this should fail"
   ]
  },
  {
   "cell_type": "markdown",
   "id": "3d654667",
   "metadata": {},
   "source": [
    "### Adding columns - the right way"
   ]
  },
  {
   "cell_type": "code",
   "execution_count": 76,
   "id": "147282a9",
   "metadata": {},
   "outputs": [],
   "source": [
    "df = df.with_columns(pl.Series('x', [1]*df.shape[0]))"
   ]
  },
  {
   "cell_type": "code",
   "execution_count": 77,
   "id": "6e71b6d8",
   "metadata": {},
   "outputs": [
    {
     "data": {
      "text/html": [
       "<div><style>\n",
       ".dataframe > thead > tr,\n",
       ".dataframe > tbody > tr {\n",
       "  text-align: right;\n",
       "  white-space: pre-wrap;\n",
       "}\n",
       "</style>\n",
       "<small>shape: (5, 1)</small><table border=\"1\" class=\"dataframe\"><thead><tr><th>x</th></tr><tr><td>i64</td></tr></thead><tbody><tr><td>1</td></tr><tr><td>1</td></tr><tr><td>1</td></tr><tr><td>1</td></tr><tr><td>1</td></tr></tbody></table></div>"
      ],
      "text/plain": [
       "shape: (5, 1)\n",
       "┌─────┐\n",
       "│ x   │\n",
       "│ --- │\n",
       "│ i64 │\n",
       "╞═════╡\n",
       "│ 1   │\n",
       "│ 1   │\n",
       "│ 1   │\n",
       "│ 1   │\n",
       "│ 1   │\n",
       "└─────┘"
      ]
     },
     "execution_count": 77,
     "metadata": {},
     "output_type": "execute_result"
    }
   ],
   "source": [
    "df.select('x').head()"
   ]
  },
  {
   "cell_type": "markdown",
   "id": "708915a9",
   "metadata": {},
   "source": [
    "### Using literals: a safer way to work with constants as expressions"
   ]
  },
  {
   "cell_type": "code",
   "execution_count": 78,
   "id": "7b9af6bf",
   "metadata": {},
   "outputs": [
    {
     "data": {
      "text/html": [
       "dyn int: 1"
      ],
      "text/plain": [
       "<Expr ['dyn int: 1'] at 0x37AB23C10>"
      ]
     },
     "execution_count": 78,
     "metadata": {},
     "output_type": "execute_result"
    }
   ],
   "source": [
    "_lit = pl.lit(1)\n",
    "_lit"
   ]
  },
  {
   "cell_type": "code",
   "execution_count": 79,
   "id": "3af0b4da",
   "metadata": {},
   "outputs": [
    {
     "data": {
      "text/plain": [
       "polars.expr.expr.Expr"
      ]
     },
     "execution_count": 79,
     "metadata": {},
     "output_type": "execute_result"
    }
   ],
   "source": [
    "type(_lit)"
   ]
  },
  {
   "cell_type": "code",
   "execution_count": 80,
   "id": "82ae93b0",
   "metadata": {},
   "outputs": [],
   "source": [
    "df = df.with_columns(pl.lit(2).alias('y'))"
   ]
  },
  {
   "cell_type": "code",
   "execution_count": 81,
   "id": "022124a9",
   "metadata": {},
   "outputs": [
    {
     "data": {
      "text/html": [
       "<div><style>\n",
       ".dataframe > thead > tr,\n",
       ".dataframe > tbody > tr {\n",
       "  text-align: right;\n",
       "  white-space: pre-wrap;\n",
       "}\n",
       "</style>\n",
       "<small>shape: (5, 3)</small><table border=\"1\" class=\"dataframe\"><thead><tr><th>y</th><th>x</th><th>VendorID</th></tr><tr><td>i32</td><td>i64</td><td>i64</td></tr></thead><tbody><tr><td>2</td><td>1</td><td>2</td></tr><tr><td>2</td><td>1</td><td>1</td></tr><tr><td>2</td><td>1</td><td>1</td></tr><tr><td>2</td><td>1</td><td>1</td></tr><tr><td>2</td><td>1</td><td>1</td></tr></tbody></table></div>"
      ],
      "text/plain": [
       "shape: (5, 3)\n",
       "┌─────┬─────┬──────────┐\n",
       "│ y   ┆ x   ┆ VendorID │\n",
       "│ --- ┆ --- ┆ ---      │\n",
       "│ i32 ┆ i64 ┆ i64      │\n",
       "╞═════╪═════╪══════════╡\n",
       "│ 2   ┆ 1   ┆ 2        │\n",
       "│ 2   ┆ 1   ┆ 1        │\n",
       "│ 2   ┆ 1   ┆ 1        │\n",
       "│ 2   ┆ 1   ┆ 1        │\n",
       "│ 2   ┆ 1   ┆ 1        │\n",
       "└─────┴─────┴──────────┘"
      ]
     },
     "execution_count": 81,
     "metadata": {},
     "output_type": "execute_result"
    }
   ],
   "source": [
    "df.select('y', 'x', 'VendorID').head()"
   ]
  },
  {
   "cell_type": "markdown",
   "id": "86b668f7",
   "metadata": {},
   "source": [
    "### Using expressions to add columns"
   ]
  },
  {
   "cell_type": "code",
   "execution_count": 82,
   "id": "92b9a92c",
   "metadata": {},
   "outputs": [
    {
     "data": {
      "text/html": [
       "<div><style>\n",
       ".dataframe > thead > tr,\n",
       ".dataframe > tbody > tr {\n",
       "  text-align: right;\n",
       "  white-space: pre-wrap;\n",
       "}\n",
       "</style>\n",
       "<small>shape: (4, 3)</small><table border=\"1\" class=\"dataframe\"><thead><tr><th>x</th><th>y</th><th>z</th></tr><tr><td>str</td><td>i64</td><td>i64</td></tr></thead><tbody><tr><td>&quot;a&quot;</td><td>1</td><td>0</td></tr><tr><td>&quot;b&quot;</td><td>2</td><td>3</td></tr><tr><td>&quot;b&quot;</td><td>3</td><td>6</td></tr><tr><td>&quot;a&quot;</td><td>4</td><td>9</td></tr></tbody></table></div>"
      ],
      "text/plain": [
       "shape: (4, 3)\n",
       "┌─────┬─────┬─────┐\n",
       "│ x   ┆ y   ┆ z   │\n",
       "│ --- ┆ --- ┆ --- │\n",
       "│ str ┆ i64 ┆ i64 │\n",
       "╞═════╪═════╪═════╡\n",
       "│ a   ┆ 1   ┆ 0   │\n",
       "│ b   ┆ 2   ┆ 3   │\n",
       "│ b   ┆ 3   ┆ 6   │\n",
       "│ a   ┆ 4   ┆ 9   │\n",
       "└─────┴─────┴─────┘"
      ]
     },
     "execution_count": 82,
     "metadata": {},
     "output_type": "execute_result"
    }
   ],
   "source": [
    "df_ex"
   ]
  },
  {
   "cell_type": "code",
   "execution_count": 83,
   "id": "5831a069",
   "metadata": {},
   "outputs": [
    {
     "data": {
      "text/html": [
       "<div><style>\n",
       ".dataframe > thead > tr,\n",
       ".dataframe > tbody > tr {\n",
       "  text-align: right;\n",
       "  white-space: pre-wrap;\n",
       "}\n",
       "</style>\n",
       "<small>shape: (4, 2)</small><table border=\"1\" class=\"dataframe\"><thead><tr><th>x</th><th>y</th></tr><tr><td>str</td><td>i64</td></tr></thead><tbody><tr><td>&quot;a&quot;</td><td>2</td></tr><tr><td>&quot;b&quot;</td><td>3</td></tr><tr><td>&quot;b&quot;</td><td>4</td></tr><tr><td>&quot;a&quot;</td><td>5</td></tr></tbody></table></div>"
      ],
      "text/plain": [
       "shape: (4, 2)\n",
       "┌─────┬─────┐\n",
       "│ x   ┆ y   │\n",
       "│ --- ┆ --- │\n",
       "│ str ┆ i64 │\n",
       "╞═════╪═════╡\n",
       "│ a   ┆ 2   │\n",
       "│ b   ┆ 3   │\n",
       "│ b   ┆ 4   │\n",
       "│ a   ┆ 5   │\n",
       "└─────┴─────┘"
      ]
     },
     "execution_count": 83,
     "metadata": {},
     "output_type": "execute_result"
    }
   ],
   "source": [
    "df_ex.select(pl.col('x'), pl.col('y')+1)"
   ]
  },
  {
   "cell_type": "code",
   "execution_count": 84,
   "id": "b77caa04",
   "metadata": {},
   "outputs": [
    {
     "data": {
      "text/html": [
       "<div><style>\n",
       ".dataframe > thead > tr,\n",
       ".dataframe > tbody > tr {\n",
       "  text-align: right;\n",
       "  white-space: pre-wrap;\n",
       "}\n",
       "</style>\n",
       "<small>shape: (4, 9)</small><table border=\"1\" class=\"dataframe\"><thead><tr><th>y/2</th><th>2/y</th><th>y+z</th><th>arctan(z)</th><th>ceil(arctan(z))</th><th>abs(z-5)</th><th>z is in (1,2,3)</th><th>z**2</th><th>y**2</th></tr><tr><td>f64</td><td>f64</td><td>i64</td><td>f64</td><td>f64</td><td>i64</td><td>bool</td><td>i64</td><td>i64</td></tr></thead><tbody><tr><td>0.5</td><td>2.0</td><td>1</td><td>0.0</td><td>0.0</td><td>5</td><td>false</td><td>0</td><td>1</td></tr><tr><td>1.0</td><td>1.0</td><td>5</td><td>1.249046</td><td>2.0</td><td>2</td><td>true</td><td>9</td><td>4</td></tr><tr><td>1.5</td><td>0.666667</td><td>9</td><td>1.405648</td><td>2.0</td><td>1</td><td>false</td><td>36</td><td>9</td></tr><tr><td>2.0</td><td>0.5</td><td>13</td><td>1.460139</td><td>2.0</td><td>4</td><td>false</td><td>81</td><td>16</td></tr></tbody></table></div>"
      ],
      "text/plain": [
       "shape: (4, 9)\n",
       "┌─────┬──────────┬─────┬───────────┬───┬──────────┬─────────────────┬──────┬──────┐\n",
       "│ y/2 ┆ 2/y      ┆ y+z ┆ arctan(z) ┆ … ┆ abs(z-5) ┆ z is in (1,2,3) ┆ z**2 ┆ y**2 │\n",
       "│ --- ┆ ---      ┆ --- ┆ ---       ┆   ┆ ---      ┆ ---             ┆ ---  ┆ ---  │\n",
       "│ f64 ┆ f64      ┆ i64 ┆ f64       ┆   ┆ i64      ┆ bool            ┆ i64  ┆ i64  │\n",
       "╞═════╪══════════╪═════╪═══════════╪═══╪══════════╪═════════════════╪══════╪══════╡\n",
       "│ 0.5 ┆ 2.0      ┆ 1   ┆ 0.0       ┆ … ┆ 5        ┆ false           ┆ 0    ┆ 1    │\n",
       "│ 1.0 ┆ 1.0      ┆ 5   ┆ 1.249046  ┆ … ┆ 2        ┆ true            ┆ 9    ┆ 4    │\n",
       "│ 1.5 ┆ 0.666667 ┆ 9   ┆ 1.405648  ┆ … ┆ 1        ┆ false           ┆ 36   ┆ 9    │\n",
       "│ 2.0 ┆ 0.5      ┆ 13  ┆ 1.460139  ┆ … ┆ 4        ┆ false           ┆ 81   ┆ 16   │\n",
       "└─────┴──────────┴─────┴───────────┴───┴──────────┴─────────────────┴──────┴──────┘"
      ]
     },
     "execution_count": 84,
     "metadata": {},
     "output_type": "execute_result"
    }
   ],
   "source": [
    "df_ex.select( \n",
    "    \n",
    "    (pl.col('y')/2).alias('y/2'),\n",
    "    \n",
    "    (2/pl.col('y')).alias('2/y'),\n",
    "    \n",
    "    (pl.col('y') + pl.col('z')).alias('y+z'),\n",
    "    \n",
    "    pl.col('z').arctan().alias('arctan(z)'),\n",
    "    \n",
    "    pl.col('z').arctan().ceil().alias('ceil(arctan(z))'),\n",
    "    \n",
    "    (pl.col('z')-5).abs().alias('abs(z-5)'),\n",
    "    \n",
    "    pl.col('z').is_in([1,2,3]).alias('z is in (1,2,3)'),\n",
    "    \n",
    "    pl.col('z').pow(2).alias('z**2'),\n",
    "    \n",
    "    (pl.col('y')**2).alias('y**2')\n",
    "    \n",
    ")"
   ]
  },
  {
   "cell_type": "markdown",
   "id": "148683a3",
   "metadata": {},
   "source": [
    "### Casting types"
   ]
  },
  {
   "cell_type": "code",
   "execution_count": 85,
   "id": "580a1471",
   "metadata": {},
   "outputs": [
    {
     "data": {
      "text/html": [
       "<div><style>\n",
       ".dataframe > thead > tr,\n",
       ".dataframe > tbody > tr {\n",
       "  text-align: right;\n",
       "  white-space: pre-wrap;\n",
       "}\n",
       "</style>\n",
       "<small>shape: (12_748_986, 1)</small><table border=\"1\" class=\"dataframe\"><thead><tr><th>VendorID</th></tr><tr><td>str</td></tr></thead><tbody><tr><td>&quot;2&quot;</td></tr><tr><td>&quot;1&quot;</td></tr><tr><td>&quot;1&quot;</td></tr><tr><td>&quot;1&quot;</td></tr><tr><td>&quot;1&quot;</td></tr><tr><td>&hellip;</td></tr><tr><td>&quot;1&quot;</td></tr><tr><td>&quot;1&quot;</td></tr><tr><td>&quot;1&quot;</td></tr><tr><td>&quot;1&quot;</td></tr><tr><td>&quot;1&quot;</td></tr></tbody></table></div>"
      ],
      "text/plain": [
       "shape: (12_748_986, 1)\n",
       "┌──────────┐\n",
       "│ VendorID │\n",
       "│ ---      │\n",
       "│ str      │\n",
       "╞══════════╡\n",
       "│ 2        │\n",
       "│ 1        │\n",
       "│ 1        │\n",
       "│ 1        │\n",
       "│ 1        │\n",
       "│ …        │\n",
       "│ 1        │\n",
       "│ 1        │\n",
       "│ 1        │\n",
       "│ 1        │\n",
       "│ 1        │\n",
       "└──────────┘"
      ]
     },
     "execution_count": 85,
     "metadata": {},
     "output_type": "execute_result"
    }
   ],
   "source": [
    "df.select(pl.col('VendorID').cast(pl.String))"
   ]
  },
  {
   "cell_type": "markdown",
   "id": "11074a75",
   "metadata": {},
   "source": [
    "### But I really like my python function..."
   ]
  },
  {
   "cell_type": "code",
   "execution_count": 92,
   "id": "01243747",
   "metadata": {},
   "outputs": [],
   "source": [
    "def plus_2(x):\n",
    "    return x+2"
   ]
  },
  {
   "cell_type": "code",
   "execution_count": 94,
   "id": "e8157992",
   "metadata": {},
   "outputs": [
    {
     "data": {
      "text/html": [
       "<div><style>\n",
       ".dataframe > thead > tr,\n",
       ".dataframe > tbody > tr {\n",
       "  text-align: right;\n",
       "  white-space: pre-wrap;\n",
       "}\n",
       "</style>\n",
       "<small>shape: (12_748_986, 2)</small><table border=\"1\" class=\"dataframe\"><thead><tr><th>original</th><th>plus_2</th></tr><tr><td>i64</td><td>i64</td></tr></thead><tbody><tr><td>2</td><td>4</td></tr><tr><td>1</td><td>3</td></tr><tr><td>1</td><td>3</td></tr><tr><td>1</td><td>3</td></tr><tr><td>1</td><td>3</td></tr><tr><td>&hellip;</td><td>&hellip;</td></tr><tr><td>1</td><td>3</td></tr><tr><td>1</td><td>3</td></tr><tr><td>1</td><td>3</td></tr><tr><td>1</td><td>3</td></tr><tr><td>1</td><td>3</td></tr></tbody></table></div>"
      ],
      "text/plain": [
       "shape: (12_748_986, 2)\n",
       "┌──────────┬────────┐\n",
       "│ original ┆ plus_2 │\n",
       "│ ---      ┆ ---    │\n",
       "│ i64      ┆ i64    │\n",
       "╞══════════╪════════╡\n",
       "│ 2        ┆ 4      │\n",
       "│ 1        ┆ 3      │\n",
       "│ 1        ┆ 3      │\n",
       "│ 1        ┆ 3      │\n",
       "│ 1        ┆ 3      │\n",
       "│ …        ┆ …      │\n",
       "│ 1        ┆ 3      │\n",
       "│ 1        ┆ 3      │\n",
       "│ 1        ┆ 3      │\n",
       "│ 1        ┆ 3      │\n",
       "│ 1        ┆ 3      │\n",
       "└──────────┴────────┘"
      ]
     },
     "execution_count": 94,
     "metadata": {},
     "output_type": "execute_result"
    }
   ],
   "source": [
    "df.select(\n",
    "    original=pl.col('VendorID'), \n",
    "    plus_2=pl.col('VendorID').pipe(plus_2)\n",
    ")"
   ]
  },
  {
   "cell_type": "markdown",
   "id": "f1bbee9d",
   "metadata": {},
   "source": [
    "### Case when.."
   ]
  },
  {
   "cell_type": "code",
   "execution_count": 95,
   "id": "2e538747",
   "metadata": {},
   "outputs": [],
   "source": [
    "# add a month_name column\n",
    "df = df.with_columns(\n",
    "    (pl.col(\"tpep_pickup_datetime\").dt.strftime(\"%b\").alias(\"month_name\")),\n",
    "    (pl.col(\"tpep_pickup_datetime\").dt.strftime(\"%d\").alias(\"month_day\").cast(pl.Int64)),\n",
    ")"
   ]
  },
  {
   "cell_type": "code",
   "execution_count": 96,
   "id": "51866a93",
   "metadata": {},
   "outputs": [
    {
     "data": {
      "text/html": [
       "<div><style>\n",
       ".dataframe > thead > tr,\n",
       ".dataframe > tbody > tr {\n",
       "  text-align: right;\n",
       "  white-space: pre-wrap;\n",
       "}\n",
       "</style>\n",
       "<small>shape: (12_748_986, 3)</small><table border=\"1\" class=\"dataframe\"><thead><tr><th>tpep_pickup_datetime</th><th>month_name</th><th>month_day</th></tr><tr><td>datetime[ms]</td><td>str</td><td>i64</td></tr></thead><tbody><tr><td>2015-01-15 19:05:39</td><td>&quot;Jan&quot;</td><td>15</td></tr><tr><td>2015-01-10 20:33:38</td><td>&quot;Jan&quot;</td><td>10</td></tr><tr><td>2015-01-10 20:33:38</td><td>&quot;Jan&quot;</td><td>10</td></tr><tr><td>2015-01-10 20:33:39</td><td>&quot;Jan&quot;</td><td>10</td></tr><tr><td>2015-01-10 20:33:39</td><td>&quot;Jan&quot;</td><td>10</td></tr><tr><td>&hellip;</td><td>&hellip;</td><td>&hellip;</td></tr><tr><td>2015-01-10 19:01:44</td><td>&quot;Jan&quot;</td><td>10</td></tr><tr><td>2015-01-10 19:01:44</td><td>&quot;Jan&quot;</td><td>10</td></tr><tr><td>2015-01-10 19:01:44</td><td>&quot;Jan&quot;</td><td>10</td></tr><tr><td>2015-01-10 19:01:44</td><td>&quot;Jan&quot;</td><td>10</td></tr><tr><td>2015-01-10 19:01:45</td><td>&quot;Jan&quot;</td><td>10</td></tr></tbody></table></div>"
      ],
      "text/plain": [
       "shape: (12_748_986, 3)\n",
       "┌──────────────────────┬────────────┬───────────┐\n",
       "│ tpep_pickup_datetime ┆ month_name ┆ month_day │\n",
       "│ ---                  ┆ ---        ┆ ---       │\n",
       "│ datetime[ms]         ┆ str        ┆ i64       │\n",
       "╞══════════════════════╪════════════╪═══════════╡\n",
       "│ 2015-01-15 19:05:39  ┆ Jan        ┆ 15        │\n",
       "│ 2015-01-10 20:33:38  ┆ Jan        ┆ 10        │\n",
       "│ 2015-01-10 20:33:38  ┆ Jan        ┆ 10        │\n",
       "│ 2015-01-10 20:33:39  ┆ Jan        ┆ 10        │\n",
       "│ 2015-01-10 20:33:39  ┆ Jan        ┆ 10        │\n",
       "│ …                    ┆ …          ┆ …         │\n",
       "│ 2015-01-10 19:01:44  ┆ Jan        ┆ 10        │\n",
       "│ 2015-01-10 19:01:44  ┆ Jan        ┆ 10        │\n",
       "│ 2015-01-10 19:01:44  ┆ Jan        ┆ 10        │\n",
       "│ 2015-01-10 19:01:44  ┆ Jan        ┆ 10        │\n",
       "│ 2015-01-10 19:01:45  ┆ Jan        ┆ 10        │\n",
       "└──────────────────────┴────────────┴───────────┘"
      ]
     },
     "execution_count": 96,
     "metadata": {},
     "output_type": "execute_result"
    }
   ],
   "source": [
    "df.select('tpep_pickup_datetime', 'month_name', 'month_day')"
   ]
  },
  {
   "cell_type": "code",
   "execution_count": 97,
   "id": "9b25e0d3",
   "metadata": {},
   "outputs": [],
   "source": [
    "my_col = (\n",
    "    pl.when(pl.col('month_day') <= 10)\n",
    "      .then(pl.lit('first 10 days'))\n",
    "      .when(pl.col('month_day') <= 20)\n",
    "      .then(pl.lit('middle 10 days'))\n",
    "      .otherwise(pl.lit('last 10 days'))\n",
    ")"
   ]
  },
  {
   "cell_type": "code",
   "execution_count": 98,
   "id": "5817d8e9",
   "metadata": {},
   "outputs": [
    {
     "data": {
      "text/plain": [
       "polars.expr.expr.Expr"
      ]
     },
     "execution_count": 98,
     "metadata": {},
     "output_type": "execute_result"
    }
   ],
   "source": [
    "type(my_col)"
   ]
  },
  {
   "cell_type": "code",
   "execution_count": 99,
   "id": "fdbd3386",
   "metadata": {},
   "outputs": [],
   "source": [
    "df = df.with_columns(my_col.alias('day_group'))"
   ]
  },
  {
   "cell_type": "code",
   "execution_count": 100,
   "id": "bad9f97f",
   "metadata": {},
   "outputs": [
    {
     "data": {
      "text/html": [
       "<div><style>\n",
       ".dataframe > thead > tr,\n",
       ".dataframe > tbody > tr {\n",
       "  text-align: right;\n",
       "  white-space: pre-wrap;\n",
       "}\n",
       "</style>\n",
       "<small>shape: (12_748_986, 2)</small><table border=\"1\" class=\"dataframe\"><thead><tr><th>tpep_pickup_datetime</th><th>day_group</th></tr><tr><td>datetime[ms]</td><td>str</td></tr></thead><tbody><tr><td>2015-01-15 19:05:39</td><td>&quot;middle 10 days&quot;</td></tr><tr><td>2015-01-10 20:33:38</td><td>&quot;first 10 days&quot;</td></tr><tr><td>2015-01-10 20:33:38</td><td>&quot;first 10 days&quot;</td></tr><tr><td>2015-01-10 20:33:39</td><td>&quot;first 10 days&quot;</td></tr><tr><td>2015-01-10 20:33:39</td><td>&quot;first 10 days&quot;</td></tr><tr><td>&hellip;</td><td>&hellip;</td></tr><tr><td>2015-01-10 19:01:44</td><td>&quot;first 10 days&quot;</td></tr><tr><td>2015-01-10 19:01:44</td><td>&quot;first 10 days&quot;</td></tr><tr><td>2015-01-10 19:01:44</td><td>&quot;first 10 days&quot;</td></tr><tr><td>2015-01-10 19:01:44</td><td>&quot;first 10 days&quot;</td></tr><tr><td>2015-01-10 19:01:45</td><td>&quot;first 10 days&quot;</td></tr></tbody></table></div>"
      ],
      "text/plain": [
       "shape: (12_748_986, 2)\n",
       "┌──────────────────────┬────────────────┐\n",
       "│ tpep_pickup_datetime ┆ day_group      │\n",
       "│ ---                  ┆ ---            │\n",
       "│ datetime[ms]         ┆ str            │\n",
       "╞══════════════════════╪════════════════╡\n",
       "│ 2015-01-15 19:05:39  ┆ middle 10 days │\n",
       "│ 2015-01-10 20:33:38  ┆ first 10 days  │\n",
       "│ 2015-01-10 20:33:38  ┆ first 10 days  │\n",
       "│ 2015-01-10 20:33:39  ┆ first 10 days  │\n",
       "│ 2015-01-10 20:33:39  ┆ first 10 days  │\n",
       "│ …                    ┆ …              │\n",
       "│ 2015-01-10 19:01:44  ┆ first 10 days  │\n",
       "│ 2015-01-10 19:01:44  ┆ first 10 days  │\n",
       "│ 2015-01-10 19:01:44  ┆ first 10 days  │\n",
       "│ 2015-01-10 19:01:44  ┆ first 10 days  │\n",
       "│ 2015-01-10 19:01:45  ┆ first 10 days  │\n",
       "└──────────────────────┴────────────────┘"
      ]
     },
     "execution_count": 100,
     "metadata": {},
     "output_type": "execute_result"
    }
   ],
   "source": [
    "df.select('tpep_pickup_datetime', 'day_group')"
   ]
  },
  {
   "cell_type": "markdown",
   "id": "abbd8d38",
   "metadata": {},
   "source": [
    "### Removing columns"
   ]
  },
  {
   "cell_type": "code",
   "execution_count": 101,
   "id": "fb324036",
   "metadata": {},
   "outputs": [],
   "source": [
    "df = df.drop('x') # or an iterator or a pointer to a pl.col"
   ]
  },
  {
   "cell_type": "markdown",
   "id": "384450d3",
   "metadata": {},
   "source": [
    "## Group by\n",
    "\n",
    "<font color='red'>A note on api method names:</font> words will always be separated by an underscore `group_by`, `value_counts` etc..."
   ]
  },
  {
   "cell_type": "markdown",
   "id": "d4521743",
   "metadata": {},
   "source": [
    "### agg expressions"
   ]
  },
  {
   "cell_type": "code",
   "execution_count": 102,
   "id": "51a2b748",
   "metadata": {},
   "outputs": [
    {
     "data": {
      "text/html": [
       "col(\"passenger_count\").sum()"
      ],
      "text/plain": [
       "<Expr ['col(\"passenger_count\").sum()'] at 0x419119850>"
      ]
     },
     "execution_count": 102,
     "metadata": {},
     "output_type": "execute_result"
    }
   ],
   "source": [
    "pl.col('passenger_count').sum()"
   ]
  },
  {
   "cell_type": "code",
   "execution_count": 103,
   "id": "d7415b31",
   "metadata": {},
   "outputs": [
    {
     "data": {
      "text/plain": [
       "polars.expr.expr.Expr"
      ]
     },
     "execution_count": 103,
     "metadata": {},
     "output_type": "execute_result"
    }
   ],
   "source": [
    "type(pl.col('passenger_count').sum())"
   ]
  },
  {
   "cell_type": "code",
   "execution_count": 104,
   "id": "d7c4e064",
   "metadata": {},
   "outputs": [
    {
     "data": {
      "text/html": [
       "<div><style>\n",
       ".dataframe > thead > tr,\n",
       ".dataframe > tbody > tr {\n",
       "  text-align: right;\n",
       "  white-space: pre-wrap;\n",
       "}\n",
       "</style>\n",
       "<small>shape: (3, 5)</small><table border=\"1\" class=\"dataframe\"><thead><tr><th>month_name</th><th>day_group</th><th>trips</th><th>passengers</th><th>distance_driven</th></tr><tr><td>str</td><td>str</td><td>u32</td><td>i64</td><td>f64</td></tr></thead><tbody><tr><td>&quot;Jan&quot;</td><td>&quot;first 10 days&quot;</td><td>4054765</td><td>6911863</td><td>6.7455e7</td></tr><tr><td>&quot;Jan&quot;</td><td>&quot;last 10 days&quot;</td><td>4405497</td><td>7353743</td><td>6.4019e7</td></tr><tr><td>&quot;Jan&quot;</td><td>&quot;middle 10 days&quot;</td><td>4288724</td><td>7171697</td><td>4.0116e7</td></tr></tbody></table></div>"
      ],
      "text/plain": [
       "shape: (3, 5)\n",
       "┌────────────┬────────────────┬─────────┬────────────┬─────────────────┐\n",
       "│ month_name ┆ day_group      ┆ trips   ┆ passengers ┆ distance_driven │\n",
       "│ ---        ┆ ---            ┆ ---     ┆ ---        ┆ ---             │\n",
       "│ str        ┆ str            ┆ u32     ┆ i64        ┆ f64             │\n",
       "╞════════════╪════════════════╪═════════╪════════════╪═════════════════╡\n",
       "│ Jan        ┆ first 10 days  ┆ 4054765 ┆ 6911863    ┆ 6.7455e7        │\n",
       "│ Jan        ┆ last 10 days   ┆ 4405497 ┆ 7353743    ┆ 6.4019e7        │\n",
       "│ Jan        ┆ middle 10 days ┆ 4288724 ┆ 7171697    ┆ 4.0116e7        │\n",
       "└────────────┴────────────────┴─────────┴────────────┴─────────────────┘"
      ]
     },
     "execution_count": 104,
     "metadata": {},
     "output_type": "execute_result"
    }
   ],
   "source": [
    "df.group_by('month_name', 'day_group').agg(\n",
    "    pl.len().alias('trips'), # count(1) like SQL\n",
    "    pl.col('passenger_count').sum().alias('passengers'),\n",
    "    pl.col('trip_distance').sum().alias('distance_driven'),\n",
    ")"
   ]
  },
  {
   "cell_type": "markdown",
   "id": "a1fce895",
   "metadata": {},
   "source": [
    "### `group_by_dynamic`"
   ]
  },
  {
   "cell_type": "code",
   "execution_count": 105,
   "id": "94f4f4f2",
   "metadata": {},
   "outputs": [
    {
     "data": {
      "text/html": [
       "<div><style>\n",
       ".dataframe > thead > tr,\n",
       ".dataframe > tbody > tr {\n",
       "  text-align: right;\n",
       "  white-space: pre-wrap;\n",
       "}\n",
       "</style>\n",
       "<small>shape: (72, 4)</small><table border=\"1\" class=\"dataframe\"><thead><tr><th>tpep_pickup_datetime</th><th>trips</th><th>passengers</th><th>distance_driven</th></tr><tr><td>datetime[ms]</td><td>u32</td><td>i64</td><td>f64</td></tr></thead><tbody><tr><td>2015-01-01 00:00:00</td><td>28312</td><td>51700</td><td>82489.09</td></tr><tr><td>2015-01-01 01:00:00</td><td>31707</td><td>58584</td><td>99258.12</td></tr><tr><td>2015-01-01 02:00:00</td><td>28068</td><td>51507</td><td>91865.7</td></tr><tr><td>2015-01-01 03:00:00</td><td>24288</td><td>44134</td><td>84036.57</td></tr><tr><td>2015-01-01 04:00:00</td><td>17081</td><td>30799</td><td>63055.28</td></tr><tr><td>&hellip;</td><td>&hellip;</td><td>&hellip;</td><td>&hellip;</td></tr><tr><td>2015-01-03 19:00:00</td><td>25667</td><td>46194</td><td>3240988.5</td></tr><tr><td>2015-01-03 20:00:00</td><td>20531</td><td>36959</td><td>54915.04</td></tr><tr><td>2015-01-03 21:00:00</td><td>21399</td><td>38224</td><td>56920.38</td></tr><tr><td>2015-01-03 22:00:00</td><td>22409</td><td>40314</td><td>64932.34</td></tr><tr><td>2015-01-03 23:00:00</td><td>22833</td><td>40782</td><td>201639.07</td></tr></tbody></table></div>"
      ],
      "text/plain": [
       "shape: (72, 4)\n",
       "┌──────────────────────┬───────┬────────────┬─────────────────┐\n",
       "│ tpep_pickup_datetime ┆ trips ┆ passengers ┆ distance_driven │\n",
       "│ ---                  ┆ ---   ┆ ---        ┆ ---             │\n",
       "│ datetime[ms]         ┆ u32   ┆ i64        ┆ f64             │\n",
       "╞══════════════════════╪═══════╪════════════╪═════════════════╡\n",
       "│ 2015-01-01 00:00:00  ┆ 28312 ┆ 51700      ┆ 82489.09        │\n",
       "│ 2015-01-01 01:00:00  ┆ 31707 ┆ 58584      ┆ 99258.12        │\n",
       "│ 2015-01-01 02:00:00  ┆ 28068 ┆ 51507      ┆ 91865.7         │\n",
       "│ 2015-01-01 03:00:00  ┆ 24288 ┆ 44134      ┆ 84036.57        │\n",
       "│ 2015-01-01 04:00:00  ┆ 17081 ┆ 30799      ┆ 63055.28        │\n",
       "│ …                    ┆ …     ┆ …          ┆ …               │\n",
       "│ 2015-01-03 19:00:00  ┆ 25667 ┆ 46194      ┆ 3240988.5       │\n",
       "│ 2015-01-03 20:00:00  ┆ 20531 ┆ 36959      ┆ 54915.04        │\n",
       "│ 2015-01-03 21:00:00  ┆ 21399 ┆ 38224      ┆ 56920.38        │\n",
       "│ 2015-01-03 22:00:00  ┆ 22409 ┆ 40314      ┆ 64932.34        │\n",
       "│ 2015-01-03 23:00:00  ┆ 22833 ┆ 40782      ┆ 201639.07       │\n",
       "└──────────────────────┴───────┴────────────┴─────────────────┘"
      ]
     },
     "execution_count": 105,
     "metadata": {},
     "output_type": "execute_result"
    }
   ],
   "source": [
    "result = (\n",
    "    df.filter(pl.col('month_day') <= 3)\n",
    "        .sort('tpep_pickup_datetime')\n",
    "        .group_by_dynamic('tpep_pickup_datetime', every='1h')\n",
    "        .agg(\n",
    "            pl.len().alias('trips'),\n",
    "            pl.col('passenger_count').sum().alias('passengers'),\n",
    "            pl.col('trip_distance').sum().alias('distance_driven')\n",
    "        )\n",
    ")\n",
    "result"
   ]
  },
  {
   "cell_type": "code",
   "execution_count": 106,
   "id": "3c6a6de5",
   "metadata": {},
   "outputs": [
    {
     "data": {
      "image/png": "[encoded data removed]",
      "text/plain": [
       "<Figure size 800x300 with 1 Axes>"
      ]
     },
     "metadata": {},
     "output_type": "display_data"
    }
   ],
   "source": [
    "plt.figure(figsize=(8,3))\n",
    "plt.plot(result['tpep_pickup_datetime'], result['trips'])\n",
    "plt.grid()\n",
    "plt.show()"
   ]
  },
  {
   "cell_type": "markdown",
   "id": "354c3b7e",
   "metadata": {},
   "source": [
    "<font color='red'>Note:</font>`polars` supports built-in plotting methods like `pandas`, but not using matplotlib. It uses `altair` instead, which works on `pandas` natively, not sure why this package was chosen for integration..."
   ]
  },
  {
   "cell_type": "code",
   "execution_count": 107,
   "id": "5138e89a",
   "metadata": {},
   "outputs": [
    {
     "data": {
      "text/html": [
       "\n",
       "<style>\n",
       "  #altair-viz-9c951c4c5c5241caae725c70b902b475.vega-embed {\n",
       "    width: 100%;\n",
       "    display: flex;\n",
       "  }\n",
       "\n",
       "  #altair-viz-9c951c4c5c5241caae725c70b902b475.vega-embed details,\n",
       "  #altair-viz-9c951c4c5c5241caae725c70b902b475.vega-embed details summary {\n",
       "    position: relative;\n",
       "  }\n",
       "</style>\n",
       "<div id=\"altair-viz-9c951c4c5c5241caae725c70b902b475\"></div>\n",
       "<script type=\"text/javascript\">\n",
       "  var VEGA_DEBUG = (typeof VEGA_DEBUG == \"undefined\") ? {} : VEGA_DEBUG;\n",
       "  (function(spec, embedOpt){\n",
       "    let outputDiv = document.currentScript.previousElementSibling;\n",
       "    if (outputDiv.id !== \"altair-viz-9c951c4c5c5241caae725c70b902b475\") {\n",
       "      outputDiv = document.getElementById(\"altair-viz-9c951c4c5c5241caae725c70b902b475\");\n",
       "    }\n",
       "\n",
       "    const paths = {\n",
       "      \"vega\": \"https://cdn.jsdelivr.net/npm/vega@5?noext\",\n",
       "      \"vega-lib\": \"https://cdn.jsdelivr.net/npm/vega-lib?noext\",\n",
       "      \"vega-lite\": \"https://cdn.jsdelivr.net/npm/vega-lite@5.20.1?noext\",\n",
       "      \"vega-embed\": \"https://cdn.jsdelivr.net/npm/vega-embed@6?noext\",\n",
       "    };\n",
       "\n",
       "    function maybeLoadScript(lib, version) {\n",
       "      var key = `${lib.replace(\"-\", \"\")}_version`;\n",
       "      return (VEGA_DEBUG[key] == version) ?\n",
       "        Promise.resolve(paths[lib]) :\n",
       "        new Promise(function(resolve, reject) {\n",
       "          var s = document.createElement('script');\n",
       "          document.getElementsByTagName(\"head\")[0].appendChild(s);\n",
       "          s.async = true;\n",
       "          s.onload = () => {\n",
       "            VEGA_DEBUG[key] = version;\n",
       "            return resolve(paths[lib]);\n",
       "          };\n",
       "          s.onerror = () => reject(`Error loading script: ${paths[lib]}`);\n",
       "          s.src = paths[lib];\n",
       "        });\n",
       "    }\n",
       "\n",
       "    function showError(err) {\n",
       "      outputDiv.innerHTML = `<div class=\"error\" style=\"color:red;\">${err}</div>`;\n",
       "      throw err;\n",
       "    }\n",
       "\n",
       "    function displayChart(vegaEmbed) {\n",
       "      vegaEmbed(outputDiv, spec, embedOpt)\n",
       "        .catch(err => showError(`Javascript Error: ${err.message}<br>This usually means there's a typo in your chart specification. See the javascript console for the full traceback.`));\n",
       "    }\n",
       "\n",
       "    if(typeof define === \"function\" && define.amd) {\n",
       "      requirejs.config({paths});\n",
       "      let deps = [\"vega-embed\"];\n",
       "      require(deps, displayChart, err => showError(`Error loading script: ${err.message}`));\n",
       "    } else {\n",
       "      maybeLoadScript(\"vega\", \"5\")\n",
       "        .then(() => maybeLoadScript(\"vega-lite\", \"5.20.1\"))\n",
       "        .then(() => maybeLoadScript(\"vega-embed\", \"6\"))\n",
       "        .catch(showError)\n",
       "        .then(() => displayChart(vegaEmbed));\n",
       "    }\n",
       "  })({\"config\": {\"view\": {\"continuousWidth\": 300, \"continuousHeight\": 300}}, \"data\": {\"name\": \"data-dcf2038075ff4675fab95d46daf69163\"}, \"mark\": {\"type\": \"line\", \"tooltip\": true}, \"encoding\": {\"x\": {\"field\": \"tpep_pickup_datetime\", \"type\": \"temporal\"}, \"y\": {\"field\": \"trips\", \"type\": \"quantitative\"}}, \"height\": 200, \"params\": [{\"name\": \"param_1\", \"select\": {\"type\": \"interval\", \"encodings\": [\"x\", \"y\"]}, \"bind\": \"scales\"}], \"width\": 600, \"$schema\": \"https://vega.github.io/schema/vega-lite/v5.20.1.json\", \"datasets\": {\"data-dcf2038075ff4675fab95d46daf69163\": [{\"tpep_pickup_datetime\": \"2015-01-01T00:00:00\", \"trips\": 28312, \"passengers\": 51700, \"distance_driven\": 82489.09000000001}, {\"tpep_pickup_datetime\": \"2015-01-01T01:00:00\", \"trips\": 31707, \"passengers\": 58584, \"distance_driven\": 99258.12000000001}, {\"tpep_pickup_datetime\": \"2015-01-01T02:00:00\", \"trips\": 28068, \"passengers\": 51507, \"distance_driven\": 91865.7}, {\"tpep_pickup_datetime\": \"2015-01-01T03:00:00\", \"trips\": 24288, \"passengers\": 44134, \"distance_driven\": 84036.57}, {\"tpep_pickup_datetime\": \"2015-01-01T04:00:00\", \"trips\": 17081, \"passengers\": 30799, \"distance_driven\": 63055.28}, {\"tpep_pickup_datetime\": \"2015-01-01T05:00:00\", \"trips\": 9112, \"passengers\": 15898, \"distance_driven\": 37739.94}, {\"tpep_pickup_datetime\": \"2015-01-01T06:00:00\", \"trips\": 6637, \"passengers\": 11131, \"distance_driven\": 28740.300000000003}, {\"tpep_pickup_datetime\": \"2015-01-01T07:00:00\", \"trips\": 6011, \"passengers\": 9986, \"distance_driven\": 26387.2}, {\"tpep_pickup_datetime\": \"2015-01-01T08:00:00\", \"trips\": 5586, \"passengers\": 9350, \"distance_driven\": 22951.11}, {\"tpep_pickup_datetime\": \"2015-01-01T09:00:00\", \"trips\": 6977, \"passengers\": 12015, \"distance_driven\": 26155.120000000003}, {\"tpep_pickup_datetime\": \"2015-01-01T10:00:00\", \"trips\": 9949, \"passengers\": 17712, \"distance_driven\": 33793.659999999996}, {\"tpep_pickup_datetime\": \"2015-01-01T11:00:00\", \"trips\": 13870, \"passengers\": 24967, \"distance_driven\": 41647.43}, {\"tpep_pickup_datetime\": \"2015-01-01T12:00:00\", \"trips\": 16582, \"passengers\": 29833, \"distance_driven\": 50231.979999999996}, {\"tpep_pickup_datetime\": \"2015-01-01T13:00:00\", \"trips\": 17448, \"passengers\": 31678, \"distance_driven\": 54321.19}, {\"tpep_pickup_datetime\": \"2015-01-01T14:00:00\", \"trips\": 17994, \"passengers\": 32551, \"distance_driven\": 58206.77}, {\"tpep_pickup_datetime\": \"2015-01-01T15:00:00\", \"trips\": 18279, \"passengers\": 33317, \"distance_driven\": 60483.58}, {\"tpep_pickup_datetime\": \"2015-01-01T16:00:00\", \"trips\": 16602, \"passengers\": 30699, \"distance_driven\": 52229.34}, {\"tpep_pickup_datetime\": \"2015-01-01T17:00:00\", \"trips\": 17511, \"passengers\": 31698, \"distance_driven\": 52305.049999999996}, {\"tpep_pickup_datetime\": \"2015-01-01T18:00:00\", \"trips\": 18082, \"passengers\": 32830, \"distance_driven\": 50205.79}, {\"tpep_pickup_datetime\": \"2015-01-01T19:00:00\", \"trips\": 16485, \"passengers\": 29930, \"distance_driven\": 45510.07}, {\"tpep_pickup_datetime\": \"2015-01-01T20:00:00\", \"trips\": 15017, \"passengers\": 27319, \"distance_driven\": 46798.67}, {\"tpep_pickup_datetime\": \"2015-01-01T21:00:00\", \"trips\": 14801, \"passengers\": 26886, \"distance_driven\": 44651.48}, {\"tpep_pickup_datetime\": \"2015-01-01T22:00:00\", \"trips\": 14005, \"passengers\": 25263, \"distance_driven\": 43666.51}, {\"tpep_pickup_datetime\": \"2015-01-01T23:00:00\", \"trips\": 11610, \"passengers\": 20620, \"distance_driven\": 39241.84}, {\"tpep_pickup_datetime\": \"2015-01-02T00:00:00\", \"trips\": 9388, \"passengers\": 16601, \"distance_driven\": 32648.7}, {\"tpep_pickup_datetime\": \"2015-01-02T01:00:00\", \"trips\": 6291, \"passengers\": 10811, \"distance_driven\": 19971.350000000002}, {\"tpep_pickup_datetime\": \"2015-01-02T02:00:00\", \"trips\": 4027, \"passengers\": 7117, \"distance_driven\": 13331.16}, {\"tpep_pickup_datetime\": \"2015-01-02T03:00:00\", \"trips\": 2905, \"passengers\": 5090, \"distance_driven\": 11070.92}, {\"tpep_pickup_datetime\": \"2015-01-02T04:00:00\", \"trips\": 2626, \"passengers\": 4518, \"distance_driven\": 12777.37}, {\"tpep_pickup_datetime\": \"2015-01-02T05:00:00\", \"trips\": 2755, \"passengers\": 4441, \"distance_driven\": 14879.45}, {\"tpep_pickup_datetime\": \"2015-01-02T06:00:00\", \"trips\": 5811, \"passengers\": 9118, \"distance_driven\": 23999.019999999997}, {\"tpep_pickup_datetime\": \"2015-01-02T07:00:00\", \"trips\": 8256, \"passengers\": 13270, \"distance_driven\": 28579.239999999998}, {\"tpep_pickup_datetime\": \"2015-01-02T08:00:00\", \"trips\": 10946, \"passengers\": 18115, \"distance_driven\": 32402.29}, {\"tpep_pickup_datetime\": \"2015-01-02T09:00:00\", \"trips\": 13373, \"passengers\": 22697, \"distance_driven\": 40213.159999999996}, {\"tpep_pickup_datetime\": \"2015-01-02T10:00:00\", \"trips\": 15243, \"passengers\": 26450, \"distance_driven\": 44182.27}, {\"tpep_pickup_datetime\": \"2015-01-02T11:00:00\", \"trips\": 16999, \"passengers\": 29514, \"distance_driven\": 45641.979999999996}, {\"tpep_pickup_datetime\": \"2015-01-02T12:00:00\", \"trips\": 19252, \"passengers\": 33434, \"distance_driven\": 52546.17}, {\"tpep_pickup_datetime\": \"2015-01-02T13:00:00\", \"trips\": 19023, \"passengers\": 33275, \"distance_driven\": 52175.590000000004}, {\"tpep_pickup_datetime\": \"2015-01-02T14:00:00\", \"trips\": 20260, \"passengers\": 35643, \"distance_driven\": 60791.37}, {\"tpep_pickup_datetime\": \"2015-01-02T15:00:00\", \"trips\": 20429, \"passengers\": 36195, \"distance_driven\": 12062419.889999999}, {\"tpep_pickup_datetime\": \"2015-01-02T16:00:00\", \"trips\": 18223, \"passengers\": 32235, \"distance_driven\": 53689.25}, {\"tpep_pickup_datetime\": \"2015-01-02T17:00:00\", \"trips\": 20680, \"passengers\": 36963, \"distance_driven\": 56984.43}, {\"tpep_pickup_datetime\": \"2015-01-02T18:00:00\", \"trips\": 23008, \"passengers\": 41073, \"distance_driven\": 60786.92}, {\"tpep_pickup_datetime\": \"2015-01-02T19:00:00\", \"trips\": 23227, \"passengers\": 41932, \"distance_driven\": 58462.340000000004}, {\"tpep_pickup_datetime\": \"2015-01-02T20:00:00\", \"trips\": 20153, \"passengers\": 36117, \"distance_driven\": 57051.17}, {\"tpep_pickup_datetime\": \"2015-01-02T21:00:00\", \"trips\": 19611, \"passengers\": 34884, \"distance_driven\": 57157.420000000006}, {\"tpep_pickup_datetime\": \"2015-01-02T22:00:00\", \"trips\": 21722, \"passengers\": 39228, \"distance_driven\": 61785.08}, {\"tpep_pickup_datetime\": \"2015-01-02T23:00:00\", \"trips\": 21088, \"passengers\": 37995, \"distance_driven\": 64896.62}, {\"tpep_pickup_datetime\": \"2015-01-03T00:00:00\", \"trips\": 19467, \"passengers\": 34746, \"distance_driven\": 59056.22}, {\"tpep_pickup_datetime\": \"2015-01-03T01:00:00\", \"trips\": 16660, \"passengers\": 29801, \"distance_driven\": 49830.61}, {\"tpep_pickup_datetime\": \"2015-01-03T02:00:00\", \"trips\": 13607, \"passengers\": 24359, \"distance_driven\": 41690.15}, {\"tpep_pickup_datetime\": \"2015-01-03T03:00:00\", \"trips\": 10620, \"passengers\": 19159, \"distance_driven\": 35877.240000000005}, {\"tpep_pickup_datetime\": \"2015-01-03T04:00:00\", \"trips\": 7061, \"passengers\": 12400, \"distance_driven\": 28130.54}, {\"tpep_pickup_datetime\": \"2015-01-03T05:00:00\", \"trips\": 3512, \"passengers\": 5982, \"distance_driven\": 19759.25}, {\"tpep_pickup_datetime\": \"2015-01-03T06:00:00\", \"trips\": 4120, \"passengers\": 6506, \"distance_driven\": 21804.74}, {\"tpep_pickup_datetime\": \"2015-01-03T07:00:00\", \"trips\": 5216, \"passengers\": 8465, \"distance_driven\": 22206.689999999995}, {\"tpep_pickup_datetime\": \"2015-01-03T08:00:00\", \"trips\": 7908, \"passengers\": 13070, \"distance_driven\": 27713.97}, {\"tpep_pickup_datetime\": \"2015-01-03T09:00:00\", \"trips\": 11869, \"passengers\": 20319, \"distance_driven\": 34576.57000000001}, {\"tpep_pickup_datetime\": \"2015-01-03T10:00:00\", \"trips\": 14975, \"passengers\": 25982, \"distance_driven\": 42134.83}, {\"tpep_pickup_datetime\": \"2015-01-03T11:00:00\", \"trips\": 17966, \"passengers\": 31563, \"distance_driven\": 48298.51}, {\"tpep_pickup_datetime\": \"2015-01-03T12:00:00\", \"trips\": 21644, \"passengers\": 38217, \"distance_driven\": 54166.33}, {\"tpep_pickup_datetime\": \"2015-01-03T13:00:00\", \"trips\": 23718, \"passengers\": 42852, \"distance_driven\": 58095.79000000001}, {\"tpep_pickup_datetime\": \"2015-01-03T14:00:00\", \"trips\": 24143, \"passengers\": 43063, \"distance_driven\": 63322.98}, {\"tpep_pickup_datetime\": \"2015-01-03T15:00:00\", \"trips\": 23494, \"passengers\": 41802, \"distance_driven\": 62455.36}, {\"tpep_pickup_datetime\": \"2015-01-03T16:00:00\", \"trips\": 20350, \"passengers\": 36416, \"distance_driven\": 55444.53}, {\"tpep_pickup_datetime\": \"2015-01-03T17:00:00\", \"trips\": 22295, \"passengers\": 39749, \"distance_driven\": 59806.94}, {\"tpep_pickup_datetime\": \"2015-01-03T18:00:00\", \"trips\": 25305, \"passengers\": 45191, \"distance_driven\": 2395207.560000001}, {\"tpep_pickup_datetime\": \"2015-01-03T19:00:00\", \"trips\": 25667, \"passengers\": 46194, \"distance_driven\": 3240988.5}, {\"tpep_pickup_datetime\": \"2015-01-03T20:00:00\", \"trips\": 20531, \"passengers\": 36959, \"distance_driven\": 54915.04}, {\"tpep_pickup_datetime\": \"2015-01-03T21:00:00\", \"trips\": 21399, \"passengers\": 38224, \"distance_driven\": 56920.380000000005}, {\"tpep_pickup_datetime\": \"2015-01-03T22:00:00\", \"trips\": 22409, \"passengers\": 40314, \"distance_driven\": 64932.34}, {\"tpep_pickup_datetime\": \"2015-01-03T23:00:00\", \"trips\": 22833, \"passengers\": 40782, \"distance_driven\": 201639.06999999998}]}}, {\"mode\": \"vega-lite\"});\n",
       "</script>"
      ],
      "text/plain": [
       "alt.Chart(...)"
      ]
     },
     "execution_count": 107,
     "metadata": {},
     "output_type": "execute_result"
    }
   ],
   "source": [
    "result.plot.line(x='tpep_pickup_datetime', y='trips').properties(\n",
    "    width=600,\n",
    "    height=200\n",
    ")"
   ]
  },
  {
   "cell_type": "markdown",
   "id": "fcc12513",
   "metadata": {},
   "source": [
    "### SQL-like analytic functions are also available"
   ]
  },
  {
   "cell_type": "code",
   "execution_count": 108,
   "id": "75947c27",
   "metadata": {},
   "outputs": [
    {
     "data": {
      "text/html": [
       "<div><style>\n",
       ".dataframe > thead > tr,\n",
       ".dataframe > tbody > tr {\n",
       "  text-align: right;\n",
       "  white-space: pre-wrap;\n",
       "}\n",
       "</style>\n",
       "<small>shape: (24, 4)</small><table border=\"1\" class=\"dataframe\"><thead><tr><th>hour</th><th>trips</th><th>cumulative_trips</th><th>F</th></tr><tr><td>datetime[ms]</td><td>u32</td><td>u32</td><td>f64</td></tr></thead><tbody><tr><td>2015-01-01 00:00:00</td><td>28312</td><td>28312</td><td>0.074112</td></tr><tr><td>2015-01-01 01:00:00</td><td>31707</td><td>60019</td><td>0.157112</td></tr><tr><td>2015-01-01 02:00:00</td><td>28068</td><td>88087</td><td>0.230586</td></tr><tr><td>2015-01-01 03:00:00</td><td>24288</td><td>112375</td><td>0.294165</td></tr><tr><td>2015-01-01 04:00:00</td><td>17081</td><td>129456</td><td>0.338878</td></tr><tr><td>&hellip;</td><td>&hellip;</td><td>&hellip;</td><td>&hellip;</td></tr><tr><td>2015-01-01 19:00:00</td><td>16485</td><td>326581</td><td>0.854893</td></tr><tr><td>2015-01-01 20:00:00</td><td>15017</td><td>341598</td><td>0.894203</td></tr><tr><td>2015-01-01 21:00:00</td><td>14801</td><td>356399</td><td>0.932947</td></tr><tr><td>2015-01-01 22:00:00</td><td>14005</td><td>370404</td><td>0.969608</td></tr><tr><td>2015-01-01 23:00:00</td><td>11610</td><td>382014</td><td>1.0</td></tr></tbody></table></div>"
      ],
      "text/plain": [
       "shape: (24, 4)\n",
       "┌─────────────────────┬───────┬──────────────────┬──────────┐\n",
       "│ hour                ┆ trips ┆ cumulative_trips ┆ F        │\n",
       "│ ---                 ┆ ---   ┆ ---              ┆ ---      │\n",
       "│ datetime[ms]        ┆ u32   ┆ u32              ┆ f64      │\n",
       "╞═════════════════════╪═══════╪══════════════════╪══════════╡\n",
       "│ 2015-01-01 00:00:00 ┆ 28312 ┆ 28312            ┆ 0.074112 │\n",
       "│ 2015-01-01 01:00:00 ┆ 31707 ┆ 60019            ┆ 0.157112 │\n",
       "│ 2015-01-01 02:00:00 ┆ 28068 ┆ 88087            ┆ 0.230586 │\n",
       "│ 2015-01-01 03:00:00 ┆ 24288 ┆ 112375           ┆ 0.294165 │\n",
       "│ 2015-01-01 04:00:00 ┆ 17081 ┆ 129456           ┆ 0.338878 │\n",
       "│ …                   ┆ …     ┆ …                ┆ …        │\n",
       "│ 2015-01-01 19:00:00 ┆ 16485 ┆ 326581           ┆ 0.854893 │\n",
       "│ 2015-01-01 20:00:00 ┆ 15017 ┆ 341598           ┆ 0.894203 │\n",
       "│ 2015-01-01 21:00:00 ┆ 14801 ┆ 356399           ┆ 0.932947 │\n",
       "│ 2015-01-01 22:00:00 ┆ 14005 ┆ 370404           ┆ 0.969608 │\n",
       "│ 2015-01-01 23:00:00 ┆ 11610 ┆ 382014           ┆ 1.0      │\n",
       "└─────────────────────┴───────┴──────────────────┴──────────┘"
      ]
     },
     "execution_count": 108,
     "metadata": {},
     "output_type": "execute_result"
    }
   ],
   "source": [
    "window = {\n",
    "    'partition_by': [None],\n",
    "    'order_by': ['tpep_pickup_datetime']\n",
    "}\n",
    "\n",
    "result = (\n",
    "    df.filter(pl.col('month_day') == 1)\n",
    "        .sort('tpep_pickup_datetime')\n",
    "        .group_by_dynamic('tpep_pickup_datetime', every='1h')\n",
    "        .agg(pl.len().alias('trips'))\n",
    "        .with_columns(pl.col('trips').cum_sum()\n",
    "                      .over(**window)\n",
    "                      .alias('cumulative_trips'))\n",
    "        .with_columns((pl.col('cumulative_trips') / pl.col('trips').sum().over([None])).alias('F'))\n",
    "        .rename({'tpep_pickup_datetime':'hour'})\n",
    ")\n",
    "result"
   ]
  },
  {
   "cell_type": "code",
   "execution_count": 109,
   "id": "a037002f",
   "metadata": {},
   "outputs": [
    {
     "data": {
      "image/png": "[encoded data removed]",
      "text/plain": [
       "<Figure size 800x300 with 1 Axes>"
      ]
     },
     "metadata": {},
     "output_type": "display_data"
    }
   ],
   "source": [
    "_, ax = plt.subplots(figsize=(8,3))\n",
    "ax.plot(result['hour'], result['F'])\n",
    "ax.grid()\n",
    "\n",
    "plt.show()"
   ]
  },
  {
   "cell_type": "markdown",
   "id": "e7a54700",
   "metadata": {},
   "source": [
    "### Joins"
   ]
  },
  {
   "cell_type": "code",
   "execution_count": 110,
   "id": "6d4aa6eb",
   "metadata": {},
   "outputs": [
    {
     "data": {
      "text/html": [
       "<div><style>\n",
       ".dataframe > thead > tr,\n",
       ".dataframe > tbody > tr {\n",
       "  text-align: right;\n",
       "  white-space: pre-wrap;\n",
       "}\n",
       "</style>\n",
       "<small>shape: (24, 5)</small><table border=\"1\" class=\"dataframe\"><thead><tr><th>tpep_pickup_datetime</th><th>trips</th><th>hour</th><th>tpep_pickup_datetime_right</th><th>trips_right</th></tr><tr><td>datetime[ms]</td><td>u32</td><td>str</td><td>datetime[ms]</td><td>u32</td></tr></thead><tbody><tr><td>2015-01-01 00:00:00</td><td>28312</td><td>&quot;00&quot;</td><td>2015-01-02 00:00:00</td><td>9388</td></tr><tr><td>2015-01-01 01:00:00</td><td>31707</td><td>&quot;01&quot;</td><td>2015-01-02 01:00:00</td><td>6291</td></tr><tr><td>2015-01-01 02:00:00</td><td>28068</td><td>&quot;02&quot;</td><td>2015-01-02 02:00:00</td><td>4027</td></tr><tr><td>2015-01-01 03:00:00</td><td>24288</td><td>&quot;03&quot;</td><td>2015-01-02 03:00:00</td><td>2905</td></tr><tr><td>2015-01-01 04:00:00</td><td>17081</td><td>&quot;04&quot;</td><td>2015-01-02 04:00:00</td><td>2626</td></tr><tr><td>&hellip;</td><td>&hellip;</td><td>&hellip;</td><td>&hellip;</td><td>&hellip;</td></tr><tr><td>2015-01-01 19:00:00</td><td>16485</td><td>&quot;19&quot;</td><td>2015-01-02 19:00:00</td><td>23227</td></tr><tr><td>2015-01-01 20:00:00</td><td>15017</td><td>&quot;20&quot;</td><td>2015-01-02 20:00:00</td><td>20153</td></tr><tr><td>2015-01-01 21:00:00</td><td>14801</td><td>&quot;21&quot;</td><td>2015-01-02 21:00:00</td><td>19611</td></tr><tr><td>2015-01-01 22:00:00</td><td>14005</td><td>&quot;22&quot;</td><td>2015-01-02 22:00:00</td><td>21722</td></tr><tr><td>2015-01-01 23:00:00</td><td>11610</td><td>&quot;23&quot;</td><td>2015-01-02 23:00:00</td><td>21088</td></tr></tbody></table></div>"
      ],
      "text/plain": [
       "shape: (24, 5)\n",
       "┌──────────────────────┬───────┬──────┬────────────────────────────┬─────────────┐\n",
       "│ tpep_pickup_datetime ┆ trips ┆ hour ┆ tpep_pickup_datetime_right ┆ trips_right │\n",
       "│ ---                  ┆ ---   ┆ ---  ┆ ---                        ┆ ---         │\n",
       "│ datetime[ms]         ┆ u32   ┆ str  ┆ datetime[ms]               ┆ u32         │\n",
       "╞══════════════════════╪═══════╪══════╪════════════════════════════╪═════════════╡\n",
       "│ 2015-01-01 00:00:00  ┆ 28312 ┆ 00   ┆ 2015-01-02 00:00:00        ┆ 9388        │\n",
       "│ 2015-01-01 01:00:00  ┆ 31707 ┆ 01   ┆ 2015-01-02 01:00:00        ┆ 6291        │\n",
       "│ 2015-01-01 02:00:00  ┆ 28068 ┆ 02   ┆ 2015-01-02 02:00:00        ┆ 4027        │\n",
       "│ 2015-01-01 03:00:00  ┆ 24288 ┆ 03   ┆ 2015-01-02 03:00:00        ┆ 2905        │\n",
       "│ 2015-01-01 04:00:00  ┆ 17081 ┆ 04   ┆ 2015-01-02 04:00:00        ┆ 2626        │\n",
       "│ …                    ┆ …     ┆ …    ┆ …                          ┆ …           │\n",
       "│ 2015-01-01 19:00:00  ┆ 16485 ┆ 19   ┆ 2015-01-02 19:00:00        ┆ 23227       │\n",
       "│ 2015-01-01 20:00:00  ┆ 15017 ┆ 20   ┆ 2015-01-02 20:00:00        ┆ 20153       │\n",
       "│ 2015-01-01 21:00:00  ┆ 14801 ┆ 21   ┆ 2015-01-02 21:00:00        ┆ 19611       │\n",
       "│ 2015-01-01 22:00:00  ┆ 14005 ┆ 22   ┆ 2015-01-02 22:00:00        ┆ 21722       │\n",
       "│ 2015-01-01 23:00:00  ┆ 11610 ┆ 23   ┆ 2015-01-02 23:00:00        ┆ 21088       │\n",
       "└──────────────────────┴───────┴──────┴────────────────────────────┴─────────────┘"
      ]
     },
     "execution_count": 110,
     "metadata": {},
     "output_type": "execute_result"
    }
   ],
   "source": [
    "result1 = (\n",
    "    df.filter(pl.col('month_day') == 1)\n",
    "        .sort('tpep_pickup_datetime')\n",
    "        .group_by_dynamic('tpep_pickup_datetime', every='1h')\n",
    "        .agg(pl.len().alias('trips'))\n",
    "        .with_columns(pl.col('tpep_pickup_datetime').dt.strftime('%H').alias('hour'))\n",
    ")\n",
    "\n",
    "result2 = (\n",
    "    df.filter(pl.col('month_day') == 2)\n",
    "        .sort('tpep_pickup_datetime')\n",
    "        .group_by_dynamic('tpep_pickup_datetime', every='1h')\n",
    "        .agg(pl.len().alias('trips'))\n",
    "        .with_columns(pl.col('tpep_pickup_datetime').dt.strftime('%H').alias('hour'))\n",
    ")\n",
    "\n",
    "result1.join(result2, on='hour')"
   ]
  },
  {
   "cell_type": "markdown",
   "id": "3ca21bb5",
   "metadata": {},
   "source": [
    "# Lazy API\n",
    "\n",
    "So far we've been showing the 'eager' api, that performs calculations 'as they come'.\n",
    "\n",
    "The **lazy** api works in a 'tell me what you want to do, and let me do it on my own' fashion"
   ]
  },
  {
   "cell_type": "code",
   "execution_count": 111,
   "id": "40db4eb8",
   "metadata": {},
   "outputs": [
    {
     "data": {
      "text/html": [
       "<h4>NAIVE QUERY PLAN</h4><p>run <b>LazyFrame.show_graph()</b> to see the optimized version</p><?xml version=\"1.0\" encoding=\"UTF-8\" standalone=\"no\"?>\n",
       "<!DOCTYPE svg PUBLIC \"-//W3C//DTD SVG 1.1//EN\"\n",
       " \"http://www.w3.org/Graphics/SVG/1.1/DTD/svg11.dtd\">\n",
       "<!-- Generated by graphviz version 12.0.0 (20240704.0754)\n",
       " -->\n",
       "<!-- Title: polars_query Pages: 1 -->\n",
       "<svg width=\"408pt\" height=\"49pt\"\n",
       " viewBox=\"0.00 0.00 408.00 49.00\" xmlns=\"http://www.w3.org/2000/svg\" xmlns:xlink=\"http://www.w3.org/1999/xlink\">\n",
       "<g id=\"graph0\" class=\"graph\" transform=\"scale(1 1) rotate(0) translate(4 45)\">\n",
       "<title>polars_query</title>\n",
       "<polygon fill=\"white\" stroke=\"none\" points=\"-4,4 -4,-45 404,-45 404,4 -4,4\"/>\n",
       "<!-- p1 -->\n",
       "<g id=\"node1\" class=\"node\">\n",
       "<title>p1</title>\n",
       "<polygon fill=\"none\" stroke=\"black\" points=\"400,-41 0,-41 0,0 400,0 400,-41\"/>\n",
       "<text text-anchor=\"middle\" x=\"200\" y=\"-23.7\" font-family=\"Times,serif\" font-size=\"14.00\">Csv SCAN [./limited&#45;memory&#45;example/yellow_tripdata_2015&#45;01.csv]</text>\n",
       "<text text-anchor=\"middle\" x=\"200\" y=\"-7.2\" font-family=\"Times,serif\" font-size=\"14.00\">π */19;</text>\n",
       "</g>\n",
       "</g>\n",
       "</svg>\n"
      ],
      "text/plain": [
       "<LazyFrame at 0x443132150>"
      ]
     },
     "execution_count": 111,
     "metadata": {},
     "output_type": "execute_result"
    }
   ],
   "source": [
    "lf = pl.scan_csv(_file_location)\n",
    "lf"
   ]
  },
  {
   "cell_type": "code",
   "execution_count": 112,
   "id": "90029c7d",
   "metadata": {},
   "outputs": [
    {
     "data": {
      "text/plain": [
       "polars.lazyframe.frame.LazyFrame"
      ]
     },
     "execution_count": 112,
     "metadata": {},
     "output_type": "execute_result"
    }
   ],
   "source": [
    "type(lf)"
   ]
  },
  {
   "cell_type": "code",
   "execution_count": 113,
   "id": "04368b95",
   "metadata": {},
   "outputs": [
    {
     "name": "stdout",
     "output_type": "stream",
     "text": [
      "Csv SCAN [./limited-memory-example/yellow_tripdata_2015-01.csv]\n",
      "PROJECT */19 COLUMNS\n"
     ]
    }
   ],
   "source": [
    "print(lf.explain())"
   ]
  },
  {
   "cell_type": "markdown",
   "id": "aa79e630",
   "metadata": {},
   "source": [
    "### What the hell is $\\pi */19$?\n",
    "\n",
    "It's part of **relational algebra** (the math behind SQL), and it means:\n",
    "- $\\pi$ is the projection operator (in this case it just means 'select')\n",
    "- ... the set of all rows * \n",
    "- ... over 19 columns"
   ]
  },
  {
   "cell_type": "code",
   "execution_count": 125,
   "id": "c1d98a5c",
   "metadata": {},
   "outputs": [],
   "source": [
    "lf = (\n",
    "    pl.scan_csv(_file_location)\n",
    "    .with_columns(pl.col('tpep_pickup_datetime').str.strptime(pl.Datetime, format=\"%Y-%m-%d %H:%M:%S\"))\n",
    "    .filter(pl.col('VendorID') == 1)\n",
    "    .sort('tpep_pickup_datetime')\n",
    "    .group_by_dynamic('tpep_pickup_datetime', every='1h')\n",
    "    .agg(\n",
    "        pl.len().alias('trips'),\n",
    "        pl.col('passenger_count').sum().alias('passengers'),\n",
    "        pl.col('trip_distance').sum().alias('distance_driven')\n",
    "    )\n",
    ")"
   ]
  },
  {
   "cell_type": "code",
   "execution_count": 115,
   "id": "55cad838",
   "metadata": {},
   "outputs": [
    {
     "data": {
      "image/svg+xml": [
       "<svg xmlns=\"http://www.w3.org/2000/svg\" xmlns:xlink=\"http://www.w3.org/1999/xlink\" width=\"730pt\" height=\"380pt\" viewBox=\"0.00 0.00 729.75 380.00\">\n",
       "<g id=\"graph0\" class=\"graph\" transform=\"scale(1 1) rotate(0) translate(4 376)\">\n",
       "<title>polars_query</title>\n",
       "<polygon fill=\"white\" stroke=\"none\" points=\"-4,4 -4,-376 725.75,-376 725.75,4 -4,4\"/>\n",
       "<!-- p1 -->\n",
       "<g id=\"node1\" class=\"node\">\n",
       "<title>p1</title>\n",
       "<polygon fill=\"none\" stroke=\"black\" points=\"721.75,-372 0,-372 0,-314.5 721.75,-314.5 721.75,-372\"/>\n",
       "<text text-anchor=\"middle\" x=\"360.88\" y=\"-354.7\" font-family=\"Times,serif\" font-size=\"14.00\">AGG [len().alias(&quot;trips&quot;), col(&quot;passenger_count&quot;).sum().alias(&quot;passengers&quot;), col(&quot;trip_distance&quot;).sum().alias(&quot;distance_driven&quot;)]</text>\n",
       "<text text-anchor=\"middle\" x=\"360.88\" y=\"-338.2\" font-family=\"Times,serif\" font-size=\"14.00\">BY</text>\n",
       "<text text-anchor=\"middle\" x=\"360.88\" y=\"-321.7\" font-family=\"Times,serif\" font-size=\"14.00\">[]</text>\n",
       "</g>\n",
       "<!-- p2 -->\n",
       "<g id=\"node2\" class=\"node\">\n",
       "<title>p2</title>\n",
       "<polygon fill=\"none\" stroke=\"black\" points=\"482.12,-278.5 239.62,-278.5 239.62,-242.5 482.12,-242.5 482.12,-278.5\"/>\n",
       "<text text-anchor=\"middle\" x=\"360.88\" y=\"-255.45\" font-family=\"Times,serif\" font-size=\"14.00\">SORT BY [col(&quot;tpep_pickup_datetime&quot;)]</text>\n",
       "</g>\n",
       "<!-- p1&#45;&#45;p2 -->\n",
       "<g id=\"edge1\" class=\"edge\">\n",
       "<title>p1--p2</title>\n",
       "<path fill=\"none\" stroke=\"black\" d=\"M360.88,-314.01C360.88,-302.18 360.88,-288.83 360.88,-278.54\"/>\n",
       "</g>\n",
       "<!-- p3 -->\n",
       "<g id=\"node3\" class=\"node\">\n",
       "<title>p3</title>\n",
       "<polygon fill=\"none\" stroke=\"black\" points=\"583,-206.5 138.75,-206.5 138.75,-170.5 583,-170.5 583,-206.5\"/>\n",
       "<text text-anchor=\"middle\" x=\"360.88\" y=\"-183.45\" font-family=\"Times,serif\" font-size=\"14.00\">WITH COLUMNS [col(&quot;tpep_pickup_datetime&quot;).str.strptime([String(raise)])]</text>\n",
       "</g>\n",
       "<!-- p2&#45;&#45;p3 -->\n",
       "<g id=\"edge2\" class=\"edge\">\n",
       "<title>p2--p3</title>\n",
       "<path fill=\"none\" stroke=\"black\" d=\"M360.88,-242.2C360.88,-231.35 360.88,-217.42 360.88,-206.6\"/>\n",
       "</g>\n",
       "<!-- p4 -->\n",
       "<g id=\"node4\" class=\"node\">\n",
       "<title>p4</title>\n",
       "<polygon fill=\"none\" stroke=\"black\" points=\"479.88,-134.5 241.88,-134.5 241.88,-93.5 479.88,-93.5 479.88,-134.5\"/>\n",
       "<text text-anchor=\"middle\" x=\"360.88\" y=\"-117.2\" font-family=\"Times,serif\" font-size=\"14.00\">simple π 4/4</text>\n",
       "<text text-anchor=\"middle\" x=\"360.88\" y=\"-100.7\" font-family=\"Times,serif\" font-size=\"14.00\">[&quot;passenger_count&quot;, ... 3 other columns]</text>\n",
       "</g>\n",
       "<!-- p3&#45;&#45;p4 -->\n",
       "<g id=\"edge3\" class=\"edge\">\n",
       "<title>p3--p4</title>\n",
       "<path fill=\"none\" stroke=\"black\" d=\"M360.88,-170.32C360.88,-159.68 360.88,-145.99 360.88,-134.88\"/>\n",
       "</g>\n",
       "<!-- p5 -->\n",
       "<g id=\"node5\" class=\"node\">\n",
       "<title>p5</title>\n",
       "<polygon fill=\"none\" stroke=\"black\" points=\"560.88,-57.5 160.88,-57.5 160.88,0 560.88,0 560.88,-57.5\"/>\n",
       "<text text-anchor=\"middle\" x=\"360.88\" y=\"-40.2\" font-family=\"Times,serif\" font-size=\"14.00\">Csv SCAN [./limited-memory-example/yellow_tripdata_2015-01.csv]</text>\n",
       "<text text-anchor=\"middle\" x=\"360.88\" y=\"-23.7\" font-family=\"Times,serif\" font-size=\"14.00\">π 4/19;</text>\n",
       "<text text-anchor=\"middle\" x=\"360.88\" y=\"-7.2\" font-family=\"Times,serif\" font-size=\"14.00\">σ [(col(&quot;VendorID&quot;)) == (1)]</text>\n",
       "</g>\n",
       "<!-- p4&#45;&#45;p5 -->\n",
       "<g id=\"edge4\" class=\"edge\">\n",
       "<title>p4--p5</title>\n",
       "<path fill=\"none\" stroke=\"black\" d=\"M360.88,-93.27C360.88,-82.69 360.88,-69.48 360.88,-57.84\"/>\n",
       "</g>\n",
       "</g>\n",
       "</svg>"
      ],
      "text/plain": [
       "<IPython.core.display.SVG object>"
      ]
     },
     "metadata": {},
     "output_type": "display_data"
    }
   ],
   "source": [
    "lf.show_graph()"
   ]
  },
  {
   "cell_type": "markdown",
   "id": "e4aafcc2",
   "metadata": {},
   "source": [
    "The $\\sigma$ operator is another of operation in Relational Algebra that is related to filters."
   ]
  },
  {
   "cell_type": "markdown",
   "id": "80de7618",
   "metadata": {},
   "source": [
    "### What can we know about the LazyFrame without materializing it?"
   ]
  },
  {
   "cell_type": "markdown",
   "id": "020559b0",
   "metadata": {},
   "source": [
    "#### <font color='red'>Materialization Warning:</font> calling `columns` will perform materialization"
   ]
  },
  {
   "cell_type": "code",
   "execution_count": 116,
   "id": "ec582a7f",
   "metadata": {},
   "outputs": [
    {
     "name": "stdout",
     "output_type": "stream",
     "text": [
      "CPU times: user 810 µs, sys: 2.98 ms, total: 3.79 ms\n",
      "Wall time: 3.52 ms\n"
     ]
    },
    {
     "name": "stderr",
     "output_type": "stream",
     "text": [
      "<timed eval>:1: PerformanceWarning: Determining the column names of a LazyFrame requires resolving its schema, which is a potentially expensive operation. Use `LazyFrame.collect_schema().names()` to get the column names without this warning.\n"
     ]
    },
    {
     "data": {
      "text/plain": [
       "['tpep_pickup_datetime', 'trips', 'passengers', 'distance_driven']"
      ]
     },
     "execution_count": 116,
     "metadata": {},
     "output_type": "execute_result"
    }
   ],
   "source": [
    "# should warn with PerformanceWarning\n",
    "%time lf.columns"
   ]
  },
  {
   "cell_type": "code",
   "execution_count": 117,
   "id": "4b451562",
   "metadata": {},
   "outputs": [
    {
     "name": "stdout",
     "output_type": "stream",
     "text": [
      "CPU times: user 45 µs, sys: 7 µs, total: 52 µs\n",
      "Wall time: 49.8 µs\n"
     ]
    },
    {
     "data": {
      "text/plain": [
       "Schema([('tpep_pickup_datetime', Datetime(time_unit='us', time_zone=None)),\n",
       "        ('trips', UInt32),\n",
       "        ('passengers', Int64),\n",
       "        ('distance_driven', Float64)])"
      ]
     },
     "execution_count": 117,
     "metadata": {},
     "output_type": "execute_result"
    }
   ],
   "source": [
    "# better to use 'collect_schema'\n",
    "%time lf.collect_schema()"
   ]
  },
  {
   "cell_type": "markdown",
   "id": "be9cd492",
   "metadata": {},
   "source": [
    "### But there's no data here, just instructions. So using indices for example, will result in an error"
   ]
  },
  {
   "cell_type": "code",
   "execution_count": 118,
   "id": "7f6adb8a",
   "metadata": {},
   "outputs": [
    {
     "ename": "TypeError",
     "evalue": "'LazyFrame' object is not subscriptable (aside from slicing)\n\nUse `select()` or `filter()` instead.",
     "output_type": "error",
     "traceback": [
      "\u001b[0;31m---------------------------------------------------------------------------\u001b[0m",
      "\u001b[0;31mTypeError\u001b[0m                                 Traceback (most recent call last)",
      "Cell \u001b[0;32mIn[118], line 1\u001b[0m\n\u001b[0;32m----> 1\u001b[0m \u001b[43mlf\u001b[49m\u001b[43m[\u001b[49m\u001b[38;5;241;43m0\u001b[39;49m\u001b[43m:\u001b[49m\u001b[38;5;241;43m1\u001b[39;49m\u001b[43m,\u001b[49m\u001b[38;5;124;43m'\u001b[39;49m\u001b[38;5;124;43mtrips\u001b[39;49m\u001b[38;5;124;43m'\u001b[39;49m\u001b[43m]\u001b[49m \u001b[38;5;66;03m# this should fail\u001b[39;00m\n",
      "File \u001b[0;32m/Library/Frameworks/Python.framework/Versions/3.11/lib/python3.11/site-packages/polars/lazyframe/frame.py:620\u001b[0m, in \u001b[0;36mLazyFrame.__getitem__\u001b[0;34m(self, item)\u001b[0m\n\u001b[1;32m    615\u001b[0m \u001b[38;5;28;01mif\u001b[39;00m \u001b[38;5;129;01mnot\u001b[39;00m \u001b[38;5;28misinstance\u001b[39m(item, \u001b[38;5;28mslice\u001b[39m):\n\u001b[1;32m    616\u001b[0m     msg \u001b[38;5;241m=\u001b[39m (\n\u001b[1;32m    617\u001b[0m         \u001b[38;5;124m\"\u001b[39m\u001b[38;5;124m'\u001b[39m\u001b[38;5;124mLazyFrame\u001b[39m\u001b[38;5;124m'\u001b[39m\u001b[38;5;124m object is not subscriptable (aside from slicing)\u001b[39m\u001b[38;5;124m\"\u001b[39m\n\u001b[1;32m    618\u001b[0m         \u001b[38;5;124m\"\u001b[39m\u001b[38;5;130;01m\\n\u001b[39;00m\u001b[38;5;130;01m\\n\u001b[39;00m\u001b[38;5;124mUse `select()` or `filter()` instead.\u001b[39m\u001b[38;5;124m\"\u001b[39m\n\u001b[1;32m    619\u001b[0m     )\n\u001b[0;32m--> 620\u001b[0m     \u001b[38;5;28;01mraise\u001b[39;00m \u001b[38;5;167;01mTypeError\u001b[39;00m(msg)\n\u001b[1;32m    621\u001b[0m \u001b[38;5;28;01mreturn\u001b[39;00m LazyPolarsSlice(\u001b[38;5;28mself\u001b[39m)\u001b[38;5;241m.\u001b[39mapply(item)\n",
      "\u001b[0;31mTypeError\u001b[0m: 'LazyFrame' object is not subscriptable (aside from slicing)\n\nUse `select()` or `filter()` instead."
     ]
    }
   ],
   "source": [
    "lf[0:1,'trips'] # this should fail"
   ]
  },
  {
   "cell_type": "markdown",
   "id": "5e0313ea",
   "metadata": {},
   "source": [
    "### Materialization has to be explicit, using `collect` to get a `polars.DataFrame`"
   ]
  },
  {
   "cell_type": "code",
   "execution_count": 119,
   "id": "9c2eba18",
   "metadata": {},
   "outputs": [
    {
     "name": "stdout",
     "output_type": "stream",
     "text": [
      "CPU times: user 2.8 s, sys: 1.45 s, total: 4.25 s\n",
      "Wall time: 5.09 s\n"
     ]
    }
   ],
   "source": [
    "%time lazy_result = lf.collect()"
   ]
  },
  {
   "cell_type": "code",
   "execution_count": 126,
   "id": "1c9c2327",
   "metadata": {},
   "outputs": [],
   "source": [
    "def eager_time_test():\n",
    "    return (\n",
    "        pl.read_csv(_file_location)\n",
    "        .with_columns(pl.col('tpep_pickup_datetime').str.strptime(pl.Datetime, format=\"%Y-%m-%d %H:%M:%S\"))\n",
    "        .filter(pl.col('VendorID') == 1)\n",
    "        .sort('tpep_pickup_datetime')\n",
    "        .group_by_dynamic('tpep_pickup_datetime', every='1h')\n",
    "        .agg(\n",
    "            pl.len().alias('trips'),\n",
    "            pl.col('passenger_count').sum().alias('passengers'),\n",
    "            pl.col('trip_distance').sum().alias('distance_driven')\n",
    "        )\n",
    "    )"
   ]
  },
  {
   "cell_type": "code",
   "execution_count": 127,
   "id": "0350353c",
   "metadata": {},
   "outputs": [
    {
     "name": "stdout",
     "output_type": "stream",
     "text": [
      "CPU times: user 6.99 s, sys: 5.17 s, total: 12.2 s\n",
      "Wall time: 6.8 s\n"
     ]
    }
   ],
   "source": [
    "%time eager_result = eager_time_test()"
   ]
  },
  {
   "cell_type": "code",
   "execution_count": 128,
   "id": "0490dc1d",
   "metadata": {},
   "outputs": [
    {
     "name": "stdout",
     "output_type": "stream",
     "text": [
      "CPU times: user 2.77 s, sys: 755 ms, total: 3.52 s\n",
      "Wall time: 1.86 s\n"
     ]
    }
   ],
   "source": [
    "%time lazy_result = lf.collect() "
   ]
  },
  {
   "cell_type": "code",
   "execution_count": 129,
   "id": "b427ed0d",
   "metadata": {},
   "outputs": [
    {
     "data": {
      "text/html": [
       "<div><style>\n",
       ".dataframe > thead > tr,\n",
       ".dataframe > tbody > tr {\n",
       "  text-align: right;\n",
       "  white-space: pre-wrap;\n",
       "}\n",
       "</style>\n",
       "<small>shape: (5, 4)</small><table border=\"1\" class=\"dataframe\"><thead><tr><th>tpep_pickup_datetime</th><th>trips</th><th>passengers</th><th>distance_driven</th></tr><tr><td>datetime[μs]</td><td>u32</td><td>i64</td><td>f64</td></tr></thead><tbody><tr><td>2015-01-01 00:00:00</td><td>13595</td><td>21022</td><td>39068.9</td></tr><tr><td>2015-01-01 01:00:00</td><td>15116</td><td>23574</td><td>47001.2</td></tr><tr><td>2015-01-01 02:00:00</td><td>13427</td><td>20672</td><td>43036.7</td></tr><tr><td>2015-01-01 03:00:00</td><td>11705</td><td>17515</td><td>39993.0</td></tr><tr><td>2015-01-01 04:00:00</td><td>8070</td><td>11661</td><td>29299.7</td></tr></tbody></table></div>"
      ],
      "text/plain": [
       "shape: (5, 4)\n",
       "┌──────────────────────┬───────┬────────────┬─────────────────┐\n",
       "│ tpep_pickup_datetime ┆ trips ┆ passengers ┆ distance_driven │\n",
       "│ ---                  ┆ ---   ┆ ---        ┆ ---             │\n",
       "│ datetime[μs]         ┆ u32   ┆ i64        ┆ f64             │\n",
       "╞══════════════════════╪═══════╪════════════╪═════════════════╡\n",
       "│ 2015-01-01 00:00:00  ┆ 13595 ┆ 21022      ┆ 39068.9         │\n",
       "│ 2015-01-01 01:00:00  ┆ 15116 ┆ 23574      ┆ 47001.2         │\n",
       "│ 2015-01-01 02:00:00  ┆ 13427 ┆ 20672      ┆ 43036.7         │\n",
       "│ 2015-01-01 03:00:00  ┆ 11705 ┆ 17515      ┆ 39993.0         │\n",
       "│ 2015-01-01 04:00:00  ┆ 8070  ┆ 11661      ┆ 29299.7         │\n",
       "└──────────────────────┴───────┴────────────┴─────────────────┘"
      ]
     },
     "execution_count": 129,
     "metadata": {},
     "output_type": "execute_result"
    }
   ],
   "source": [
    "lazy_result.head()"
   ]
  },
  {
   "cell_type": "code",
   "execution_count": 130,
   "id": "f12f8cad",
   "metadata": {},
   "outputs": [
    {
     "data": {
      "text/html": [
       "<div><style>\n",
       ".dataframe > thead > tr,\n",
       ".dataframe > tbody > tr {\n",
       "  text-align: right;\n",
       "  white-space: pre-wrap;\n",
       "}\n",
       "</style>\n",
       "<small>shape: (5, 4)</small><table border=\"1\" class=\"dataframe\"><thead><tr><th>tpep_pickup_datetime</th><th>trips</th><th>passengers</th><th>distance_driven</th></tr><tr><td>datetime[μs]</td><td>u32</td><td>i64</td><td>f64</td></tr></thead><tbody><tr><td>2015-01-01 00:00:00</td><td>13595</td><td>21022</td><td>39068.9</td></tr><tr><td>2015-01-01 01:00:00</td><td>15116</td><td>23574</td><td>47001.2</td></tr><tr><td>2015-01-01 02:00:00</td><td>13427</td><td>20672</td><td>43036.7</td></tr><tr><td>2015-01-01 03:00:00</td><td>11705</td><td>17515</td><td>39993.0</td></tr><tr><td>2015-01-01 04:00:00</td><td>8070</td><td>11661</td><td>29299.7</td></tr></tbody></table></div>"
      ],
      "text/plain": [
       "shape: (5, 4)\n",
       "┌──────────────────────┬───────┬────────────┬─────────────────┐\n",
       "│ tpep_pickup_datetime ┆ trips ┆ passengers ┆ distance_driven │\n",
       "│ ---                  ┆ ---   ┆ ---        ┆ ---             │\n",
       "│ datetime[μs]         ┆ u32   ┆ i64        ┆ f64             │\n",
       "╞══════════════════════╪═══════╪════════════╪═════════════════╡\n",
       "│ 2015-01-01 00:00:00  ┆ 13595 ┆ 21022      ┆ 39068.9         │\n",
       "│ 2015-01-01 01:00:00  ┆ 15116 ┆ 23574      ┆ 47001.2         │\n",
       "│ 2015-01-01 02:00:00  ┆ 13427 ┆ 20672      ┆ 43036.7         │\n",
       "│ 2015-01-01 03:00:00  ┆ 11705 ┆ 17515      ┆ 39993.0         │\n",
       "│ 2015-01-01 04:00:00  ┆ 8070  ┆ 11661      ┆ 29299.7         │\n",
       "└──────────────────────┴───────┴────────────┴─────────────────┘"
      ]
     },
     "execution_count": 130,
     "metadata": {},
     "output_type": "execute_result"
    }
   ],
   "source": [
    "eager_result.head()"
   ]
  },
  {
   "cell_type": "code",
   "execution_count": 131,
   "id": "448b6dc3",
   "metadata": {},
   "outputs": [
    {
     "data": {
      "text/plain": [
       "True"
      ]
     },
     "execution_count": 131,
     "metadata": {},
     "output_type": "execute_result"
    }
   ],
   "source": [
    "lazy_result.equals(eager_result)"
   ]
  },
  {
   "cell_type": "markdown",
   "id": "df2bea26",
   "metadata": {},
   "source": [
    "### Profiling"
   ]
  },
  {
   "cell_type": "code",
   "execution_count": 132,
   "id": "b593a7a4",
   "metadata": {},
   "outputs": [
    {
     "data": {
      "image/png": "[encoded data removed]",
      "text/plain": [
       "<Figure size 1800x800 with 1 Axes>"
      ]
     },
     "metadata": {},
     "output_type": "display_data"
    }
   ],
   "source": [
    "result, profile_result = lf.profile(show_plot=True)"
   ]
  },
  {
   "cell_type": "code",
   "execution_count": 133,
   "id": "9efb5217",
   "metadata": {},
   "outputs": [
    {
     "data": {
      "text/html": [
       "<div><style>\n",
       ".dataframe > thead > tr,\n",
       ".dataframe > tbody > tr {\n",
       "  text-align: right;\n",
       "  white-space: pre-wrap;\n",
       "}\n",
       "</style>\n",
       "<small>shape: (6, 3)</small><table border=\"1\" class=\"dataframe\"><thead><tr><th>node</th><th>start</th><th>end</th></tr><tr><td>str</td><td>u64</td><td>u64</td></tr></thead><tbody><tr><td>&quot;optimization&quot;</td><td>0</td><td>71</td></tr><tr><td>&quot;csv(./limited-memory-example/y…</td><td>71</td><td>4111809</td></tr><tr><td>&quot;simple-projection(passenger_co…</td><td>4112026</td><td>4112426</td></tr><tr><td>&quot;with_column(tpep_pickup_dateti…</td><td>4112899</td><td>4161896</td></tr><tr><td>&quot;sort(tpep_pickup_datetime)&quot;</td><td>4161966</td><td>4326842</td></tr><tr><td>&quot;group_by_dynami)&quot;</td><td>4326847</td><td>4348692</td></tr></tbody></table></div>"
      ],
      "text/plain": [
       "shape: (6, 3)\n",
       "┌─────────────────────────────────┬─────────┬─────────┐\n",
       "│ node                            ┆ start   ┆ end     │\n",
       "│ ---                             ┆ ---     ┆ ---     │\n",
       "│ str                             ┆ u64     ┆ u64     │\n",
       "╞═════════════════════════════════╪═════════╪═════════╡\n",
       "│ optimization                    ┆ 0       ┆ 71      │\n",
       "│ csv(./limited-memory-example/y… ┆ 71      ┆ 4111809 │\n",
       "│ simple-projection(passenger_co… ┆ 4112026 ┆ 4112426 │\n",
       "│ with_column(tpep_pickup_dateti… ┆ 4112899 ┆ 4161896 │\n",
       "│ sort(tpep_pickup_datetime)      ┆ 4161966 ┆ 4326842 │\n",
       "│ group_by_dynami)                ┆ 4326847 ┆ 4348692 │\n",
       "└─────────────────────────────────┴─────────┴─────────┘"
      ]
     },
     "execution_count": 133,
     "metadata": {},
     "output_type": "execute_result"
    }
   ],
   "source": [
    "profile_result"
   ]
  },
  {
   "cell_type": "code",
   "execution_count": 134,
   "id": "1b7330fd",
   "metadata": {},
   "outputs": [
    {
     "data": {
      "image/png": "[encoded data removed]",
      "text/plain": [
       "<Figure size 1800x800 with 1 Axes>"
      ]
     },
     "metadata": {},
     "output_type": "display_data"
    }
   ],
   "source": [
    "_, profile_result = lf.profile(show_plot=True, predicate_pushdown=False, projection_pushdown=False)"
   ]
  },
  {
   "cell_type": "code",
   "execution_count": 135,
   "id": "2d0ff452",
   "metadata": {},
   "outputs": [
    {
     "data": {
      "text/html": [
       "<div><style>\n",
       ".dataframe > thead > tr,\n",
       ".dataframe > tbody > tr {\n",
       "  text-align: right;\n",
       "  white-space: pre-wrap;\n",
       "}\n",
       "</style>\n",
       "<small>shape: (6, 3)</small><table border=\"1\" class=\"dataframe\"><thead><tr><th>node</th><th>start</th><th>end</th></tr><tr><td>str</td><td>u64</td><td>u64</td></tr></thead><tbody><tr><td>&quot;optimization&quot;</td><td>0</td><td>2415</td></tr><tr><td>&quot;csv(./limited-memory-example/y…</td><td>2415</td><td>3053224</td></tr><tr><td>&quot;with_column(tpep_pickup_dateti…</td><td>3053466</td><td>3204566</td></tr><tr><td>&quot;.filter([(col(&quot;VendorID&quot;)) == …</td><td>3205057</td><td>3628395</td></tr><tr><td>&quot;sort(tpep_pickup_datetime)&quot;</td><td>3628421</td><td>4520664</td></tr><tr><td>&quot;group_by_dynami)&quot;</td><td>4520689</td><td>4577502</td></tr></tbody></table></div>"
      ],
      "text/plain": [
       "shape: (6, 3)\n",
       "┌─────────────────────────────────┬─────────┬─────────┐\n",
       "│ node                            ┆ start   ┆ end     │\n",
       "│ ---                             ┆ ---     ┆ ---     │\n",
       "│ str                             ┆ u64     ┆ u64     │\n",
       "╞═════════════════════════════════╪═════════╪═════════╡\n",
       "│ optimization                    ┆ 0       ┆ 2415    │\n",
       "│ csv(./limited-memory-example/y… ┆ 2415    ┆ 3053224 │\n",
       "│ with_column(tpep_pickup_dateti… ┆ 3053466 ┆ 3204566 │\n",
       "│ .filter([(col(\"VendorID\")) == … ┆ 3205057 ┆ 3628395 │\n",
       "│ sort(tpep_pickup_datetime)      ┆ 3628421 ┆ 4520664 │\n",
       "│ group_by_dynami)                ┆ 4520689 ┆ 4577502 │\n",
       "└─────────────────────────────────┴─────────┴─────────┘"
      ]
     },
     "execution_count": 135,
     "metadata": {},
     "output_type": "execute_result"
    }
   ],
   "source": [
    "profile_result"
   ]
  },
  {
   "cell_type": "markdown",
   "id": "954e46ee",
   "metadata": {},
   "source": [
    "### Directly creating LazyDataFrame"
   ]
  },
  {
   "cell_type": "code",
   "execution_count": 136,
   "id": "9ac3c6d3",
   "metadata": {},
   "outputs": [
    {
     "data": {
      "text/html": [
       "<h4>NAIVE QUERY PLAN</h4><p>run <b>LazyFrame.show_graph()</b> to see the optimized version</p><?xml version=\"1.0\" encoding=\"UTF-8\" standalone=\"no\"?>\n",
       "<!DOCTYPE svg PUBLIC \"-//W3C//DTD SVG 1.1//EN\"\n",
       " \"http://www.w3.org/Graphics/SVG/1.1/DTD/svg11.dtd\">\n",
       "<!-- Generated by graphviz version 12.0.0 (20240704.0754)\n",
       " -->\n",
       "<!-- Title: polars_query Pages: 1 -->\n",
       "<svg width=\"68pt\" height=\"66pt\"\n",
       " viewBox=\"0.00 0.00 67.50 65.50\" xmlns=\"http://www.w3.org/2000/svg\" xmlns:xlink=\"http://www.w3.org/1999/xlink\">\n",
       "<g id=\"graph0\" class=\"graph\" transform=\"scale(1 1) rotate(0) translate(4 61.5)\">\n",
       "<title>polars_query</title>\n",
       "<polygon fill=\"white\" stroke=\"none\" points=\"-4,4 -4,-61.5 63.5,-61.5 63.5,4 -4,4\"/>\n",
       "<!-- p1 -->\n",
       "<g id=\"node1\" class=\"node\">\n",
       "<title>p1</title>\n",
       "<polygon fill=\"none\" stroke=\"black\" points=\"59.5,-57.5 0,-57.5 0,0 59.5,0 59.5,-57.5\"/>\n",
       "<text text-anchor=\"middle\" x=\"29.75\" y=\"-40.2\" font-family=\"Times,serif\" font-size=\"14.00\">TABLE</text>\n",
       "<text text-anchor=\"middle\" x=\"29.75\" y=\"-23.7\" font-family=\"Times,serif\" font-size=\"14.00\">π */1;</text>\n",
       "<text text-anchor=\"middle\" x=\"29.75\" y=\"-7.2\" font-family=\"Times,serif\" font-size=\"14.00\">σ None</text>\n",
       "</g>\n",
       "</g>\n",
       "</svg>\n"
      ],
      "text/plain": [
       "<LazyFrame at 0x307C3E710>"
      ]
     },
     "execution_count": 136,
     "metadata": {},
     "output_type": "execute_result"
    }
   ],
   "source": [
    "pl.DataFrame({'a': [1,2,3]}).lazy()"
   ]
  },
  {
   "cell_type": "markdown",
   "id": "aae7674b",
   "metadata": {},
   "source": [
    "## SQL API (Lazy by definition)"
   ]
  },
  {
   "cell_type": "markdown",
   "id": "bafa942a",
   "metadata": {},
   "source": [
    "<img src=\"./sql_api.png\" width=\"400\" height=\"400\"></img>"
   ]
  },
  {
   "cell_type": "code",
   "execution_count": 137,
   "id": "25f980d3",
   "metadata": {},
   "outputs": [],
   "source": [
    "result1 = (\n",
    "    df.filter(pl.col('month_day') == 1)\n",
    "        .sort('tpep_pickup_datetime')\n",
    "        .group_by_dynamic('tpep_pickup_datetime', every='1h')\n",
    "        .agg(\n",
    "            pl.len().alias('trips'),\n",
    "            pl.col('passenger_count').sum().alias('passengers'),\n",
    "            pl.col('trip_distance').sum().alias('distance_driven')\n",
    "        )\n",
    "    .with_columns(pl.col('tpep_pickup_datetime').dt.strftime('%H').alias('hour'))\n",
    ")\n"
   ]
  },
  {
   "cell_type": "code",
   "execution_count": 138,
   "id": "0c3549f5",
   "metadata": {},
   "outputs": [
    {
     "data": {
      "text/html": [
       "<div><style>\n",
       ".dataframe > thead > tr,\n",
       ".dataframe > tbody > tr {\n",
       "  text-align: right;\n",
       "  white-space: pre-wrap;\n",
       "}\n",
       "</style>\n",
       "<small>shape: (24, 5)</small><table border=\"1\" class=\"dataframe\"><thead><tr><th>tpep_pickup_datetime</th><th>trips</th><th>passengers</th><th>distance_driven</th><th>hour</th></tr><tr><td>datetime[ms]</td><td>u32</td><td>i64</td><td>f64</td><td>str</td></tr></thead><tbody><tr><td>2015-01-01 00:00:00</td><td>28312</td><td>51700</td><td>82489.09</td><td>&quot;00&quot;</td></tr><tr><td>2015-01-01 01:00:00</td><td>31707</td><td>58584</td><td>99258.12</td><td>&quot;01&quot;</td></tr><tr><td>2015-01-01 02:00:00</td><td>28068</td><td>51507</td><td>91865.7</td><td>&quot;02&quot;</td></tr><tr><td>2015-01-01 03:00:00</td><td>24288</td><td>44134</td><td>84036.57</td><td>&quot;03&quot;</td></tr><tr><td>2015-01-01 04:00:00</td><td>17081</td><td>30799</td><td>63055.28</td><td>&quot;04&quot;</td></tr><tr><td>&hellip;</td><td>&hellip;</td><td>&hellip;</td><td>&hellip;</td><td>&hellip;</td></tr><tr><td>2015-01-01 19:00:00</td><td>16485</td><td>29930</td><td>45510.07</td><td>&quot;19&quot;</td></tr><tr><td>2015-01-01 20:00:00</td><td>15017</td><td>27319</td><td>46798.67</td><td>&quot;20&quot;</td></tr><tr><td>2015-01-01 21:00:00</td><td>14801</td><td>26886</td><td>44651.48</td><td>&quot;21&quot;</td></tr><tr><td>2015-01-01 22:00:00</td><td>14005</td><td>25263</td><td>43666.51</td><td>&quot;22&quot;</td></tr><tr><td>2015-01-01 23:00:00</td><td>11610</td><td>20620</td><td>39241.84</td><td>&quot;23&quot;</td></tr></tbody></table></div>"
      ],
      "text/plain": [
       "shape: (24, 5)\n",
       "┌──────────────────────┬───────┬────────────┬─────────────────┬──────┐\n",
       "│ tpep_pickup_datetime ┆ trips ┆ passengers ┆ distance_driven ┆ hour │\n",
       "│ ---                  ┆ ---   ┆ ---        ┆ ---             ┆ ---  │\n",
       "│ datetime[ms]         ┆ u32   ┆ i64        ┆ f64             ┆ str  │\n",
       "╞══════════════════════╪═══════╪════════════╪═════════════════╪══════╡\n",
       "│ 2015-01-01 00:00:00  ┆ 28312 ┆ 51700      ┆ 82489.09        ┆ 00   │\n",
       "│ 2015-01-01 01:00:00  ┆ 31707 ┆ 58584      ┆ 99258.12        ┆ 01   │\n",
       "│ 2015-01-01 02:00:00  ┆ 28068 ┆ 51507      ┆ 91865.7         ┆ 02   │\n",
       "│ 2015-01-01 03:00:00  ┆ 24288 ┆ 44134      ┆ 84036.57        ┆ 03   │\n",
       "│ 2015-01-01 04:00:00  ┆ 17081 ┆ 30799      ┆ 63055.28        ┆ 04   │\n",
       "│ …                    ┆ …     ┆ …          ┆ …               ┆ …    │\n",
       "│ 2015-01-01 19:00:00  ┆ 16485 ┆ 29930      ┆ 45510.07        ┆ 19   │\n",
       "│ 2015-01-01 20:00:00  ┆ 15017 ┆ 27319      ┆ 46798.67        ┆ 20   │\n",
       "│ 2015-01-01 21:00:00  ┆ 14801 ┆ 26886      ┆ 44651.48        ┆ 21   │\n",
       "│ 2015-01-01 22:00:00  ┆ 14005 ┆ 25263      ┆ 43666.51        ┆ 22   │\n",
       "│ 2015-01-01 23:00:00  ┆ 11610 ┆ 20620      ┆ 39241.84        ┆ 23   │\n",
       "└──────────────────────┴───────┴────────────┴─────────────────┴──────┘"
      ]
     },
     "execution_count": 138,
     "metadata": {},
     "output_type": "execute_result"
    }
   ],
   "source": [
    "result1"
   ]
  },
  {
   "cell_type": "code",
   "execution_count": 142,
   "id": "08f27302",
   "metadata": {},
   "outputs": [
    {
     "data": {
      "text/html": [
       "<h4>NAIVE QUERY PLAN</h4><p>run <b>LazyFrame.show_graph()</b> to see the optimized version</p><?xml version=\"1.0\" encoding=\"UTF-8\" standalone=\"no\"?>\n",
       "<!DOCTYPE svg PUBLIC \"-//W3C//DTD SVG 1.1//EN\"\n",
       " \"http://www.w3.org/Graphics/SVG/1.1/DTD/svg11.dtd\">\n",
       "<!-- Generated by graphviz version 12.0.0 (20240704.0754)\n",
       " -->\n",
       "<!-- Title: polars_query Pages: 1 -->\n",
       "<svg width=\"68pt\" height=\"138pt\"\n",
       " viewBox=\"0.00 0.00 67.50 137.50\" xmlns=\"http://www.w3.org/2000/svg\" xmlns:xlink=\"http://www.w3.org/1999/xlink\">\n",
       "<g id=\"graph0\" class=\"graph\" transform=\"scale(1 1) rotate(0) translate(4 133.5)\">\n",
       "<title>polars_query</title>\n",
       "<polygon fill=\"white\" stroke=\"none\" points=\"-4,4 -4,-133.5 63.5,-133.5 63.5,4 -4,4\"/>\n",
       "<!-- p1 -->\n",
       "<g id=\"node1\" class=\"node\">\n",
       "<title>p1</title>\n",
       "<polygon fill=\"none\" stroke=\"black\" points=\"56.75,-129.5 2.75,-129.5 2.75,-93.5 56.75,-93.5 56.75,-129.5\"/>\n",
       "<text text-anchor=\"middle\" x=\"29.75\" y=\"-106.45\" font-family=\"Times,serif\" font-size=\"14.00\">π 1/1</text>\n",
       "</g>\n",
       "<!-- p2 -->\n",
       "<g id=\"node2\" class=\"node\">\n",
       "<title>p2</title>\n",
       "<polygon fill=\"none\" stroke=\"black\" points=\"59.5,-57.5 0,-57.5 0,0 59.5,0 59.5,-57.5\"/>\n",
       "<text text-anchor=\"middle\" x=\"29.75\" y=\"-40.2\" font-family=\"Times,serif\" font-size=\"14.00\">TABLE</text>\n",
       "<text text-anchor=\"middle\" x=\"29.75\" y=\"-23.7\" font-family=\"Times,serif\" font-size=\"14.00\">π */5;</text>\n",
       "<text text-anchor=\"middle\" x=\"29.75\" y=\"-7.2\" font-family=\"Times,serif\" font-size=\"14.00\">σ None</text>\n",
       "</g>\n",
       "<!-- p1&#45;&#45;p2 -->\n",
       "<g id=\"edge1\" class=\"edge\">\n",
       "<title>p1&#45;&#45;p2</title>\n",
       "<path fill=\"none\" stroke=\"black\" d=\"M29.75,-93.38C29.75,-83.1 29.75,-69.77 29.75,-57.97\"/>\n",
       "</g>\n",
       "</g>\n",
       "</svg>\n"
      ],
      "text/plain": [
       "<LazyFrame at 0x307CE5350>"
      ]
     },
     "execution_count": 142,
     "metadata": {},
     "output_type": "execute_result"
    }
   ],
   "source": [
    "pl.sql(\"\"\"select avg(distance_driven) as avg_distance from result1\"\"\")"
   ]
  },
  {
   "cell_type": "code",
   "execution_count": 143,
   "id": "02777d52",
   "metadata": {},
   "outputs": [
    {
     "data": {
      "text/html": [
       "<div><style>\n",
       ".dataframe > thead > tr,\n",
       ".dataframe > tbody > tr {\n",
       "  text-align: right;\n",
       "  white-space: pre-wrap;\n",
       "}\n",
       "</style>\n",
       "<small>shape: (1, 1)</small><table border=\"1\" class=\"dataframe\"><thead><tr><th>avg_distance</th></tr><tr><td>f64</td></tr></thead><tbody><tr><td>51498.824583</td></tr></tbody></table></div>"
      ],
      "text/plain": [
       "shape: (1, 1)\n",
       "┌──────────────┐\n",
       "│ avg_distance │\n",
       "│ ---          │\n",
       "│ f64          │\n",
       "╞══════════════╡\n",
       "│ 51498.824583 │\n",
       "└──────────────┘"
      ]
     },
     "execution_count": 143,
     "metadata": {},
     "output_type": "execute_result"
    }
   ],
   "source": [
    "pl.sql(\"\"\"select avg(distance_driven) as avg_distance from result1\"\"\").collect()"
   ]
  },
  {
   "cell_type": "code",
   "execution_count": 144,
   "id": "867ae9b6",
   "metadata": {},
   "outputs": [],
   "source": [
    "result2 = (\n",
    "    df.filter(pl.col('month_day') == 3) # <-- 2nd day\n",
    "        .sort('tpep_pickup_datetime')\n",
    "        .group_by_dynamic('tpep_pickup_datetime', every='1h')\n",
    "        .agg(\n",
    "            pl.len().alias('trips'),\n",
    "            pl.col('passenger_count').sum().alias('passengers'),\n",
    "            pl.col('trip_distance').sum().alias('distance_driven')\n",
    "        )\n",
    "    .with_columns(pl.col('tpep_pickup_datetime').dt.strftime('%H').alias('hour'))\n",
    ")"
   ]
  },
  {
   "cell_type": "code",
   "execution_count": 145,
   "id": "2c8c9372",
   "metadata": {},
   "outputs": [],
   "source": [
    "result = pl.sql(\"\"\"\n",
    "    select \n",
    "        t1.hour, \n",
    "        t1.distance_driven as dist1, \n",
    "        t2.distance_driven as dist2\n",
    "    from result1 as t1 join result2 as t2 on t1.hour = t2.hour\n",
    "    order by 1\n",
    "\"\"\")\n",
    "\n",
    "mat = result.collect()"
   ]
  },
  {
   "cell_type": "code",
   "execution_count": 146,
   "id": "1e777397",
   "metadata": {},
   "outputs": [
    {
     "data": {
      "text/html": [
       "<div><style>\n",
       ".dataframe > thead > tr,\n",
       ".dataframe > tbody > tr {\n",
       "  text-align: right;\n",
       "  white-space: pre-wrap;\n",
       "}\n",
       "</style>\n",
       "<small>shape: (24, 3)</small><table border=\"1\" class=\"dataframe\"><thead><tr><th>hour</th><th>dist1</th><th>dist2</th></tr><tr><td>str</td><td>f64</td><td>f64</td></tr></thead><tbody><tr><td>&quot;00&quot;</td><td>82489.09</td><td>59056.22</td></tr><tr><td>&quot;01&quot;</td><td>99258.12</td><td>49830.61</td></tr><tr><td>&quot;02&quot;</td><td>91865.7</td><td>41690.15</td></tr><tr><td>&quot;03&quot;</td><td>84036.57</td><td>35877.24</td></tr><tr><td>&quot;04&quot;</td><td>63055.28</td><td>28130.54</td></tr><tr><td>&hellip;</td><td>&hellip;</td><td>&hellip;</td></tr><tr><td>&quot;19&quot;</td><td>45510.07</td><td>3240988.5</td></tr><tr><td>&quot;20&quot;</td><td>46798.67</td><td>54915.04</td></tr><tr><td>&quot;21&quot;</td><td>44651.48</td><td>56920.38</td></tr><tr><td>&quot;22&quot;</td><td>43666.51</td><td>64932.34</td></tr><tr><td>&quot;23&quot;</td><td>39241.84</td><td>201639.07</td></tr></tbody></table></div>"
      ],
      "text/plain": [
       "shape: (24, 3)\n",
       "┌──────┬──────────┬───────────┐\n",
       "│ hour ┆ dist1    ┆ dist2     │\n",
       "│ ---  ┆ ---      ┆ ---       │\n",
       "│ str  ┆ f64      ┆ f64       │\n",
       "╞══════╪══════════╪═══════════╡\n",
       "│ 00   ┆ 82489.09 ┆ 59056.22  │\n",
       "│ 01   ┆ 99258.12 ┆ 49830.61  │\n",
       "│ 02   ┆ 91865.7  ┆ 41690.15  │\n",
       "│ 03   ┆ 84036.57 ┆ 35877.24  │\n",
       "│ 04   ┆ 63055.28 ┆ 28130.54  │\n",
       "│ …    ┆ …        ┆ …         │\n",
       "│ 19   ┆ 45510.07 ┆ 3240988.5 │\n",
       "│ 20   ┆ 46798.67 ┆ 54915.04  │\n",
       "│ 21   ┆ 44651.48 ┆ 56920.38  │\n",
       "│ 22   ┆ 43666.51 ┆ 64932.34  │\n",
       "│ 23   ┆ 39241.84 ┆ 201639.07 │\n",
       "└──────┴──────────┴───────────┘"
      ]
     },
     "execution_count": 146,
     "metadata": {},
     "output_type": "execute_result"
    }
   ],
   "source": [
    "mat"
   ]
  },
  {
   "cell_type": "code",
   "execution_count": 147,
   "id": "9264783d",
   "metadata": {},
   "outputs": [
    {
     "data": {
      "image/png": "[encoded data removed]",
      "text/plain": [
       "<Figure size 800x300 with 1 Axes>"
      ]
     },
     "metadata": {},
     "output_type": "display_data"
    }
   ],
   "source": [
    "plt.figure(figsize=(8,3))\n",
    "plt.plot(mat['hour'], mat['dist1'], label='day 1')\n",
    "plt.plot(mat['hour'], mat['dist2'], label='day 2')\n",
    "plt.legend()\n",
    "plt.yscale('symlog')\n",
    "plt.grid()\n",
    "plt.show()"
   ]
  },
  {
   "cell_type": "markdown",
   "id": "25a5131f",
   "metadata": {},
   "source": [
    "## If you don't want to run the entire computation, just to check if you did things correctly\n",
    "\n",
    "### Use `head(n).collect()`"
   ]
  },
  {
   "cell_type": "code",
   "execution_count": 148,
   "id": "fc1a445b",
   "metadata": {},
   "outputs": [
    {
     "data": {
      "text/html": [
       "<div><style>\n",
       ".dataframe > thead > tr,\n",
       ".dataframe > tbody > tr {\n",
       "  text-align: right;\n",
       "  white-space: pre-wrap;\n",
       "}\n",
       "</style>\n",
       "<small>shape: (2, 3)</small><table border=\"1\" class=\"dataframe\"><thead><tr><th>hour</th><th>dist1</th><th>dist2</th></tr><tr><td>str</td><td>f64</td><td>f64</td></tr></thead><tbody><tr><td>&quot;00&quot;</td><td>82489.09</td><td>59056.22</td></tr><tr><td>&quot;01&quot;</td><td>99258.12</td><td>49830.61</td></tr></tbody></table></div>"
      ],
      "text/plain": [
       "shape: (2, 3)\n",
       "┌──────┬──────────┬──────────┐\n",
       "│ hour ┆ dist1    ┆ dist2    │\n",
       "│ ---  ┆ ---      ┆ ---      │\n",
       "│ str  ┆ f64      ┆ f64      │\n",
       "╞══════╪══════════╪══════════╡\n",
       "│ 00   ┆ 82489.09 ┆ 59056.22 │\n",
       "│ 01   ┆ 99258.12 ┆ 49830.61 │\n",
       "└──────┴──────────┴──────────┘"
      ]
     },
     "execution_count": 148,
     "metadata": {},
     "output_type": "execute_result"
    }
   ],
   "source": [
    "result.head(2).collect()"
   ]
  },
  {
   "cell_type": "markdown",
   "id": "2ada8638",
   "metadata": {},
   "source": [
    "## The SQL API also supports `pandas` DataFrames "
   ]
  },
  {
   "cell_type": "code",
   "execution_count": 149,
   "id": "edb43c5e",
   "metadata": {},
   "outputs": [
    {
     "data": {
      "text/html": [
       "<div><style>\n",
       ".dataframe > thead > tr,\n",
       ".dataframe > tbody > tr {\n",
       "  text-align: right;\n",
       "  white-space: pre-wrap;\n",
       "}\n",
       "</style>\n",
       "<small>shape: (3, 5)</small><table border=\"1\" class=\"dataframe\"><thead><tr><th>key</th><th>a</th><th>b</th><th>max_ab</th><th>cumsum_max_ab</th></tr><tr><td>i64</td><td>i64</td><td>i64</td><td>i64</td><td>i64</td></tr></thead><tbody><tr><td>1</td><td>0</td><td>1</td><td>1</td><td>1</td></tr><tr><td>2</td><td>0</td><td>0</td><td>0</td><td>1</td></tr><tr><td>3</td><td>1</td><td>0</td><td>1</td><td>2</td></tr></tbody></table></div>"
      ],
      "text/plain": [
       "shape: (3, 5)\n",
       "┌─────┬─────┬─────┬────────┬───────────────┐\n",
       "│ key ┆ a   ┆ b   ┆ max_ab ┆ cumsum_max_ab │\n",
       "│ --- ┆ --- ┆ --- ┆ ---    ┆ ---           │\n",
       "│ i64 ┆ i64 ┆ i64 ┆ i64    ┆ i64           │\n",
       "╞═════╪═════╪═════╪════════╪═══════════════╡\n",
       "│ 1   ┆ 0   ┆ 1   ┆ 1      ┆ 1             │\n",
       "│ 2   ┆ 0   ┆ 0   ┆ 0      ┆ 1             │\n",
       "│ 3   ┆ 1   ┆ 0   ┆ 1      ┆ 2             │\n",
       "└─────┴─────┴─────┴────────┴───────────────┘"
      ]
     },
     "execution_count": 149,
     "metadata": {},
     "output_type": "execute_result"
    }
   ],
   "source": [
    "pd_df = pd.DataFrame({'key':[1,2,3], 'a':[0,0,1]})\n",
    "pl_df = pl.DataFrame({'key':[1,2,3], 'b':[1,0,0]})\n",
    "\n",
    "pl.sql(\"\"\"\n",
    "    select\n",
    "        pd_df.key,\n",
    "        pd_df.a,\n",
    "        pl_df.b,\n",
    "        greatest(pd_df.a, pl_df.b) as max_ab,\n",
    "        sum(greatest(pd_df.a, pl_df.b)) over(order by key) as cumsum_max_ab\n",
    "    from\n",
    "        pd_df join pl_df on pd_df.key = pl_df.key\n",
    "\"\"\").collect()"
   ]
  },
  {
   "cell_type": "markdown",
   "id": "2ac3db8d",
   "metadata": {},
   "source": [
    "## What is supported in SQL?\n",
    "\n",
    "### The polars team claim they are trying to have everything that PostgreSQL support, but it's still wip\n",
    "\n",
    "### What's supported right now\n",
    "\n",
    "- `SELECT`\n",
    "- `DISTINCT`\n",
    "- `FROM`\n",
    "- `JOIN (CROSS JOIN, FULL JOIN, INNER JOIN, [LEFT | RIGHT] [ANTI | SEMI] JOIN`, \n",
    "- `WHERE`\n",
    "- `GROUP BY`\n",
    "- `HAVING`\n",
    "- `ORDER BY`\n",
    "- `LIMIT/OFFSET`\n",
    "- `EXCEPT`\n",
    "- `INTERSECT`\n",
    "- `UNION [ALL]`\n",
    "- `UNNEST`\n",
    "- `WITH`\n",
    "- `OVER`\n",
    "- Lots and lots of functions...\n",
    "\n",
    "### Not supported\n",
    "\n",
    "- `QUALIFY`"
   ]
  },
  {
   "cell_type": "markdown",
   "id": "1b887751",
   "metadata": {},
   "source": [
    "## Not covered: SQLContext, other connectors, batch read, caching\n",
    "\n",
    "You can connect to CSVs, JSON files, Excel, AVRO, Feather, Parquet..."
   ]
  },
  {
   "cell_type": "markdown",
   "id": "201126f3",
   "metadata": {},
   "source": [
    "## Working with BigQuery\n",
    "\n",
    "There is no direct connector to BigQuery, however, BigQuery queries can be transfered in Arrow format\n",
    "\n",
    "```python\n",
    "import polars as pl\n",
    "from google.cloud import bigquery\n",
    "\n",
    "client = bigquery.Client()\n",
    "\n",
    "# Perform a query.\n",
    "QUERY = \"\"\"\n",
    "    SELECT a,b,c\n",
    "    FROM some_table \n",
    "    WHERE condition\n",
    "    LIMIT 100\"\"\"\"\n",
    "\n",
    "query_job = client.query(QUERY)  \n",
    "rows = query_job.result() \n",
    "\n",
    "df = pl.from_arrow(rows.to_arrow())\n",
    "```"
   ]
  },
  {
   "cell_type": "markdown",
   "id": "06522bd4",
   "metadata": {},
   "source": [
    "# Summary:\n",
    "\n",
    "1. Used correctly, `polars` is superior to `pandas` in terms of performance<br>\n",
    "2. Not limited to RAM when using lazy execution<br>\n",
    "2. SQL api, Lazy execution are very handy<br>\n",
    "3. I personally prefer the functional expression API<br>\n",
    "4. Multiple connectors are availble (parquet, Excel, CSV, ...)<br>\n",
    "5. As of Dec 2024 numpy/pandas conversion happens behind the scenes when we fit models and plot stuff, so there is no speed up on scikit-learn/LightGBM/catboost/matplotlib - but, polars is moving quickly and we might see more and more direct integrations<br>\n",
    "6. Rust - since this is A rapidly growing community, it might have some future for DS/Analytics too, and then polars will be rust's pandas equivalent<br>"
   ]
  },
  {
   "cell_type": "markdown",
   "id": "5e4ffa6c",
   "metadata": {},
   "source": [
    "## Bonus: `great-tables`\n",
    "\n",
    "Integrates seamlessly with `polars` you can also use the `selectors` directly when selecting columns."
   ]
  },
  {
   "cell_type": "code",
   "execution_count": 150,
   "id": "f8437d58",
   "metadata": {},
   "outputs": [],
   "source": [
    "from great_tables import GT, md, html, nanoplot_options\n",
    "from colorzero import *"
   ]
  },
  {
   "cell_type": "code",
   "execution_count": 152,
   "id": "41c37de6",
   "metadata": {},
   "outputs": [],
   "source": [
    "_file_location = './limited-memory-example/yellow_tripdata_2015-01.csv'\n",
    "df = pl.read_csv(_file_location)"
   ]
  },
  {
   "cell_type": "code",
   "execution_count": 153,
   "id": "a8ebe66a",
   "metadata": {},
   "outputs": [],
   "source": [
    "bw = (\n",
    "    df\n",
    "    .sort(pl.col('tpep_pickup_datetime'), descending=False)\n",
    "    .group_by_dynamic(pl.col('tpep_pickup_datetime').str.to_datetime('%Y-%m-%d %H:%M:%S'), every=\"1w\")\n",
    "    .agg(\n",
    "        pl.col('passenger_count').mean().alias('average_passenger_count'),\n",
    "        pl.col('trip_distance').mean().alias('average_trip_distance'),\n",
    "        pl.col('fare_amount').mean(),\n",
    "        pl.col('extra').mean(),\n",
    "        pl.col('mta_tax').mean(),\n",
    "        pl.col('tip_amount').mean(),\n",
    "        pl.col('tolls_amount').mean(),\n",
    "        pl.col('total_amount').mean())\n",
    "    ).rename(mapping={'tpep_pickup_datetime':'week'})\n",
    "\n",
    "bw2 = (\n",
    "    df\n",
    "    .sort(pl.col('tpep_pickup_datetime'), descending=False)\n",
    "    .group_by_dynamic(pl.col('tpep_pickup_datetime').str.to_datetime('%Y-%m-%d %H:%M:%S'), every=\"1d\")\n",
    "    .agg(pl.col('passenger_count').sum().alias('passenger_count_daily'))\n",
    "    .rename(mapping={'tpep_pickup_datetime':'day'})\n",
    "    .sort(pl.col('day'), descending=False)\n",
    "    .group_by_dynamic(pl.col('day'), every=\"1w\")\n",
    "    .agg(pl.col('passenger_count_daily').implode())\n",
    "    .with_columns(pl.col('passenger_count_daily').list.get(0))\n",
    "    .rename(mapping={'day':'week'})\n",
    "    )\n",
    "\n",
    "gt1 = (\n",
    "    bw.join(bw2, on='week', how='inner').style\n",
    "        .tab_header('NYC Taxi dataset', subtitle=f\"Weekly statistics between Dec 29, 2014 to Jan 26, 2015\")\n",
    "        .tab_stub(rowname_col='week')\n",
    "        .tab_source_note(source_note='Kaggle, July 2017. https://www.kaggle.com/competitions/nyc-taxi-trip-duration')\n",
    "        .tab_spanner(label='Averages', columns=['average_passenger_count', 'average_trip_distance'])\n",
    "        .tab_spanner(label='Avg. Costs', columns=['fare_amount', 'extra', 'mta_tax', 'tip_amount', 'tolls_amount', 'total_amount'])\n",
    "        .fmt_currency(columns=['fare_amount', 'extra', 'mta_tax', 'tip_amount', 'tolls_amount', 'total_amount'])\n",
    "        .fmt_date(columns=['week'], date_style='m_day_year')\n",
    "        .fmt_number(columns=['average_passenger_count', 'average_trip_distance'], compact=True)\n",
    "        .fmt_nanoplot(columns='passenger_count_daily', autoscale=True)\n",
    "        .cols_label(\n",
    "            average_passenger_count=html('Passenger<br>count'),\n",
    "            average_trip_distance=html('Trip<br>distance'),\n",
    "            fare_amount=html('Fare'),\n",
    "            extra='Extra',\n",
    "            mta_tax='MTA tax',\n",
    "            tip_amount='Tip',\n",
    "            tolls_amount=html('Tolls'),\n",
    "            total_amount=html('Total'),\n",
    "            passenger_count_daily=html('Passenger count<br>(daily)')\n",
    "        )\n",
    ")\n",
    "low_col = Color('lime') - Saturation(0.4)\n",
    "high_col = Color('yellow') - Saturation(0.2)\n",
    "gt2 = (\n",
    "    gt1\n",
    "    .data_color(\n",
    "        palette=[low_col.html, high_col.html], \n",
    "        columns=[k for k,v in bw.schema.items() \n",
    "                 if v.is_numeric() \n",
    "                 and k not in ('average_passenger_count', 'average_trip_distance')])\n",
    "    .data_color(\n",
    "        palette=[\"white\", \"blue\"], \n",
    "        columns=['average_passenger_count', 'average_trip_distance']\n",
    "    )\n",
    ")"
   ]
  },
  {
   "cell_type": "code",
   "execution_count": 154,
   "id": "b89d2193",
   "metadata": {},
   "outputs": [
    {
     "data": {
      "text/html": [
       "<div id=\"muajrvrcej\" style=\"padding-left:0px;padding-right:0px;padding-top:10px;padding-bottom:10px;overflow-x:auto;overflow-y:auto;width:auto;height:auto;\">\n",
       "<style>\n",
       "#muajrvrcej table {\n",
       "          font-family: -apple-system, BlinkMacSystemFont, 'Segoe UI', Roboto, Oxygen, Ubuntu, Cantarell, 'Helvetica Neue', 'Fira Sans', 'Droid Sans', Arial, sans-serif;\n",
       "          -webkit-font-smoothing: antialiased;\n",
       "          -moz-osx-font-smoothing: grayscale;\n",
       "        }\n",
       "\n",
       "#muajrvrcej thead, tbody, tfoot, tr, td, th { border-style: none; }\n",
       " tr { background-color: transparent; }\n",
       "#muajrvrcej p { margin: 0; padding: 0; }\n",
       " #muajrvrcej .gt_table { display: table; border-collapse: collapse; line-height: normal; margin-left: auto; margin-right: auto; color: #333333; font-size: 16px; font-weight: normal; font-style: normal; background-color: #FFFFFF; width: auto; border-top-style: solid; border-top-width: 2px; border-top-color: #A8A8A8; border-right-style: none; border-right-width: 2px; border-right-color: #D3D3D3; border-bottom-style: solid; border-bottom-width: 2px; border-bottom-color: #A8A8A8; border-left-style: none; border-left-width: 2px; border-left-color: #D3D3D3; }\n",
       " #muajrvrcej .gt_caption { padding-top: 4px; padding-bottom: 4px; }\n",
       " #muajrvrcej .gt_title { color: #333333; font-size: 125%; font-weight: initial; padding-top: 4px; padding-bottom: 4px; padding-left: 5px; padding-right: 5px; border-bottom-color: #FFFFFF; border-bottom-width: 0; }\n",
       " #muajrvrcej .gt_subtitle { color: #333333; font-size: 85%; font-weight: initial; padding-top: 3px; padding-bottom: 5px; padding-left: 5px; padding-right: 5px; border-top-color: #FFFFFF; border-top-width: 0; }\n",
       " #muajrvrcej .gt_heading { background-color: #FFFFFF; text-align: center; border-bottom-color: #FFFFFF; border-left-style: none; border-left-width: 1px; border-left-color: #D3D3D3; border-right-style: none; border-right-width: 1px; border-right-color: #D3D3D3; }\n",
       " #muajrvrcej .gt_bottom_border { border-bottom-style: solid; border-bottom-width: 2px; border-bottom-color: #D3D3D3; }\n",
       " #muajrvrcej .gt_col_headings { border-top-style: solid; border-top-width: 2px; border-top-color: #D3D3D3; border-bottom-style: solid; border-bottom-width: 2px; border-bottom-color: #D3D3D3; border-left-style: none; border-left-width: 1px; border-left-color: #D3D3D3; border-right-style: none; border-right-width: 1px; border-right-color: #D3D3D3; }\n",
       " #muajrvrcej .gt_col_heading { color: #333333; background-color: #FFFFFF; font-size: 100%; font-weight: normal; text-transform: inherit; border-left-style: none; border-left-width: 1px; border-left-color: #D3D3D3; border-right-style: none; border-right-width: 1px; border-right-color: #D3D3D3; vertical-align: bottom; padding-top: 5px; padding-bottom: 5px; padding-left: 5px; padding-right: 5px; overflow-x: hidden; }\n",
       " #muajrvrcej .gt_column_spanner_outer { color: #333333; background-color: #FFFFFF; font-size: 100%; font-weight: normal; text-transform: inherit; padding-top: 0; padding-bottom: 0; padding-left: 4px; padding-right: 4px; }\n",
       " #muajrvrcej .gt_column_spanner_outer:first-child { padding-left: 0; }\n",
       " #muajrvrcej .gt_column_spanner_outer:last-child { padding-right: 0; }\n",
       " #muajrvrcej .gt_column_spanner { border-bottom-style: solid; border-bottom-width: 2px; border-bottom-color: #D3D3D3; vertical-align: bottom; padding-top: 5px; padding-bottom: 5px; overflow-x: hidden; display: inline-block; width: 100%; }\n",
       " #muajrvrcej .gt_spanner_row { border-bottom-style: hidden; }\n",
       " #muajrvrcej .gt_group_heading { padding-top: 8px; padding-bottom: 8px; padding-left: 5px; padding-right: 5px; color: #333333; background-color: #FFFFFF; font-size: 100%; font-weight: initial; text-transform: inherit; border-top-style: solid; border-top-width: 2px; border-top-color: #D3D3D3; border-bottom-style: solid; border-bottom-width: 2px; border-bottom-color: #D3D3D3; border-left-style: none; border-left-width: 1px; border-left-color: #D3D3D3; border-right-style: none; border-right-width: 1px; border-right-color: #D3D3D3; vertical-align: middle; text-align: left; }\n",
       " #muajrvrcej .gt_empty_group_heading { padding: 0.5px; color: #333333; background-color: #FFFFFF; font-size: 100%; font-weight: initial; border-top-style: solid; border-top-width: 2px; border-top-color: #D3D3D3; border-bottom-style: solid; border-bottom-width: 2px; border-bottom-color: #D3D3D3; vertical-align: middle; }\n",
       " #muajrvrcej .gt_from_md> :first-child { margin-top: 0; }\n",
       " #muajrvrcej .gt_from_md> :last-child { margin-bottom: 0; }\n",
       " #muajrvrcej .gt_row { padding-top: 8px; padding-bottom: 8px; padding-left: 5px; padding-right: 5px; margin: 10px; border-top-style: solid; border-top-width: 1px; border-top-color: #D3D3D3; border-left-style: none; border-left-width: 1px; border-left-color: #D3D3D3; border-right-style: none; border-right-width: 1px; border-right-color: #D3D3D3; vertical-align: middle; overflow-x: hidden; }\n",
       " #muajrvrcej .gt_stub { color: #333333; background-color: #FFFFFF; font-size: 100%; font-weight: initial; text-transform: inherit; border-right-style: solid; border-right-width: 2px; border-right-color: #D3D3D3; padding-left: 5px; padding-right: 5px; }\n",
       " #muajrvrcej .gt_stub_row_group { color: #333333; background-color: #FFFFFF; font-size: 100%; font-weight: initial; text-transform: inherit; border-right-style: solid; border-right-width: 2px; border-right-color: #D3D3D3; padding-left: 5px; padding-right: 5px; vertical-align: top; }\n",
       " #muajrvrcej .gt_row_group_first td { border-top-width: 2px; }\n",
       " #muajrvrcej .gt_row_group_first th { border-top-width: 2px; }\n",
       " #muajrvrcej .gt_striped { background-color: rgba(128,128,128,0.05); }\n",
       " #muajrvrcej .gt_table_body { border-top-style: solid; border-top-width: 2px; border-top-color: #D3D3D3; border-bottom-style: solid; border-bottom-width: 2px; border-bottom-color: #D3D3D3; }\n",
       " #muajrvrcej .gt_sourcenotes { color: #333333; background-color: #FFFFFF; border-bottom-style: none; border-bottom-width: 2px; border-bottom-color: #D3D3D3; border-left-style: none; border-left-width: 2px; border-left-color: #D3D3D3; border-right-style: none; border-right-width: 2px; border-right-color: #D3D3D3; }\n",
       " #muajrvrcej .gt_sourcenote { font-size: 90%; padding-top: 4px; padding-bottom: 4px; padding-left: 5px; padding-right: 5px; text-align: left; }\n",
       " #muajrvrcej .gt_left { text-align: left; }\n",
       " #muajrvrcej .gt_center { text-align: center; }\n",
       " #muajrvrcej .gt_right { text-align: right; font-variant-numeric: tabular-nums; }\n",
       " #muajrvrcej .gt_font_normal { font-weight: normal; }\n",
       " #muajrvrcej .gt_font_bold { font-weight: bold; }\n",
       " #muajrvrcej .gt_font_italic { font-style: italic; }\n",
       " #muajrvrcej .gt_super { font-size: 65%; }\n",
       " #muajrvrcej .gt_footnote_marks { font-size: 75%; vertical-align: 0.4em; position: initial; }\n",
       " #muajrvrcej .gt_asterisk { font-size: 100%; vertical-align: 0; }\n",
       " \n",
       "</style>\n",
       "<table class=\"gt_table\" data-quarto-disable-processing=\"false\" data-quarto-bootstrap=\"false\">\n",
       "<thead>\n",
       "\n",
       "  <tr class=\"gt_heading\">\n",
       "    <td colspan=\"10\" class=\"gt_heading gt_title gt_font_normal\">NYC Taxi dataset</td>\n",
       "  </tr>\n",
       "  <tr class=\"gt_heading\">\n",
       "    <td colspan=\"10\" class=\"gt_heading gt_subtitle gt_font_normal gt_bottom_border\">Weekly statistics between Dec 29, 2014 to Jan 26, 2015</td>\n",
       "  </tr>\n",
       "<tr class=\"gt_col_headings gt_spanner_row\">\n",
       "  <th class=\"gt_col_heading gt_columns_bottom_border gt_left\" rowspan=\"2\" colspan=\"1\" scope=\"col\" id=\"\"></th>\n",
       "  <th class=\"gt_center gt_columns_top_border gt_column_spanner_outer\" rowspan=\"1\" colspan=\"2\" scope=\"colgroup\" id=\"Averages\">\n",
       "    <span class=\"gt_column_spanner\">Averages</span>\n",
       "  </th>\n",
       "  <th class=\"gt_center gt_columns_top_border gt_column_spanner_outer\" rowspan=\"1\" colspan=\"6\" scope=\"colgroup\" id=\"Avg. Costs\">\n",
       "    <span class=\"gt_column_spanner\">Avg. Costs</span>\n",
       "  </th>\n",
       "  <th class=\"gt_col_heading gt_columns_bottom_border gt_center\" rowspan=\"2\" colspan=\"1\" scope=\"col\" id=\"Passenger count&lt;br&gt;(daily)\">Passenger count<br>(daily)</th>\n",
       "</tr>\n",
       "<tr class=\"gt_col_headings\">\n",
       "  <th class=\"gt_col_heading gt_columns_bottom_border gt_right\" rowspan=\"1\" colspan=\"1\" scope=\"col\" id=\"Passenger&lt;br&gt;count\">Passenger<br>count</th>\n",
       "  <th class=\"gt_col_heading gt_columns_bottom_border gt_right\" rowspan=\"1\" colspan=\"1\" scope=\"col\" id=\"Trip&lt;br&gt;distance\">Trip<br>distance</th>\n",
       "  <th class=\"gt_col_heading gt_columns_bottom_border gt_right\" rowspan=\"1\" colspan=\"1\" scope=\"col\" id=\"Fare\">Fare</th>\n",
       "  <th class=\"gt_col_heading gt_columns_bottom_border gt_right\" rowspan=\"1\" colspan=\"1\" scope=\"col\" id=\"Extra\">Extra</th>\n",
       "  <th class=\"gt_col_heading gt_columns_bottom_border gt_right\" rowspan=\"1\" colspan=\"1\" scope=\"col\" id=\"MTA tax\">MTA tax</th>\n",
       "  <th class=\"gt_col_heading gt_columns_bottom_border gt_right\" rowspan=\"1\" colspan=\"1\" scope=\"col\" id=\"Tip\">Tip</th>\n",
       "  <th class=\"gt_col_heading gt_columns_bottom_border gt_right\" rowspan=\"1\" colspan=\"1\" scope=\"col\" id=\"Tolls\">Tolls</th>\n",
       "  <th class=\"gt_col_heading gt_columns_bottom_border gt_right\" rowspan=\"1\" colspan=\"1\" scope=\"col\" id=\"Total\">Total</th>\n",
       "</tr>\n",
       "</thead>\n",
       "<tbody class=\"gt_table_body\">\n",
       "  <tr>\n",
       "    <th class=\"gt_row gt_left gt_stub\">Dec 29, 2014</th>\n",
       "    <td style=\"color: #FFFFFF; background-color: #0000ff;\" class=\"gt_row gt_right\">1.77</td>\n",
       "    <td style=\"color: #FFFFFF; background-color: #2a2aff;\" class=\"gt_row gt_right\">19.39</td>\n",
       "    <td style=\"color: #000000; background-color: #e5e619;\" class=\"gt_row gt_right\">$12.26</td>\n",
       "    <td style=\"color: #000000; background-color: #33cc33;\" class=\"gt_row gt_right\">$0.26</td>\n",
       "    <td style=\"color: #000000; background-color: #33cc33;\" class=\"gt_row gt_right\">$0.50</td>\n",
       "    <td style=\"color: #000000; background-color: #33cc33;\" class=\"gt_row gt_right\">$1.33</td>\n",
       "    <td style=\"color: #000000; background-color: #e5e619;\" class=\"gt_row gt_right\">$0.26</td>\n",
       "    <td style=\"color: #000000; background-color: #54d12e;\" class=\"gt_row gt_right\">$14.91</td>\n",
       "    <td class=\"gt_row gt_center\"><div><svg role=\"img\" viewBox=\"0 0 300 130\" style=\"height: 2em; margin-left: auto; margin-right: auto; font-size: inherit; overflow: visible; vertical-align: middle; position:relative;\"><defs><pattern id=\"area_pattern\" width=\"8\" height=\"8\" patternUnits=\"userSpaceOnUse\"><path class=\"pattern-line\" d=\"M 0,8 l 8,-8 M -1,1 l 4,-4 M 6,10 l 4,-4\" stroke=\"#FF0000\" stroke-width=\"1.5\" stroke-linecap=\"round\" shape-rendering=\"geometricPrecision\"></path></pattern></defs><style> text { font-family: ui-monospace, 'Cascadia Code', 'Source Code Pro', Menlo, Consolas, 'DejaVu Sans Mono', monospace; stroke-width: 0.15em; paint-order: stroke; stroke-linejoin: round; cursor: default; } .vert-line:hover rect { fill: #911EB4; fill-opacity: 40%; stroke: #FFFFFF60; color: red; } .vert-line:hover text { stroke: white; fill: #212427; } .horizontal-line:hover text {stroke: white; fill: #212427; } .ref-line:hover rect { stroke: #FFFFFF60; } .ref-line:hover line { stroke: #FF0000; } .ref-line:hover text { stroke: white; fill: #212427; } .y-axis-line:hover rect { fill: #EDEDED; fill-opacity: 60%; stroke: #FFFFFF60; color: red; } .y-axis-line:hover text { stroke: white; stroke-width: 0.20em; fill: #1A1C1F; } </style><path class=\"area-closed\" d=\"M 50.0,46.18778283939977 116.66666666666666,58.75373490647344 183.33333333333331,41.42692195659551 250.0,64.91081268561922 250.0,125 50.0,125 Z\" stroke=\"transparent\" stroke-width=\"2\" fill=\"url(#area_pattern)\" fill-opacity=\"0.7\"></path><path d=\"M 50.0,46.18778283939977 C 75.0,46.18778283939977 91.66666666666666,58.75373490647344 116.66666666666666,58.75373490647344 C 141.66666666666666,58.75373490647344 158.33333333333331,41.42692195659551 183.33333333333331,41.42692195659551 C 208.33333333333331,41.42692195659551 225.0,64.91081268561922 250.0,64.91081268561922\" stroke=\"#4682B4\" stroke-width=\"8\" fill=\"none\"></path><circle cx=\"50.0\" cy=\"46.18778283939977\" r=\"10\" stroke=\"#FFFFFF\" stroke-width=\"4\" fill=\"#FF0000\"></circle><circle cx=\"116.66666666666666\" cy=\"58.75373490647344\" r=\"10\" stroke=\"#FFFFFF\" stroke-width=\"4\" fill=\"#FF0000\"></circle><circle cx=\"183.33333333333331\" cy=\"41.42692195659551\" r=\"10\" stroke=\"#FFFFFF\" stroke-width=\"4\" fill=\"#FF0000\"></circle><circle cx=\"250.0\" cy=\"64.91081268561922\" r=\"10\" stroke=\"#FFFFFF\" stroke-width=\"4\" fill=\"#FF0000\"></circle><g class=\"y-axis-line\"><rect x=\"0\" y=\"0\" width=\"65\" height=\"130\" stroke=\"transparent\" stroke-width=\"0\" fill=\"transparent\"></rect><text x=\"0\" y=\"19.0\" fill=\"transparent\" stroke=\"transparent\" font-size=\"25\">898K</text><text x=\"0\" y=\"126.0\" fill=\"transparent\" stroke=\"transparent\" font-size=\"25\">232K</text></g><g class=\"vert-line\"><rect x=\"40.0\" y=\"0\" width=\"20\" height=\"130\" stroke=\"transparent\" stroke-width=\"12\" fill=\"transparent\"></rect><text x=\"60.0\" y=\"20\" fill=\"transparent\" stroke=\"transparent\" font-size=\"30px\">690K</text></g><g class=\"vert-line\"><rect x=\"106.66666666666666\" y=\"0\" width=\"20\" height=\"130\" stroke=\"transparent\" stroke-width=\"12\" fill=\"transparent\"></rect><text x=\"126.66666666666666\" y=\"20\" fill=\"transparent\" stroke=\"transparent\" font-size=\"30px\">607K</text></g><g class=\"vert-line\"><rect x=\"173.33333333333331\" y=\"0\" width=\"20\" height=\"130\" stroke=\"transparent\" stroke-width=\"12\" fill=\"transparent\"></rect><text x=\"193.33333333333331\" y=\"20\" fill=\"transparent\" stroke=\"transparent\" font-size=\"30px\">722K</text></g><g class=\"vert-line\"><rect x=\"240.0\" y=\"0\" width=\"20\" height=\"130\" stroke=\"transparent\" stroke-width=\"12\" fill=\"transparent\"></rect><text x=\"260.0\" y=\"20\" fill=\"transparent\" stroke=\"transparent\" font-size=\"30px\">566K</text></g></svg></div></td>\n",
       "  </tr>\n",
       "  <tr>\n",
       "    <th class=\"gt_row gt_left gt_stub\">Jan 5, 2015</th>\n",
       "    <td style=\"color: #000000; background-color: #e6e6ff;\" class=\"gt_row gt_right\">1.68</td>\n",
       "    <td style=\"color: #FFFFFF; background-color: #0000ff;\" class=\"gt_row gt_right\">22.71</td>\n",
       "    <td style=\"color: #000000; background-color: #33cc33;\" class=\"gt_row gt_right\">$11.77</td>\n",
       "    <td style=\"color: #000000; background-color: #e0e51a;\" class=\"gt_row gt_right\">$0.32</td>\n",
       "    <td style=\"color: #000000; background-color: #d0e31c;\" class=\"gt_row gt_right\">$0.50</td>\n",
       "    <td style=\"color: #000000; background-color: #48cf30;\" class=\"gt_row gt_right\">$1.51</td>\n",
       "    <td style=\"color: #000000; background-color: #8cd926;\" class=\"gt_row gt_right\">$0.24</td>\n",
       "    <td style=\"color: #000000; background-color: #33cc33;\" class=\"gt_row gt_right\">$14.64</td>\n",
       "    <td class=\"gt_row gt_center\"><div><svg role=\"img\" viewBox=\"0 0 450 130\" style=\"height: 2em; margin-left: auto; margin-right: auto; font-size: inherit; overflow: visible; vertical-align: middle; position:relative;\"><defs><pattern id=\"area_pattern\" width=\"8\" height=\"8\" patternUnits=\"userSpaceOnUse\"><path class=\"pattern-line\" d=\"M 0,8 l 8,-8 M -1,1 l 4,-4 M 6,10 l 4,-4\" stroke=\"#FF0000\" stroke-width=\"1.5\" stroke-linecap=\"round\" shape-rendering=\"geometricPrecision\"></path></pattern></defs><style> text { font-family: ui-monospace, 'Cascadia Code', 'Source Code Pro', Menlo, Consolas, 'DejaVu Sans Mono', monospace; stroke-width: 0.15em; paint-order: stroke; stroke-linejoin: round; cursor: default; } .vert-line:hover rect { fill: #911EB4; fill-opacity: 40%; stroke: #FFFFFF60; color: red; } .vert-line:hover text { stroke: white; fill: #212427; } .horizontal-line:hover text {stroke: white; fill: #212427; } .ref-line:hover rect { stroke: #FFFFFF60; } .ref-line:hover line { stroke: #FF0000; } .ref-line:hover text { stroke: white; fill: #212427; } .y-axis-line:hover rect { fill: #EDEDED; fill-opacity: 60%; stroke: #FFFFFF60; color: red; } .y-axis-line:hover text { stroke: white; stroke-width: 0.20em; fill: #1A1C1F; } </style><path class=\"area-closed\" d=\"M 50.0,59.648010402183736 108.33333333333333,54.88699937238557 166.66666666666666,43.62327218346762 225.0,37.868588347992684 283.3333333333333,37.638563153327105 341.66666666666663,15.763047023035558 400.0,41.88967499181699 400.0,125 50.0,125 Z\" stroke=\"transparent\" stroke-width=\"2\" fill=\"url(#area_pattern)\" fill-opacity=\"0.7\"></path><path d=\"M 50.0,59.648010402183736 C 75.0,59.648010402183736 83.33333333333333,54.88699937238557 108.33333333333333,54.88699937238557 C 133.33333333333331,54.88699937238557 141.66666666666666,43.62327218346762 166.66666666666666,43.62327218346762 C 191.66666666666666,43.62327218346762 200.0,37.868588347992684 225.0,37.868588347992684 C 250.0,37.868588347992684 258.3333333333333,37.638563153327105 283.3333333333333,37.638563153327105 C 308.3333333333333,37.638563153327105 316.66666666666663,15.763047023035558 341.66666666666663,15.763047023035558 C 366.66666666666663,15.763047023035558 375.0,41.88967499181699 400.0,41.88967499181699\" stroke=\"#4682B4\" stroke-width=\"8\" fill=\"none\"></path><circle cx=\"50.0\" cy=\"59.648010402183736\" r=\"10\" stroke=\"#FFFFFF\" stroke-width=\"4\" fill=\"#FF0000\"></circle><circle cx=\"108.33333333333333\" cy=\"54.88699937238557\" r=\"10\" stroke=\"#FFFFFF\" stroke-width=\"4\" fill=\"#FF0000\"></circle><circle cx=\"166.66666666666666\" cy=\"43.62327218346762\" r=\"10\" stroke=\"#FFFFFF\" stroke-width=\"4\" fill=\"#FF0000\"></circle><circle cx=\"225.0\" cy=\"37.868588347992684\" r=\"10\" stroke=\"#FFFFFF\" stroke-width=\"4\" fill=\"#FF0000\"></circle><circle cx=\"283.3333333333333\" cy=\"37.638563153327105\" r=\"10\" stroke=\"#FFFFFF\" stroke-width=\"4\" fill=\"#FF0000\"></circle><circle cx=\"341.66666666666663\" cy=\"15.763047023035558\" r=\"10\" stroke=\"#FFFFFF\" stroke-width=\"4\" fill=\"#FF0000\"></circle><circle cx=\"400.0\" cy=\"41.88967499181699\" r=\"10\" stroke=\"#FFFFFF\" stroke-width=\"4\" fill=\"#FF0000\"></circle><g class=\"y-axis-line\"><rect x=\"0\" y=\"0\" width=\"65\" height=\"130\" stroke=\"transparent\" stroke-width=\"0\" fill=\"transparent\"></rect><text x=\"0\" y=\"19.0\" fill=\"transparent\" stroke=\"transparent\" font-size=\"25\">898K</text><text x=\"0\" y=\"126.0\" fill=\"transparent\" stroke=\"transparent\" font-size=\"25\">232K</text></g><g class=\"vert-line\"><rect x=\"40.0\" y=\"0\" width=\"20\" height=\"130\" stroke=\"transparent\" stroke-width=\"12\" fill=\"transparent\"></rect><text x=\"60.0\" y=\"20\" fill=\"transparent\" stroke=\"transparent\" font-size=\"30px\">601K</text></g><g class=\"vert-line\"><rect x=\"98.33333333333333\" y=\"0\" width=\"20\" height=\"130\" stroke=\"transparent\" stroke-width=\"12\" fill=\"transparent\"></rect><text x=\"118.33333333333333\" y=\"20\" fill=\"transparent\" stroke=\"transparent\" font-size=\"30px\">632K</text></g><g class=\"vert-line\"><rect x=\"156.66666666666666\" y=\"0\" width=\"20\" height=\"130\" stroke=\"transparent\" stroke-width=\"12\" fill=\"transparent\"></rect><text x=\"176.66666666666666\" y=\"20\" fill=\"transparent\" stroke=\"transparent\" font-size=\"30px\">707K</text></g><g class=\"vert-line\"><rect x=\"215.0\" y=\"0\" width=\"20\" height=\"130\" stroke=\"transparent\" stroke-width=\"12\" fill=\"transparent\"></rect><text x=\"235.0\" y=\"20\" fill=\"transparent\" stroke=\"transparent\" font-size=\"30px\">746K</text></g><g class=\"vert-line\"><rect x=\"273.3333333333333\" y=\"0\" width=\"20\" height=\"130\" stroke=\"transparent\" stroke-width=\"12\" fill=\"transparent\"></rect><text x=\"293.3333333333333\" y=\"20\" fill=\"transparent\" stroke=\"transparent\" font-size=\"30px\">747K</text></g><g class=\"vert-line\"><rect x=\"331.66666666666663\" y=\"0\" width=\"20\" height=\"130\" stroke=\"transparent\" stroke-width=\"12\" fill=\"transparent\"></rect><text x=\"351.66666666666663\" y=\"20\" fill=\"transparent\" stroke=\"transparent\" font-size=\"30px\">893K</text></g><g class=\"vert-line\"><rect x=\"390.0\" y=\"0\" width=\"20\" height=\"130\" stroke=\"transparent\" stroke-width=\"12\" fill=\"transparent\"></rect><text x=\"410.0\" y=\"20\" fill=\"transparent\" stroke=\"transparent\" font-size=\"30px\">719K</text></g></svg></div></td>\n",
       "  </tr>\n",
       "  <tr>\n",
       "    <th class=\"gt_row gt_left gt_stub\">Jan 12, 2015</th>\n",
       "    <td style=\"color: #000000; background-color: #f1f1ff;\" class=\"gt_row gt_right\">1.67</td>\n",
       "    <td style=\"color: #000000; background-color: #ffffff;\" class=\"gt_row gt_right\">2.76</td>\n",
       "    <td style=\"color: #000000; background-color: #60d32c;\" class=\"gt_row gt_right\">$11.89</td>\n",
       "    <td style=\"color: #000000; background-color: #d2e31c;\" class=\"gt_row gt_right\">$0.32</td>\n",
       "    <td style=\"color: #000000; background-color: #b0de21;\" class=\"gt_row gt_right\">$0.50</td>\n",
       "    <td style=\"color: #000000; background-color: #e5e619;\" class=\"gt_row gt_right\">$2.84</td>\n",
       "    <td style=\"color: #000000; background-color: #abde21;\" class=\"gt_row gt_right\">$0.25</td>\n",
       "    <td style=\"color: #000000; background-color: #e5e619;\" class=\"gt_row gt_right\">$16.09</td>\n",
       "    <td class=\"gt_row gt_center\"><div><svg role=\"img\" viewBox=\"0 0 450 130\" style=\"height: 2em; margin-left: auto; margin-right: auto; font-size: inherit; overflow: visible; vertical-align: middle; position:relative;\"><defs><pattern id=\"area_pattern\" width=\"8\" height=\"8\" patternUnits=\"userSpaceOnUse\"><path class=\"pattern-line\" d=\"M 0,8 l 8,-8 M -1,1 l 4,-4 M 6,10 l 4,-4\" stroke=\"#FF0000\" stroke-width=\"1.5\" stroke-linecap=\"round\" shape-rendering=\"geometricPrecision\"></path></pattern></defs><style> text { font-family: ui-monospace, 'Cascadia Code', 'Source Code Pro', Menlo, Consolas, 'DejaVu Sans Mono', monospace; stroke-width: 0.15em; paint-order: stroke; stroke-linejoin: round; cursor: default; } .vert-line:hover rect { fill: #911EB4; fill-opacity: 40%; stroke: #FFFFFF60; color: red; } .vert-line:hover text { stroke: white; fill: #212427; } .horizontal-line:hover text {stroke: white; fill: #212427; } .ref-line:hover rect { stroke: #FFFFFF60; } .ref-line:hover line { stroke: #FF0000; } .ref-line:hover text { stroke: white; fill: #212427; } .y-axis-line:hover rect { fill: #EDEDED; fill-opacity: 60%; stroke: #FFFFFF60; color: red; } .y-axis-line:hover text { stroke: white; stroke-width: 0.20em; fill: #1A1C1F; } </style><path class=\"area-closed\" d=\"M 50.0,52.5229349533193 108.33333333333333,39.51525043017114 166.66666666666666,41.03939256532145 225.0,38.68043314404802 283.3333333333333,30.419645833270767 341.66666666666663,25.337770677493264 400.0,38.247859654601854 400.0,125 50.0,125 Z\" stroke=\"transparent\" stroke-width=\"2\" fill=\"url(#area_pattern)\" fill-opacity=\"0.7\"></path><path d=\"M 50.0,52.5229349533193 C 75.0,52.5229349533193 83.33333333333333,39.51525043017114 108.33333333333333,39.51525043017114 C 133.33333333333331,39.51525043017114 141.66666666666666,41.03939256532145 166.66666666666666,41.03939256532145 C 191.66666666666666,41.03939256532145 200.0,38.68043314404802 225.0,38.68043314404802 C 250.0,38.68043314404802 258.3333333333333,30.419645833270767 283.3333333333333,30.419645833270767 C 308.3333333333333,30.419645833270767 316.66666666666663,25.337770677493264 341.66666666666663,25.337770677493264 C 366.66666666666663,25.337770677493264 375.0,38.247859654601854 400.0,38.247859654601854\" stroke=\"#4682B4\" stroke-width=\"8\" fill=\"none\"></path><circle cx=\"50.0\" cy=\"52.5229349533193\" r=\"10\" stroke=\"#FFFFFF\" stroke-width=\"4\" fill=\"#FF0000\"></circle><circle cx=\"108.33333333333333\" cy=\"39.51525043017114\" r=\"10\" stroke=\"#FFFFFF\" stroke-width=\"4\" fill=\"#FF0000\"></circle><circle cx=\"166.66666666666666\" cy=\"41.03939256532145\" r=\"10\" stroke=\"#FFFFFF\" stroke-width=\"4\" fill=\"#FF0000\"></circle><circle cx=\"225.0\" cy=\"38.68043314404802\" r=\"10\" stroke=\"#FFFFFF\" stroke-width=\"4\" fill=\"#FF0000\"></circle><circle cx=\"283.3333333333333\" cy=\"30.419645833270767\" r=\"10\" stroke=\"#FFFFFF\" stroke-width=\"4\" fill=\"#FF0000\"></circle><circle cx=\"341.66666666666663\" cy=\"25.337770677493264\" r=\"10\" stroke=\"#FFFFFF\" stroke-width=\"4\" fill=\"#FF0000\"></circle><circle cx=\"400.0\" cy=\"38.247859654601854\" r=\"10\" stroke=\"#FFFFFF\" stroke-width=\"4\" fill=\"#FF0000\"></circle><g class=\"y-axis-line\"><rect x=\"0\" y=\"0\" width=\"65\" height=\"130\" stroke=\"transparent\" stroke-width=\"0\" fill=\"transparent\"></rect><text x=\"0\" y=\"19.0\" fill=\"transparent\" stroke=\"transparent\" font-size=\"25\">898K</text><text x=\"0\" y=\"126.0\" fill=\"transparent\" stroke=\"transparent\" font-size=\"25\">232K</text></g><g class=\"vert-line\"><rect x=\"40.0\" y=\"0\" width=\"20\" height=\"130\" stroke=\"transparent\" stroke-width=\"12\" fill=\"transparent\"></rect><text x=\"60.0\" y=\"20\" fill=\"transparent\" stroke=\"transparent\" font-size=\"30px\">648K</text></g><g class=\"vert-line\"><rect x=\"98.33333333333333\" y=\"0\" width=\"20\" height=\"130\" stroke=\"transparent\" stroke-width=\"12\" fill=\"transparent\"></rect><text x=\"118.33333333333333\" y=\"20\" fill=\"transparent\" stroke=\"transparent\" font-size=\"30px\">735K</text></g><g class=\"vert-line\"><rect x=\"156.66666666666666\" y=\"0\" width=\"20\" height=\"130\" stroke=\"transparent\" stroke-width=\"12\" fill=\"transparent\"></rect><text x=\"176.66666666666666\" y=\"20\" fill=\"transparent\" stroke=\"transparent\" font-size=\"30px\">725K</text></g><g class=\"vert-line\"><rect x=\"215.0\" y=\"0\" width=\"20\" height=\"130\" stroke=\"transparent\" stroke-width=\"12\" fill=\"transparent\"></rect><text x=\"235.0\" y=\"20\" fill=\"transparent\" stroke=\"transparent\" font-size=\"30px\">740K</text></g><g class=\"vert-line\"><rect x=\"273.3333333333333\" y=\"0\" width=\"20\" height=\"130\" stroke=\"transparent\" stroke-width=\"12\" fill=\"transparent\"></rect><text x=\"293.3333333333333\" y=\"20\" fill=\"transparent\" stroke=\"transparent\" font-size=\"30px\">795K</text></g><g class=\"vert-line\"><rect x=\"331.66666666666663\" y=\"0\" width=\"20\" height=\"130\" stroke=\"transparent\" stroke-width=\"12\" fill=\"transparent\"></rect><text x=\"351.66666666666663\" y=\"20\" fill=\"transparent\" stroke=\"transparent\" font-size=\"30px\">829K</text></g><g class=\"vert-line\"><rect x=\"390.0\" y=\"0\" width=\"20\" height=\"130\" stroke=\"transparent\" stroke-width=\"12\" fill=\"transparent\"></rect><text x=\"410.0\" y=\"20\" fill=\"transparent\" stroke=\"transparent\" font-size=\"30px\">743K</text></g></svg></div></td>\n",
       "  </tr>\n",
       "  <tr>\n",
       "    <th class=\"gt_row gt_left gt_stub\">Jan 19, 2015</th>\n",
       "    <td style=\"color: #000000; background-color: #fbfbff;\" class=\"gt_row gt_right\">1.67</td>\n",
       "    <td style=\"color: #FFFFFF; background-color: #3232ff;\" class=\"gt_row gt_right\">18.76</td>\n",
       "    <td style=\"color: #000000; background-color: #6cd42b;\" class=\"gt_row gt_right\">$11.92</td>\n",
       "    <td style=\"color: #000000; background-color: #9edc23;\" class=\"gt_row gt_right\">$0.30</td>\n",
       "    <td style=\"color: #000000; background-color: #c4e11e;\" class=\"gt_row gt_right\">$0.50</td>\n",
       "    <td style=\"color: #000000; background-color: #54d12e;\" class=\"gt_row gt_right\">$1.61</td>\n",
       "    <td style=\"color: #000000; background-color: #bfe01f;\" class=\"gt_row gt_right\">$0.25</td>\n",
       "    <td style=\"color: #000000; background-color: #51d02f;\" class=\"gt_row gt_right\">$14.89</td>\n",
       "    <td class=\"gt_row gt_center\"><div><svg role=\"img\" viewBox=\"0 0 450 130\" style=\"height: 2em; margin-left: auto; margin-right: auto; font-size: inherit; overflow: visible; vertical-align: middle; position:relative;\"><defs><pattern id=\"area_pattern\" width=\"8\" height=\"8\" patternUnits=\"userSpaceOnUse\"><path class=\"pattern-line\" d=\"M 0,8 l 8,-8 M -1,1 l 4,-4 M 6,10 l 4,-4\" stroke=\"#FF0000\" stroke-width=\"1.5\" stroke-linecap=\"round\" shape-rendering=\"geometricPrecision\"></path></pattern></defs><style> text { font-family: ui-monospace, 'Cascadia Code', 'Source Code Pro', Menlo, Consolas, 'DejaVu Sans Mono', monospace; stroke-width: 0.15em; paint-order: stroke; stroke-linejoin: round; cursor: default; } .vert-line:hover rect { fill: #911EB4; fill-opacity: 40%; stroke: #FFFFFF60; color: red; } .vert-line:hover text { stroke: white; fill: #212427; } .horizontal-line:hover text {stroke: white; fill: #212427; } .ref-line:hover rect { stroke: #FFFFFF60; } .ref-line:hover line { stroke: #FF0000; } .ref-line:hover text { stroke: white; fill: #212427; } .y-axis-line:hover rect { fill: #EDEDED; fill-opacity: 60%; stroke: #FFFFFF60; color: red; } .y-axis-line:hover text { stroke: white; stroke-width: 0.20em; fill: #1A1C1F; } </style><path class=\"area-closed\" d=\"M 50.0,63.439672439318095 108.33333333333333,50.60180416627878 166.66666666666666,44.09758653721994 225.0,38.78853897966109 283.3333333333333,32.335221181536724 341.66666666666663,29.918004726627366 400.0,45.58524295285085 400.0,125 50.0,125 Z\" stroke=\"transparent\" stroke-width=\"2\" fill=\"url(#area_pattern)\" fill-opacity=\"0.7\"></path><path d=\"M 50.0,63.439672439318095 C 75.0,63.439672439318095 83.33333333333333,50.60180416627878 108.33333333333333,50.60180416627878 C 133.33333333333331,50.60180416627878 141.66666666666666,44.09758653721994 166.66666666666666,44.09758653721994 C 191.66666666666666,44.09758653721994 200.0,38.78853897966109 225.0,38.78853897966109 C 250.0,38.78853897966109 258.3333333333333,32.335221181536724 283.3333333333333,32.335221181536724 C 308.3333333333333,32.335221181536724 316.66666666666663,29.918004726627366 341.66666666666663,29.918004726627366 C 366.66666666666663,29.918004726627366 375.0,45.58524295285085 400.0,45.58524295285085\" stroke=\"#4682B4\" stroke-width=\"8\" fill=\"none\"></path><circle cx=\"50.0\" cy=\"63.439672439318095\" r=\"10\" stroke=\"#FFFFFF\" stroke-width=\"4\" fill=\"#FF0000\"></circle><circle cx=\"108.33333333333333\" cy=\"50.60180416627878\" r=\"10\" stroke=\"#FFFFFF\" stroke-width=\"4\" fill=\"#FF0000\"></circle><circle cx=\"166.66666666666666\" cy=\"44.09758653721994\" r=\"10\" stroke=\"#FFFFFF\" stroke-width=\"4\" fill=\"#FF0000\"></circle><circle cx=\"225.0\" cy=\"38.78853897966109\" r=\"10\" stroke=\"#FFFFFF\" stroke-width=\"4\" fill=\"#FF0000\"></circle><circle cx=\"283.3333333333333\" cy=\"32.335221181536724\" r=\"10\" stroke=\"#FFFFFF\" stroke-width=\"4\" fill=\"#FF0000\"></circle><circle cx=\"341.66666666666663\" cy=\"29.918004726627366\" r=\"10\" stroke=\"#FFFFFF\" stroke-width=\"4\" fill=\"#FF0000\"></circle><circle cx=\"400.0\" cy=\"45.58524295285085\" r=\"10\" stroke=\"#FFFFFF\" stroke-width=\"4\" fill=\"#FF0000\"></circle><g class=\"y-axis-line\"><rect x=\"0\" y=\"0\" width=\"65\" height=\"130\" stroke=\"transparent\" stroke-width=\"0\" fill=\"transparent\"></rect><text x=\"0\" y=\"19.0\" fill=\"transparent\" stroke=\"transparent\" font-size=\"25\">898K</text><text x=\"0\" y=\"126.0\" fill=\"transparent\" stroke=\"transparent\" font-size=\"25\">232K</text></g><g class=\"vert-line\"><rect x=\"40.0\" y=\"0\" width=\"20\" height=\"130\" stroke=\"transparent\" stroke-width=\"12\" fill=\"transparent\"></rect><text x=\"60.0\" y=\"20\" fill=\"transparent\" stroke=\"transparent\" font-size=\"30px\">576K</text></g><g class=\"vert-line\"><rect x=\"98.33333333333333\" y=\"0\" width=\"20\" height=\"130\" stroke=\"transparent\" stroke-width=\"12\" fill=\"transparent\"></rect><text x=\"118.33333333333333\" y=\"20\" fill=\"transparent\" stroke=\"transparent\" font-size=\"30px\">661K</text></g><g class=\"vert-line\"><rect x=\"156.66666666666666\" y=\"0\" width=\"20\" height=\"130\" stroke=\"transparent\" stroke-width=\"12\" fill=\"transparent\"></rect><text x=\"176.66666666666666\" y=\"20\" fill=\"transparent\" stroke=\"transparent\" font-size=\"30px\">704K</text></g><g class=\"vert-line\"><rect x=\"215.0\" y=\"0\" width=\"20\" height=\"130\" stroke=\"transparent\" stroke-width=\"12\" fill=\"transparent\"></rect><text x=\"235.0\" y=\"20\" fill=\"transparent\" stroke=\"transparent\" font-size=\"30px\">740K</text></g><g class=\"vert-line\"><rect x=\"273.3333333333333\" y=\"0\" width=\"20\" height=\"130\" stroke=\"transparent\" stroke-width=\"12\" fill=\"transparent\"></rect><text x=\"293.3333333333333\" y=\"20\" fill=\"transparent\" stroke=\"transparent\" font-size=\"30px\">783K</text></g><g class=\"vert-line\"><rect x=\"331.66666666666663\" y=\"0\" width=\"20\" height=\"130\" stroke=\"transparent\" stroke-width=\"12\" fill=\"transparent\"></rect><text x=\"351.66666666666663\" y=\"20\" fill=\"transparent\" stroke=\"transparent\" font-size=\"30px\">799K</text></g><g class=\"vert-line\"><rect x=\"390.0\" y=\"0\" width=\"20\" height=\"130\" stroke=\"transparent\" stroke-width=\"12\" fill=\"transparent\"></rect><text x=\"410.0\" y=\"20\" fill=\"transparent\" stroke=\"transparent\" font-size=\"30px\">694K</text></g></svg></div></td>\n",
       "  </tr>\n",
       "  <tr>\n",
       "    <th class=\"gt_row gt_left gt_stub\">Jan 26, 2015</th>\n",
       "    <td style=\"color: #000000; background-color: #ffffff;\" class=\"gt_row gt_right\">1.67</td>\n",
       "    <td style=\"color: #000000; background-color: #e5e5ff;\" class=\"gt_row gt_right\">4.78</td>\n",
       "    <td style=\"color: #000000; background-color: #53d12e;\" class=\"gt_row gt_right\">$11.86</td>\n",
       "    <td style=\"color: #000000; background-color: #e5e619;\" class=\"gt_row gt_right\">$0.32</td>\n",
       "    <td style=\"color: #000000; background-color: #e5e619;\" class=\"gt_row gt_right\">$0.50</td>\n",
       "    <td style=\"color: #000000; background-color: #52d12e;\" class=\"gt_row gt_right\">$1.59</td>\n",
       "    <td style=\"color: #000000; background-color: #33cc33;\" class=\"gt_row gt_right\">$0.21</td>\n",
       "    <td style=\"color: #000000; background-color: #45cf30;\" class=\"gt_row gt_right\">$14.78</td>\n",
       "    <td class=\"gt_row gt_center\"><div><svg role=\"img\" viewBox=\"0 0 400 130\" style=\"height: 2em; margin-left: auto; margin-right: auto; font-size: inherit; overflow: visible; vertical-align: middle; position:relative;\"><defs><pattern id=\"area_pattern\" width=\"8\" height=\"8\" patternUnits=\"userSpaceOnUse\"><path class=\"pattern-line\" d=\"M 0,8 l 8,-8 M -1,1 l 4,-4 M 6,10 l 4,-4\" stroke=\"#FF0000\" stroke-width=\"1.5\" stroke-linecap=\"round\" shape-rendering=\"geometricPrecision\"></path></pattern></defs><style> text { font-family: ui-monospace, 'Cascadia Code', 'Source Code Pro', Menlo, Consolas, 'DejaVu Sans Mono', monospace; stroke-width: 0.15em; paint-order: stroke; stroke-linejoin: round; cursor: default; } .vert-line:hover rect { fill: #911EB4; fill-opacity: 40%; stroke: #FFFFFF60; color: red; } .vert-line:hover text { stroke: white; fill: #212427; } .horizontal-line:hover text {stroke: white; fill: #212427; } .ref-line:hover rect { stroke: #FFFFFF60; } .ref-line:hover line { stroke: #FF0000; } .ref-line:hover text { stroke: white; fill: #212427; } .y-axis-line:hover rect { fill: #EDEDED; fill-opacity: 60%; stroke: #FFFFFF60; color: red; } .y-axis-line:hover text { stroke: white; stroke-width: 0.20em; fill: #1A1C1F; } </style><path class=\"area-closed\" d=\"M 50.0,93.4542066683283 110.0,115.0 170.0,56.48936809136144 230.00000000000003,43.935427783800336 290.0,29.607500743227618 350.0,15.0 350.0,125 50.0,125 Z\" stroke=\"transparent\" stroke-width=\"2\" fill=\"url(#area_pattern)\" fill-opacity=\"0.7\"></path><path d=\"M 50.0,93.4542066683283 C 75.0,93.4542066683283 85.0,115.0 110.0,115.0 C 135.0,115.0 145.0,56.48936809136144 170.0,56.48936809136144 C 195.0,56.48936809136144 205.00000000000003,43.935427783800336 230.00000000000003,43.935427783800336 C 255.00000000000003,43.935427783800336 265.0,29.607500743227618 290.0,29.607500743227618 C 315.0,29.607500743227618 325.0,15.0 350.0,15.0\" stroke=\"#4682B4\" stroke-width=\"8\" fill=\"none\"></path><circle cx=\"50.0\" cy=\"93.4542066683283\" r=\"10\" stroke=\"#FFFFFF\" stroke-width=\"4\" fill=\"#FF0000\"></circle><circle cx=\"110.0\" cy=\"115.0\" r=\"10\" stroke=\"#FFFFFF\" stroke-width=\"4\" fill=\"#FF0000\"></circle><circle cx=\"170.0\" cy=\"56.48936809136144\" r=\"10\" stroke=\"#FFFFFF\" stroke-width=\"4\" fill=\"#FF0000\"></circle><circle cx=\"230.00000000000003\" cy=\"43.935427783800336\" r=\"10\" stroke=\"#FFFFFF\" stroke-width=\"4\" fill=\"#FF0000\"></circle><circle cx=\"290.0\" cy=\"29.607500743227618\" r=\"10\" stroke=\"#FFFFFF\" stroke-width=\"4\" fill=\"#FF0000\"></circle><circle cx=\"350.0\" cy=\"15.0\" r=\"10\" stroke=\"#FFFFFF\" stroke-width=\"4\" fill=\"#FF0000\"></circle><g class=\"y-axis-line\"><rect x=\"0\" y=\"0\" width=\"65\" height=\"130\" stroke=\"transparent\" stroke-width=\"0\" fill=\"transparent\"></rect><text x=\"0\" y=\"19.0\" fill=\"transparent\" stroke=\"transparent\" font-size=\"25\">898K</text><text x=\"0\" y=\"126.0\" fill=\"transparent\" stroke=\"transparent\" font-size=\"25\">232K</text></g><g class=\"vert-line\"><rect x=\"40.0\" y=\"0\" width=\"20\" height=\"130\" stroke=\"transparent\" stroke-width=\"12\" fill=\"transparent\"></rect><text x=\"60.0\" y=\"20\" fill=\"transparent\" stroke=\"transparent\" font-size=\"30px\">376K</text></g><g class=\"vert-line\"><rect x=\"100.0\" y=\"0\" width=\"20\" height=\"130\" stroke=\"transparent\" stroke-width=\"12\" fill=\"transparent\"></rect><text x=\"120.0\" y=\"20\" fill=\"transparent\" stroke=\"transparent\" font-size=\"30px\">232K</text></g><g class=\"vert-line\"><rect x=\"160.0\" y=\"0\" width=\"20\" height=\"130\" stroke=\"transparent\" stroke-width=\"12\" fill=\"transparent\"></rect><text x=\"180.0\" y=\"20\" fill=\"transparent\" stroke=\"transparent\" font-size=\"30px\">622K</text></g><g class=\"vert-line\"><rect x=\"220.00000000000003\" y=\"0\" width=\"20\" height=\"130\" stroke=\"transparent\" stroke-width=\"12\" fill=\"transparent\"></rect><text x=\"240.00000000000003\" y=\"20\" fill=\"transparent\" stroke=\"transparent\" font-size=\"30px\">705K</text></g><g class=\"vert-line\"><rect x=\"280.0\" y=\"0\" width=\"20\" height=\"130\" stroke=\"transparent\" stroke-width=\"12\" fill=\"transparent\"></rect><text x=\"300.0\" y=\"20\" fill=\"transparent\" stroke=\"transparent\" font-size=\"30px\">801K</text></g><g class=\"vert-line\"><rect x=\"340.0\" y=\"0\" width=\"20\" height=\"130\" stroke=\"transparent\" stroke-width=\"12\" fill=\"transparent\"></rect><text x=\"360.0\" y=\"20\" fill=\"transparent\" stroke=\"transparent\" font-size=\"30px\">898K</text></g></svg></div></td>\n",
       "  </tr>\n",
       "</tbody>\n",
       "  <tfoot class=\"gt_sourcenotes\">\n",
       "  \n",
       "  <tr>\n",
       "    <td class=\"gt_sourcenote\" colspan=\"10\">Kaggle, July 2017. https://www.kaggle.com/competitions/nyc-taxi-trip-duration</td>\n",
       "  </tr>\n",
       "\n",
       "</tfoot>\n",
       "\n",
       "</table>\n",
       "\n",
       "</div>\n",
       "        "
      ],
      "text/plain": [
       "GT(_tbl_data=shape: (5, 10)\n",
       "┌───────────┬───────────┬───────────┬───────────┬───┬───────────┬───────────┬───────────┬──────────┐\n",
       "│ week      ┆ average_p ┆ average_t ┆ fare_amou ┆ … ┆ tip_amoun ┆ tolls_amo ┆ total_amo ┆ passenge │\n",
       "│ ---       ┆ assenger_ ┆ rip_dista ┆ nt        ┆   ┆ t         ┆ unt       ┆ unt       ┆ r_count_ │\n",
       "│ datetime[ ┆ count     ┆ nce       ┆ ---       ┆   ┆ ---       ┆ ---       ┆ ---       ┆ daily    │\n",
       "│ μs]       ┆ ---       ┆ ---       ┆ f64       ┆   ┆ f64       ┆ f64       ┆ f64       ┆ ---      │\n",
       "│           ┆ f64       ┆ f64       ┆           ┆   ┆           ┆           ┆           ┆ list[i64 │\n",
       "│           ┆           ┆           ┆           ┆   ┆           ┆           ┆           ┆ ]        │\n",
       "╞═══════════╪═══════════╪═══════════╪═══════════╪═══╪═══════════╪═══════════╪═══════════╪══════════╡\n",
       "│ 2014-12-2 ┆ 1.766969  ┆ 19.393444 ┆ 12.259514 ┆ … ┆ 1.33035   ┆ 0.264227  ┆ 14.909873 ┆ [690407, │\n",
       "│ 9         ┆           ┆           ┆           ┆   ┆           ┆           ┆           ┆ 606716,  │\n",
       "│ 00:00:00  ┆           ┆           ┆           ┆   ┆           ┆           ┆           ┆ …        │\n",
       "│           ┆           ┆           ┆           ┆   ┆           ┆           ┆           ┆ 565709]  │\n",
       "│ 2015-01-0 ┆ 1.675578  ┆ 22.713874 ┆ 11.767176 ┆ … ┆ 1.512062  ┆ 0.239516  ┆ 14.637098 ┆ [600760, │\n",
       "│ 5         ┆           ┆           ┆           ┆   ┆           ┆           ┆           ┆ 632469,  │\n",
       "│ 00:00:00  ┆           ┆           ┆           ┆   ┆           ┆           ┆           ┆ …        │\n",
       "│           ┆           ┆           ┆           ┆   ┆           ┆           ┆           ┆ 719033]  │\n",
       "│ 2015-01-1 ┆ 1.671457  ┆ 2.75792   ┆ 11.890466 ┆ … ┆ 2.841937  ┆ 0.248048  ┆ 16.094246 ┆ [648214, │\n",
       "│ 2         ┆           ┆           ┆           ┆   ┆           ┆           ┆           ┆ 734847,  │\n",
       "│ 00:00:00  ┆           ┆           ┆           ┆   ┆           ┆           ┆           ┆ …        │\n",
       "│           ┆           ┆           ┆           ┆   ┆           ┆           ┆           ┆ 743288]  │\n",
       "│ 2015-01-1 ┆ 1.667416  ┆ 18.76329  ┆ 11.924381 ┆ … ┆ 1.612231  ┆ 0.253735  ┆ 14.886225 ┆ [575507, │\n",
       "│ 9         ┆           ┆           ┆           ┆   ┆           ┆           ┆           ┆ 661009,  │\n",
       "│ 00:00:00  ┆           ┆           ┆           ┆   ┆           ┆           ┆           ┆ …        │\n",
       "│           ┆           ┆           ┆           ┆   ┆           ┆           ┆           ┆ 694420]  │\n",
       "│ 2015-01-2 ┆ 1.665861  ┆ 4.784368  ┆ 11.855754 ┆ … ┆ 1.592241  ┆ 0.214637  ┆ 14.783954 ┆ [375606, │\n",
       "│ 6         ┆           ┆           ┆           ┆   ┆           ┆           ┆           ┆ 232108,  │\n",
       "│ 00:00:00  ┆           ┆           ┆           ┆   ┆           ┆           ┆           ┆ …        │\n",
       "│           ┆           ┆           ┆           ┆   ┆           ┆           ┆           ┆ 898122]  │\n",
       "└───────────┴───────────┴───────────┴───────────┴───┴───────────┴───────────┴───────────┴──────────┘, _body=<great_tables._gt_data.Body object at 0x6879cd150>, _boxhead=Boxhead([ColInfo(var='week', type=<ColInfoTypeEnum.stub: 2>, column_label='week', column_align='right', column_width=None), ColInfo(var='average_passenger_count', type=<ColInfoTypeEnum.default: 1>, column_label=Html(text='Passenger<br>count'), column_align='right', column_width=None), ColInfo(var='average_trip_distance', type=<ColInfoTypeEnum.default: 1>, column_label=Html(text='Trip<br>distance'), column_align='right', column_width=None), ColInfo(var='fare_amount', type=<ColInfoTypeEnum.default: 1>, column_label=Html(text='Fare'), column_align='right', column_width=None), ColInfo(var='extra', type=<ColInfoTypeEnum.default: 1>, column_label='Extra', column_align='right', column_width=None), ColInfo(var='mta_tax', type=<ColInfoTypeEnum.default: 1>, column_label='MTA tax', column_align='right', column_width=None), ColInfo(var='tip_amount', type=<ColInfoTypeEnum.default: 1>, column_label='Tip', column_align='right', column_width=None), ColInfo(var='tolls_amount', type=<ColInfoTypeEnum.default: 1>, column_label=Html(text='Tolls'), column_align='right', column_width=None), ColInfo(var='total_amount', type=<ColInfoTypeEnum.default: 1>, column_label=Html(text='Total'), column_align='right', column_width=None), ColInfo(var='passenger_count_daily', type=<ColInfoTypeEnum.default: 1>, column_label=Html(text='Passenger count<br>(daily)'), column_align='center', column_width=None)]), _stub=<great_tables._gt_data.Stub object at 0x4508ff590>, _spanners=Spanners([SpannerInfo(spanner_id='Averages', spanner_level=0, spanner_label='Averages', spanner_units=None, spanner_pattern=None, vars=['average_passenger_count', 'average_trip_distance'], built=None), SpannerInfo(spanner_id='Avg. Costs', spanner_level=0, spanner_label='Avg. Costs', spanner_units=None, spanner_pattern=None, vars=['fare_amount', 'extra', 'mta_tax', 'tip_amount', 'tolls_amount', 'total_amount'], built=None)]), _heading=Heading(title='NYC Taxi dataset', subtitle='Weekly statistics between Dec 29, 2014 to Jan 26, 2015', preheader=None), _stubhead=None, _source_notes=['Kaggle, July 2017. https://www.kaggle.com/competitions/nyc-taxi-trip-duration'], _footnotes=[], _styles=[StyleInfo(locname=LocBody(columns='fare_amount', rows=[0]), grpname=None, colname='fare_amount', rownum=0, colnum=None, styles=[CellStyleText(color='#000000', font=None, size=None, align=None, v_align=None, style=None, weight=None, stretch=None, decorate=None, transform=None, whitespace=None), CellStyleFill(color='#e5e619')]), StyleInfo(locname=LocBody(columns='fare_amount', rows=[1]), grpname=None, colname='fare_amount', rownum=1, colnum=None, styles=[CellStyleText(color='#000000', font=None, size=None, align=None, v_align=None, style=None, weight=None, stretch=None, decorate=None, transform=None, whitespace=None), CellStyleFill(color='#33cc33')]), StyleInfo(locname=LocBody(columns='fare_amount', rows=[2]), grpname=None, colname='fare_amount', rownum=2, colnum=None, styles=[CellStyleText(color='#000000', font=None, size=None, align=None, v_align=None, style=None, weight=None, stretch=None, decorate=None, transform=None, whitespace=None), CellStyleFill(color='#60d32c')]), StyleInfo(locname=LocBody(columns='fare_amount', rows=[3]), grpname=None, colname='fare_amount', rownum=3, colnum=None, styles=[CellStyleText(color='#000000', font=None, size=None, align=None, v_align=None, style=None, weight=None, stretch=None, decorate=None, transform=None, whitespace=None), CellStyleFill(color='#6cd42b')]), StyleInfo(locname=LocBody(columns='fare_amount', rows=[4]), grpname=None, colname='fare_amount', rownum=4, colnum=None, styles=[CellStyleText(color='#000000', font=None, size=None, align=None, v_align=None, style=None, weight=None, stretch=None, decorate=None, transform=None, whitespace=None), CellStyleFill(color='#53d12e')]), StyleInfo(locname=LocBody(columns='extra', rows=[0]), grpname=None, colname='extra', rownum=0, colnum=None, styles=[CellStyleText(color='#000000', font=None, size=None, align=None, v_align=None, style=None, weight=None, stretch=None, decorate=None, transform=None, whitespace=None), CellStyleFill(color='#33cc33')]), StyleInfo(locname=LocBody(columns='extra', rows=[1]), grpname=None, colname='extra', rownum=1, colnum=None, styles=[CellStyleText(color='#000000', font=None, size=None, align=None, v_align=None, style=None, weight=None, stretch=None, decorate=None, transform=None, whitespace=None), CellStyleFill(color='#e0e51a')]), StyleInfo(locname=LocBody(columns='extra', rows=[2]), grpname=None, colname='extra', rownum=2, colnum=None, styles=[CellStyleText(color='#000000', font=None, size=None, align=None, v_align=None, style=None, weight=None, stretch=None, decorate=None, transform=None, whitespace=None), CellStyleFill(color='#d2e31c')]), StyleInfo(locname=LocBody(columns='extra', rows=[3]), grpname=None, colname='extra', rownum=3, colnum=None, styles=[CellStyleText(color='#000000', font=None, size=None, align=None, v_align=None, style=None, weight=None, stretch=None, decorate=None, transform=None, whitespace=None), CellStyleFill(color='#9edc23')]), StyleInfo(locname=LocBody(columns='extra', rows=[4]), grpname=None, colname='extra', rownum=4, colnum=None, styles=[CellStyleText(color='#000000', font=None, size=None, align=None, v_align=None, style=None, weight=None, stretch=None, decorate=None, transform=None, whitespace=None), CellStyleFill(color='#e5e619')]), StyleInfo(locname=LocBody(columns='mta_tax', rows=[0]), grpname=None, colname='mta_tax', rownum=0, colnum=None, styles=[CellStyleText(color='#000000', font=None, size=None, align=None, v_align=None, style=None, weight=None, stretch=None, decorate=None, transform=None, whitespace=None), CellStyleFill(color='#33cc33')]), StyleInfo(locname=LocBody(columns='mta_tax', rows=[1]), grpname=None, colname='mta_tax', rownum=1, colnum=None, styles=[CellStyleText(color='#000000', font=None, size=None, align=None, v_align=None, style=None, weight=None, stretch=None, decorate=None, transform=None, whitespace=None), CellStyleFill(color='#d0e31c')]), StyleInfo(locname=LocBody(columns='mta_tax', rows=[2]), grpname=None, colname='mta_tax', rownum=2, colnum=None, styles=[CellStyleText(color='#000000', font=None, size=None, align=None, v_align=None, style=None, weight=None, stretch=None, decorate=None, transform=None, whitespace=None), CellStyleFill(color='#b0de21')]), StyleInfo(locname=LocBody(columns='mta_tax', rows=[3]), grpname=None, colname='mta_tax', rownum=3, colnum=None, styles=[CellStyleText(color='#000000', font=None, size=None, align=None, v_align=None, style=None, weight=None, stretch=None, decorate=None, transform=None, whitespace=None), CellStyleFill(color='#c4e11e')]), StyleInfo(locname=LocBody(columns='mta_tax', rows=[4]), grpname=None, colname='mta_tax', rownum=4, colnum=None, styles=[CellStyleText(color='#000000', font=None, size=None, align=None, v_align=None, style=None, weight=None, stretch=None, decorate=None, transform=None, whitespace=None), CellStyleFill(color='#e5e619')]), StyleInfo(locname=LocBody(columns='tip_amount', rows=[0]), grpname=None, colname='tip_amount', rownum=0, colnum=None, styles=[CellStyleText(color='#000000', font=None, size=None, align=None, v_align=None, style=None, weight=None, stretch=None, decorate=None, transform=None, whitespace=None), CellStyleFill(color='#33cc33')]), StyleInfo(locname=LocBody(columns='tip_amount', rows=[1]), grpname=None, colname='tip_amount', rownum=1, colnum=None, styles=[CellStyleText(color='#000000', font=None, size=None, align=None, v_align=None, style=None, weight=None, stretch=None, decorate=None, transform=None, whitespace=None), CellStyleFill(color='#48cf30')]), StyleInfo(locname=LocBody(columns='tip_amount', rows=[2]), grpname=None, colname='tip_amount', rownum=2, colnum=None, styles=[CellStyleText(color='#000000', font=None, size=None, align=None, v_align=None, style=None, weight=None, stretch=None, decorate=None, transform=None, whitespace=None), CellStyleFill(color='#e5e619')]), StyleInfo(locname=LocBody(columns='tip_amount', rows=[3]), grpname=None, colname='tip_amount', rownum=3, colnum=None, styles=[CellStyleText(color='#000000', font=None, size=None, align=None, v_align=None, style=None, weight=None, stretch=None, decorate=None, transform=None, whitespace=None), CellStyleFill(color='#54d12e')]), StyleInfo(locname=LocBody(columns='tip_amount', rows=[4]), grpname=None, colname='tip_amount', rownum=4, colnum=None, styles=[CellStyleText(color='#000000', font=None, size=None, align=None, v_align=None, style=None, weight=None, stretch=None, decorate=None, transform=None, whitespace=None), CellStyleFill(color='#52d12e')]), StyleInfo(locname=LocBody(columns='tolls_amount', rows=[0]), grpname=None, colname='tolls_amount', rownum=0, colnum=None, styles=[CellStyleText(color='#000000', font=None, size=None, align=None, v_align=None, style=None, weight=None, stretch=None, decorate=None, transform=None, whitespace=None), CellStyleFill(color='#e5e619')]), StyleInfo(locname=LocBody(columns='tolls_amount', rows=[1]), grpname=None, colname='tolls_amount', rownum=1, colnum=None, styles=[CellStyleText(color='#000000', font=None, size=None, align=None, v_align=None, style=None, weight=None, stretch=None, decorate=None, transform=None, whitespace=None), CellStyleFill(color='#8cd926')]), StyleInfo(locname=LocBody(columns='tolls_amount', rows=[2]), grpname=None, colname='tolls_amount', rownum=2, colnum=None, styles=[CellStyleText(color='#000000', font=None, size=None, align=None, v_align=None, style=None, weight=None, stretch=None, decorate=None, transform=None, whitespace=None), CellStyleFill(color='#abde21')]), StyleInfo(locname=LocBody(columns='tolls_amount', rows=[3]), grpname=None, colname='tolls_amount', rownum=3, colnum=None, styles=[CellStyleText(color='#000000', font=None, size=None, align=None, v_align=None, style=None, weight=None, stretch=None, decorate=None, transform=None, whitespace=None), CellStyleFill(color='#bfe01f')]), StyleInfo(locname=LocBody(columns='tolls_amount', rows=[4]), grpname=None, colname='tolls_amount', rownum=4, colnum=None, styles=[CellStyleText(color='#000000', font=None, size=None, align=None, v_align=None, style=None, weight=None, stretch=None, decorate=None, transform=None, whitespace=None), CellStyleFill(color='#33cc33')]), StyleInfo(locname=LocBody(columns='total_amount', rows=[0]), grpname=None, colname='total_amount', rownum=0, colnum=None, styles=[CellStyleText(color='#000000', font=None, size=None, align=None, v_align=None, style=None, weight=None, stretch=None, decorate=None, transform=None, whitespace=None), CellStyleFill(color='#54d12e')]), StyleInfo(locname=LocBody(columns='total_amount', rows=[1]), grpname=None, colname='total_amount', rownum=1, colnum=None, styles=[CellStyleText(color='#000000', font=None, size=None, align=None, v_align=None, style=None, weight=None, stretch=None, decorate=None, transform=None, whitespace=None), CellStyleFill(color='#33cc33')]), StyleInfo(locname=LocBody(columns='total_amount', rows=[2]), grpname=None, colname='total_amount', rownum=2, colnum=None, styles=[CellStyleText(color='#000000', font=None, size=None, align=None, v_align=None, style=None, weight=None, stretch=None, decorate=None, transform=None, whitespace=None), CellStyleFill(color='#e5e619')]), StyleInfo(locname=LocBody(columns='total_amount', rows=[3]), grpname=None, colname='total_amount', rownum=3, colnum=None, styles=[CellStyleText(color='#000000', font=None, size=None, align=None, v_align=None, style=None, weight=None, stretch=None, decorate=None, transform=None, whitespace=None), CellStyleFill(color='#51d02f')]), StyleInfo(locname=LocBody(columns='total_amount', rows=[4]), grpname=None, colname='total_amount', rownum=4, colnum=None, styles=[CellStyleText(color='#000000', font=None, size=None, align=None, v_align=None, style=None, weight=None, stretch=None, decorate=None, transform=None, whitespace=None), CellStyleFill(color='#45cf30')]), StyleInfo(locname=LocBody(columns='average_passenger_count', rows=[0]), grpname=None, colname='average_passenger_count', rownum=0, colnum=None, styles=[CellStyleText(color='#FFFFFF', font=None, size=None, align=None, v_align=None, style=None, weight=None, stretch=None, decorate=None, transform=None, whitespace=None), CellStyleFill(color='#0000ff')]), StyleInfo(locname=LocBody(columns='average_passenger_count', rows=[1]), grpname=None, colname='average_passenger_count', rownum=1, colnum=None, styles=[CellStyleText(color='#000000', font=None, size=None, align=None, v_align=None, style=None, weight=None, stretch=None, decorate=None, transform=None, whitespace=None), CellStyleFill(color='#e6e6ff')]), StyleInfo(locname=LocBody(columns='average_passenger_count', rows=[2]), grpname=None, colname='average_passenger_count', rownum=2, colnum=None, styles=[CellStyleText(color='#000000', font=None, size=None, align=None, v_align=None, style=None, weight=None, stretch=None, decorate=None, transform=None, whitespace=None), CellStyleFill(color='#f1f1ff')]), StyleInfo(locname=LocBody(columns='average_passenger_count', rows=[3]), grpname=None, colname='average_passenger_count', rownum=3, colnum=None, styles=[CellStyleText(color='#000000', font=None, size=None, align=None, v_align=None, style=None, weight=None, stretch=None, decorate=None, transform=None, whitespace=None), CellStyleFill(color='#fbfbff')]), StyleInfo(locname=LocBody(columns='average_passenger_count', rows=[4]), grpname=None, colname='average_passenger_count', rownum=4, colnum=None, styles=[CellStyleText(color='#000000', font=None, size=None, align=None, v_align=None, style=None, weight=None, stretch=None, decorate=None, transform=None, whitespace=None), CellStyleFill(color='#ffffff')]), StyleInfo(locname=LocBody(columns='average_trip_distance', rows=[0]), grpname=None, colname='average_trip_distance', rownum=0, colnum=None, styles=[CellStyleText(color='#FFFFFF', font=None, size=None, align=None, v_align=None, style=None, weight=None, stretch=None, decorate=None, transform=None, whitespace=None), CellStyleFill(color='#2a2aff')]), StyleInfo(locname=LocBody(columns='average_trip_distance', rows=[1]), grpname=None, colname='average_trip_distance', rownum=1, colnum=None, styles=[CellStyleText(color='#FFFFFF', font=None, size=None, align=None, v_align=None, style=None, weight=None, stretch=None, decorate=None, transform=None, whitespace=None), CellStyleFill(color='#0000ff')]), StyleInfo(locname=LocBody(columns='average_trip_distance', rows=[2]), grpname=None, colname='average_trip_distance', rownum=2, colnum=None, styles=[CellStyleText(color='#000000', font=None, size=None, align=None, v_align=None, style=None, weight=None, stretch=None, decorate=None, transform=None, whitespace=None), CellStyleFill(color='#ffffff')]), StyleInfo(locname=LocBody(columns='average_trip_distance', rows=[3]), grpname=None, colname='average_trip_distance', rownum=3, colnum=None, styles=[CellStyleText(color='#FFFFFF', font=None, size=None, align=None, v_align=None, style=None, weight=None, stretch=None, decorate=None, transform=None, whitespace=None), CellStyleFill(color='#3232ff')]), StyleInfo(locname=LocBody(columns='average_trip_distance', rows=[4]), grpname=None, colname='average_trip_distance', rownum=4, colnum=None, styles=[CellStyleText(color='#000000', font=None, size=None, align=None, v_align=None, style=None, weight=None, stretch=None, decorate=None, transform=None, whitespace=None), CellStyleFill(color='#e5e5ff')])], _locale=<great_tables._gt_data.Locale object at 0x307aa3590>, _formats=[<great_tables._gt_data.FormatInfo object at 0x4508f5390>, <great_tables._gt_data.FormatInfo object at 0x450807f10>, <great_tables._gt_data.FormatInfo object at 0x450805a10>, <great_tables._gt_data.FormatInfo object at 0x6879b7990>], _substitutions=[], _options=Options(table_id=OptionsInfo(scss=False, category='table', type='value', value=None), table_caption=OptionsInfo(scss=False, category='table', type='value', value=None), table_width=OptionsInfo(scss=True, category='table', type='px', value='auto'), table_layout=OptionsInfo(scss=True, category='table', type='value', value='fixed'), table_margin_left=OptionsInfo(scss=True, category='table', type='px', value='auto'), table_margin_right=OptionsInfo(scss=True, category='table', type='px', value='auto'), table_background_color=OptionsInfo(scss=True, category='table', type='value', value='#FFFFFF'), table_additional_css=OptionsInfo(scss=False, category='table', type='values', value=[]), table_font_names=OptionsInfo(scss=False, category='table', type='values', value=['-apple-system', 'BlinkMacSystemFont', 'Segoe UI', 'Roboto', 'Oxygen', 'Ubuntu', 'Cantarell', 'Helvetica Neue', 'Fira Sans', 'Droid Sans', 'Arial', 'sans-serif']), table_font_size=OptionsInfo(scss=True, category='table', type='px', value='16px'), table_font_weight=OptionsInfo(scss=True, category='table', type='value', value='normal'), table_font_style=OptionsInfo(scss=True, category='table', type='value', value='normal'), table_font_color=OptionsInfo(scss=True, category='table', type='value', value='#333333'), table_font_color_light=OptionsInfo(scss=True, category='table', type='value', value='#FFFFFF'), table_border_top_include=OptionsInfo(scss=False, category='table', type='boolean', value=True), table_border_top_style=OptionsInfo(scss=True, category='table', type='value', value='solid'), table_border_top_width=OptionsInfo(scss=True, category='table', type='px', value='2px'), table_border_top_color=OptionsInfo(scss=True, category='table', type='value', value='#A8A8A8'), table_border_right_style=OptionsInfo(scss=True, category='table', type='value', value='none'), table_border_right_width=OptionsInfo(scss=True, category='table', type='px', value='2px'), table_border_right_color=OptionsInfo(scss=True, category='table', type='value', value='#D3D3D3'), table_border_bottom_include=OptionsInfo(scss=False, category='table', type='boolean', value=True), table_border_bottom_style=OptionsInfo(scss=True, category='table', type='value', value='solid'), table_border_bottom_width=OptionsInfo(scss=True, category='table', type='px', value='2px'), table_border_bottom_color=OptionsInfo(scss=True, category='table', type='value', value='#A8A8A8'), table_border_left_style=OptionsInfo(scss=True, category='table', type='value', value='none'), table_border_left_width=OptionsInfo(scss=True, category='table', type='px', value='2px'), table_border_left_color=OptionsInfo(scss=True, category='table', type='value', value='#D3D3D3'), heading_background_color=OptionsInfo(scss=True, category='heading', type='value', value=None), heading_align=OptionsInfo(scss=True, category='heading', type='value', value='center'), heading_title_font_size=OptionsInfo(scss=True, category='heading', type='px', value='125%'), heading_title_font_weight=OptionsInfo(scss=True, category='heading', type='value', value='initial'), heading_subtitle_font_size=OptionsInfo(scss=True, category='heading', type='px', value='85%'), heading_subtitle_font_weight=OptionsInfo(scss=True, category='heading', type='value', value='initial'), heading_padding=OptionsInfo(scss=True, category='heading', type='px', value='4px'), heading_padding_horizontal=OptionsInfo(scss=True, category='heading', type='px', value='5px'), heading_border_bottom_style=OptionsInfo(scss=True, category='heading', type='value', value='solid'), heading_border_bottom_width=OptionsInfo(scss=True, category='heading', type='px', value='2px'), heading_border_bottom_color=OptionsInfo(scss=True, category='heading', type='value', value='#D3D3D3'), heading_border_lr_style=OptionsInfo(scss=True, category='heading', type='value', value='none'), heading_border_lr_width=OptionsInfo(scss=True, category='heading', type='px', value='1px'), heading_border_lr_color=OptionsInfo(scss=True, category='heading', type='value', value='#D3D3D3'), column_labels_background_color=OptionsInfo(scss=True, category='column_labels', type='value', value=None), column_labels_font_size=OptionsInfo(scss=True, category='column_labels', type='px', value='100%'), column_labels_font_weight=OptionsInfo(scss=True, category='column_labels', type='value', value='normal'), column_labels_text_transform=OptionsInfo(scss=True, category='column_labels', type='value', value='inherit'), column_labels_padding=OptionsInfo(scss=True, category='column_labels', type='px', value='5px'), column_labels_padding_horizontal=OptionsInfo(scss=True, category='column_labels', type='px', value='5px'), column_labels_vlines_style=OptionsInfo(scss=True, category='table_body', type='value', value='none'), column_labels_vlines_width=OptionsInfo(scss=True, category='table_body', type='px', value='1px'), column_labels_vlines_color=OptionsInfo(scss=True, category='table_body', type='value', value='#D3D3D3'), column_labels_border_top_style=OptionsInfo(scss=True, category='column_labels', type='value', value='solid'), column_labels_border_top_width=OptionsInfo(scss=True, category='column_labels', type='px', value='2px'), column_labels_border_top_color=OptionsInfo(scss=True, category='column_labels', type='value', value='#D3D3D3'), column_labels_border_bottom_style=OptionsInfo(scss=True, category='column_labels', type='value', value='solid'), column_labels_border_bottom_width=OptionsInfo(scss=True, category='column_labels', type='px', value='2px'), column_labels_border_bottom_color=OptionsInfo(scss=True, category='column_labels', type='value', value='#D3D3D3'), column_labels_border_lr_style=OptionsInfo(scss=True, category='column_labels', type='value', value='none'), column_labels_border_lr_width=OptionsInfo(scss=True, category='column_labels', type='px', value='1px'), column_labels_border_lr_color=OptionsInfo(scss=True, category='column_labels', type='value', value='#D3D3D3'), column_labels_hidden=OptionsInfo(scss=False, category='column_labels', type='boolean', value=False), row_group_background_color=OptionsInfo(scss=True, category='row_group', type='value', value=None), row_group_font_size=OptionsInfo(scss=True, category='row_group', type='px', value='100%'), row_group_font_weight=OptionsInfo(scss=True, category='row_group', type='value', value='initial'), row_group_text_transform=OptionsInfo(scss=True, category='row_group', type='value', value='inherit'), row_group_padding=OptionsInfo(scss=True, category='row_group', type='px', value='8px'), row_group_padding_horizontal=OptionsInfo(scss=True, category='row_group', type='px', value='5px'), row_group_border_top_style=OptionsInfo(scss=True, category='row_group', type='value', value='solid'), row_group_border_top_width=OptionsInfo(scss=True, category='row_group', type='px', value='2px'), row_group_border_top_color=OptionsInfo(scss=True, category='row_group', type='value', value='#D3D3D3'), row_group_border_right_style=OptionsInfo(scss=True, category='row_group', type='value', value='none'), row_group_border_right_width=OptionsInfo(scss=True, category='row_group', type='px', value='1px'), row_group_border_right_color=OptionsInfo(scss=True, category='row_group', type='value', value='#D3D3D3'), row_group_border_bottom_style=OptionsInfo(scss=True, category='row_group', type='value', value='solid'), row_group_border_bottom_width=OptionsInfo(scss=True, category='row_group', type='px', value='2px'), row_group_border_bottom_color=OptionsInfo(scss=True, category='row_group', type='value', value='#D3D3D3'), row_group_border_left_style=OptionsInfo(scss=True, category='row_group', type='value', value='none'), row_group_border_left_width=OptionsInfo(scss=True, category='row_group', type='px', value='1px'), row_group_border_left_color=OptionsInfo(scss=True, category='row_group', type='value', value='#D3D3D3'), row_group_as_column=OptionsInfo(scss=False, category='row_group', type='boolean', value=False), table_body_hlines_style=OptionsInfo(scss=True, category='table_body', type='value', value='solid'), table_body_hlines_width=OptionsInfo(scss=True, category='table_body', type='px', value='1px'), table_body_hlines_color=OptionsInfo(scss=True, category='table_body', type='value', value='#D3D3D3'), table_body_vlines_style=OptionsInfo(scss=True, category='table_body', type='value', value='none'), table_body_vlines_width=OptionsInfo(scss=True, category='table_body', type='px', value='1px'), table_body_vlines_color=OptionsInfo(scss=True, category='table_body', type='value', value='#D3D3D3'), table_body_border_top_style=OptionsInfo(scss=True, category='table_body', type='value', value='solid'), table_body_border_top_width=OptionsInfo(scss=True, category='table_body', type='px', value='2px'), table_body_border_top_color=OptionsInfo(scss=True, category='table_body', type='value', value='#D3D3D3'), table_body_border_bottom_style=OptionsInfo(scss=True, category='table_body', type='value', value='solid'), table_body_border_bottom_width=OptionsInfo(scss=True, category='table_body', type='px', value='2px'), table_body_border_bottom_color=OptionsInfo(scss=True, category='table_body', type='value', value='#D3D3D3'), data_row_padding=OptionsInfo(scss=True, category='data_row', type='px', value='8px'), data_row_padding_horizontal=OptionsInfo(scss=True, category='data_row', type='px', value='5px'), stub_background_color=OptionsInfo(scss=True, category='stub', type='value', value=None), stub_font_size=OptionsInfo(scss=True, category='stub', type='px', value='100%'), stub_font_weight=OptionsInfo(scss=True, category='stub', type='value', value='initial'), stub_text_transform=OptionsInfo(scss=True, category='stub', type='value', value='inherit'), stub_border_style=OptionsInfo(scss=True, category='stub', type='value', value='solid'), stub_border_width=OptionsInfo(scss=True, category='stub', type='px', value='2px'), stub_border_color=OptionsInfo(scss=True, category='stub', type='value', value='#D3D3D3'), stub_row_group_background_color=OptionsInfo(scss=True, category='stub', type='value', value=None), stub_row_group_font_size=OptionsInfo(scss=True, category='stub', type='px', value='100%'), stub_row_group_font_weight=OptionsInfo(scss=True, category='stub', type='value', value='initial'), stub_row_group_text_transform=OptionsInfo(scss=True, category='stub', type='value', value='inherit'), stub_row_group_border_style=OptionsInfo(scss=True, category='stub', type='value', value='solid'), stub_row_group_border_width=OptionsInfo(scss=True, category='stub', type='px', value='2px'), stub_row_group_border_color=OptionsInfo(scss=True, category='stub', type='value', value='#D3D3D3'), source_notes_padding=OptionsInfo(scss=True, category='source_notes', type='px', value='4px'), source_notes_padding_horizontal=OptionsInfo(scss=True, category='source_notes', type='px', value='5px'), source_notes_background_color=OptionsInfo(scss=True, category='source_notes', type='value', value=None), source_notes_font_size=OptionsInfo(scss=True, category='source_notes', type='px', value='90%'), source_notes_border_bottom_style=OptionsInfo(scss=True, category='source_notes', type='value', value='none'), source_notes_border_bottom_width=OptionsInfo(scss=True, category='source_notes', type='px', value='2px'), source_notes_border_bottom_color=OptionsInfo(scss=True, category='source_notes', type='value', value='#D3D3D3'), source_notes_border_lr_style=OptionsInfo(scss=True, category='source_notes', type='value', value='none'), source_notes_border_lr_width=OptionsInfo(scss=True, category='source_notes', type='px', value='2px'), source_notes_border_lr_color=OptionsInfo(scss=True, category='source_notes', type='value', value='#D3D3D3'), source_notes_multiline=OptionsInfo(scss=False, category='source_notes', type='boolean', value=True), source_notes_sep=OptionsInfo(scss=False, category='source_notes', type='value', value=' '), row_striping_background_color=OptionsInfo(scss=True, category='row', type='value', value='rgba(128,128,128,0.05)'), row_striping_include_stub=OptionsInfo(scss=False, category='row', type='boolean', value=False), row_striping_include_table_body=OptionsInfo(scss=False, category='row', type='boolean', value=False), container_width=OptionsInfo(scss=False, category='container', type='px', value='auto'), container_height=OptionsInfo(scss=False, category='container', type='px', value='auto'), container_padding_x=OptionsInfo(scss=False, category='container', type='px', value='0px'), container_padding_y=OptionsInfo(scss=False, category='container', type='px', value='10px'), container_overflow_x=OptionsInfo(scss=False, category='container', type='overflow', value='auto'), container_overflow_y=OptionsInfo(scss=False, category='container', type='overflow', value='auto'), quarto_disable_processing=OptionsInfo(scss=False, category='quarto', type='logical', value=False), quarto_use_bootstrap=OptionsInfo(scss=False, category='quarto', type='logical', value=False)), _has_built=False)"
      ]
     },
     "execution_count": 154,
     "metadata": {},
     "output_type": "execute_result"
    }
   ],
   "source": [
    "gt2"
   ]
  },
  {
   "cell_type": "code",
   "execution_count": null,
   "id": "d415dc4e",
   "metadata": {},
   "outputs": [],
   "source": []
  }
 ],
 "metadata": {
  "kernelspec": {
   "display_name": "Python 3 (ipykernel)",
   "language": "python",
   "name": "python3"
  },
  "language_info": {
   "codemirror_mode": {
    "name": "ipython",
    "version": 3
   },
   "file_extension": ".py",
   "mimetype": "text/x-python",
   "name": "python",
   "nbconvert_exporter": "python",
   "pygments_lexer": "ipython3",
   "version": "3.11.2"
  }
 },
 "nbformat": 4,
 "nbformat_minor": 5
}
