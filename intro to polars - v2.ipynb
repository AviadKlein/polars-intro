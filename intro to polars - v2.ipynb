{
 "cells": [
  {
   "cell_type": "markdown",
   "id": "930de69e",
   "metadata": {},
   "source": [
    "<img src=\"https://www.pola.rs/share.jpg\" width=400 height=200></img>"
   ]
  },
  {
   "cell_type": "code",
   "execution_count": 1,
   "id": "6b8475e9",
   "metadata": {},
   "outputs": [],
   "source": [
    "# !pip install polars altair great-tables colorzero"
   ]
  },
  {
   "cell_type": "code",
   "execution_count": 120,
   "id": "0444c940",
   "metadata": {},
   "outputs": [],
   "source": [
    "import polars as pl\n",
    "import pandas as pd\n",
    "import numpy as np\n",
    "import math\n",
    "import matplotlib.pyplot as plt\n",
    "from datetime import date"
   ]
  },
  {
   "cell_type": "code",
   "execution_count": 6,
   "id": "adf60e9b",
   "metadata": {},
   "outputs": [],
   "source": [
    "_file_location = './limited-memory-example/yellow_tripdata_2015-01.csv' # ~2GB file"
   ]
  },
  {
   "cell_type": "markdown",
   "id": "7bfdb056",
   "metadata": {},
   "source": [
    "# The history of the `DataFrame`"
   ]
  },
  {
   "cell_type": "markdown",
   "id": "05507dad",
   "metadata": {},
   "source": [
    "<img src=\"./df_hist.png\" width=1000 height=500></img>"
   ]
  },
  {
   "cell_type": "markdown",
   "id": "09287a1a",
   "metadata": {},
   "source": [
    "# Why the name \"Polars\"?\n",
    "\n",
    "<font size=5>Because Pandas started it!</font>\n",
    "\n",
    "<font size=5>Pandas: **Pan**el **Da**ta</font>\n",
    "\n",
    "<font size=5>Polars: still an ursine, but with the `rs` suffix</font>"
   ]
  },
  {
   "cell_type": "markdown",
   "id": "7586d15a",
   "metadata": {},
   "source": [
    "# Who?\n",
    "\n",
    "https://www.ritchievink.com/"
   ]
  },
  {
   "cell_type": "markdown",
   "id": "c7e3bae8",
   "metadata": {},
   "source": [
    "# Why?\n",
    "\n",
    "### 1. Based on the Rust programming language, which is a very interesting language to know, might be very relevant for DS one day. polars has a python and a rust api.\n",
    "### 2. FAST!\n",
    "### 3. Can operate on datasets beyond the RAM size\n",
    "### 4. Come for speed, stay for the API."
   ]
  },
  {
   "cell_type": "markdown",
   "id": "99bba9dd",
   "metadata": {},
   "source": [
    "# A few words on Rust \n",
    "\n",
    "1. C/C++ performance \n",
    "2. Memory safety\n",
    "3. Out of the box parallelism and concurrency\n",
    "4. Data processing and ML: \n",
    "    - [Linfa](https://github.com/rust-ml/linfa) - scikit equivalent\n",
    "    - [Burn](https://github.com/tracel-ai/burn) - DL package\n",
    "    - [Polars](https://github.com/pola-rs/polars) - pandas equivalent\n",
    "    \n",
    "<img src=\"https://upload.wikimedia.org/wikipedia/commons/thumb/d/d5/Rust_programming_language_black_logo.svg/2048px-Rust_programming_language_black_logo.svg.png\" width=50 height=50></img>"
   ]
  },
  {
   "cell_type": "markdown",
   "id": "40606fce",
   "metadata": {},
   "source": [
    "<br>\n",
    "<br>\n",
    "<br>\n",
    "<br>\n",
    " "
   ]
  },
  {
   "cell_type": "markdown",
   "id": "fa9fa3ec",
   "metadata": {},
   "source": [
    "## What we will cover:\n",
    "\n",
    "- Benefits of polars, namely speed\n",
    "- API differences from Pandas\n",
    "- Eager API\n",
    "- Lazy API\n",
    "- SQL API (Yes, you can use polars directly with SQL)\n"
   ]
  },
  {
   "cell_type": "markdown",
   "id": "b0110188",
   "metadata": {},
   "source": [
    "#### The full dataset contains 12,748,986 rows and 19 columns\n",
    "\n",
    "#### Reading the full dataset with pandas will kill the kernel...\n",
    "\n",
    "#### On polars, however..."
   ]
  },
  {
   "cell_type": "code",
   "execution_count": 7,
   "id": "754db9cb",
   "metadata": {},
   "outputs": [
    {
     "name": "stdout",
     "output_type": "stream",
     "text": [
      "CPU times: user 4.38 s, sys: 975 ms, total: 5.35 s\n",
      "Wall time: 3.99 s\n"
     ]
    }
   ],
   "source": [
    "%time df = pl.read_csv(_file_location)"
   ]
  },
  {
   "cell_type": "markdown",
   "id": "f574892a",
   "metadata": {},
   "source": [
    "#### Forcing it to use the arrow parser is even shorter"
   ]
  },
  {
   "cell_type": "code",
   "execution_count": 8,
   "id": "5f5c9c97",
   "metadata": {},
   "outputs": [
    {
     "name": "stdout",
     "output_type": "stream",
     "text": [
      "CPU times: user 9.26 s, sys: 3.11 s, total: 12.4 s\n",
      "Wall time: 2.21 s\n"
     ]
    }
   ],
   "source": [
    "%time df = pl.read_csv(_file_location, use_pyarrow=True)"
   ]
  },
  {
   "cell_type": "code",
   "execution_count": 9,
   "id": "0ffde76e",
   "metadata": {},
   "outputs": [
    {
     "data": {
      "text/plain": [
       "polars.dataframe.frame.DataFrame"
      ]
     },
     "execution_count": 9,
     "metadata": {},
     "output_type": "execute_result"
    }
   ],
   "source": [
    "type(df)"
   ]
  },
  {
   "cell_type": "markdown",
   "id": "cf1ef736",
   "metadata": {},
   "source": [
    "## polars DataFrames have `Schema`s\n",
    "\n",
    "[`Schemas`](https://docs.pola.rs/api/python/dev/reference/dataframe/api/polars.DataFrame.schema.html) operate like `dict` with keys that are the column names and types that are part of `polars` magic.\n",
    "\n",
    "Some key methods are:\n",
    "- `names()` can also be accessed via `df.columns`\n",
    "- `dtypes()`\n",
    "- `values()`\n",
    "- `items()`\n",
    "- `keys()`\n",
    "- `to_python()`- will return a `dict`"
   ]
  },
  {
   "cell_type": "code",
   "execution_count": 12,
   "id": "386718c3",
   "metadata": {},
   "outputs": [
    {
     "data": {
      "text/plain": [
       "Schema([('VendorID', Int64),\n",
       "        ('tpep_pickup_datetime', Datetime(time_unit='ms', time_zone=None)),\n",
       "        ('tpep_dropoff_datetime', Datetime(time_unit='ms', time_zone=None)),\n",
       "        ('passenger_count', Int64),\n",
       "        ('trip_distance', Float64),\n",
       "        ('pickup_longitude', Float64),\n",
       "        ('pickup_latitude', Float64),\n",
       "        ('RateCodeID', Int64),\n",
       "        ('store_and_fwd_flag', String),\n",
       "        ('dropoff_longitude', Float64),\n",
       "        ('dropoff_latitude', Float64),\n",
       "        ('payment_type', Int64),\n",
       "        ('fare_amount', Float64),\n",
       "        ('extra', Float64),\n",
       "        ('mta_tax', Float64),\n",
       "        ('tip_amount', Float64),\n",
       "        ('tolls_amount', Float64),\n",
       "        ('improvement_surcharge', Float64),\n",
       "        ('total_amount', Float64)])"
      ]
     },
     "execution_count": 12,
     "metadata": {},
     "output_type": "execute_result"
    }
   ],
   "source": [
    "df.schema"
   ]
  },
  {
   "cell_type": "code",
   "execution_count": 13,
   "id": "8082c506",
   "metadata": {},
   "outputs": [
    {
     "data": {
      "text/plain": [
       "['VendorID',\n",
       " 'tpep_pickup_datetime',\n",
       " 'tpep_dropoff_datetime',\n",
       " 'passenger_count',\n",
       " 'trip_distance',\n",
       " 'pickup_longitude',\n",
       " 'pickup_latitude',\n",
       " 'RateCodeID',\n",
       " 'store_and_fwd_flag',\n",
       " 'dropoff_longitude',\n",
       " 'dropoff_latitude',\n",
       " 'payment_type',\n",
       " 'fare_amount',\n",
       " 'extra',\n",
       " 'mta_tax',\n",
       " 'tip_amount',\n",
       " 'tolls_amount',\n",
       " 'improvement_surcharge',\n",
       " 'total_amount']"
      ]
     },
     "execution_count": 13,
     "metadata": {},
     "output_type": "execute_result"
    }
   ],
   "source": [
    "df.columns # is equivalent to df.schema.names()"
   ]
  },
  {
   "cell_type": "code",
   "execution_count": 14,
   "id": "fb4b779e",
   "metadata": {},
   "outputs": [
    {
     "data": {
      "text/plain": [
       "1.7216464607045054"
      ]
     },
     "execution_count": 14,
     "metadata": {},
     "output_type": "execute_result"
    }
   ],
   "source": [
    "df.estimated_size('gb')"
   ]
  },
  {
   "cell_type": "markdown",
   "id": "81252c8b",
   "metadata": {},
   "source": [
    "## Dtypes\n",
    "\n",
    "### `polars` uses columnar storage, since logically, every column has 1 type, having a declared type for each column allows for storing and treating each column separately and in an optimized way"
   ]
  },
  {
   "cell_type": "code",
   "execution_count": 15,
   "id": "96114e6d",
   "metadata": {},
   "outputs": [
    {
     "data": {
      "text/plain": [
       "Int64"
      ]
     },
     "execution_count": 15,
     "metadata": {},
     "output_type": "execute_result"
    }
   ],
   "source": [
    "df.schema['VendorID']"
   ]
  },
  {
   "cell_type": "code",
   "execution_count": 16,
   "id": "56970a92",
   "metadata": {},
   "outputs": [],
   "source": [
    "dt = df.schema['VendorID']"
   ]
  },
  {
   "cell_type": "code",
   "execution_count": 17,
   "id": "a04dcd9f",
   "metadata": {},
   "outputs": [
    {
     "data": {
      "text/plain": [
       "polars.datatypes.classes.DataTypeClass"
      ]
     },
     "execution_count": 17,
     "metadata": {},
     "output_type": "execute_result"
    }
   ],
   "source": [
    "type(type(dt))"
   ]
  },
  {
   "cell_type": "code",
   "execution_count": 18,
   "id": "190172c1",
   "metadata": {},
   "outputs": [
    {
     "data": {
      "text/plain": [
       "(<Expr ['-9223372036854775808'] at 0x11B90DD50>,\n",
       " <Expr ['9223372036854775807'] at 0x11BC15850>)"
      ]
     },
     "execution_count": 18,
     "metadata": {},
     "output_type": "execute_result"
    }
   ],
   "source": [
    "dt.min(), dt.max()"
   ]
  },
  {
   "cell_type": "code",
   "execution_count": 19,
   "id": "b88cb431",
   "metadata": {},
   "outputs": [
    {
     "data": {
      "text/plain": [
       "True"
      ]
     },
     "execution_count": 19,
     "metadata": {},
     "output_type": "execute_result"
    }
   ],
   "source": [
    "dt.is_numeric()"
   ]
  },
  {
   "cell_type": "code",
   "execution_count": 20,
   "id": "c8c5c577",
   "metadata": {},
   "outputs": [
    {
     "data": {
      "text/plain": [
       "False"
      ]
     },
     "execution_count": 20,
     "metadata": {},
     "output_type": "execute_result"
    }
   ],
   "source": [
    "dt.is_decimal()"
   ]
  },
  {
   "cell_type": "code",
   "execution_count": 21,
   "id": "0e01c775",
   "metadata": {},
   "outputs": [
    {
     "data": {
      "text/plain": [
       "True"
      ]
     },
     "execution_count": 21,
     "metadata": {},
     "output_type": "execute_result"
    }
   ],
   "source": [
    "dt.is_(df.schema['passenger_count'])"
   ]
  },
  {
   "cell_type": "markdown",
   "id": "e139f101",
   "metadata": {},
   "source": [
    "# Eager Execution using `polars`"
   ]
  },
  {
   "cell_type": "markdown",
   "id": "3606c0e0",
   "metadata": {},
   "source": [
    "## Basic DataFrame methods"
   ]
  },
  {
   "cell_type": "markdown",
   "id": "df8922d3",
   "metadata": {},
   "source": [
    "### Creating DataFrames ad hoc"
   ]
  },
  {
   "cell_type": "code",
   "execution_count": 24,
   "id": "4b1835b2",
   "metadata": {},
   "outputs": [
    {
     "data": {
      "text/html": [
       "<div><style>\n",
       ".dataframe > thead > tr,\n",
       ".dataframe > tbody > tr {\n",
       "  text-align: right;\n",
       "  white-space: pre-wrap;\n",
       "}\n",
       "</style>\n",
       "<small>shape: (4, 2)</small><table border=\"1\" class=\"dataframe\"><thead><tr><th>a</th><th>b</th></tr><tr><td>i64</td><td>i64</td></tr></thead><tbody><tr><td>1</td><td>4</td></tr><tr><td>2</td><td>5</td></tr><tr><td>3</td><td>6</td></tr><tr><td>4</td><td>7</td></tr></tbody></table></div>"
      ],
      "text/plain": [
       "shape: (4, 2)\n",
       "┌─────┬─────┐\n",
       "│ a   ┆ b   │\n",
       "│ --- ┆ --- │\n",
       "│ i64 ┆ i64 │\n",
       "╞═════╪═════╡\n",
       "│ 1   ┆ 4   │\n",
       "│ 2   ┆ 5   │\n",
       "│ 3   ┆ 6   │\n",
       "│ 4   ┆ 7   │\n",
       "└─────┴─────┘"
      ]
     },
     "execution_count": 24,
     "metadata": {},
     "output_type": "execute_result"
    }
   ],
   "source": [
    "pl.DataFrame({'a': [1,2,3,4], 'b': [4,5,6,7]})"
   ]
  },
  {
   "cell_type": "markdown",
   "id": "ba8e182e",
   "metadata": {},
   "source": [
    "### The NYC Dataset"
   ]
  },
  {
   "cell_type": "code",
   "execution_count": 25,
   "id": "7295cc19",
   "metadata": {},
   "outputs": [
    {
     "data": {
      "text/html": [
       "<div><style>\n",
       ".dataframe > thead > tr,\n",
       ".dataframe > tbody > tr {\n",
       "  text-align: right;\n",
       "  white-space: pre-wrap;\n",
       "}\n",
       "</style>\n",
       "<small>shape: (5, 19)</small><table border=\"1\" class=\"dataframe\"><thead><tr><th>VendorID</th><th>tpep_pickup_datetime</th><th>tpep_dropoff_datetime</th><th>passenger_count</th><th>trip_distance</th><th>pickup_longitude</th><th>pickup_latitude</th><th>RateCodeID</th><th>store_and_fwd_flag</th><th>dropoff_longitude</th><th>dropoff_latitude</th><th>payment_type</th><th>fare_amount</th><th>extra</th><th>mta_tax</th><th>tip_amount</th><th>tolls_amount</th><th>improvement_surcharge</th><th>total_amount</th></tr><tr><td>i64</td><td>datetime[ms]</td><td>datetime[ms]</td><td>i64</td><td>f64</td><td>f64</td><td>f64</td><td>i64</td><td>str</td><td>f64</td><td>f64</td><td>i64</td><td>f64</td><td>f64</td><td>f64</td><td>f64</td><td>f64</td><td>f64</td><td>f64</td></tr></thead><tbody><tr><td>2</td><td>2015-01-15 19:05:39</td><td>2015-01-15 19:23:42</td><td>1</td><td>1.59</td><td>-73.993896</td><td>40.750111</td><td>1</td><td>&quot;N&quot;</td><td>-73.974785</td><td>40.750618</td><td>1</td><td>12.0</td><td>1.0</td><td>0.5</td><td>3.25</td><td>0.0</td><td>0.3</td><td>17.05</td></tr><tr><td>1</td><td>2015-01-10 20:33:38</td><td>2015-01-10 20:53:28</td><td>1</td><td>3.3</td><td>-74.001648</td><td>40.724243</td><td>1</td><td>&quot;N&quot;</td><td>-73.994415</td><td>40.759109</td><td>1</td><td>14.5</td><td>0.5</td><td>0.5</td><td>2.0</td><td>0.0</td><td>0.3</td><td>17.8</td></tr><tr><td>1</td><td>2015-01-10 20:33:38</td><td>2015-01-10 20:43:41</td><td>1</td><td>1.8</td><td>-73.963341</td><td>40.802788</td><td>1</td><td>&quot;N&quot;</td><td>-73.95182</td><td>40.824413</td><td>2</td><td>9.5</td><td>0.5</td><td>0.5</td><td>0.0</td><td>0.0</td><td>0.3</td><td>10.8</td></tr><tr><td>1</td><td>2015-01-10 20:33:39</td><td>2015-01-10 20:35:31</td><td>1</td><td>0.5</td><td>-74.009087</td><td>40.713818</td><td>1</td><td>&quot;N&quot;</td><td>-74.004326</td><td>40.719986</td><td>2</td><td>3.5</td><td>0.5</td><td>0.5</td><td>0.0</td><td>0.0</td><td>0.3</td><td>4.8</td></tr><tr><td>1</td><td>2015-01-10 20:33:39</td><td>2015-01-10 20:52:58</td><td>1</td><td>3.0</td><td>-73.971176</td><td>40.762428</td><td>1</td><td>&quot;N&quot;</td><td>-74.004181</td><td>40.742653</td><td>2</td><td>15.0</td><td>0.5</td><td>0.5</td><td>0.0</td><td>0.0</td><td>0.3</td><td>16.3</td></tr></tbody></table></div>"
      ],
      "text/plain": [
       "shape: (5, 19)\n",
       "┌──────────┬───────────┬───────────┬───────────┬───┬───────────┬───────────┬───────────┬───────────┐\n",
       "│ VendorID ┆ tpep_pick ┆ tpep_drop ┆ passenger ┆ … ┆ tip_amoun ┆ tolls_amo ┆ improveme ┆ total_amo │\n",
       "│ ---      ┆ up_dateti ┆ off_datet ┆ _count    ┆   ┆ t         ┆ unt       ┆ nt_surcha ┆ unt       │\n",
       "│ i64      ┆ me        ┆ ime       ┆ ---       ┆   ┆ ---       ┆ ---       ┆ rge       ┆ ---       │\n",
       "│          ┆ ---       ┆ ---       ┆ i64       ┆   ┆ f64       ┆ f64       ┆ ---       ┆ f64       │\n",
       "│          ┆ datetime[ ┆ datetime[ ┆           ┆   ┆           ┆           ┆ f64       ┆           │\n",
       "│          ┆ ms]       ┆ ms]       ┆           ┆   ┆           ┆           ┆           ┆           │\n",
       "╞══════════╪═══════════╪═══════════╪═══════════╪═══╪═══════════╪═══════════╪═══════════╪═══════════╡\n",
       "│ 2        ┆ 2015-01-1 ┆ 2015-01-1 ┆ 1         ┆ … ┆ 3.25      ┆ 0.0       ┆ 0.3       ┆ 17.05     │\n",
       "│          ┆ 5         ┆ 5         ┆           ┆   ┆           ┆           ┆           ┆           │\n",
       "│          ┆ 19:05:39  ┆ 19:23:42  ┆           ┆   ┆           ┆           ┆           ┆           │\n",
       "│ 1        ┆ 2015-01-1 ┆ 2015-01-1 ┆ 1         ┆ … ┆ 2.0       ┆ 0.0       ┆ 0.3       ┆ 17.8      │\n",
       "│          ┆ 0         ┆ 0         ┆           ┆   ┆           ┆           ┆           ┆           │\n",
       "│          ┆ 20:33:38  ┆ 20:53:28  ┆           ┆   ┆           ┆           ┆           ┆           │\n",
       "│ 1        ┆ 2015-01-1 ┆ 2015-01-1 ┆ 1         ┆ … ┆ 0.0       ┆ 0.0       ┆ 0.3       ┆ 10.8      │\n",
       "│          ┆ 0         ┆ 0         ┆           ┆   ┆           ┆           ┆           ┆           │\n",
       "│          ┆ 20:33:38  ┆ 20:43:41  ┆           ┆   ┆           ┆           ┆           ┆           │\n",
       "│ 1        ┆ 2015-01-1 ┆ 2015-01-1 ┆ 1         ┆ … ┆ 0.0       ┆ 0.0       ┆ 0.3       ┆ 4.8       │\n",
       "│          ┆ 0         ┆ 0         ┆           ┆   ┆           ┆           ┆           ┆           │\n",
       "│          ┆ 20:33:39  ┆ 20:35:31  ┆           ┆   ┆           ┆           ┆           ┆           │\n",
       "│ 1        ┆ 2015-01-1 ┆ 2015-01-1 ┆ 1         ┆ … ┆ 0.0       ┆ 0.0       ┆ 0.3       ┆ 16.3      │\n",
       "│          ┆ 0         ┆ 0         ┆           ┆   ┆           ┆           ┆           ┆           │\n",
       "│          ┆ 20:33:39  ┆ 20:52:58  ┆           ┆   ┆           ┆           ┆           ┆           │\n",
       "└──────────┴───────────┴───────────┴───────────┴───┴───────────┴───────────┴───────────┴───────────┘"
      ]
     },
     "execution_count": 25,
     "metadata": {},
     "output_type": "execute_result"
    }
   ],
   "source": [
    "# Our NYC dataset\n",
    "\n",
    "df.head()\n",
    "\n",
    "# Note that strings are quoted \"some str\""
   ]
  },
  {
   "cell_type": "markdown",
   "id": "a5619b29",
   "metadata": {},
   "source": [
    "## Some attributes"
   ]
  },
  {
   "cell_type": "code",
   "execution_count": 29,
   "id": "caa4d75a",
   "metadata": {},
   "outputs": [
    {
     "data": {
      "text/plain": [
       "(12748986, 19)"
      ]
     },
     "execution_count": 29,
     "metadata": {},
     "output_type": "execute_result"
    }
   ],
   "source": [
    "df.shape"
   ]
  },
  {
   "cell_type": "code",
   "execution_count": 30,
   "id": "b3a8246c",
   "metadata": {},
   "outputs": [
    {
     "data": {
      "text/plain": [
       "12748986"
      ]
     },
     "execution_count": 30,
     "metadata": {},
     "output_type": "execute_result"
    }
   ],
   "source": [
    "df.height  # how many rows"
   ]
  },
  {
   "cell_type": "code",
   "execution_count": 31,
   "id": "48479402",
   "metadata": {},
   "outputs": [
    {
     "data": {
      "text/plain": [
       "19"
      ]
     },
     "execution_count": 31,
     "metadata": {},
     "output_type": "execute_result"
    }
   ],
   "source": [
    "df.width  # how many columns"
   ]
  },
  {
   "cell_type": "markdown",
   "id": "01ed929f",
   "metadata": {},
   "source": [
    "### The `describe()` method"
   ]
  },
  {
   "cell_type": "code",
   "execution_count": 32,
   "id": "994fda95",
   "metadata": {},
   "outputs": [
    {
     "name": "stdout",
     "output_type": "stream",
     "text": [
      "CPU times: user 3.03 s, sys: 2.57 s, total: 5.59 s\n",
      "Wall time: 1.24 s\n"
     ]
    },
    {
     "data": {
      "text/html": [
       "<div><style>\n",
       ".dataframe > thead > tr,\n",
       ".dataframe > tbody > tr {\n",
       "  text-align: right;\n",
       "  white-space: pre-wrap;\n",
       "}\n",
       "</style>\n",
       "<small>shape: (9, 20)</small><table border=\"1\" class=\"dataframe\"><thead><tr><th>statistic</th><th>VendorID</th><th>tpep_pickup_datetime</th><th>tpep_dropoff_datetime</th><th>passenger_count</th><th>trip_distance</th><th>pickup_longitude</th><th>pickup_latitude</th><th>RateCodeID</th><th>store_and_fwd_flag</th><th>dropoff_longitude</th><th>dropoff_latitude</th><th>payment_type</th><th>fare_amount</th><th>extra</th><th>mta_tax</th><th>tip_amount</th><th>tolls_amount</th><th>improvement_surcharge</th><th>total_amount</th></tr><tr><td>str</td><td>f64</td><td>str</td><td>str</td><td>f64</td><td>f64</td><td>f64</td><td>f64</td><td>f64</td><td>str</td><td>f64</td><td>f64</td><td>f64</td><td>f64</td><td>f64</td><td>f64</td><td>f64</td><td>f64</td><td>f64</td><td>f64</td></tr></thead><tbody><tr><td>&quot;count&quot;</td><td>1.2748986e7</td><td>&quot;12748986&quot;</td><td>&quot;12748986&quot;</td><td>1.2748986e7</td><td>1.2748986e7</td><td>1.2748986e7</td><td>1.2748986e7</td><td>1.2748986e7</td><td>&quot;12748986&quot;</td><td>1.2748986e7</td><td>1.2748986e7</td><td>1.2748986e7</td><td>1.2748986e7</td><td>1.2748986e7</td><td>1.2748986e7</td><td>1.2748986e7</td><td>1.2748986e7</td><td>1.2748983e7</td><td>1.2748986e7</td></tr><tr><td>&quot;null_count&quot;</td><td>0.0</td><td>&quot;0&quot;</td><td>&quot;0&quot;</td><td>0.0</td><td>0.0</td><td>0.0</td><td>0.0</td><td>0.0</td><td>&quot;0&quot;</td><td>0.0</td><td>0.0</td><td>0.0</td><td>0.0</td><td>0.0</td><td>0.0</td><td>0.0</td><td>0.0</td><td>3.0</td><td>0.0</td></tr><tr><td>&quot;mean&quot;</td><td>1.521437</td><td>&quot;2015-01-16 14:42:45.468000&quot;</td><td>&quot;2015-01-16 14:56:56.208000&quot;</td><td>1.681491</td><td>13.45913</td><td>-72.561838</td><td>39.972823</td><td>1.036901</td><td>null</td><td>-72.609039</td><td>39.999614</td><td>1.386712</td><td>11.905659</td><td>0.308279</td><td>0.497799</td><td>1.853814</td><td>0.243498</td><td>0.283143</td><td>15.108295</td></tr><tr><td>&quot;std&quot;</td><td>0.49954</td><td>null</td><td>null</td><td>1.337924</td><td>9844.094218</td><td>10.125104</td><td>5.578691</td><td>0.673224</td><td>null</td><td>9.966037</td><td>5.487742</td><td>0.498861</td><td>10.302537</td><td>0.591664</td><td>0.035342</td><td>1106.432314</td><td>1.527171</td><td>0.069086</td><td>1106.503247</td></tr><tr><td>&quot;min&quot;</td><td>1.0</td><td>&quot;2015-01-01 00:00:00&quot;</td><td>&quot;2015-01-01 00:00:00&quot;</td><td>0.0</td><td>0.0</td><td>-121.925812</td><td>0.0</td><td>1.0</td><td>&quot;N&quot;</td><td>-740.166687</td><td>-9.029157</td><td>1.0</td><td>-450.0</td><td>-79.0</td><td>-0.5</td><td>-92.42</td><td>-26.0</td><td>0.0</td><td>-450.3</td></tr><tr><td>&quot;25%&quot;</td><td>1.0</td><td>&quot;2015-01-09 09:26:51&quot;</td><td>&quot;2015-01-09 09:44:29&quot;</td><td>1.0</td><td>1.0</td><td>-73.991684</td><td>40.735542</td><td>1.0</td><td>null</td><td>-73.991196</td><td>40.73436</td><td>1.0</td><td>6.5</td><td>0.0</td><td>0.5</td><td>0.0</td><td>0.0</td><td>0.3</td><td>8.16</td></tr><tr><td>&quot;50%&quot;</td><td>2.0</td><td>&quot;2015-01-16 11:42:49&quot;</td><td>&quot;2015-01-16 11:56:56&quot;</td><td>1.0</td><td>1.68</td><td>-73.981598</td><td>40.753143</td><td>1.0</td><td>null</td><td>-73.979759</td><td>40.753624</td><td>1.0</td><td>9.0</td><td>0.0</td><td>0.5</td><td>1.0</td><td>0.0</td><td>0.3</td><td>11.16</td></tr><tr><td>&quot;75%&quot;</td><td>2.0</td><td>&quot;2015-01-23 19:15:29&quot;</td><td>&quot;2015-01-23 19:29:04&quot;</td><td>2.0</td><td>3.0</td><td>-73.966621</td><td>40.76757</td><td>1.0</td><td>null</td><td>-73.962456</td><td>40.768803</td><td>2.0</td><td>13.5</td><td>0.5</td><td>0.5</td><td>2.06</td><td>0.0</td><td>0.3</td><td>16.3</td></tr><tr><td>&quot;max&quot;</td><td>2.0</td><td>&quot;2015-01-31 23:59:59&quot;</td><td>&quot;2016-02-02 16:30:52&quot;</td><td>9.0</td><td>1.5420e7</td><td>78.662651</td><td>404.700012</td><td>99.0</td><td>&quot;Y&quot;</td><td>85.274025</td><td>459.533325</td><td>5.0</td><td>4008.0</td><td>999.99</td><td>0.5</td><td>3950588.8</td><td>1450.09</td><td>0.3</td><td>3950611.6</td></tr></tbody></table></div>"
      ],
      "text/plain": [
       "shape: (9, 20)\n",
       "┌───────────┬───────────┬───────────┬───────────┬───┬───────────┬───────────┬───────────┬──────────┐\n",
       "│ statistic ┆ VendorID  ┆ tpep_pick ┆ tpep_drop ┆ … ┆ tip_amoun ┆ tolls_amo ┆ improveme ┆ total_am │\n",
       "│ ---       ┆ ---       ┆ up_dateti ┆ off_datet ┆   ┆ t         ┆ unt       ┆ nt_surcha ┆ ount     │\n",
       "│ str       ┆ f64       ┆ me        ┆ ime       ┆   ┆ ---       ┆ ---       ┆ rge       ┆ ---      │\n",
       "│           ┆           ┆ ---       ┆ ---       ┆   ┆ f64       ┆ f64       ┆ ---       ┆ f64      │\n",
       "│           ┆           ┆ str       ┆ str       ┆   ┆           ┆           ┆ f64       ┆          │\n",
       "╞═══════════╪═══════════╪═══════════╪═══════════╪═══╪═══════════╪═══════════╪═══════════╪══════════╡\n",
       "│ count     ┆ 1.2748986 ┆ 12748986  ┆ 12748986  ┆ … ┆ 1.2748986 ┆ 1.2748986 ┆ 1.2748983 ┆ 1.274898 │\n",
       "│           ┆ e7        ┆           ┆           ┆   ┆ e7        ┆ e7        ┆ e7        ┆ 6e7      │\n",
       "│ null_coun ┆ 0.0       ┆ 0         ┆ 0         ┆ … ┆ 0.0       ┆ 0.0       ┆ 3.0       ┆ 0.0      │\n",
       "│ t         ┆           ┆           ┆           ┆   ┆           ┆           ┆           ┆          │\n",
       "│ mean      ┆ 1.521437  ┆ 2015-01-1 ┆ 2015-01-1 ┆ … ┆ 1.853814  ┆ 0.243498  ┆ 0.283143  ┆ 15.10829 │\n",
       "│           ┆           ┆ 6 14:42:4 ┆ 6 14:56:5 ┆   ┆           ┆           ┆           ┆ 5        │\n",
       "│           ┆           ┆ 5.468000  ┆ 6.208000  ┆   ┆           ┆           ┆           ┆          │\n",
       "│ std       ┆ 0.49954   ┆ null      ┆ null      ┆ … ┆ 1106.4323 ┆ 1.527171  ┆ 0.069086  ┆ 1106.503 │\n",
       "│           ┆           ┆           ┆           ┆   ┆ 14        ┆           ┆           ┆ 247      │\n",
       "│ min       ┆ 1.0       ┆ 2015-01-0 ┆ 2015-01-0 ┆ … ┆ -92.42    ┆ -26.0     ┆ 0.0       ┆ -450.3   │\n",
       "│           ┆           ┆ 1         ┆ 1         ┆   ┆           ┆           ┆           ┆          │\n",
       "│           ┆           ┆ 00:00:00  ┆ 00:00:00  ┆   ┆           ┆           ┆           ┆          │\n",
       "│ 25%       ┆ 1.0       ┆ 2015-01-0 ┆ 2015-01-0 ┆ … ┆ 0.0       ┆ 0.0       ┆ 0.3       ┆ 8.16     │\n",
       "│           ┆           ┆ 9         ┆ 9         ┆   ┆           ┆           ┆           ┆          │\n",
       "│           ┆           ┆ 09:26:51  ┆ 09:44:29  ┆   ┆           ┆           ┆           ┆          │\n",
       "│ 50%       ┆ 2.0       ┆ 2015-01-1 ┆ 2015-01-1 ┆ … ┆ 1.0       ┆ 0.0       ┆ 0.3       ┆ 11.16    │\n",
       "│           ┆           ┆ 6         ┆ 6         ┆   ┆           ┆           ┆           ┆          │\n",
       "│           ┆           ┆ 11:42:49  ┆ 11:56:56  ┆   ┆           ┆           ┆           ┆          │\n",
       "│ 75%       ┆ 2.0       ┆ 2015-01-2 ┆ 2015-01-2 ┆ … ┆ 2.06      ┆ 0.0       ┆ 0.3       ┆ 16.3     │\n",
       "│           ┆           ┆ 3         ┆ 3         ┆   ┆           ┆           ┆           ┆          │\n",
       "│           ┆           ┆ 19:15:29  ┆ 19:29:04  ┆   ┆           ┆           ┆           ┆          │\n",
       "│ max       ┆ 2.0       ┆ 2015-01-3 ┆ 2016-02-0 ┆ … ┆ 3950588.8 ┆ 1450.09   ┆ 0.3       ┆ 3950611. │\n",
       "│           ┆           ┆ 1         ┆ 2         ┆   ┆           ┆           ┆           ┆ 6        │\n",
       "│           ┆           ┆ 23:59:59  ┆ 16:30:52  ┆   ┆           ┆           ┆           ┆          │\n",
       "└───────────┴───────────┴───────────┴───────────┴───┴───────────┴───────────┴───────────┴──────────┘"
      ]
     },
     "execution_count": 32,
     "metadata": {},
     "output_type": "execute_result"
    }
   ],
   "source": [
    "%time df.describe()"
   ]
  },
  {
   "cell_type": "markdown",
   "id": "0f478767",
   "metadata": {},
   "source": [
    "## Indexing: No `index` attribute, no `loc`/`iloc` methods... \n",
    "instead one can just refer to row number (0 based indexing)"
   ]
  },
  {
   "cell_type": "code",
   "execution_count": 35,
   "id": "c20d416f",
   "metadata": {},
   "outputs": [
    {
     "data": {
      "text/plain": [
       "2"
      ]
     },
     "execution_count": 35,
     "metadata": {},
     "output_type": "execute_result"
    }
   ],
   "source": [
    "df[0,0]"
   ]
  },
  {
   "cell_type": "code",
   "execution_count": 36,
   "id": "9c323d68",
   "metadata": {},
   "outputs": [
    {
     "data": {
      "text/html": [
       "<div><style>\n",
       ".dataframe > thead > tr,\n",
       ".dataframe > tbody > tr {\n",
       "  text-align: right;\n",
       "  white-space: pre-wrap;\n",
       "}\n",
       "</style>\n",
       "<small>shape: (12_748_986,)</small><table border=\"1\" class=\"dataframe\"><thead><tr><th>VendorID</th></tr><tr><td>i64</td></tr></thead><tbody><tr><td>2</td></tr><tr><td>1</td></tr><tr><td>1</td></tr><tr><td>1</td></tr><tr><td>1</td></tr><tr><td>&hellip;</td></tr><tr><td>1</td></tr><tr><td>1</td></tr><tr><td>1</td></tr><tr><td>1</td></tr><tr><td>1</td></tr></tbody></table></div>"
      ],
      "text/plain": [
       "shape: (12_748_986,)\n",
       "Series: 'VendorID' [i64]\n",
       "[\n",
       "\t2\n",
       "\t1\n",
       "\t1\n",
       "\t1\n",
       "\t1\n",
       "\t…\n",
       "\t1\n",
       "\t1\n",
       "\t1\n",
       "\t1\n",
       "\t1\n",
       "]"
      ]
     },
     "execution_count": 36,
     "metadata": {},
     "output_type": "execute_result"
    }
   ],
   "source": [
    "df['VendorID']"
   ]
  },
  {
   "cell_type": "code",
   "execution_count": 37,
   "id": "438a75e0",
   "metadata": {},
   "outputs": [
    {
     "data": {
      "text/plain": [
       "2"
      ]
     },
     "execution_count": 37,
     "metadata": {},
     "output_type": "execute_result"
    }
   ],
   "source": [
    "df[0,'VendorID']"
   ]
  },
  {
   "cell_type": "code",
   "execution_count": 38,
   "id": "56c0075f",
   "metadata": {},
   "outputs": [
    {
     "data": {
      "text/html": [
       "<div><style>\n",
       ".dataframe > thead > tr,\n",
       ".dataframe > tbody > tr {\n",
       "  text-align: right;\n",
       "  white-space: pre-wrap;\n",
       "}\n",
       "</style>\n",
       "<small>shape: (4, 2)</small><table border=\"1\" class=\"dataframe\"><thead><tr><th>tpep_dropoff_datetime</th><th>pickup_longitude</th></tr><tr><td>datetime[ms]</td><td>f64</td></tr></thead><tbody><tr><td>2015-01-07 20:45:40</td><td>-73.995155</td></tr><tr><td>2015-01-07 20:43:41</td><td>-73.960281</td></tr><tr><td>2015-01-07 20:53:31</td><td>-73.967667</td></tr><tr><td>2015-01-07 21:02:08</td><td>-73.986908</td></tr></tbody></table></div>"
      ],
      "text/plain": [
       "shape: (4, 2)\n",
       "┌───────────────────────┬──────────────────┐\n",
       "│ tpep_dropoff_datetime ┆ pickup_longitude │\n",
       "│ ---                   ┆ ---              │\n",
       "│ datetime[ms]          ┆ f64              │\n",
       "╞═══════════════════════╪══════════════════╡\n",
       "│ 2015-01-07 20:45:40   ┆ -73.995155       │\n",
       "│ 2015-01-07 20:43:41   ┆ -73.960281       │\n",
       "│ 2015-01-07 20:53:31   ┆ -73.967667       │\n",
       "│ 2015-01-07 21:02:08   ┆ -73.986908       │\n",
       "└───────────────────────┴──────────────────┘"
      ]
     },
     "execution_count": 38,
     "metadata": {},
     "output_type": "execute_result"
    }
   ],
   "source": [
    "df[1000:1004,['tpep_dropoff_datetime', 'pickup_longitude']]"
   ]
  },
  {
   "cell_type": "code",
   "execution_count": 39,
   "id": "cfd3e32c",
   "metadata": {},
   "outputs": [
    {
     "data": {
      "text/plain": [
       "polars.dataframe.frame.DataFrame"
      ]
     },
     "execution_count": 39,
     "metadata": {},
     "output_type": "execute_result"
    }
   ],
   "source": [
    "type(df[0,:])"
   ]
  },
  {
   "cell_type": "code",
   "execution_count": 40,
   "id": "0ccf2d16",
   "metadata": {},
   "outputs": [
    {
     "data": {
      "text/plain": [
       "polars.series.series.Series"
      ]
     },
     "execution_count": 40,
     "metadata": {},
     "output_type": "execute_result"
    }
   ],
   "source": [
    "type(df[:,0])"
   ]
  },
  {
   "cell_type": "markdown",
   "id": "abc3edae",
   "metadata": {},
   "source": [
    "## A common `pandas` pattern is to use masks for filtering...\n",
    "\n",
    "```python\n",
    "df = pd.read_csv('/somewhere/something.csv')\n",
    "\n",
    "mask = df['age'] > 30\n",
    "\n",
    "df = df[mask] # would filter the DataFrame\n",
    "\n",
    "```"
   ]
  },
  {
   "cell_type": "markdown",
   "id": "786000a1",
   "metadata": {},
   "source": [
    "## ... but it's not supported in `polars` ..."
   ]
  },
  {
   "cell_type": "code",
   "execution_count": 41,
   "id": "50ab196a",
   "metadata": {},
   "outputs": [],
   "source": [
    "mask = df['VendorID'] == 1"
   ]
  },
  {
   "cell_type": "code",
   "execution_count": 42,
   "id": "069bb433",
   "metadata": {},
   "outputs": [
    {
     "data": {
      "text/html": [
       "<div><style>\n",
       ".dataframe > thead > tr,\n",
       ".dataframe > tbody > tr {\n",
       "  text-align: right;\n",
       "  white-space: pre-wrap;\n",
       "}\n",
       "</style>\n",
       "<small>shape: (5,)</small><table border=\"1\" class=\"dataframe\"><thead><tr><th>VendorID</th></tr><tr><td>bool</td></tr></thead><tbody><tr><td>false</td></tr><tr><td>true</td></tr><tr><td>true</td></tr><tr><td>true</td></tr><tr><td>true</td></tr></tbody></table></div>"
      ],
      "text/plain": [
       "shape: (5,)\n",
       "Series: 'VendorID' [bool]\n",
       "[\n",
       "\tfalse\n",
       "\ttrue\n",
       "\ttrue\n",
       "\ttrue\n",
       "\ttrue\n",
       "]"
      ]
     },
     "execution_count": 42,
     "metadata": {},
     "output_type": "execute_result"
    }
   ],
   "source": [
    "mask.head(5)"
   ]
  },
  {
   "cell_type": "code",
   "execution_count": 43,
   "id": "03b41c3c",
   "metadata": {
    "scrolled": true
   },
   "outputs": [
    {
     "ename": "TypeError",
     "evalue": "selecting rows by passing a boolean mask to `__getitem__` is not supported\n\nHint: Use the `filter` method instead.",
     "output_type": "error",
     "traceback": [
      "\u001b[0;31m---------------------------------------------------------------------------\u001b[0m",
      "\u001b[0;31mTypeError\u001b[0m                                 Traceback (most recent call last)",
      "Cell \u001b[0;32mIn[43], line 1\u001b[0m\n\u001b[0;32m----> 1\u001b[0m \u001b[43mdf\u001b[49m\u001b[43m[\u001b[49m\u001b[43mmask\u001b[49m\u001b[43m,\u001b[49m\u001b[43m \u001b[49m\u001b[38;5;124;43m'\u001b[39;49m\u001b[38;5;124;43mpassenger_count\u001b[39;49m\u001b[38;5;124;43m'\u001b[39;49m\u001b[43m]\u001b[49m \u001b[38;5;66;03m# this should fail\u001b[39;00m\n",
      "File \u001b[0;32m/Library/Frameworks/Python.framework/Versions/3.11/lib/python3.11/site-packages/polars/dataframe/frame.py:1353\u001b[0m, in \u001b[0;36mDataFrame.__getitem__\u001b[0;34m(self, key)\u001b[0m\n\u001b[1;32m   1216\u001b[0m \u001b[38;5;28;01mdef\u001b[39;00m \u001b[38;5;21m__getitem__\u001b[39m(\n\u001b[1;32m   1217\u001b[0m     \u001b[38;5;28mself\u001b[39m,\n\u001b[1;32m   1218\u001b[0m     key: (\n\u001b[0;32m   (...)\u001b[0m\n\u001b[1;32m   1227\u001b[0m     ),\n\u001b[1;32m   1228\u001b[0m ) \u001b[38;5;241m-\u001b[39m\u001b[38;5;241m>\u001b[39m DataFrame \u001b[38;5;241m|\u001b[39m Series \u001b[38;5;241m|\u001b[39m Any:\n\u001b[1;32m   1229\u001b[0m \u001b[38;5;250m    \u001b[39m\u001b[38;5;124;03m\"\"\"\u001b[39;00m\n\u001b[1;32m   1230\u001b[0m \u001b[38;5;124;03m    Get part of the DataFrame as a new DataFrame, Series, or scalar.\u001b[39;00m\n\u001b[1;32m   1231\u001b[0m \n\u001b[0;32m   (...)\u001b[0m\n\u001b[1;32m   1351\u001b[0m \u001b[38;5;124;03m    └─────┴─────┴─────┘\u001b[39;00m\n\u001b[1;32m   1352\u001b[0m \u001b[38;5;124;03m    \"\"\"\u001b[39;00m\n\u001b[0;32m-> 1353\u001b[0m     \u001b[38;5;28;01mreturn\u001b[39;00m \u001b[43mget_df_item_by_key\u001b[49m\u001b[43m(\u001b[49m\u001b[38;5;28;43mself\u001b[39;49m\u001b[43m,\u001b[49m\u001b[43m \u001b[49m\u001b[43mkey\u001b[49m\u001b[43m)\u001b[49m\n",
      "File \u001b[0;32m/Library/Frameworks/Python.framework/Versions/3.11/lib/python3.11/site-packages/polars/_utils/getitem.py:155\u001b[0m, in \u001b[0;36mget_df_item_by_key\u001b[0;34m(df, key)\u001b[0m\n\u001b[1;32m    153\u001b[0m     \u001b[38;5;28;01mreturn\u001b[39;00m selection\n\u001b[1;32m    154\u001b[0m \u001b[38;5;28;01melif\u001b[39;00m \u001b[38;5;28misinstance\u001b[39m(selection, pl\u001b[38;5;241m.\u001b[39mSeries):\n\u001b[0;32m--> 155\u001b[0m     \u001b[38;5;28;01mreturn\u001b[39;00m \u001b[43mget_series_item_by_key\u001b[49m\u001b[43m(\u001b[49m\u001b[43mselection\u001b[49m\u001b[43m,\u001b[49m\u001b[43m \u001b[49m\u001b[43mrow_key\u001b[49m\u001b[43m)\u001b[49m\n\u001b[1;32m    156\u001b[0m \u001b[38;5;28;01melse\u001b[39;00m:\n\u001b[1;32m    157\u001b[0m     \u001b[38;5;28;01mreturn\u001b[39;00m _select_rows(selection, row_key)\n",
      "File \u001b[0;32m/Library/Frameworks/Python.framework/Versions/3.11/lib/python3.11/site-packages/polars/_utils/getitem.py:82\u001b[0m, in \u001b[0;36mget_series_item_by_key\u001b[0;34m(s, key)\u001b[0m\n\u001b[1;32m     79\u001b[0m     \u001b[38;5;28;01mreturn\u001b[39;00m _select_elements_by_index(s, indices)\n\u001b[1;32m     81\u001b[0m \u001b[38;5;28;01melif\u001b[39;00m \u001b[38;5;28misinstance\u001b[39m(key, pl\u001b[38;5;241m.\u001b[39mSeries):\n\u001b[0;32m---> 82\u001b[0m     indices \u001b[38;5;241m=\u001b[39m \u001b[43m_convert_series_to_indices\u001b[49m\u001b[43m(\u001b[49m\u001b[43mkey\u001b[49m\u001b[43m,\u001b[49m\u001b[43m \u001b[49m\u001b[43ms\u001b[49m\u001b[38;5;241;43m.\u001b[39;49m\u001b[43mlen\u001b[49m\u001b[43m(\u001b[49m\u001b[43m)\u001b[49m\u001b[43m)\u001b[49m\n\u001b[1;32m     83\u001b[0m     \u001b[38;5;28;01mreturn\u001b[39;00m _select_elements_by_index(s, indices)\n\u001b[1;32m     85\u001b[0m \u001b[38;5;28;01melif\u001b[39;00m _check_for_numpy(key) \u001b[38;5;129;01mand\u001b[39;00m \u001b[38;5;28misinstance\u001b[39m(key, np\u001b[38;5;241m.\u001b[39mndarray):\n",
      "File \u001b[0;32m/Library/Frameworks/Python.framework/Versions/3.11/lib/python3.11/site-packages/polars/_utils/getitem.py:354\u001b[0m, in \u001b[0;36m_convert_series_to_indices\u001b[0;34m(s, size)\u001b[0m\n\u001b[1;32m    352\u001b[0m \u001b[38;5;28;01mif\u001b[39;00m \u001b[38;5;129;01mnot\u001b[39;00m s\u001b[38;5;241m.\u001b[39mdtype\u001b[38;5;241m.\u001b[39mis_integer():\n\u001b[1;32m    353\u001b[0m     \u001b[38;5;28;01mif\u001b[39;00m s\u001b[38;5;241m.\u001b[39mdtype \u001b[38;5;241m==\u001b[39m Boolean:\n\u001b[0;32m--> 354\u001b[0m         \u001b[43m_raise_on_boolean_mask\u001b[49m\u001b[43m(\u001b[49m\u001b[43m)\u001b[49m\n\u001b[1;32m    355\u001b[0m     \u001b[38;5;28;01melse\u001b[39;00m:\n\u001b[1;32m    356\u001b[0m         msg \u001b[38;5;241m=\u001b[39m \u001b[38;5;124mf\u001b[39m\u001b[38;5;124m\"\u001b[39m\u001b[38;5;124mcannot treat Series of type \u001b[39m\u001b[38;5;132;01m{\u001b[39;00ms\u001b[38;5;241m.\u001b[39mdtype\u001b[38;5;132;01m}\u001b[39;00m\u001b[38;5;124m as indices\u001b[39m\u001b[38;5;124m\"\u001b[39m\n",
      "File \u001b[0;32m/Library/Frameworks/Python.framework/Versions/3.11/lib/python3.11/site-packages/polars/_utils/getitem.py:451\u001b[0m, in \u001b[0;36m_raise_on_boolean_mask\u001b[0;34m()\u001b[0m\n\u001b[1;32m    446\u001b[0m \u001b[38;5;28;01mdef\u001b[39;00m \u001b[38;5;21m_raise_on_boolean_mask\u001b[39m() \u001b[38;5;241m-\u001b[39m\u001b[38;5;241m>\u001b[39m NoReturn:\n\u001b[1;32m    447\u001b[0m     msg \u001b[38;5;241m=\u001b[39m (\n\u001b[1;32m    448\u001b[0m         \u001b[38;5;124m\"\u001b[39m\u001b[38;5;124mselecting rows by passing a boolean mask to `__getitem__` is not supported\u001b[39m\u001b[38;5;124m\"\u001b[39m\n\u001b[1;32m    449\u001b[0m         \u001b[38;5;124m\"\u001b[39m\u001b[38;5;130;01m\\n\u001b[39;00m\u001b[38;5;130;01m\\n\u001b[39;00m\u001b[38;5;124mHint: Use the `filter` method instead.\u001b[39m\u001b[38;5;124m\"\u001b[39m\n\u001b[1;32m    450\u001b[0m     )\n\u001b[0;32m--> 451\u001b[0m     \u001b[38;5;28;01mraise\u001b[39;00m \u001b[38;5;167;01mTypeError\u001b[39;00m(msg)\n",
      "\u001b[0;31mTypeError\u001b[0m: selecting rows by passing a boolean mask to `__getitem__` is not supported\n\nHint: Use the `filter` method instead."
     ]
    }
   ],
   "source": [
    "df[mask, 'passenger_count'] # this should fail"
   ]
  },
  {
   "cell_type": "markdown",
   "id": "9488bb7e",
   "metadata": {},
   "source": [
    "## ... we'll get to `filter` later"
   ]
  },
  {
   "cell_type": "markdown",
   "id": "1a077b17",
   "metadata": {},
   "source": [
    "## Other indexing methods `rows`/`iter_rows`/`rows_by_key`"
   ]
  },
  {
   "cell_type": "code",
   "execution_count": 44,
   "id": "1538f72d",
   "metadata": {},
   "outputs": [
    {
     "data": {
      "text/html": [
       "<div><style>\n",
       ".dataframe > thead > tr,\n",
       ".dataframe > tbody > tr {\n",
       "  text-align: right;\n",
       "  white-space: pre-wrap;\n",
       "}\n",
       "</style>\n",
       "<small>shape: (4, 3)</small><table border=\"1\" class=\"dataframe\"><thead><tr><th>x</th><th>y</th><th>z</th></tr><tr><td>str</td><td>i64</td><td>i64</td></tr></thead><tbody><tr><td>&quot;a&quot;</td><td>1</td><td>0</td></tr><tr><td>&quot;b&quot;</td><td>2</td><td>3</td></tr><tr><td>&quot;b&quot;</td><td>3</td><td>6</td></tr><tr><td>&quot;a&quot;</td><td>4</td><td>9</td></tr></tbody></table></div>"
      ],
      "text/plain": [
       "shape: (4, 3)\n",
       "┌─────┬─────┬─────┐\n",
       "│ x   ┆ y   ┆ z   │\n",
       "│ --- ┆ --- ┆ --- │\n",
       "│ str ┆ i64 ┆ i64 │\n",
       "╞═════╪═════╪═════╡\n",
       "│ a   ┆ 1   ┆ 0   │\n",
       "│ b   ┆ 2   ┆ 3   │\n",
       "│ b   ┆ 3   ┆ 6   │\n",
       "│ a   ┆ 4   ┆ 9   │\n",
       "└─────┴─────┴─────┘"
      ]
     },
     "execution_count": 44,
     "metadata": {},
     "output_type": "execute_result"
    }
   ],
   "source": [
    "df_ex = pl.DataFrame(\n",
    "     {\n",
    "         \"x\": [\"a\", \"b\", \"b\", \"a\"],\n",
    "         \"y\": [1, 2, 3, 4],\n",
    "         \"z\": [0, 3, 6, 9],\n",
    "     }\n",
    ")\n",
    "\n",
    "df_ex"
   ]
  },
  {
   "cell_type": "markdown",
   "id": "c387663b",
   "metadata": {},
   "source": [
    "### <font color='red'>Materialization Warning:</font> Use with caution: `rows`\n",
    "\n",
    "Unlike `pandas`, `polars` stores the values in a columnar way which can be more dense<br>\n",
    "This method will \"create\" all the rows as python primitives"
   ]
  },
  {
   "cell_type": "code",
   "execution_count": 47,
   "id": "f56103d2",
   "metadata": {},
   "outputs": [
    {
     "data": {
      "text/plain": [
       "[('a', 1, 0), ('b', 2, 3), ('b', 3, 6), ('a', 4, 9)]"
      ]
     },
     "execution_count": 47,
     "metadata": {},
     "output_type": "execute_result"
    }
   ],
   "source": [
    "df_ex.rows() # can be very expensive"
   ]
  },
  {
   "cell_type": "code",
   "execution_count": 48,
   "id": "7776cab5",
   "metadata": {},
   "outputs": [
    {
     "data": {
      "text/plain": [
       "[{'x': 'a', 'y': 1, 'z': 0},\n",
       " {'x': 'b', 'y': 2, 'z': 3},\n",
       " {'x': 'b', 'y': 3, 'z': 6},\n",
       " {'x': 'a', 'y': 4, 'z': 9}]"
      ]
     },
     "execution_count": 48,
     "metadata": {},
     "output_type": "execute_result"
    }
   ],
   "source": [
    "df_ex.rows(named=True) # or use df_ex.to_dicts()"
   ]
  },
  {
   "cell_type": "markdown",
   "id": "1996b12f",
   "metadata": {},
   "source": [
    "### Memory effective option is using iterators: `iter_rows`"
   ]
  },
  {
   "cell_type": "code",
   "execution_count": 49,
   "id": "414d64d7",
   "metadata": {},
   "outputs": [
    {
     "name": "stdout",
     "output_type": "stream",
     "text": [
      "('a', 1, 0)\n",
      "('b', 2, 3)\n",
      "('b', 3, 6)\n",
      "('a', 4, 9)\n"
     ]
    }
   ],
   "source": [
    "for row in df_ex.iter_rows():\n",
    "    print(row)"
   ]
  },
  {
   "cell_type": "code",
   "execution_count": 50,
   "id": "27721dda",
   "metadata": {},
   "outputs": [
    {
     "name": "stdout",
     "output_type": "stream",
     "text": [
      "the sum of the 2nd column is 10\n"
     ]
    }
   ],
   "source": [
    "_sum = 0\n",
    "for row in df_ex.iter_rows():\n",
    "    _sum += row[1]\n",
    "    \n",
    "print(f\"the sum of the 2nd column is {_sum}\")"
   ]
  },
  {
   "cell_type": "code",
   "execution_count": 51,
   "id": "2592e214",
   "metadata": {},
   "outputs": [
    {
     "data": {
      "text/plain": [
       "[0, 3, 6, 9]"
      ]
     },
     "execution_count": 51,
     "metadata": {},
     "output_type": "execute_result"
    }
   ],
   "source": [
    "# value of last column in each row as a list\n",
    "[row[-1] for row in df_ex.iter_rows()]"
   ]
  },
  {
   "cell_type": "code",
   "execution_count": 52,
   "id": "783694f8",
   "metadata": {},
   "outputs": [
    {
     "data": {
      "text/plain": [
       "['a', 'b', 'b', 'a']"
      ]
     },
     "execution_count": 52,
     "metadata": {},
     "output_type": "execute_result"
    }
   ],
   "source": [
    "# value of named in each row as a list\n",
    "[row['x'] for row in df_ex.iter_rows(named=True)]"
   ]
  },
  {
   "cell_type": "markdown",
   "id": "045af5c4",
   "metadata": {},
   "source": [
    "### <font color='red'>Materialization Warning:</font> `rows_by_key`"
   ]
  },
  {
   "cell_type": "code",
   "execution_count": 53,
   "id": "f13486b3",
   "metadata": {},
   "outputs": [
    {
     "data": {
      "text/html": [
       "<div><style>\n",
       ".dataframe > thead > tr,\n",
       ".dataframe > tbody > tr {\n",
       "  text-align: right;\n",
       "  white-space: pre-wrap;\n",
       "}\n",
       "</style>\n",
       "<small>shape: (4, 3)</small><table border=\"1\" class=\"dataframe\"><thead><tr><th>x</th><th>y</th><th>z</th></tr><tr><td>str</td><td>i64</td><td>i64</td></tr></thead><tbody><tr><td>&quot;a&quot;</td><td>1</td><td>0</td></tr><tr><td>&quot;b&quot;</td><td>2</td><td>3</td></tr><tr><td>&quot;b&quot;</td><td>3</td><td>6</td></tr><tr><td>&quot;a&quot;</td><td>4</td><td>9</td></tr></tbody></table></div>"
      ],
      "text/plain": [
       "shape: (4, 3)\n",
       "┌─────┬─────┬─────┐\n",
       "│ x   ┆ y   ┆ z   │\n",
       "│ --- ┆ --- ┆ --- │\n",
       "│ str ┆ i64 ┆ i64 │\n",
       "╞═════╪═════╪═════╡\n",
       "│ a   ┆ 1   ┆ 0   │\n",
       "│ b   ┆ 2   ┆ 3   │\n",
       "│ b   ┆ 3   ┆ 6   │\n",
       "│ a   ┆ 4   ┆ 9   │\n",
       "└─────┴─────┴─────┘"
      ]
     },
     "execution_count": 53,
     "metadata": {},
     "output_type": "execute_result"
    }
   ],
   "source": [
    "df_ex"
   ]
  },
  {
   "cell_type": "code",
   "execution_count": 54,
   "id": "44fbf2ec",
   "metadata": {},
   "outputs": [
    {
     "data": {
      "text/plain": [
       "defaultdict(list, {'a': [(1, 0), (4, 9)], 'b': [(2, 3), (3, 6)]})"
      ]
     },
     "execution_count": 54,
     "metadata": {},
     "output_type": "execute_result"
    }
   ],
   "source": [
    "df_ex.rows_by_key(key=['x'])"
   ]
  },
  {
   "cell_type": "code",
   "execution_count": 55,
   "id": "6ddc27db",
   "metadata": {},
   "outputs": [
    {
     "data": {
      "text/plain": [
       "defaultdict(list,\n",
       "            {'a': [{'y': 1, 'z': 0}, {'y': 4, 'z': 9}],\n",
       "             'b': [{'y': 2, 'z': 3}, {'y': 3, 'z': 6}]})"
      ]
     },
     "execution_count": 55,
     "metadata": {},
     "output_type": "execute_result"
    }
   ],
   "source": [
    "df_ex.rows_by_key(key=['x'], named=True)"
   ]
  },
  {
   "cell_type": "markdown",
   "id": "d9afccd4",
   "metadata": {},
   "source": [
    "###  Unsure? Confused? You can always go back `to_pandas` or `to_numpy` "
   ]
  },
  {
   "cell_type": "code",
   "execution_count": 56,
   "id": "b9911d4e",
   "metadata": {},
   "outputs": [
    {
     "data": {
      "text/html": [
       "<div>\n",
       "<style scoped>\n",
       "    .dataframe tbody tr th:only-of-type {\n",
       "        vertical-align: middle;\n",
       "    }\n",
       "\n",
       "    .dataframe tbody tr th {\n",
       "        vertical-align: top;\n",
       "    }\n",
       "\n",
       "    .dataframe thead th {\n",
       "        text-align: right;\n",
       "    }\n",
       "</style>\n",
       "<table border=\"1\" class=\"dataframe\">\n",
       "  <thead>\n",
       "    <tr style=\"text-align: right;\">\n",
       "      <th></th>\n",
       "      <th>x</th>\n",
       "      <th>y</th>\n",
       "      <th>z</th>\n",
       "    </tr>\n",
       "  </thead>\n",
       "  <tbody>\n",
       "    <tr>\n",
       "      <th>0</th>\n",
       "      <td>a</td>\n",
       "      <td>1</td>\n",
       "      <td>0</td>\n",
       "    </tr>\n",
       "    <tr>\n",
       "      <th>1</th>\n",
       "      <td>b</td>\n",
       "      <td>2</td>\n",
       "      <td>3</td>\n",
       "    </tr>\n",
       "    <tr>\n",
       "      <th>2</th>\n",
       "      <td>b</td>\n",
       "      <td>3</td>\n",
       "      <td>6</td>\n",
       "    </tr>\n",
       "    <tr>\n",
       "      <th>3</th>\n",
       "      <td>a</td>\n",
       "      <td>4</td>\n",
       "      <td>9</td>\n",
       "    </tr>\n",
       "  </tbody>\n",
       "</table>\n",
       "</div>"
      ],
      "text/plain": [
       "   x  y  z\n",
       "0  a  1  0\n",
       "1  b  2  3\n",
       "2  b  3  6\n",
       "3  a  4  9"
      ]
     },
     "execution_count": 56,
     "metadata": {},
     "output_type": "execute_result"
    }
   ],
   "source": [
    "df_ex.to_pandas()"
   ]
  },
  {
   "cell_type": "code",
   "execution_count": 57,
   "id": "46e4abbb",
   "metadata": {},
   "outputs": [
    {
     "data": {
      "text/plain": [
       "array([['a', 1, 0],\n",
       "       ['b', 2, 3],\n",
       "       ['b', 3, 6],\n",
       "       ['a', 4, 9]], dtype=object)"
      ]
     },
     "execution_count": 57,
     "metadata": {},
     "output_type": "execute_result"
    }
   ],
   "source": [
    "df_ex.to_numpy()"
   ]
  },
  {
   "cell_type": "markdown",
   "id": "b73ed98b",
   "metadata": {},
   "source": [
    "## Expressions\n",
    "\n",
    "### (The diagram is my own)\n",
    "\n",
    "<img src=\"./api_layers.png\" height=1200 width=400></img>"
   ]
  },
  {
   "cell_type": "code",
   "execution_count": 58,
   "id": "17c5e1e2",
   "metadata": {},
   "outputs": [
    {
     "data": {
      "text/plain": [
       "['VendorID',\n",
       " 'tpep_pickup_datetime',\n",
       " 'tpep_dropoff_datetime',\n",
       " 'passenger_count',\n",
       " 'trip_distance',\n",
       " 'pickup_longitude',\n",
       " 'pickup_latitude',\n",
       " 'RateCodeID',\n",
       " 'store_and_fwd_flag',\n",
       " 'dropoff_longitude',\n",
       " 'dropoff_latitude',\n",
       " 'payment_type',\n",
       " 'fare_amount',\n",
       " 'extra',\n",
       " 'mta_tax',\n",
       " 'tip_amount',\n",
       " 'tolls_amount',\n",
       " 'improvement_surcharge',\n",
       " 'total_amount']"
      ]
     },
     "execution_count": 58,
     "metadata": {},
     "output_type": "execute_result"
    }
   ],
   "source": [
    "df.columns"
   ]
  },
  {
   "cell_type": "code",
   "execution_count": 59,
   "id": "a0566947",
   "metadata": {},
   "outputs": [],
   "source": [
    "c1 = pl.col(\"VendorID\") # unlike df['VendorID']"
   ]
  },
  {
   "cell_type": "code",
   "execution_count": 64,
   "id": "a8473126",
   "metadata": {},
   "outputs": [
    {
     "data": {
      "text/html": [
       "col(\"VendorID\")"
      ],
      "text/plain": [
       "<Expr ['col(\"VendorID\")'] at 0x32E96DA10>"
      ]
     },
     "execution_count": 64,
     "metadata": {},
     "output_type": "execute_result"
    }
   ],
   "source": [
    "c1"
   ]
  },
  {
   "cell_type": "code",
   "execution_count": 65,
   "id": "4c277fe9",
   "metadata": {},
   "outputs": [
    {
     "data": {
      "text/plain": [
       "polars.expr.expr.Expr"
      ]
     },
     "execution_count": 65,
     "metadata": {},
     "output_type": "execute_result"
    }
   ],
   "source": [
    "type(c1)"
   ]
  },
  {
   "cell_type": "code",
   "execution_count": 66,
   "id": "a2481dda",
   "metadata": {},
   "outputs": [
    {
     "data": {
      "text/html": [
       "<div><style>\n",
       ".dataframe > thead > tr,\n",
       ".dataframe > tbody > tr {\n",
       "  text-align: right;\n",
       "  white-space: pre-wrap;\n",
       "}\n",
       "</style>\n",
       "<small>shape: (3, 1)</small><table border=\"1\" class=\"dataframe\"><thead><tr><th>VendorID</th></tr><tr><td>i64</td></tr></thead><tbody><tr><td>2</td></tr><tr><td>1</td></tr><tr><td>1</td></tr></tbody></table></div>"
      ],
      "text/plain": [
       "shape: (3, 1)\n",
       "┌──────────┐\n",
       "│ VendorID │\n",
       "│ ---      │\n",
       "│ i64      │\n",
       "╞══════════╡\n",
       "│ 2        │\n",
       "│ 1        │\n",
       "│ 1        │\n",
       "└──────────┘"
      ]
     },
     "execution_count": 66,
     "metadata": {},
     "output_type": "execute_result"
    }
   ],
   "source": [
    "df.select(c1).head(3)"
   ]
  },
  {
   "cell_type": "code",
   "execution_count": 67,
   "id": "e18e4b1e",
   "metadata": {},
   "outputs": [
    {
     "data": {
      "text/html": [
       "<div><style>\n",
       ".dataframe > thead > tr,\n",
       ".dataframe > tbody > tr {\n",
       "  text-align: right;\n",
       "  white-space: pre-wrap;\n",
       "}\n",
       "</style>\n",
       "<small>shape: (12_748_986, 2)</small><table border=\"1\" class=\"dataframe\"><thead><tr><th>VendorID</th><th>pickup_longitude</th></tr><tr><td>i64</td><td>f64</td></tr></thead><tbody><tr><td>2</td><td>-73.993896</td></tr><tr><td>1</td><td>-74.001648</td></tr><tr><td>1</td><td>-73.963341</td></tr><tr><td>1</td><td>-74.009087</td></tr><tr><td>1</td><td>-73.971176</td></tr><tr><td>&hellip;</td><td>&hellip;</td></tr><tr><td>1</td><td>-73.951988</td></tr><tr><td>1</td><td>-73.982742</td></tr><tr><td>1</td><td>-73.979324</td></tr><tr><td>1</td><td>-73.999565</td></tr><tr><td>1</td><td>-73.96035</td></tr></tbody></table></div>"
      ],
      "text/plain": [
       "shape: (12_748_986, 2)\n",
       "┌──────────┬──────────────────┐\n",
       "│ VendorID ┆ pickup_longitude │\n",
       "│ ---      ┆ ---              │\n",
       "│ i64      ┆ f64              │\n",
       "╞══════════╪══════════════════╡\n",
       "│ 2        ┆ -73.993896       │\n",
       "│ 1        ┆ -74.001648       │\n",
       "│ 1        ┆ -73.963341       │\n",
       "│ 1        ┆ -74.009087       │\n",
       "│ 1        ┆ -73.971176       │\n",
       "│ …        ┆ …                │\n",
       "│ 1        ┆ -73.951988       │\n",
       "│ 1        ┆ -73.982742       │\n",
       "│ 1        ┆ -73.979324       │\n",
       "│ 1        ┆ -73.999565       │\n",
       "│ 1        ┆ -73.96035        │\n",
       "└──────────┴──────────────────┘"
      ]
     },
     "execution_count": 67,
     "metadata": {},
     "output_type": "execute_result"
    }
   ],
   "source": [
    "df.select(pl.col(\"VendorID\", \"pickup_longitude\"))"
   ]
  },
  {
   "cell_type": "code",
   "execution_count": 68,
   "id": "9603ce71",
   "metadata": {},
   "outputs": [
    {
     "data": {
      "text/html": [
       "<div><style>\n",
       ".dataframe > thead > tr,\n",
       ".dataframe > tbody > tr {\n",
       "  text-align: right;\n",
       "  white-space: pre-wrap;\n",
       "}\n",
       "</style>\n",
       "<small>shape: (12_748_986, 2)</small><table border=\"1\" class=\"dataframe\"><thead><tr><th>VendorID</th><th>pickup_longitude</th></tr><tr><td>i64</td><td>f64</td></tr></thead><tbody><tr><td>2</td><td>-73.993896</td></tr><tr><td>1</td><td>-74.001648</td></tr><tr><td>1</td><td>-73.963341</td></tr><tr><td>1</td><td>-74.009087</td></tr><tr><td>1</td><td>-73.971176</td></tr><tr><td>&hellip;</td><td>&hellip;</td></tr><tr><td>1</td><td>-73.951988</td></tr><tr><td>1</td><td>-73.982742</td></tr><tr><td>1</td><td>-73.979324</td></tr><tr><td>1</td><td>-73.999565</td></tr><tr><td>1</td><td>-73.96035</td></tr></tbody></table></div>"
      ],
      "text/plain": [
       "shape: (12_748_986, 2)\n",
       "┌──────────┬──────────────────┐\n",
       "│ VendorID ┆ pickup_longitude │\n",
       "│ ---      ┆ ---              │\n",
       "│ i64      ┆ f64              │\n",
       "╞══════════╪══════════════════╡\n",
       "│ 2        ┆ -73.993896       │\n",
       "│ 1        ┆ -74.001648       │\n",
       "│ 1        ┆ -73.963341       │\n",
       "│ 1        ┆ -74.009087       │\n",
       "│ 1        ┆ -73.971176       │\n",
       "│ …        ┆ …                │\n",
       "│ 1        ┆ -73.951988       │\n",
       "│ 1        ┆ -73.982742       │\n",
       "│ 1        ┆ -73.979324       │\n",
       "│ 1        ┆ -73.999565       │\n",
       "│ 1        ┆ -73.96035        │\n",
       "└──────────┴──────────────────┘"
      ]
     },
     "execution_count": 68,
     "metadata": {},
     "output_type": "execute_result"
    }
   ],
   "source": [
    "df.select(\"VendorID\", \"pickup_longitude\")"
   ]
  },
  {
   "cell_type": "markdown",
   "id": "235ea62d",
   "metadata": {},
   "source": [
    "### Filtering using expressions"
   ]
  },
  {
   "cell_type": "code",
   "execution_count": 69,
   "id": "a8a652cc",
   "metadata": {},
   "outputs": [],
   "source": [
    "mask = pl.col(\"pickup_longitude\") > -73."
   ]
  },
  {
   "cell_type": "code",
   "execution_count": 70,
   "id": "fcfec01b",
   "metadata": {},
   "outputs": [
    {
     "data": {
      "text/html": [
       "[(col(\"pickup_longitude\")) > (dyn float: -73.0)]"
      ],
      "text/plain": [
       "<Expr ['[(col(\"pickup_longitude\")) > (…'] at 0x32E8364D0>"
      ]
     },
     "execution_count": 70,
     "metadata": {},
     "output_type": "execute_result"
    }
   ],
   "source": [
    "mask # Not materialized, just the instruction"
   ]
  },
  {
   "cell_type": "code",
   "execution_count": 71,
   "id": "749cde8c",
   "metadata": {},
   "outputs": [
    {
     "data": {
      "text/plain": [
       "polars.expr.expr.Expr"
      ]
     },
     "execution_count": 71,
     "metadata": {},
     "output_type": "execute_result"
    }
   ],
   "source": [
    "type(mask)"
   ]
  },
  {
   "cell_type": "code",
   "execution_count": 72,
   "id": "28624d5a",
   "metadata": {},
   "outputs": [
    {
     "data": {
      "text/plain": [
       "polars.expr.expr.Expr"
      ]
     },
     "execution_count": 72,
     "metadata": {},
     "output_type": "execute_result"
    }
   ],
   "source": [
    "type((pl.col(\"pickup_longitude\") > -73.) & (pl.col(\"passenger_count\") < 1))"
   ]
  },
  {
   "cell_type": "code",
   "execution_count": 73,
   "id": "512b0409",
   "metadata": {},
   "outputs": [
    {
     "data": {
      "text/html": [
       "<div><style>\n",
       ".dataframe > thead > tr,\n",
       ".dataframe > tbody > tr {\n",
       "  text-align: right;\n",
       "  white-space: pre-wrap;\n",
       "}\n",
       "</style>\n",
       "<small>shape: (348, 19)</small><table border=\"1\" class=\"dataframe\"><thead><tr><th>VendorID</th><th>tpep_pickup_datetime</th><th>tpep_dropoff_datetime</th><th>passenger_count</th><th>trip_distance</th><th>pickup_longitude</th><th>pickup_latitude</th><th>RateCodeID</th><th>store_and_fwd_flag</th><th>dropoff_longitude</th><th>dropoff_latitude</th><th>payment_type</th><th>fare_amount</th><th>extra</th><th>mta_tax</th><th>tip_amount</th><th>tolls_amount</th><th>improvement_surcharge</th><th>total_amount</th></tr><tr><td>i64</td><td>datetime[ms]</td><td>datetime[ms]</td><td>i64</td><td>f64</td><td>f64</td><td>f64</td><td>i64</td><td>str</td><td>f64</td><td>f64</td><td>i64</td><td>f64</td><td>f64</td><td>f64</td><td>f64</td><td>f64</td><td>f64</td><td>f64</td></tr></thead><tbody><tr><td>1</td><td>2015-01-14 09:59:32</td><td>2015-01-14 10:03:36</td><td>0</td><td>0.7</td><td>0.0</td><td>0.0</td><td>1</td><td>&quot;N&quot;</td><td>-73.989235</td><td>40.769493</td><td>2</td><td>5.0</td><td>0.0</td><td>0.5</td><td>0.0</td><td>0.0</td><td>0.3</td><td>5.8</td></tr><tr><td>1</td><td>2015-01-15 22:51:35</td><td>2015-01-15 23:10:11</td><td>0</td><td>5.6</td><td>0.0</td><td>0.0</td><td>1</td><td>&quot;N&quot;</td><td>-73.923241</td><td>40.743538</td><td>1</td><td>19.0</td><td>0.5</td><td>0.5</td><td>4.05</td><td>0.0</td><td>0.3</td><td>24.35</td></tr><tr><td>1</td><td>2015-01-01 02:52:01</td><td>2015-01-01 03:15:09</td><td>0</td><td>4.2</td><td>0.0</td><td>0.0</td><td>1</td><td>&quot;N&quot;</td><td>-73.952553</td><td>40.7141</td><td>1</td><td>18.0</td><td>0.5</td><td>0.5</td><td>3.85</td><td>0.0</td><td>0.0</td><td>23.15</td></tr><tr><td>1</td><td>2015-01-31 00:39:09</td><td>2015-01-31 00:48:51</td><td>0</td><td>1.5</td><td>0.0</td><td>0.0</td><td>1</td><td>&quot;N&quot;</td><td>-73.981911</td><td>40.736889</td><td>1</td><td>8.0</td><td>0.5</td><td>0.5</td><td>1.85</td><td>0.0</td><td>0.3</td><td>11.15</td></tr><tr><td>1</td><td>2015-01-24 20:07:52</td><td>2015-01-24 20:10:52</td><td>0</td><td>0.5</td><td>0.0</td><td>0.0</td><td>1</td><td>&quot;N&quot;</td><td>-73.97126</td><td>40.758507</td><td>1</td><td>4.0</td><td>0.5</td><td>0.5</td><td>1.55</td><td>0.0</td><td>0.3</td><td>6.85</td></tr><tr><td>&hellip;</td><td>&hellip;</td><td>&hellip;</td><td>&hellip;</td><td>&hellip;</td><td>&hellip;</td><td>&hellip;</td><td>&hellip;</td><td>&hellip;</td><td>&hellip;</td><td>&hellip;</td><td>&hellip;</td><td>&hellip;</td><td>&hellip;</td><td>&hellip;</td><td>&hellip;</td><td>&hellip;</td><td>&hellip;</td><td>&hellip;</td></tr><tr><td>1</td><td>2015-01-16 21:26:44</td><td>2015-01-16 21:39:23</td><td>0</td><td>3.0</td><td>0.0</td><td>0.0</td><td>1</td><td>&quot;N&quot;</td><td>-73.970886</td><td>40.693371</td><td>1</td><td>12.0</td><td>0.5</td><td>0.5</td><td>3.3</td><td>0.0</td><td>0.3</td><td>16.6</td></tr><tr><td>1</td><td>2015-01-11 11:31:09</td><td>2015-01-11 11:38:52</td><td>0</td><td>1.5</td><td>0.0</td><td>0.0</td><td>1</td><td>&quot;N&quot;</td><td>0.0</td><td>0.0</td><td>2</td><td>7.5</td><td>0.0</td><td>0.5</td><td>0.0</td><td>0.0</td><td>0.3</td><td>8.3</td></tr><tr><td>1</td><td>2015-01-18 01:47:30</td><td>2015-01-18 01:55:03</td><td>0</td><td>1.4</td><td>0.0</td><td>0.0</td><td>1</td><td>&quot;N&quot;</td><td>-74.004585</td><td>40.742241</td><td>1</td><td>7.0</td><td>0.5</td><td>0.5</td><td>0.11</td><td>0.0</td><td>0.3</td><td>8.41</td></tr><tr><td>1</td><td>2015-01-12 00:52:05</td><td>2015-01-12 01:18:43</td><td>0</td><td>17.9</td><td>0.0</td><td>0.0</td><td>2</td><td>&quot;N&quot;</td><td>-73.974854</td><td>40.759514</td><td>1</td><td>52.0</td><td>0.0</td><td>0.5</td><td>10.0</td><td>5.33</td><td>0.3</td><td>68.13</td></tr><tr><td>1</td><td>2015-01-16 16:39:33</td><td>2015-01-16 16:39:56</td><td>0</td><td>0.0</td><td>0.0</td><td>0.0</td><td>5</td><td>&quot;N&quot;</td><td>0.0</td><td>0.0</td><td>2</td><td>0.0</td><td>0.0</td><td>0.0</td><td>0.0</td><td>0.0</td><td>0.3</td><td>0.3</td></tr></tbody></table></div>"
      ],
      "text/plain": [
       "shape: (348, 19)\n",
       "┌──────────┬───────────┬───────────┬───────────┬───┬───────────┬───────────┬───────────┬───────────┐\n",
       "│ VendorID ┆ tpep_pick ┆ tpep_drop ┆ passenger ┆ … ┆ tip_amoun ┆ tolls_amo ┆ improveme ┆ total_amo │\n",
       "│ ---      ┆ up_dateti ┆ off_datet ┆ _count    ┆   ┆ t         ┆ unt       ┆ nt_surcha ┆ unt       │\n",
       "│ i64      ┆ me        ┆ ime       ┆ ---       ┆   ┆ ---       ┆ ---       ┆ rge       ┆ ---       │\n",
       "│          ┆ ---       ┆ ---       ┆ i64       ┆   ┆ f64       ┆ f64       ┆ ---       ┆ f64       │\n",
       "│          ┆ datetime[ ┆ datetime[ ┆           ┆   ┆           ┆           ┆ f64       ┆           │\n",
       "│          ┆ ms]       ┆ ms]       ┆           ┆   ┆           ┆           ┆           ┆           │\n",
       "╞══════════╪═══════════╪═══════════╪═══════════╪═══╪═══════════╪═══════════╪═══════════╪═══════════╡\n",
       "│ 1        ┆ 2015-01-1 ┆ 2015-01-1 ┆ 0         ┆ … ┆ 0.0       ┆ 0.0       ┆ 0.3       ┆ 5.8       │\n",
       "│          ┆ 4         ┆ 4         ┆           ┆   ┆           ┆           ┆           ┆           │\n",
       "│          ┆ 09:59:32  ┆ 10:03:36  ┆           ┆   ┆           ┆           ┆           ┆           │\n",
       "│ 1        ┆ 2015-01-1 ┆ 2015-01-1 ┆ 0         ┆ … ┆ 4.05      ┆ 0.0       ┆ 0.3       ┆ 24.35     │\n",
       "│          ┆ 5         ┆ 5         ┆           ┆   ┆           ┆           ┆           ┆           │\n",
       "│          ┆ 22:51:35  ┆ 23:10:11  ┆           ┆   ┆           ┆           ┆           ┆           │\n",
       "│ 1        ┆ 2015-01-0 ┆ 2015-01-0 ┆ 0         ┆ … ┆ 3.85      ┆ 0.0       ┆ 0.0       ┆ 23.15     │\n",
       "│          ┆ 1         ┆ 1         ┆           ┆   ┆           ┆           ┆           ┆           │\n",
       "│          ┆ 02:52:01  ┆ 03:15:09  ┆           ┆   ┆           ┆           ┆           ┆           │\n",
       "│ 1        ┆ 2015-01-3 ┆ 2015-01-3 ┆ 0         ┆ … ┆ 1.85      ┆ 0.0       ┆ 0.3       ┆ 11.15     │\n",
       "│          ┆ 1         ┆ 1         ┆           ┆   ┆           ┆           ┆           ┆           │\n",
       "│          ┆ 00:39:09  ┆ 00:48:51  ┆           ┆   ┆           ┆           ┆           ┆           │\n",
       "│ 1        ┆ 2015-01-2 ┆ 2015-01-2 ┆ 0         ┆ … ┆ 1.55      ┆ 0.0       ┆ 0.3       ┆ 6.85      │\n",
       "│          ┆ 4         ┆ 4         ┆           ┆   ┆           ┆           ┆           ┆           │\n",
       "│          ┆ 20:07:52  ┆ 20:10:52  ┆           ┆   ┆           ┆           ┆           ┆           │\n",
       "│ …        ┆ …         ┆ …         ┆ …         ┆ … ┆ …         ┆ …         ┆ …         ┆ …         │\n",
       "│ 1        ┆ 2015-01-1 ┆ 2015-01-1 ┆ 0         ┆ … ┆ 3.3       ┆ 0.0       ┆ 0.3       ┆ 16.6      │\n",
       "│          ┆ 6         ┆ 6         ┆           ┆   ┆           ┆           ┆           ┆           │\n",
       "│          ┆ 21:26:44  ┆ 21:39:23  ┆           ┆   ┆           ┆           ┆           ┆           │\n",
       "│ 1        ┆ 2015-01-1 ┆ 2015-01-1 ┆ 0         ┆ … ┆ 0.0       ┆ 0.0       ┆ 0.3       ┆ 8.3       │\n",
       "│          ┆ 1         ┆ 1         ┆           ┆   ┆           ┆           ┆           ┆           │\n",
       "│          ┆ 11:31:09  ┆ 11:38:52  ┆           ┆   ┆           ┆           ┆           ┆           │\n",
       "│ 1        ┆ 2015-01-1 ┆ 2015-01-1 ┆ 0         ┆ … ┆ 0.11      ┆ 0.0       ┆ 0.3       ┆ 8.41      │\n",
       "│          ┆ 8         ┆ 8         ┆           ┆   ┆           ┆           ┆           ┆           │\n",
       "│          ┆ 01:47:30  ┆ 01:55:03  ┆           ┆   ┆           ┆           ┆           ┆           │\n",
       "│ 1        ┆ 2015-01-1 ┆ 2015-01-1 ┆ 0         ┆ … ┆ 10.0      ┆ 5.33      ┆ 0.3       ┆ 68.13     │\n",
       "│          ┆ 2         ┆ 2         ┆           ┆   ┆           ┆           ┆           ┆           │\n",
       "│          ┆ 00:52:05  ┆ 01:18:43  ┆           ┆   ┆           ┆           ┆           ┆           │\n",
       "│ 1        ┆ 2015-01-1 ┆ 2015-01-1 ┆ 0         ┆ … ┆ 0.0       ┆ 0.0       ┆ 0.3       ┆ 0.3       │\n",
       "│          ┆ 6         ┆ 6         ┆           ┆   ┆           ┆           ┆           ┆           │\n",
       "│          ┆ 16:39:33  ┆ 16:39:56  ┆           ┆   ┆           ┆           ┆           ┆           │\n",
       "└──────────┴───────────┴───────────┴───────────┴───┴───────────┴───────────┴───────────┴───────────┘"
      ]
     },
     "execution_count": 73,
     "metadata": {},
     "output_type": "execute_result"
    }
   ],
   "source": [
    "df.filter(\n",
    "    (pl.col(\"pickup_longitude\") > -73.) &\n",
    "    (pl.col(\"passenger_count\") < 1)\n",
    ")"
   ]
  },
  {
   "cell_type": "markdown",
   "id": "6b7d8202",
   "metadata": {},
   "source": [
    "### Adding columns - the wrong way (another common `pandas` pattern)"
   ]
  },
  {
   "cell_type": "code",
   "execution_count": 74,
   "id": "4c2e55e6",
   "metadata": {},
   "outputs": [
    {
     "ename": "TypeError",
     "evalue": "DataFrame object does not support `Series` assignment by index\n\nUse `DataFrame.with_columns`.",
     "output_type": "error",
     "traceback": [
      "\u001b[0;31m---------------------------------------------------------------------------\u001b[0m",
      "\u001b[0;31mTypeError\u001b[0m                                 Traceback (most recent call last)",
      "Cell \u001b[0;32mIn[74], line 1\u001b[0m\n\u001b[0;32m----> 1\u001b[0m \u001b[43mdf\u001b[49m\u001b[43m[\u001b[49m\u001b[38;5;124;43m'\u001b[39;49m\u001b[38;5;124;43mx\u001b[39;49m\u001b[38;5;124;43m'\u001b[39;49m\u001b[43m]\u001b[49m \u001b[38;5;241m=\u001b[39m \u001b[38;5;241m1\u001b[39m \u001b[38;5;66;03m# this should fail\u001b[39;00m\n",
      "File \u001b[0;32m/Library/Frameworks/Python.framework/Versions/3.11/lib/python3.11/site-packages/polars/dataframe/frame.py:1366\u001b[0m, in \u001b[0;36mDataFrame.__setitem__\u001b[0;34m(self, key, value)\u001b[0m\n\u001b[1;32m   1361\u001b[0m \u001b[38;5;28;01mif\u001b[39;00m \u001b[38;5;28misinstance\u001b[39m(key, \u001b[38;5;28mstr\u001b[39m):\n\u001b[1;32m   1362\u001b[0m     msg \u001b[38;5;241m=\u001b[39m (\n\u001b[1;32m   1363\u001b[0m         \u001b[38;5;124m\"\u001b[39m\u001b[38;5;124mDataFrame object does not support `Series` assignment by index\u001b[39m\u001b[38;5;124m\"\u001b[39m\n\u001b[1;32m   1364\u001b[0m         \u001b[38;5;124m\"\u001b[39m\u001b[38;5;130;01m\\n\u001b[39;00m\u001b[38;5;130;01m\\n\u001b[39;00m\u001b[38;5;124mUse `DataFrame.with_columns`.\u001b[39m\u001b[38;5;124m\"\u001b[39m\n\u001b[1;32m   1365\u001b[0m     )\n\u001b[0;32m-> 1366\u001b[0m     \u001b[38;5;28;01mraise\u001b[39;00m \u001b[38;5;167;01mTypeError\u001b[39;00m(msg)\n\u001b[1;32m   1368\u001b[0m \u001b[38;5;66;03m# df[[\"C\", \"D\"]]\u001b[39;00m\n\u001b[1;32m   1369\u001b[0m \u001b[38;5;28;01melif\u001b[39;00m \u001b[38;5;28misinstance\u001b[39m(key, \u001b[38;5;28mlist\u001b[39m):\n\u001b[1;32m   1370\u001b[0m     \u001b[38;5;66;03m# TODO: Use python sequence constructors\u001b[39;00m\n",
      "\u001b[0;31mTypeError\u001b[0m: DataFrame object does not support `Series` assignment by index\n\nUse `DataFrame.with_columns`."
     ]
    }
   ],
   "source": [
    "df['x'] = 1 # this should fail"
   ]
  },
  {
   "cell_type": "markdown",
   "id": "3d654667",
   "metadata": {},
   "source": [
    "### Adding columns - the right way"
   ]
  },
  {
   "cell_type": "code",
   "execution_count": 75,
   "id": "147282a9",
   "metadata": {},
   "outputs": [],
   "source": [
    "df = df.with_columns(pl.Series('x', [1]*df.shape[0]))"
   ]
  },
  {
   "cell_type": "code",
   "execution_count": 76,
   "id": "6e71b6d8",
   "metadata": {},
   "outputs": [
    {
     "data": {
      "text/html": [
       "<div><style>\n",
       ".dataframe > thead > tr,\n",
       ".dataframe > tbody > tr {\n",
       "  text-align: right;\n",
       "  white-space: pre-wrap;\n",
       "}\n",
       "</style>\n",
       "<small>shape: (5, 1)</small><table border=\"1\" class=\"dataframe\"><thead><tr><th>x</th></tr><tr><td>i64</td></tr></thead><tbody><tr><td>1</td></tr><tr><td>1</td></tr><tr><td>1</td></tr><tr><td>1</td></tr><tr><td>1</td></tr></tbody></table></div>"
      ],
      "text/plain": [
       "shape: (5, 1)\n",
       "┌─────┐\n",
       "│ x   │\n",
       "│ --- │\n",
       "│ i64 │\n",
       "╞═════╡\n",
       "│ 1   │\n",
       "│ 1   │\n",
       "│ 1   │\n",
       "│ 1   │\n",
       "│ 1   │\n",
       "└─────┘"
      ]
     },
     "execution_count": 76,
     "metadata": {},
     "output_type": "execute_result"
    }
   ],
   "source": [
    "df.select('x').head()"
   ]
  },
  {
   "cell_type": "markdown",
   "id": "708915a9",
   "metadata": {},
   "source": [
    "### Using literals: a safer way to work with constants as expressions"
   ]
  },
  {
   "cell_type": "code",
   "execution_count": 77,
   "id": "7b9af6bf",
   "metadata": {},
   "outputs": [
    {
     "data": {
      "text/html": [
       "dyn int: 1"
      ],
      "text/plain": [
       "<Expr ['dyn int: 1'] at 0x32E954190>"
      ]
     },
     "execution_count": 77,
     "metadata": {},
     "output_type": "execute_result"
    }
   ],
   "source": [
    "_lit = pl.lit(1)\n",
    "_lit"
   ]
  },
  {
   "cell_type": "code",
   "execution_count": 78,
   "id": "3af0b4da",
   "metadata": {},
   "outputs": [
    {
     "data": {
      "text/plain": [
       "polars.expr.expr.Expr"
      ]
     },
     "execution_count": 78,
     "metadata": {},
     "output_type": "execute_result"
    }
   ],
   "source": [
    "type(_lit)"
   ]
  },
  {
   "cell_type": "code",
   "execution_count": 79,
   "id": "82ae93b0",
   "metadata": {},
   "outputs": [],
   "source": [
    "df = df.with_columns(pl.lit(2).alias('y'))"
   ]
  },
  {
   "cell_type": "code",
   "execution_count": 80,
   "id": "022124a9",
   "metadata": {},
   "outputs": [
    {
     "data": {
      "text/html": [
       "<div><style>\n",
       ".dataframe > thead > tr,\n",
       ".dataframe > tbody > tr {\n",
       "  text-align: right;\n",
       "  white-space: pre-wrap;\n",
       "}\n",
       "</style>\n",
       "<small>shape: (5, 3)</small><table border=\"1\" class=\"dataframe\"><thead><tr><th>y</th><th>x</th><th>VendorID</th></tr><tr><td>i32</td><td>i64</td><td>i64</td></tr></thead><tbody><tr><td>2</td><td>1</td><td>2</td></tr><tr><td>2</td><td>1</td><td>1</td></tr><tr><td>2</td><td>1</td><td>1</td></tr><tr><td>2</td><td>1</td><td>1</td></tr><tr><td>2</td><td>1</td><td>1</td></tr></tbody></table></div>"
      ],
      "text/plain": [
       "shape: (5, 3)\n",
       "┌─────┬─────┬──────────┐\n",
       "│ y   ┆ x   ┆ VendorID │\n",
       "│ --- ┆ --- ┆ ---      │\n",
       "│ i32 ┆ i64 ┆ i64      │\n",
       "╞═════╪═════╪══════════╡\n",
       "│ 2   ┆ 1   ┆ 2        │\n",
       "│ 2   ┆ 1   ┆ 1        │\n",
       "│ 2   ┆ 1   ┆ 1        │\n",
       "│ 2   ┆ 1   ┆ 1        │\n",
       "│ 2   ┆ 1   ┆ 1        │\n",
       "└─────┴─────┴──────────┘"
      ]
     },
     "execution_count": 80,
     "metadata": {},
     "output_type": "execute_result"
    }
   ],
   "source": [
    "df.select('y', 'x', 'VendorID').head()"
   ]
  },
  {
   "cell_type": "markdown",
   "id": "86b668f7",
   "metadata": {},
   "source": [
    "### Using expressions to add columns"
   ]
  },
  {
   "cell_type": "code",
   "execution_count": 81,
   "id": "92b9a92c",
   "metadata": {},
   "outputs": [
    {
     "data": {
      "text/html": [
       "<div><style>\n",
       ".dataframe > thead > tr,\n",
       ".dataframe > tbody > tr {\n",
       "  text-align: right;\n",
       "  white-space: pre-wrap;\n",
       "}\n",
       "</style>\n",
       "<small>shape: (4, 3)</small><table border=\"1\" class=\"dataframe\"><thead><tr><th>x</th><th>y</th><th>z</th></tr><tr><td>str</td><td>i64</td><td>i64</td></tr></thead><tbody><tr><td>&quot;a&quot;</td><td>1</td><td>0</td></tr><tr><td>&quot;b&quot;</td><td>2</td><td>3</td></tr><tr><td>&quot;b&quot;</td><td>3</td><td>6</td></tr><tr><td>&quot;a&quot;</td><td>4</td><td>9</td></tr></tbody></table></div>"
      ],
      "text/plain": [
       "shape: (4, 3)\n",
       "┌─────┬─────┬─────┐\n",
       "│ x   ┆ y   ┆ z   │\n",
       "│ --- ┆ --- ┆ --- │\n",
       "│ str ┆ i64 ┆ i64 │\n",
       "╞═════╪═════╪═════╡\n",
       "│ a   ┆ 1   ┆ 0   │\n",
       "│ b   ┆ 2   ┆ 3   │\n",
       "│ b   ┆ 3   ┆ 6   │\n",
       "│ a   ┆ 4   ┆ 9   │\n",
       "└─────┴─────┴─────┘"
      ]
     },
     "execution_count": 81,
     "metadata": {},
     "output_type": "execute_result"
    }
   ],
   "source": [
    "df_ex"
   ]
  },
  {
   "cell_type": "code",
   "execution_count": 82,
   "id": "5831a069",
   "metadata": {},
   "outputs": [
    {
     "data": {
      "text/html": [
       "<div><style>\n",
       ".dataframe > thead > tr,\n",
       ".dataframe > tbody > tr {\n",
       "  text-align: right;\n",
       "  white-space: pre-wrap;\n",
       "}\n",
       "</style>\n",
       "<small>shape: (4, 2)</small><table border=\"1\" class=\"dataframe\"><thead><tr><th>x</th><th>y</th></tr><tr><td>str</td><td>i64</td></tr></thead><tbody><tr><td>&quot;a&quot;</td><td>2</td></tr><tr><td>&quot;b&quot;</td><td>3</td></tr><tr><td>&quot;b&quot;</td><td>4</td></tr><tr><td>&quot;a&quot;</td><td>5</td></tr></tbody></table></div>"
      ],
      "text/plain": [
       "shape: (4, 2)\n",
       "┌─────┬─────┐\n",
       "│ x   ┆ y   │\n",
       "│ --- ┆ --- │\n",
       "│ str ┆ i64 │\n",
       "╞═════╪═════╡\n",
       "│ a   ┆ 2   │\n",
       "│ b   ┆ 3   │\n",
       "│ b   ┆ 4   │\n",
       "│ a   ┆ 5   │\n",
       "└─────┴─────┘"
      ]
     },
     "execution_count": 82,
     "metadata": {},
     "output_type": "execute_result"
    }
   ],
   "source": [
    "df_ex.select(pl.col('x'), pl.col('y')+1)"
   ]
  },
  {
   "cell_type": "code",
   "execution_count": 83,
   "id": "b77caa04",
   "metadata": {},
   "outputs": [
    {
     "data": {
      "text/html": [
       "<div><style>\n",
       ".dataframe > thead > tr,\n",
       ".dataframe > tbody > tr {\n",
       "  text-align: right;\n",
       "  white-space: pre-wrap;\n",
       "}\n",
       "</style>\n",
       "<small>shape: (4, 9)</small><table border=\"1\" class=\"dataframe\"><thead><tr><th>y/2</th><th>2/y</th><th>y+z</th><th>arctan(z)</th><th>ceil(arctan(z))</th><th>abs(z-5)</th><th>z is in (1,2,3)</th><th>z**2</th><th>y**2</th></tr><tr><td>f64</td><td>f64</td><td>i64</td><td>f64</td><td>f64</td><td>i64</td><td>bool</td><td>i64</td><td>i64</td></tr></thead><tbody><tr><td>0.5</td><td>2.0</td><td>1</td><td>0.0</td><td>0.0</td><td>5</td><td>false</td><td>0</td><td>1</td></tr><tr><td>1.0</td><td>1.0</td><td>5</td><td>1.249046</td><td>2.0</td><td>2</td><td>true</td><td>9</td><td>4</td></tr><tr><td>1.5</td><td>0.666667</td><td>9</td><td>1.405648</td><td>2.0</td><td>1</td><td>false</td><td>36</td><td>9</td></tr><tr><td>2.0</td><td>0.5</td><td>13</td><td>1.460139</td><td>2.0</td><td>4</td><td>false</td><td>81</td><td>16</td></tr></tbody></table></div>"
      ],
      "text/plain": [
       "shape: (4, 9)\n",
       "┌─────┬──────────┬─────┬───────────┬───┬──────────┬─────────────────┬──────┬──────┐\n",
       "│ y/2 ┆ 2/y      ┆ y+z ┆ arctan(z) ┆ … ┆ abs(z-5) ┆ z is in (1,2,3) ┆ z**2 ┆ y**2 │\n",
       "│ --- ┆ ---      ┆ --- ┆ ---       ┆   ┆ ---      ┆ ---             ┆ ---  ┆ ---  │\n",
       "│ f64 ┆ f64      ┆ i64 ┆ f64       ┆   ┆ i64      ┆ bool            ┆ i64  ┆ i64  │\n",
       "╞═════╪══════════╪═════╪═══════════╪═══╪══════════╪═════════════════╪══════╪══════╡\n",
       "│ 0.5 ┆ 2.0      ┆ 1   ┆ 0.0       ┆ … ┆ 5        ┆ false           ┆ 0    ┆ 1    │\n",
       "│ 1.0 ┆ 1.0      ┆ 5   ┆ 1.249046  ┆ … ┆ 2        ┆ true            ┆ 9    ┆ 4    │\n",
       "│ 1.5 ┆ 0.666667 ┆ 9   ┆ 1.405648  ┆ … ┆ 1        ┆ false           ┆ 36   ┆ 9    │\n",
       "│ 2.0 ┆ 0.5      ┆ 13  ┆ 1.460139  ┆ … ┆ 4        ┆ false           ┆ 81   ┆ 16   │\n",
       "└─────┴──────────┴─────┴───────────┴───┴──────────┴─────────────────┴──────┴──────┘"
      ]
     },
     "execution_count": 83,
     "metadata": {},
     "output_type": "execute_result"
    }
   ],
   "source": [
    "df_ex.select( \n",
    "    \n",
    "    (pl.col('y')/2).alias('y/2'),\n",
    "    \n",
    "    (2/pl.col('y')).alias('2/y'),\n",
    "    \n",
    "    (pl.col('y') + pl.col('z')).alias('y+z'),\n",
    "    \n",
    "    pl.col('z').arctan().alias('arctan(z)'),\n",
    "    \n",
    "    pl.col('z').arctan().ceil().alias('ceil(arctan(z))'),\n",
    "    \n",
    "    (pl.col('z')-5).abs().alias('abs(z-5)'),\n",
    "    \n",
    "    pl.col('z').is_in([1,2,3]).alias('z is in (1,2,3)'),\n",
    "    \n",
    "    pl.col('z').pow(2).alias('z**2'),\n",
    "    \n",
    "    (pl.col('y')**2).alias('y**2')\n",
    "    \n",
    ")"
   ]
  },
  {
   "cell_type": "markdown",
   "id": "148683a3",
   "metadata": {},
   "source": [
    "### Casting types"
   ]
  },
  {
   "cell_type": "code",
   "execution_count": 84,
   "id": "580a1471",
   "metadata": {},
   "outputs": [
    {
     "data": {
      "text/html": [
       "<div><style>\n",
       ".dataframe > thead > tr,\n",
       ".dataframe > tbody > tr {\n",
       "  text-align: right;\n",
       "  white-space: pre-wrap;\n",
       "}\n",
       "</style>\n",
       "<small>shape: (12_748_986, 1)</small><table border=\"1\" class=\"dataframe\"><thead><tr><th>VendorID</th></tr><tr><td>str</td></tr></thead><tbody><tr><td>&quot;2&quot;</td></tr><tr><td>&quot;1&quot;</td></tr><tr><td>&quot;1&quot;</td></tr><tr><td>&quot;1&quot;</td></tr><tr><td>&quot;1&quot;</td></tr><tr><td>&hellip;</td></tr><tr><td>&quot;1&quot;</td></tr><tr><td>&quot;1&quot;</td></tr><tr><td>&quot;1&quot;</td></tr><tr><td>&quot;1&quot;</td></tr><tr><td>&quot;1&quot;</td></tr></tbody></table></div>"
      ],
      "text/plain": [
       "shape: (12_748_986, 1)\n",
       "┌──────────┐\n",
       "│ VendorID │\n",
       "│ ---      │\n",
       "│ str      │\n",
       "╞══════════╡\n",
       "│ 2        │\n",
       "│ 1        │\n",
       "│ 1        │\n",
       "│ 1        │\n",
       "│ 1        │\n",
       "│ …        │\n",
       "│ 1        │\n",
       "│ 1        │\n",
       "│ 1        │\n",
       "│ 1        │\n",
       "│ 1        │\n",
       "└──────────┘"
      ]
     },
     "execution_count": 84,
     "metadata": {},
     "output_type": "execute_result"
    }
   ],
   "source": [
    "df.select(pl.col('VendorID').cast(pl.String))"
   ]
  },
  {
   "cell_type": "markdown",
   "id": "11074a75",
   "metadata": {},
   "source": [
    "### But I really like my python function..."
   ]
  },
  {
   "cell_type": "code",
   "execution_count": 87,
   "id": "01243747",
   "metadata": {},
   "outputs": [],
   "source": [
    "def my_func(x):\n",
    "    return x+2"
   ]
  },
  {
   "cell_type": "code",
   "execution_count": 88,
   "id": "e8157992",
   "metadata": {},
   "outputs": [
    {
     "data": {
      "text/html": [
       "<div><style>\n",
       ".dataframe > thead > tr,\n",
       ".dataframe > tbody > tr {\n",
       "  text-align: right;\n",
       "  white-space: pre-wrap;\n",
       "}\n",
       "</style>\n",
       "<small>shape: (12_748_986, 2)</small><table border=\"1\" class=\"dataframe\"><thead><tr><th>original</th><th>plus_2</th></tr><tr><td>i64</td><td>i64</td></tr></thead><tbody><tr><td>2</td><td>4</td></tr><tr><td>1</td><td>3</td></tr><tr><td>1</td><td>3</td></tr><tr><td>1</td><td>3</td></tr><tr><td>1</td><td>3</td></tr><tr><td>&hellip;</td><td>&hellip;</td></tr><tr><td>1</td><td>3</td></tr><tr><td>1</td><td>3</td></tr><tr><td>1</td><td>3</td></tr><tr><td>1</td><td>3</td></tr><tr><td>1</td><td>3</td></tr></tbody></table></div>"
      ],
      "text/plain": [
       "shape: (12_748_986, 2)\n",
       "┌──────────┬────────┐\n",
       "│ original ┆ plus_2 │\n",
       "│ ---      ┆ ---    │\n",
       "│ i64      ┆ i64    │\n",
       "╞══════════╪════════╡\n",
       "│ 2        ┆ 4      │\n",
       "│ 1        ┆ 3      │\n",
       "│ 1        ┆ 3      │\n",
       "│ 1        ┆ 3      │\n",
       "│ 1        ┆ 3      │\n",
       "│ …        ┆ …      │\n",
       "│ 1        ┆ 3      │\n",
       "│ 1        ┆ 3      │\n",
       "│ 1        ┆ 3      │\n",
       "│ 1        ┆ 3      │\n",
       "│ 1        ┆ 3      │\n",
       "└──────────┴────────┘"
      ]
     },
     "execution_count": 88,
     "metadata": {},
     "output_type": "execute_result"
    }
   ],
   "source": [
    "df.select(\n",
    "    original=pl.col('VendorID'), \n",
    "    plus_2=pl.col('VendorID').pipe(my_func)\n",
    ")"
   ]
  },
  {
   "cell_type": "markdown",
   "id": "f1bbee9d",
   "metadata": {},
   "source": [
    "### Case when.."
   ]
  },
  {
   "cell_type": "code",
   "execution_count": 89,
   "id": "2e538747",
   "metadata": {},
   "outputs": [],
   "source": [
    "# add a month_name column\n",
    "df = df.with_columns(\n",
    "    (pl.col(\"tpep_pickup_datetime\").dt.strftime(\"%b\").alias(\"month_name\")),\n",
    "    (pl.col(\"tpep_pickup_datetime\").dt.strftime(\"%d\").alias(\"month_day\").cast(pl.Int64)),\n",
    ")"
   ]
  },
  {
   "cell_type": "code",
   "execution_count": 90,
   "id": "51866a93",
   "metadata": {},
   "outputs": [
    {
     "data": {
      "text/html": [
       "<div><style>\n",
       ".dataframe > thead > tr,\n",
       ".dataframe > tbody > tr {\n",
       "  text-align: right;\n",
       "  white-space: pre-wrap;\n",
       "}\n",
       "</style>\n",
       "<small>shape: (12_748_986, 3)</small><table border=\"1\" class=\"dataframe\"><thead><tr><th>tpep_pickup_datetime</th><th>month_name</th><th>month_day</th></tr><tr><td>datetime[ms]</td><td>str</td><td>i64</td></tr></thead><tbody><tr><td>2015-01-15 19:05:39</td><td>&quot;Jan&quot;</td><td>15</td></tr><tr><td>2015-01-10 20:33:38</td><td>&quot;Jan&quot;</td><td>10</td></tr><tr><td>2015-01-10 20:33:38</td><td>&quot;Jan&quot;</td><td>10</td></tr><tr><td>2015-01-10 20:33:39</td><td>&quot;Jan&quot;</td><td>10</td></tr><tr><td>2015-01-10 20:33:39</td><td>&quot;Jan&quot;</td><td>10</td></tr><tr><td>&hellip;</td><td>&hellip;</td><td>&hellip;</td></tr><tr><td>2015-01-10 19:01:44</td><td>&quot;Jan&quot;</td><td>10</td></tr><tr><td>2015-01-10 19:01:44</td><td>&quot;Jan&quot;</td><td>10</td></tr><tr><td>2015-01-10 19:01:44</td><td>&quot;Jan&quot;</td><td>10</td></tr><tr><td>2015-01-10 19:01:44</td><td>&quot;Jan&quot;</td><td>10</td></tr><tr><td>2015-01-10 19:01:45</td><td>&quot;Jan&quot;</td><td>10</td></tr></tbody></table></div>"
      ],
      "text/plain": [
       "shape: (12_748_986, 3)\n",
       "┌──────────────────────┬────────────┬───────────┐\n",
       "│ tpep_pickup_datetime ┆ month_name ┆ month_day │\n",
       "│ ---                  ┆ ---        ┆ ---       │\n",
       "│ datetime[ms]         ┆ str        ┆ i64       │\n",
       "╞══════════════════════╪════════════╪═══════════╡\n",
       "│ 2015-01-15 19:05:39  ┆ Jan        ┆ 15        │\n",
       "│ 2015-01-10 20:33:38  ┆ Jan        ┆ 10        │\n",
       "│ 2015-01-10 20:33:38  ┆ Jan        ┆ 10        │\n",
       "│ 2015-01-10 20:33:39  ┆ Jan        ┆ 10        │\n",
       "│ 2015-01-10 20:33:39  ┆ Jan        ┆ 10        │\n",
       "│ …                    ┆ …          ┆ …         │\n",
       "│ 2015-01-10 19:01:44  ┆ Jan        ┆ 10        │\n",
       "│ 2015-01-10 19:01:44  ┆ Jan        ┆ 10        │\n",
       "│ 2015-01-10 19:01:44  ┆ Jan        ┆ 10        │\n",
       "│ 2015-01-10 19:01:44  ┆ Jan        ┆ 10        │\n",
       "│ 2015-01-10 19:01:45  ┆ Jan        ┆ 10        │\n",
       "└──────────────────────┴────────────┴───────────┘"
      ]
     },
     "execution_count": 90,
     "metadata": {},
     "output_type": "execute_result"
    }
   ],
   "source": [
    "df.select('tpep_pickup_datetime', 'month_name', 'month_day')"
   ]
  },
  {
   "cell_type": "code",
   "execution_count": 91,
   "id": "9b25e0d3",
   "metadata": {},
   "outputs": [],
   "source": [
    "my_col = (\n",
    "    pl.when(pl.col('month_day') <= 10)\n",
    "      .then(pl.lit('first 10 days'))\n",
    "      .when(pl.col('month_day') <= 20)\n",
    "      .then(pl.lit('middle 10 days'))\n",
    "      .otherwise(pl.lit('last 10 days'))\n",
    ")"
   ]
  },
  {
   "cell_type": "code",
   "execution_count": 92,
   "id": "5817d8e9",
   "metadata": {},
   "outputs": [
    {
     "data": {
      "text/plain": [
       "polars.expr.expr.Expr"
      ]
     },
     "execution_count": 92,
     "metadata": {},
     "output_type": "execute_result"
    }
   ],
   "source": [
    "type(my_col)"
   ]
  },
  {
   "cell_type": "code",
   "execution_count": 93,
   "id": "fdbd3386",
   "metadata": {},
   "outputs": [],
   "source": [
    "df = df.with_columns(my_col.alias('day_group'))"
   ]
  },
  {
   "cell_type": "code",
   "execution_count": 94,
   "id": "bad9f97f",
   "metadata": {},
   "outputs": [
    {
     "data": {
      "text/html": [
       "<div><style>\n",
       ".dataframe > thead > tr,\n",
       ".dataframe > tbody > tr {\n",
       "  text-align: right;\n",
       "  white-space: pre-wrap;\n",
       "}\n",
       "</style>\n",
       "<small>shape: (12_748_986, 2)</small><table border=\"1\" class=\"dataframe\"><thead><tr><th>tpep_pickup_datetime</th><th>day_group</th></tr><tr><td>datetime[ms]</td><td>str</td></tr></thead><tbody><tr><td>2015-01-15 19:05:39</td><td>&quot;middle 10 days&quot;</td></tr><tr><td>2015-01-10 20:33:38</td><td>&quot;first 10 days&quot;</td></tr><tr><td>2015-01-10 20:33:38</td><td>&quot;first 10 days&quot;</td></tr><tr><td>2015-01-10 20:33:39</td><td>&quot;first 10 days&quot;</td></tr><tr><td>2015-01-10 20:33:39</td><td>&quot;first 10 days&quot;</td></tr><tr><td>&hellip;</td><td>&hellip;</td></tr><tr><td>2015-01-10 19:01:44</td><td>&quot;first 10 days&quot;</td></tr><tr><td>2015-01-10 19:01:44</td><td>&quot;first 10 days&quot;</td></tr><tr><td>2015-01-10 19:01:44</td><td>&quot;first 10 days&quot;</td></tr><tr><td>2015-01-10 19:01:44</td><td>&quot;first 10 days&quot;</td></tr><tr><td>2015-01-10 19:01:45</td><td>&quot;first 10 days&quot;</td></tr></tbody></table></div>"
      ],
      "text/plain": [
       "shape: (12_748_986, 2)\n",
       "┌──────────────────────┬────────────────┐\n",
       "│ tpep_pickup_datetime ┆ day_group      │\n",
       "│ ---                  ┆ ---            │\n",
       "│ datetime[ms]         ┆ str            │\n",
       "╞══════════════════════╪════════════════╡\n",
       "│ 2015-01-15 19:05:39  ┆ middle 10 days │\n",
       "│ 2015-01-10 20:33:38  ┆ first 10 days  │\n",
       "│ 2015-01-10 20:33:38  ┆ first 10 days  │\n",
       "│ 2015-01-10 20:33:39  ┆ first 10 days  │\n",
       "│ 2015-01-10 20:33:39  ┆ first 10 days  │\n",
       "│ …                    ┆ …              │\n",
       "│ 2015-01-10 19:01:44  ┆ first 10 days  │\n",
       "│ 2015-01-10 19:01:44  ┆ first 10 days  │\n",
       "│ 2015-01-10 19:01:44  ┆ first 10 days  │\n",
       "│ 2015-01-10 19:01:44  ┆ first 10 days  │\n",
       "│ 2015-01-10 19:01:45  ┆ first 10 days  │\n",
       "└──────────────────────┴────────────────┘"
      ]
     },
     "execution_count": 94,
     "metadata": {},
     "output_type": "execute_result"
    }
   ],
   "source": [
    "df.select('tpep_pickup_datetime', 'day_group')"
   ]
  },
  {
   "cell_type": "markdown",
   "id": "abbd8d38",
   "metadata": {},
   "source": [
    "### Removing columns"
   ]
  },
  {
   "cell_type": "code",
   "execution_count": 95,
   "id": "fb324036",
   "metadata": {},
   "outputs": [],
   "source": [
    "df = df.drop('x') # or an iterator or a pointer to a pl.col"
   ]
  },
  {
   "cell_type": "markdown",
   "id": "384450d3",
   "metadata": {},
   "source": [
    "## Group by\n",
    "\n",
    "<font color='red'>A note on api method names:</font> words will always be separated by an underscore `group_by`, `value_counts` etc..."
   ]
  },
  {
   "cell_type": "markdown",
   "id": "d4521743",
   "metadata": {},
   "source": [
    "### agg expressions"
   ]
  },
  {
   "cell_type": "code",
   "execution_count": 96,
   "id": "51a2b748",
   "metadata": {},
   "outputs": [
    {
     "data": {
      "text/html": [
       "col(\"passenger_count\").sum()"
      ],
      "text/plain": [
       "<Expr ['col(\"passenger_count\").sum()'] at 0x11F10E590>"
      ]
     },
     "execution_count": 96,
     "metadata": {},
     "output_type": "execute_result"
    }
   ],
   "source": [
    "pl.col('passenger_count').sum()"
   ]
  },
  {
   "cell_type": "code",
   "execution_count": 97,
   "id": "d7415b31",
   "metadata": {},
   "outputs": [
    {
     "data": {
      "text/plain": [
       "polars.expr.expr.Expr"
      ]
     },
     "execution_count": 97,
     "metadata": {},
     "output_type": "execute_result"
    }
   ],
   "source": [
    "type(pl.col('passenger_count').sum())"
   ]
  },
  {
   "cell_type": "code",
   "execution_count": 98,
   "id": "d7c4e064",
   "metadata": {},
   "outputs": [
    {
     "data": {
      "text/html": [
       "<div><style>\n",
       ".dataframe > thead > tr,\n",
       ".dataframe > tbody > tr {\n",
       "  text-align: right;\n",
       "  white-space: pre-wrap;\n",
       "}\n",
       "</style>\n",
       "<small>shape: (3, 5)</small><table border=\"1\" class=\"dataframe\"><thead><tr><th>month_name</th><th>day_group</th><th>trips</th><th>passengers</th><th>distance_driven</th></tr><tr><td>str</td><td>str</td><td>u32</td><td>i64</td><td>f64</td></tr></thead><tbody><tr><td>&quot;Jan&quot;</td><td>&quot;last 10 days&quot;</td><td>4405497</td><td>7353743</td><td>6.4019e7</td></tr><tr><td>&quot;Jan&quot;</td><td>&quot;middle 10 days&quot;</td><td>4288724</td><td>7171697</td><td>4.0116e7</td></tr><tr><td>&quot;Jan&quot;</td><td>&quot;first 10 days&quot;</td><td>4054765</td><td>6911863</td><td>6.7455e7</td></tr></tbody></table></div>"
      ],
      "text/plain": [
       "shape: (3, 5)\n",
       "┌────────────┬────────────────┬─────────┬────────────┬─────────────────┐\n",
       "│ month_name ┆ day_group      ┆ trips   ┆ passengers ┆ distance_driven │\n",
       "│ ---        ┆ ---            ┆ ---     ┆ ---        ┆ ---             │\n",
       "│ str        ┆ str            ┆ u32     ┆ i64        ┆ f64             │\n",
       "╞════════════╪════════════════╪═════════╪════════════╪═════════════════╡\n",
       "│ Jan        ┆ last 10 days   ┆ 4405497 ┆ 7353743    ┆ 6.4019e7        │\n",
       "│ Jan        ┆ middle 10 days ┆ 4288724 ┆ 7171697    ┆ 4.0116e7        │\n",
       "│ Jan        ┆ first 10 days  ┆ 4054765 ┆ 6911863    ┆ 6.7455e7        │\n",
       "└────────────┴────────────────┴─────────┴────────────┴─────────────────┘"
      ]
     },
     "execution_count": 98,
     "metadata": {},
     "output_type": "execute_result"
    }
   ],
   "source": [
    "df.group_by('month_name', 'day_group').agg(\n",
    "    pl.len().alias('trips'), # count(1) like SQL\n",
    "    pl.col('passenger_count').sum().alias('passengers'),\n",
    "    pl.col('trip_distance').sum().alias('distance_driven'),\n",
    ")"
   ]
  },
  {
   "cell_type": "markdown",
   "id": "a1fce895",
   "metadata": {},
   "source": [
    "### `group_by_dynamic`"
   ]
  },
  {
   "cell_type": "code",
   "execution_count": 99,
   "id": "94f4f4f2",
   "metadata": {},
   "outputs": [
    {
     "data": {
      "text/html": [
       "<div><style>\n",
       ".dataframe > thead > tr,\n",
       ".dataframe > tbody > tr {\n",
       "  text-align: right;\n",
       "  white-space: pre-wrap;\n",
       "}\n",
       "</style>\n",
       "<small>shape: (72, 4)</small><table border=\"1\" class=\"dataframe\"><thead><tr><th>tpep_pickup_datetime</th><th>trips</th><th>passengers</th><th>distance_driven</th></tr><tr><td>datetime[ms]</td><td>u32</td><td>i64</td><td>f64</td></tr></thead><tbody><tr><td>2015-01-01 00:00:00</td><td>28312</td><td>51700</td><td>82489.09</td></tr><tr><td>2015-01-01 01:00:00</td><td>31707</td><td>58584</td><td>99258.12</td></tr><tr><td>2015-01-01 02:00:00</td><td>28068</td><td>51507</td><td>91865.7</td></tr><tr><td>2015-01-01 03:00:00</td><td>24288</td><td>44134</td><td>84036.57</td></tr><tr><td>2015-01-01 04:00:00</td><td>17081</td><td>30799</td><td>63055.28</td></tr><tr><td>&hellip;</td><td>&hellip;</td><td>&hellip;</td><td>&hellip;</td></tr><tr><td>2015-01-03 19:00:00</td><td>25667</td><td>46194</td><td>3240988.5</td></tr><tr><td>2015-01-03 20:00:00</td><td>20531</td><td>36959</td><td>54915.04</td></tr><tr><td>2015-01-03 21:00:00</td><td>21399</td><td>38224</td><td>56920.38</td></tr><tr><td>2015-01-03 22:00:00</td><td>22409</td><td>40314</td><td>64932.34</td></tr><tr><td>2015-01-03 23:00:00</td><td>22833</td><td>40782</td><td>201639.07</td></tr></tbody></table></div>"
      ],
      "text/plain": [
       "shape: (72, 4)\n",
       "┌──────────────────────┬───────┬────────────┬─────────────────┐\n",
       "│ tpep_pickup_datetime ┆ trips ┆ passengers ┆ distance_driven │\n",
       "│ ---                  ┆ ---   ┆ ---        ┆ ---             │\n",
       "│ datetime[ms]         ┆ u32   ┆ i64        ┆ f64             │\n",
       "╞══════════════════════╪═══════╪════════════╪═════════════════╡\n",
       "│ 2015-01-01 00:00:00  ┆ 28312 ┆ 51700      ┆ 82489.09        │\n",
       "│ 2015-01-01 01:00:00  ┆ 31707 ┆ 58584      ┆ 99258.12        │\n",
       "│ 2015-01-01 02:00:00  ┆ 28068 ┆ 51507      ┆ 91865.7         │\n",
       "│ 2015-01-01 03:00:00  ┆ 24288 ┆ 44134      ┆ 84036.57        │\n",
       "│ 2015-01-01 04:00:00  ┆ 17081 ┆ 30799      ┆ 63055.28        │\n",
       "│ …                    ┆ …     ┆ …          ┆ …               │\n",
       "│ 2015-01-03 19:00:00  ┆ 25667 ┆ 46194      ┆ 3240988.5       │\n",
       "│ 2015-01-03 20:00:00  ┆ 20531 ┆ 36959      ┆ 54915.04        │\n",
       "│ 2015-01-03 21:00:00  ┆ 21399 ┆ 38224      ┆ 56920.38        │\n",
       "│ 2015-01-03 22:00:00  ┆ 22409 ┆ 40314      ┆ 64932.34        │\n",
       "│ 2015-01-03 23:00:00  ┆ 22833 ┆ 40782      ┆ 201639.07       │\n",
       "└──────────────────────┴───────┴────────────┴─────────────────┘"
      ]
     },
     "execution_count": 99,
     "metadata": {},
     "output_type": "execute_result"
    }
   ],
   "source": [
    "result = (\n",
    "    df.filter(pl.col('month_day') <= 3)\n",
    "        .sort('tpep_pickup_datetime')\n",
    "        .group_by_dynamic('tpep_pickup_datetime', every='1h')\n",
    "        .agg(\n",
    "            pl.len().alias('trips'),\n",
    "            pl.col('passenger_count').sum().alias('passengers'),\n",
    "            pl.col('trip_distance').sum().alias('distance_driven')\n",
    "        )\n",
    ")\n",
    "result"
   ]
  },
  {
   "cell_type": "code",
   "execution_count": 100,
   "id": "3c6a6de5",
   "metadata": {},
   "outputs": [
    {
     "data": {
      "image/png": "[encoded data removed]",
      "text/plain": [
       "<Figure size 800x300 with 1 Axes>"
      ]
     },
     "metadata": {},
     "output_type": "display_data"
    }
   ],
   "source": [
    "plt.figure(figsize=(8,3))\n",
    "plt.plot(result['tpep_pickup_datetime'], result['trips'])\n",
    "plt.grid()\n",
    "plt.show()"
   ]
  },
  {
   "cell_type": "markdown",
   "id": "354c3b7e",
   "metadata": {},
   "source": [
    "<font color='red'>Note:</font>`polars` supports built-in plotting methods like `pandas`, but not using matplotlib. It uses `altair` instead, which works on `pandas` natively, not sure why this package was chosen for integration..."
   ]
  },
  {
   "cell_type": "code",
   "execution_count": 101,
   "id": "5138e89a",
   "metadata": {},
   "outputs": [
    {
     "data": {
      "text/html": [
       "\n",
       "<style>\n",
       "  #altair-viz-299d965bbab64c52a4a24742f26dfcca.vega-embed {\n",
       "    width: 100%;\n",
       "    display: flex;\n",
       "  }\n",
       "\n",
       "  #altair-viz-299d965bbab64c52a4a24742f26dfcca.vega-embed details,\n",
       "  #altair-viz-299d965bbab64c52a4a24742f26dfcca.vega-embed details summary {\n",
       "    position: relative;\n",
       "  }\n",
       "</style>\n",
       "<div id=\"altair-viz-299d965bbab64c52a4a24742f26dfcca\"></div>\n",
       "<script type=\"text/javascript\">\n",
       "  var VEGA_DEBUG = (typeof VEGA_DEBUG == \"undefined\") ? {} : VEGA_DEBUG;\n",
       "  (function(spec, embedOpt){\n",
       "    let outputDiv = document.currentScript.previousElementSibling;\n",
       "    if (outputDiv.id !== \"altair-viz-299d965bbab64c52a4a24742f26dfcca\") {\n",
       "      outputDiv = document.getElementById(\"altair-viz-299d965bbab64c52a4a24742f26dfcca\");\n",
       "    }\n",
       "\n",
       "    const paths = {\n",
       "      \"vega\": \"https://cdn.jsdelivr.net/npm/vega@5?noext\",\n",
       "      \"vega-lib\": \"https://cdn.jsdelivr.net/npm/vega-lib?noext\",\n",
       "      \"vega-lite\": \"https://cdn.jsdelivr.net/npm/vega-lite@5.20.1?noext\",\n",
       "      \"vega-embed\": \"https://cdn.jsdelivr.net/npm/vega-embed@6?noext\",\n",
       "    };\n",
       "\n",
       "    function maybeLoadScript(lib, version) {\n",
       "      var key = `${lib.replace(\"-\", \"\")}_version`;\n",
       "      return (VEGA_DEBUG[key] == version) ?\n",
       "        Promise.resolve(paths[lib]) :\n",
       "        new Promise(function(resolve, reject) {\n",
       "          var s = document.createElement('script');\n",
       "          document.getElementsByTagName(\"head\")[0].appendChild(s);\n",
       "          s.async = true;\n",
       "          s.onload = () => {\n",
       "            VEGA_DEBUG[key] = version;\n",
       "            return resolve(paths[lib]);\n",
       "          };\n",
       "          s.onerror = () => reject(`Error loading script: ${paths[lib]}`);\n",
       "          s.src = paths[lib];\n",
       "        });\n",
       "    }\n",
       "\n",
       "    function showError(err) {\n",
       "      outputDiv.innerHTML = `<div class=\"error\" style=\"color:red;\">${err}</div>`;\n",
       "      throw err;\n",
       "    }\n",
       "\n",
       "    function displayChart(vegaEmbed) {\n",
       "      vegaEmbed(outputDiv, spec, embedOpt)\n",
       "        .catch(err => showError(`Javascript Error: ${err.message}<br>This usually means there's a typo in your chart specification. See the javascript console for the full traceback.`));\n",
       "    }\n",
       "\n",
       "    if(typeof define === \"function\" && define.amd) {\n",
       "      requirejs.config({paths});\n",
       "      let deps = [\"vega-embed\"];\n",
       "      require(deps, displayChart, err => showError(`Error loading script: ${err.message}`));\n",
       "    } else {\n",
       "      maybeLoadScript(\"vega\", \"5\")\n",
       "        .then(() => maybeLoadScript(\"vega-lite\", \"5.20.1\"))\n",
       "        .then(() => maybeLoadScript(\"vega-embed\", \"6\"))\n",
       "        .catch(showError)\n",
       "        .then(() => displayChart(vegaEmbed));\n",
       "    }\n",
       "  })({\"config\": {\"view\": {\"continuousWidth\": 300, \"continuousHeight\": 300}}, \"data\": {\"name\": \"data-dcf2038075ff4675fab95d46daf69163\"}, \"mark\": {\"type\": \"line\", \"tooltip\": true}, \"encoding\": {\"x\": {\"field\": \"tpep_pickup_datetime\", \"type\": \"temporal\"}, \"y\": {\"field\": \"trips\", \"type\": \"quantitative\"}}, \"height\": 200, \"params\": [{\"name\": \"param_1\", \"select\": {\"type\": \"interval\", \"encodings\": [\"x\", \"y\"]}, \"bind\": \"scales\"}], \"width\": 600, \"$schema\": \"https://vega.github.io/schema/vega-lite/v5.20.1.json\", \"datasets\": {\"data-dcf2038075ff4675fab95d46daf69163\": [{\"tpep_pickup_datetime\": \"2015-01-01T00:00:00\", \"trips\": 28312, \"passengers\": 51700, \"distance_driven\": 82489.09000000001}, {\"tpep_pickup_datetime\": \"2015-01-01T01:00:00\", \"trips\": 31707, \"passengers\": 58584, \"distance_driven\": 99258.12000000001}, {\"tpep_pickup_datetime\": \"2015-01-01T02:00:00\", \"trips\": 28068, \"passengers\": 51507, \"distance_driven\": 91865.7}, {\"tpep_pickup_datetime\": \"2015-01-01T03:00:00\", \"trips\": 24288, \"passengers\": 44134, \"distance_driven\": 84036.57}, {\"tpep_pickup_datetime\": \"2015-01-01T04:00:00\", \"trips\": 17081, \"passengers\": 30799, \"distance_driven\": 63055.28}, {\"tpep_pickup_datetime\": \"2015-01-01T05:00:00\", \"trips\": 9112, \"passengers\": 15898, \"distance_driven\": 37739.94}, {\"tpep_pickup_datetime\": \"2015-01-01T06:00:00\", \"trips\": 6637, \"passengers\": 11131, \"distance_driven\": 28740.300000000003}, {\"tpep_pickup_datetime\": \"2015-01-01T07:00:00\", \"trips\": 6011, \"passengers\": 9986, \"distance_driven\": 26387.2}, {\"tpep_pickup_datetime\": \"2015-01-01T08:00:00\", \"trips\": 5586, \"passengers\": 9350, \"distance_driven\": 22951.11}, {\"tpep_pickup_datetime\": \"2015-01-01T09:00:00\", \"trips\": 6977, \"passengers\": 12015, \"distance_driven\": 26155.120000000003}, {\"tpep_pickup_datetime\": \"2015-01-01T10:00:00\", \"trips\": 9949, \"passengers\": 17712, \"distance_driven\": 33793.659999999996}, {\"tpep_pickup_datetime\": \"2015-01-01T11:00:00\", \"trips\": 13870, \"passengers\": 24967, \"distance_driven\": 41647.43}, {\"tpep_pickup_datetime\": \"2015-01-01T12:00:00\", \"trips\": 16582, \"passengers\": 29833, \"distance_driven\": 50231.979999999996}, {\"tpep_pickup_datetime\": \"2015-01-01T13:00:00\", \"trips\": 17448, \"passengers\": 31678, \"distance_driven\": 54321.19}, {\"tpep_pickup_datetime\": \"2015-01-01T14:00:00\", \"trips\": 17994, \"passengers\": 32551, \"distance_driven\": 58206.77}, {\"tpep_pickup_datetime\": \"2015-01-01T15:00:00\", \"trips\": 18279, \"passengers\": 33317, \"distance_driven\": 60483.58}, {\"tpep_pickup_datetime\": \"2015-01-01T16:00:00\", \"trips\": 16602, \"passengers\": 30699, \"distance_driven\": 52229.34}, {\"tpep_pickup_datetime\": \"2015-01-01T17:00:00\", \"trips\": 17511, \"passengers\": 31698, \"distance_driven\": 52305.049999999996}, {\"tpep_pickup_datetime\": \"2015-01-01T18:00:00\", \"trips\": 18082, \"passengers\": 32830, \"distance_driven\": 50205.79}, {\"tpep_pickup_datetime\": \"2015-01-01T19:00:00\", \"trips\": 16485, \"passengers\": 29930, \"distance_driven\": 45510.07}, {\"tpep_pickup_datetime\": \"2015-01-01T20:00:00\", \"trips\": 15017, \"passengers\": 27319, \"distance_driven\": 46798.67}, {\"tpep_pickup_datetime\": \"2015-01-01T21:00:00\", \"trips\": 14801, \"passengers\": 26886, \"distance_driven\": 44651.48}, {\"tpep_pickup_datetime\": \"2015-01-01T22:00:00\", \"trips\": 14005, \"passengers\": 25263, \"distance_driven\": 43666.51}, {\"tpep_pickup_datetime\": \"2015-01-01T23:00:00\", \"trips\": 11610, \"passengers\": 20620, \"distance_driven\": 39241.84}, {\"tpep_pickup_datetime\": \"2015-01-02T00:00:00\", \"trips\": 9388, \"passengers\": 16601, \"distance_driven\": 32648.7}, {\"tpep_pickup_datetime\": \"2015-01-02T01:00:00\", \"trips\": 6291, \"passengers\": 10811, \"distance_driven\": 19971.350000000002}, {\"tpep_pickup_datetime\": \"2015-01-02T02:00:00\", \"trips\": 4027, \"passengers\": 7117, \"distance_driven\": 13331.16}, {\"tpep_pickup_datetime\": \"2015-01-02T03:00:00\", \"trips\": 2905, \"passengers\": 5090, \"distance_driven\": 11070.92}, {\"tpep_pickup_datetime\": \"2015-01-02T04:00:00\", \"trips\": 2626, \"passengers\": 4518, \"distance_driven\": 12777.37}, {\"tpep_pickup_datetime\": \"2015-01-02T05:00:00\", \"trips\": 2755, \"passengers\": 4441, \"distance_driven\": 14879.45}, {\"tpep_pickup_datetime\": \"2015-01-02T06:00:00\", \"trips\": 5811, \"passengers\": 9118, \"distance_driven\": 23999.019999999997}, {\"tpep_pickup_datetime\": \"2015-01-02T07:00:00\", \"trips\": 8256, \"passengers\": 13270, \"distance_driven\": 28579.239999999998}, {\"tpep_pickup_datetime\": \"2015-01-02T08:00:00\", \"trips\": 10946, \"passengers\": 18115, \"distance_driven\": 32402.29}, {\"tpep_pickup_datetime\": \"2015-01-02T09:00:00\", \"trips\": 13373, \"passengers\": 22697, \"distance_driven\": 40213.159999999996}, {\"tpep_pickup_datetime\": \"2015-01-02T10:00:00\", \"trips\": 15243, \"passengers\": 26450, \"distance_driven\": 44182.27}, {\"tpep_pickup_datetime\": \"2015-01-02T11:00:00\", \"trips\": 16999, \"passengers\": 29514, \"distance_driven\": 45641.979999999996}, {\"tpep_pickup_datetime\": \"2015-01-02T12:00:00\", \"trips\": 19252, \"passengers\": 33434, \"distance_driven\": 52546.17}, {\"tpep_pickup_datetime\": \"2015-01-02T13:00:00\", \"trips\": 19023, \"passengers\": 33275, \"distance_driven\": 52175.590000000004}, {\"tpep_pickup_datetime\": \"2015-01-02T14:00:00\", \"trips\": 20260, \"passengers\": 35643, \"distance_driven\": 60791.37}, {\"tpep_pickup_datetime\": \"2015-01-02T15:00:00\", \"trips\": 20429, \"passengers\": 36195, \"distance_driven\": 12062419.889999999}, {\"tpep_pickup_datetime\": \"2015-01-02T16:00:00\", \"trips\": 18223, \"passengers\": 32235, \"distance_driven\": 53689.25}, {\"tpep_pickup_datetime\": \"2015-01-02T17:00:00\", \"trips\": 20680, \"passengers\": 36963, \"distance_driven\": 56984.43}, {\"tpep_pickup_datetime\": \"2015-01-02T18:00:00\", \"trips\": 23008, \"passengers\": 41073, \"distance_driven\": 60786.92}, {\"tpep_pickup_datetime\": \"2015-01-02T19:00:00\", \"trips\": 23227, \"passengers\": 41932, \"distance_driven\": 58462.340000000004}, {\"tpep_pickup_datetime\": \"2015-01-02T20:00:00\", \"trips\": 20153, \"passengers\": 36117, \"distance_driven\": 57051.17}, {\"tpep_pickup_datetime\": \"2015-01-02T21:00:00\", \"trips\": 19611, \"passengers\": 34884, \"distance_driven\": 57157.420000000006}, {\"tpep_pickup_datetime\": \"2015-01-02T22:00:00\", \"trips\": 21722, \"passengers\": 39228, \"distance_driven\": 61785.08}, {\"tpep_pickup_datetime\": \"2015-01-02T23:00:00\", \"trips\": 21088, \"passengers\": 37995, \"distance_driven\": 64896.62}, {\"tpep_pickup_datetime\": \"2015-01-03T00:00:00\", \"trips\": 19467, \"passengers\": 34746, \"distance_driven\": 59056.22}, {\"tpep_pickup_datetime\": \"2015-01-03T01:00:00\", \"trips\": 16660, \"passengers\": 29801, \"distance_driven\": 49830.61}, {\"tpep_pickup_datetime\": \"2015-01-03T02:00:00\", \"trips\": 13607, \"passengers\": 24359, \"distance_driven\": 41690.15}, {\"tpep_pickup_datetime\": \"2015-01-03T03:00:00\", \"trips\": 10620, \"passengers\": 19159, \"distance_driven\": 35877.240000000005}, {\"tpep_pickup_datetime\": \"2015-01-03T04:00:00\", \"trips\": 7061, \"passengers\": 12400, \"distance_driven\": 28130.54}, {\"tpep_pickup_datetime\": \"2015-01-03T05:00:00\", \"trips\": 3512, \"passengers\": 5982, \"distance_driven\": 19759.25}, {\"tpep_pickup_datetime\": \"2015-01-03T06:00:00\", \"trips\": 4120, \"passengers\": 6506, \"distance_driven\": 21804.74}, {\"tpep_pickup_datetime\": \"2015-01-03T07:00:00\", \"trips\": 5216, \"passengers\": 8465, \"distance_driven\": 22206.689999999995}, {\"tpep_pickup_datetime\": \"2015-01-03T08:00:00\", \"trips\": 7908, \"passengers\": 13070, \"distance_driven\": 27713.97}, {\"tpep_pickup_datetime\": \"2015-01-03T09:00:00\", \"trips\": 11869, \"passengers\": 20319, \"distance_driven\": 34576.57000000001}, {\"tpep_pickup_datetime\": \"2015-01-03T10:00:00\", \"trips\": 14975, \"passengers\": 25982, \"distance_driven\": 42134.83}, {\"tpep_pickup_datetime\": \"2015-01-03T11:00:00\", \"trips\": 17966, \"passengers\": 31563, \"distance_driven\": 48298.51}, {\"tpep_pickup_datetime\": \"2015-01-03T12:00:00\", \"trips\": 21644, \"passengers\": 38217, \"distance_driven\": 54166.33}, {\"tpep_pickup_datetime\": \"2015-01-03T13:00:00\", \"trips\": 23718, \"passengers\": 42852, \"distance_driven\": 58095.79000000001}, {\"tpep_pickup_datetime\": \"2015-01-03T14:00:00\", \"trips\": 24143, \"passengers\": 43063, \"distance_driven\": 63322.98}, {\"tpep_pickup_datetime\": \"2015-01-03T15:00:00\", \"trips\": 23494, \"passengers\": 41802, \"distance_driven\": 62455.36}, {\"tpep_pickup_datetime\": \"2015-01-03T16:00:00\", \"trips\": 20350, \"passengers\": 36416, \"distance_driven\": 55444.53}, {\"tpep_pickup_datetime\": \"2015-01-03T17:00:00\", \"trips\": 22295, \"passengers\": 39749, \"distance_driven\": 59806.94}, {\"tpep_pickup_datetime\": \"2015-01-03T18:00:00\", \"trips\": 25305, \"passengers\": 45191, \"distance_driven\": 2395207.560000001}, {\"tpep_pickup_datetime\": \"2015-01-03T19:00:00\", \"trips\": 25667, \"passengers\": 46194, \"distance_driven\": 3240988.5}, {\"tpep_pickup_datetime\": \"2015-01-03T20:00:00\", \"trips\": 20531, \"passengers\": 36959, \"distance_driven\": 54915.04}, {\"tpep_pickup_datetime\": \"2015-01-03T21:00:00\", \"trips\": 21399, \"passengers\": 38224, \"distance_driven\": 56920.380000000005}, {\"tpep_pickup_datetime\": \"2015-01-03T22:00:00\", \"trips\": 22409, \"passengers\": 40314, \"distance_driven\": 64932.34}, {\"tpep_pickup_datetime\": \"2015-01-03T23:00:00\", \"trips\": 22833, \"passengers\": 40782, \"distance_driven\": 201639.06999999998}]}}, {\"mode\": \"vega-lite\"});\n",
       "</script>"
      ],
      "text/plain": [
       "alt.Chart(...)"
      ]
     },
     "execution_count": 101,
     "metadata": {},
     "output_type": "execute_result"
    }
   ],
   "source": [
    "result.plot.line(x='tpep_pickup_datetime', y='trips').properties(\n",
    "    width=600,\n",
    "    height=200\n",
    ")"
   ]
  },
  {
   "cell_type": "markdown",
   "id": "fcc12513",
   "metadata": {},
   "source": [
    "### SQL-like analytic functions are also available"
   ]
  },
  {
   "cell_type": "code",
   "execution_count": 102,
   "id": "75947c27",
   "metadata": {},
   "outputs": [
    {
     "data": {
      "text/html": [
       "<div><style>\n",
       ".dataframe > thead > tr,\n",
       ".dataframe > tbody > tr {\n",
       "  text-align: right;\n",
       "  white-space: pre-wrap;\n",
       "}\n",
       "</style>\n",
       "<small>shape: (24, 4)</small><table border=\"1\" class=\"dataframe\"><thead><tr><th>hour</th><th>trips</th><th>cumulative_trips</th><th>F</th></tr><tr><td>datetime[ms]</td><td>u32</td><td>u32</td><td>f64</td></tr></thead><tbody><tr><td>2015-01-01 00:00:00</td><td>28312</td><td>28312</td><td>0.074112</td></tr><tr><td>2015-01-01 01:00:00</td><td>31707</td><td>60019</td><td>0.157112</td></tr><tr><td>2015-01-01 02:00:00</td><td>28068</td><td>88087</td><td>0.230586</td></tr><tr><td>2015-01-01 03:00:00</td><td>24288</td><td>112375</td><td>0.294165</td></tr><tr><td>2015-01-01 04:00:00</td><td>17081</td><td>129456</td><td>0.338878</td></tr><tr><td>&hellip;</td><td>&hellip;</td><td>&hellip;</td><td>&hellip;</td></tr><tr><td>2015-01-01 19:00:00</td><td>16485</td><td>326581</td><td>0.854893</td></tr><tr><td>2015-01-01 20:00:00</td><td>15017</td><td>341598</td><td>0.894203</td></tr><tr><td>2015-01-01 21:00:00</td><td>14801</td><td>356399</td><td>0.932947</td></tr><tr><td>2015-01-01 22:00:00</td><td>14005</td><td>370404</td><td>0.969608</td></tr><tr><td>2015-01-01 23:00:00</td><td>11610</td><td>382014</td><td>1.0</td></tr></tbody></table></div>"
      ],
      "text/plain": [
       "shape: (24, 4)\n",
       "┌─────────────────────┬───────┬──────────────────┬──────────┐\n",
       "│ hour                ┆ trips ┆ cumulative_trips ┆ F        │\n",
       "│ ---                 ┆ ---   ┆ ---              ┆ ---      │\n",
       "│ datetime[ms]        ┆ u32   ┆ u32              ┆ f64      │\n",
       "╞═════════════════════╪═══════╪══════════════════╪══════════╡\n",
       "│ 2015-01-01 00:00:00 ┆ 28312 ┆ 28312            ┆ 0.074112 │\n",
       "│ 2015-01-01 01:00:00 ┆ 31707 ┆ 60019            ┆ 0.157112 │\n",
       "│ 2015-01-01 02:00:00 ┆ 28068 ┆ 88087            ┆ 0.230586 │\n",
       "│ 2015-01-01 03:00:00 ┆ 24288 ┆ 112375           ┆ 0.294165 │\n",
       "│ 2015-01-01 04:00:00 ┆ 17081 ┆ 129456           ┆ 0.338878 │\n",
       "│ …                   ┆ …     ┆ …                ┆ …        │\n",
       "│ 2015-01-01 19:00:00 ┆ 16485 ┆ 326581           ┆ 0.854893 │\n",
       "│ 2015-01-01 20:00:00 ┆ 15017 ┆ 341598           ┆ 0.894203 │\n",
       "│ 2015-01-01 21:00:00 ┆ 14801 ┆ 356399           ┆ 0.932947 │\n",
       "│ 2015-01-01 22:00:00 ┆ 14005 ┆ 370404           ┆ 0.969608 │\n",
       "│ 2015-01-01 23:00:00 ┆ 11610 ┆ 382014           ┆ 1.0      │\n",
       "└─────────────────────┴───────┴──────────────────┴──────────┘"
      ]
     },
     "execution_count": 102,
     "metadata": {},
     "output_type": "execute_result"
    }
   ],
   "source": [
    "window = {\n",
    "    'partition_by': [None],\n",
    "    'order_by': ['tpep_pickup_datetime']\n",
    "}\n",
    "\n",
    "result = (\n",
    "    df.filter(pl.col('month_day') == 1)\n",
    "        .sort('tpep_pickup_datetime')\n",
    "        .group_by_dynamic('tpep_pickup_datetime', every='1h')\n",
    "        .agg(pl.len().alias('trips'))\n",
    "        .with_columns(pl.col('trips').cum_sum()\n",
    "                      .over(**window)\n",
    "                      .alias('cumulative_trips'))\n",
    "        .with_columns((pl.col('cumulative_trips') / pl.col('trips').sum().over([None])).alias('F'))\n",
    "        .rename({'tpep_pickup_datetime':'hour'})\n",
    ")\n",
    "result"
   ]
  },
  {
   "cell_type": "code",
   "execution_count": 103,
   "id": "a037002f",
   "metadata": {},
   "outputs": [
    {
     "data": {
      "image/png": "[encoded data removed]",
      "text/plain": [
       "<Figure size 800x300 with 1 Axes>"
      ]
     },
     "metadata": {},
     "output_type": "display_data"
    }
   ],
   "source": [
    "_, ax = plt.subplots(figsize=(8,3))\n",
    "ax.plot(result['hour'], result['F'])\n",
    "ax.grid()\n",
    "\n",
    "plt.show()"
   ]
  },
  {
   "cell_type": "markdown",
   "id": "e7a54700",
   "metadata": {},
   "source": [
    "### Joins"
   ]
  },
  {
   "cell_type": "code",
   "execution_count": 104,
   "id": "6d4aa6eb",
   "metadata": {},
   "outputs": [
    {
     "data": {
      "text/html": [
       "<div><style>\n",
       ".dataframe > thead > tr,\n",
       ".dataframe > tbody > tr {\n",
       "  text-align: right;\n",
       "  white-space: pre-wrap;\n",
       "}\n",
       "</style>\n",
       "<small>shape: (24, 5)</small><table border=\"1\" class=\"dataframe\"><thead><tr><th>tpep_pickup_datetime</th><th>trips</th><th>hour</th><th>tpep_pickup_datetime_right</th><th>trips_right</th></tr><tr><td>datetime[ms]</td><td>u32</td><td>str</td><td>datetime[ms]</td><td>u32</td></tr></thead><tbody><tr><td>2015-01-01 00:00:00</td><td>28312</td><td>&quot;00&quot;</td><td>2015-01-02 00:00:00</td><td>9388</td></tr><tr><td>2015-01-01 01:00:00</td><td>31707</td><td>&quot;01&quot;</td><td>2015-01-02 01:00:00</td><td>6291</td></tr><tr><td>2015-01-01 02:00:00</td><td>28068</td><td>&quot;02&quot;</td><td>2015-01-02 02:00:00</td><td>4027</td></tr><tr><td>2015-01-01 03:00:00</td><td>24288</td><td>&quot;03&quot;</td><td>2015-01-02 03:00:00</td><td>2905</td></tr><tr><td>2015-01-01 04:00:00</td><td>17081</td><td>&quot;04&quot;</td><td>2015-01-02 04:00:00</td><td>2626</td></tr><tr><td>&hellip;</td><td>&hellip;</td><td>&hellip;</td><td>&hellip;</td><td>&hellip;</td></tr><tr><td>2015-01-01 19:00:00</td><td>16485</td><td>&quot;19&quot;</td><td>2015-01-02 19:00:00</td><td>23227</td></tr><tr><td>2015-01-01 20:00:00</td><td>15017</td><td>&quot;20&quot;</td><td>2015-01-02 20:00:00</td><td>20153</td></tr><tr><td>2015-01-01 21:00:00</td><td>14801</td><td>&quot;21&quot;</td><td>2015-01-02 21:00:00</td><td>19611</td></tr><tr><td>2015-01-01 22:00:00</td><td>14005</td><td>&quot;22&quot;</td><td>2015-01-02 22:00:00</td><td>21722</td></tr><tr><td>2015-01-01 23:00:00</td><td>11610</td><td>&quot;23&quot;</td><td>2015-01-02 23:00:00</td><td>21088</td></tr></tbody></table></div>"
      ],
      "text/plain": [
       "shape: (24, 5)\n",
       "┌──────────────────────┬───────┬──────┬────────────────────────────┬─────────────┐\n",
       "│ tpep_pickup_datetime ┆ trips ┆ hour ┆ tpep_pickup_datetime_right ┆ trips_right │\n",
       "│ ---                  ┆ ---   ┆ ---  ┆ ---                        ┆ ---         │\n",
       "│ datetime[ms]         ┆ u32   ┆ str  ┆ datetime[ms]               ┆ u32         │\n",
       "╞══════════════════════╪═══════╪══════╪════════════════════════════╪═════════════╡\n",
       "│ 2015-01-01 00:00:00  ┆ 28312 ┆ 00   ┆ 2015-01-02 00:00:00        ┆ 9388        │\n",
       "│ 2015-01-01 01:00:00  ┆ 31707 ┆ 01   ┆ 2015-01-02 01:00:00        ┆ 6291        │\n",
       "│ 2015-01-01 02:00:00  ┆ 28068 ┆ 02   ┆ 2015-01-02 02:00:00        ┆ 4027        │\n",
       "│ 2015-01-01 03:00:00  ┆ 24288 ┆ 03   ┆ 2015-01-02 03:00:00        ┆ 2905        │\n",
       "│ 2015-01-01 04:00:00  ┆ 17081 ┆ 04   ┆ 2015-01-02 04:00:00        ┆ 2626        │\n",
       "│ …                    ┆ …     ┆ …    ┆ …                          ┆ …           │\n",
       "│ 2015-01-01 19:00:00  ┆ 16485 ┆ 19   ┆ 2015-01-02 19:00:00        ┆ 23227       │\n",
       "│ 2015-01-01 20:00:00  ┆ 15017 ┆ 20   ┆ 2015-01-02 20:00:00        ┆ 20153       │\n",
       "│ 2015-01-01 21:00:00  ┆ 14801 ┆ 21   ┆ 2015-01-02 21:00:00        ┆ 19611       │\n",
       "│ 2015-01-01 22:00:00  ┆ 14005 ┆ 22   ┆ 2015-01-02 22:00:00        ┆ 21722       │\n",
       "│ 2015-01-01 23:00:00  ┆ 11610 ┆ 23   ┆ 2015-01-02 23:00:00        ┆ 21088       │\n",
       "└──────────────────────┴───────┴──────┴────────────────────────────┴─────────────┘"
      ]
     },
     "execution_count": 104,
     "metadata": {},
     "output_type": "execute_result"
    }
   ],
   "source": [
    "result1 = (\n",
    "    df.filter(pl.col('month_day') == 1)\n",
    "        .sort('tpep_pickup_datetime')\n",
    "        .group_by_dynamic('tpep_pickup_datetime', every='1h')\n",
    "        .agg(pl.len().alias('trips'))\n",
    "        .with_columns(pl.col('tpep_pickup_datetime').dt.strftime('%H').alias('hour'))\n",
    ")\n",
    "\n",
    "result2 = (\n",
    "    df.filter(pl.col('month_day') == 2)\n",
    "        .sort('tpep_pickup_datetime')\n",
    "        .group_by_dynamic('tpep_pickup_datetime', every='1h')\n",
    "        .agg(pl.len().alias('trips'))\n",
    "        .with_columns(pl.col('tpep_pickup_datetime').dt.strftime('%H').alias('hour'))\n",
    ")\n",
    "\n",
    "result1.join(result2, on='hour')"
   ]
  },
  {
   "cell_type": "markdown",
   "id": "32dd4847",
   "metadata": {},
   "source": [
    "### Pivot"
   ]
  },
  {
   "cell_type": "code",
   "execution_count": 121,
   "id": "3e80d66f",
   "metadata": {},
   "outputs": [
    {
     "data": {
      "text/html": [
       "<div><style>\n",
       ".dataframe > thead > tr,\n",
       ".dataframe > tbody > tr {\n",
       "  text-align: right;\n",
       "  white-space: pre-wrap;\n",
       "}\n",
       "</style>\n",
       "<small>shape: (31, 25)</small><table border=\"1\" class=\"dataframe\"><thead><tr><th>date</th><th>00</th><th>01</th><th>02</th><th>03</th><th>04</th><th>05</th><th>06</th><th>07</th><th>08</th><th>09</th><th>10</th><th>11</th><th>12</th><th>13</th><th>14</th><th>15</th><th>16</th><th>17</th><th>18</th><th>19</th><th>20</th><th>21</th><th>22</th><th>23</th></tr><tr><td>str</td><td>u32</td><td>u32</td><td>u32</td><td>u32</td><td>u32</td><td>u32</td><td>u32</td><td>u32</td><td>u32</td><td>u32</td><td>u32</td><td>u32</td><td>u32</td><td>u32</td><td>u32</td><td>u32</td><td>u32</td><td>u32</td><td>u32</td><td>u32</td><td>u32</td><td>u32</td><td>u32</td><td>u32</td></tr></thead><tbody><tr><td>&quot;2015-01-01&quot;</td><td>28312</td><td>31707</td><td>28068</td><td>24288</td><td>17081</td><td>9112</td><td>6637</td><td>6011</td><td>5586</td><td>6977</td><td>9949</td><td>13870</td><td>16582</td><td>17448</td><td>17994</td><td>18279</td><td>16602</td><td>17511</td><td>18082</td><td>16485</td><td>15017</td><td>14801</td><td>14005</td><td>11610</td></tr><tr><td>&quot;2015-01-02&quot;</td><td>9388</td><td>6291</td><td>4027</td><td>2905</td><td>2626</td><td>2755</td><td>5811</td><td>8256</td><td>10946</td><td>13373</td><td>15243</td><td>16999</td><td>19252</td><td>19023</td><td>20260</td><td>20429</td><td>18223</td><td>20680</td><td>23008</td><td>23227</td><td>20153</td><td>19611</td><td>21722</td><td>21088</td></tr><tr><td>&quot;2015-01-03&quot;</td><td>19467</td><td>16660</td><td>13607</td><td>10620</td><td>7061</td><td>3512</td><td>4120</td><td>5216</td><td>7908</td><td>11869</td><td>14975</td><td>17966</td><td>21644</td><td>23718</td><td>24143</td><td>23494</td><td>20350</td><td>22295</td><td>25305</td><td>25667</td><td>20531</td><td>21399</td><td>22409</td><td>22833</td></tr><tr><td>&quot;2015-01-04&quot;</td><td>20632</td><td>17494</td><td>13485</td><td>9842</td><td>6384</td><td>3365</td><td>3625</td><td>4734</td><td>7070</td><td>10153</td><td>14304</td><td>16325</td><td>18101</td><td>18639</td><td>18722</td><td>18234</td><td>18056</td><td>18257</td><td>18498</td><td>18494</td><td>17529</td><td>14063</td><td>12639</td><td>10203</td></tr><tr><td>&quot;2015-01-05&quot;</td><td>7653</td><td>4685</td><td>3076</td><td>2071</td><td>2310</td><td>4218</td><td>11095</td><td>18866</td><td>22131</td><td>19602</td><td>16290</td><td>16428</td><td>17022</td><td>17127</td><td>18916</td><td>19897</td><td>17718</td><td>21727</td><td>26144</td><td>25655</td><td>22028</td><td>19814</td><td>16256</td><td>12725</td></tr><tr><td>&hellip;</td><td>&hellip;</td><td>&hellip;</td><td>&hellip;</td><td>&hellip;</td><td>&hellip;</td><td>&hellip;</td><td>&hellip;</td><td>&hellip;</td><td>&hellip;</td><td>&hellip;</td><td>&hellip;</td><td>&hellip;</td><td>&hellip;</td><td>&hellip;</td><td>&hellip;</td><td>&hellip;</td><td>&hellip;</td><td>&hellip;</td><td>&hellip;</td><td>&hellip;</td><td>&hellip;</td><td>&hellip;</td><td>&hellip;</td><td>&hellip;</td></tr><tr><td>&quot;2015-01-27&quot;</td><td>115</td><td>52</td><td>39</td><td>14</td><td>24</td><td>50</td><td>145</td><td>374</td><td>1003</td><td>2279</td><td>3748</td><td>4857</td><td>5798</td><td>6271</td><td>7119</td><td>8306</td><td>9683</td><td>12193</td><td>14974</td><td>13395</td><td>12064</td><td>12545</td><td>11382</td><td>9070</td></tr><tr><td>&quot;2015-01-28&quot;</td><td>5491</td><td>3267</td><td>2178</td><td>1518</td><td>1705</td><td>3676</td><td>11160</td><td>19889</td><td>23070</td><td>21000</td><td>17453</td><td>16929</td><td>17196</td><td>16989</td><td>18450</td><td>18891</td><td>16780</td><td>20853</td><td>26448</td><td>27252</td><td>25293</td><td>24635</td><td>23451</td><td>16618</td></tr><tr><td>&quot;2015-01-29&quot;</td><td>10608</td><td>5981</td><td>3920</td><td>2685</td><td>2579</td><td>4283</td><td>12121</td><td>21535</td><td>24504</td><td>22595</td><td>19828</td><td>19009</td><td>19940</td><td>19710</td><td>21245</td><td>20932</td><td>17403</td><td>21413</td><td>27437</td><td>28562</td><td>28124</td><td>28043</td><td>26452</td><td>23076</td></tr><tr><td>&quot;2015-01-30&quot;</td><td>15208</td><td>9460</td><td>6222</td><td>4155</td><td>3517</td><td>4541</td><td>11945</td><td>22220</td><td>25798</td><td>23722</td><td>20829</td><td>20868</td><td>20665</td><td>21060</td><td>22605</td><td>21340</td><td>18463</td><td>23457</td><td>30001</td><td>33159</td><td>31946</td><td>30811</td><td>31060</td><td>30328</td></tr><tr><td>&quot;2015-01-31&quot;</td><td>28225</td><td>23181</td><td>18392</td><td>13565</td><td>8516</td><td>4229</td><td>5189</td><td>7499</td><td>12428</td><td>19003</td><td>22230</td><td>25331</td><td>27021</td><td>26707</td><td>25059</td><td>25886</td><td>23822</td><td>25794</td><td>30804</td><td>32436</td><td>27555</td><td>27477</td><td>29862</td><td>29856</td></tr></tbody></table></div>"
      ],
      "text/plain": [
       "shape: (31, 25)\n",
       "┌────────────┬───────┬───────┬───────┬───┬───────┬───────┬───────┬───────┐\n",
       "│ date       ┆ 00    ┆ 01    ┆ 02    ┆ … ┆ 20    ┆ 21    ┆ 22    ┆ 23    │\n",
       "│ ---        ┆ ---   ┆ ---   ┆ ---   ┆   ┆ ---   ┆ ---   ┆ ---   ┆ ---   │\n",
       "│ str        ┆ u32   ┆ u32   ┆ u32   ┆   ┆ u32   ┆ u32   ┆ u32   ┆ u32   │\n",
       "╞════════════╪═══════╪═══════╪═══════╪═══╪═══════╪═══════╪═══════╪═══════╡\n",
       "│ 2015-01-01 ┆ 28312 ┆ 31707 ┆ 28068 ┆ … ┆ 15017 ┆ 14801 ┆ 14005 ┆ 11610 │\n",
       "│ 2015-01-02 ┆ 9388  ┆ 6291  ┆ 4027  ┆ … ┆ 20153 ┆ 19611 ┆ 21722 ┆ 21088 │\n",
       "│ 2015-01-03 ┆ 19467 ┆ 16660 ┆ 13607 ┆ … ┆ 20531 ┆ 21399 ┆ 22409 ┆ 22833 │\n",
       "│ 2015-01-04 ┆ 20632 ┆ 17494 ┆ 13485 ┆ … ┆ 17529 ┆ 14063 ┆ 12639 ┆ 10203 │\n",
       "│ 2015-01-05 ┆ 7653  ┆ 4685  ┆ 3076  ┆ … ┆ 22028 ┆ 19814 ┆ 16256 ┆ 12725 │\n",
       "│ …          ┆ …     ┆ …     ┆ …     ┆ … ┆ …     ┆ …     ┆ …     ┆ …     │\n",
       "│ 2015-01-27 ┆ 115   ┆ 52    ┆ 39    ┆ … ┆ 12064 ┆ 12545 ┆ 11382 ┆ 9070  │\n",
       "│ 2015-01-28 ┆ 5491  ┆ 3267  ┆ 2178  ┆ … ┆ 25293 ┆ 24635 ┆ 23451 ┆ 16618 │\n",
       "│ 2015-01-29 ┆ 10608 ┆ 5981  ┆ 3920  ┆ … ┆ 28124 ┆ 28043 ┆ 26452 ┆ 23076 │\n",
       "│ 2015-01-30 ┆ 15208 ┆ 9460  ┆ 6222  ┆ … ┆ 31946 ┆ 30811 ┆ 31060 ┆ 30328 │\n",
       "│ 2015-01-31 ┆ 28225 ┆ 23181 ┆ 18392 ┆ … ┆ 27555 ┆ 27477 ┆ 29862 ┆ 29856 │\n",
       "└────────────┴───────┴───────┴───────┴───┴───────┴───────┴───────┴───────┘"
      ]
     },
     "execution_count": 121,
     "metadata": {},
     "output_type": "execute_result"
    }
   ],
   "source": [
    "(\n",
    "    df\n",
    "        .sort('tpep_pickup_datetime')\n",
    "        .group_by_dynamic('tpep_pickup_datetime', every='1h')\n",
    "        .agg(pl.len().alias('trips'))\n",
    "        .with_columns(pl.col('tpep_pickup_datetime').dt.strftime('%H').alias('hour'))\n",
    "        .with_columns(pl.col('tpep_pickup_datetime').dt.strftime('%Y-%m-%d').alias('date'))\n",
    "        .pivot(on='hour', index='date', values='trips')\n",
    ")"
   ]
  },
  {
   "cell_type": "markdown",
   "id": "862395a5",
   "metadata": {},
   "source": [
    "### Implode"
   ]
  },
  {
   "cell_type": "code",
   "execution_count": 125,
   "id": "ad8b0c3d",
   "metadata": {},
   "outputs": [],
   "source": [
    "imploded_df = (\n",
    "    df\n",
    "        .sort('tpep_pickup_datetime')\n",
    "        .group_by_dynamic('tpep_pickup_datetime', every='1h')\n",
    "        .agg(pl.len().alias('trips'))\n",
    "        .with_columns(pl.col('tpep_pickup_datetime').dt.strftime('%H').alias('hour'))\n",
    "        .with_columns(pl.col('tpep_pickup_datetime').dt.strftime('%Y-%m-%d').alias('date'))\n",
    "        .sort('date', 'hour')\n",
    "        .group_by('date')\n",
    "        .agg(pl.col('trips').implode())\n",
    "        .sort('date')\n",
    "        .with_columns(\n",
    "            pl.col('date').cast(pl.Date),\n",
    "            pl.col('trips').list.get(0)\n",
    "        )\n",
    "#         .filter(pl.col('date') <= pl.lit(date(2015,1,5)))\n",
    "#         .style\n",
    "#         .fmt_nanoplot(columns='trips')\n",
    ")"
   ]
  },
  {
   "cell_type": "code",
   "execution_count": 126,
   "id": "01dd9a4b",
   "metadata": {},
   "outputs": [
    {
     "data": {
      "text/html": [
       "<div><style>\n",
       ".dataframe > thead > tr,\n",
       ".dataframe > tbody > tr {\n",
       "  text-align: right;\n",
       "  white-space: pre-wrap;\n",
       "}\n",
       "</style>\n",
       "<small>shape: (31, 2)</small><table border=\"1\" class=\"dataframe\"><thead><tr><th>date</th><th>trips</th></tr><tr><td>date</td><td>list[u32]</td></tr></thead><tbody><tr><td>2015-01-01</td><td>[28312, 31707, … 11610]</td></tr><tr><td>2015-01-02</td><td>[9388, 6291, … 21088]</td></tr><tr><td>2015-01-03</td><td>[19467, 16660, … 22833]</td></tr><tr><td>2015-01-04</td><td>[20632, 17494, … 10203]</td></tr><tr><td>2015-01-05</td><td>[7653, 4685, … 12725]</td></tr><tr><td>&hellip;</td><td>&hellip;</td></tr><tr><td>2015-01-27</td><td>[115, 52, … 9070]</td></tr><tr><td>2015-01-28</td><td>[5491, 3267, … 16618]</td></tr><tr><td>2015-01-29</td><td>[10608, 5981, … 23076]</td></tr><tr><td>2015-01-30</td><td>[15208, 9460, … 30328]</td></tr><tr><td>2015-01-31</td><td>[28225, 23181, … 29856]</td></tr></tbody></table></div>"
      ],
      "text/plain": [
       "shape: (31, 2)\n",
       "┌────────────┬─────────────────────────┐\n",
       "│ date       ┆ trips                   │\n",
       "│ ---        ┆ ---                     │\n",
       "│ date       ┆ list[u32]               │\n",
       "╞════════════╪═════════════════════════╡\n",
       "│ 2015-01-01 ┆ [28312, 31707, … 11610] │\n",
       "│ 2015-01-02 ┆ [9388, 6291, … 21088]   │\n",
       "│ 2015-01-03 ┆ [19467, 16660, … 22833] │\n",
       "│ 2015-01-04 ┆ [20632, 17494, … 10203] │\n",
       "│ 2015-01-05 ┆ [7653, 4685, … 12725]   │\n",
       "│ …          ┆ …                       │\n",
       "│ 2015-01-27 ┆ [115, 52, … 9070]       │\n",
       "│ 2015-01-28 ┆ [5491, 3267, … 16618]   │\n",
       "│ 2015-01-29 ┆ [10608, 5981, … 23076]  │\n",
       "│ 2015-01-30 ┆ [15208, 9460, … 30328]  │\n",
       "│ 2015-01-31 ┆ [28225, 23181, … 29856] │\n",
       "└────────────┴─────────────────────────┘"
      ]
     },
     "execution_count": 126,
     "metadata": {},
     "output_type": "execute_result"
    }
   ],
   "source": [
    "imploded_df"
   ]
  },
  {
   "cell_type": "markdown",
   "id": "34b64a0f",
   "metadata": {},
   "source": [
    "#### great-tables integration"
   ]
  },
  {
   "cell_type": "code",
   "execution_count": 128,
   "id": "93eb35e6",
   "metadata": {},
   "outputs": [
    {
     "data": {
      "text/html": [
       "<div id=\"hhjmsdtkix\" style=\"padding-left:0px;padding-right:0px;padding-top:10px;padding-bottom:10px;overflow-x:auto;overflow-y:auto;width:auto;height:auto;\">\n",
       "<style>\n",
       "#hhjmsdtkix table {\n",
       "          font-family: -apple-system, BlinkMacSystemFont, 'Segoe UI', Roboto, Oxygen, Ubuntu, Cantarell, 'Helvetica Neue', 'Fira Sans', 'Droid Sans', Arial, sans-serif;\n",
       "          -webkit-font-smoothing: antialiased;\n",
       "          -moz-osx-font-smoothing: grayscale;\n",
       "        }\n",
       "\n",
       "#hhjmsdtkix thead, tbody, tfoot, tr, td, th { border-style: none; }\n",
       " tr { background-color: transparent; }\n",
       "#hhjmsdtkix p { margin: 0; padding: 0; }\n",
       " #hhjmsdtkix .gt_table { display: table; border-collapse: collapse; line-height: normal; margin-left: auto; margin-right: auto; color: #333333; font-size: 16px; font-weight: normal; font-style: normal; background-color: #FFFFFF; width: auto; border-top-style: solid; border-top-width: 2px; border-top-color: #A8A8A8; border-right-style: none; border-right-width: 2px; border-right-color: #D3D3D3; border-bottom-style: solid; border-bottom-width: 2px; border-bottom-color: #A8A8A8; border-left-style: none; border-left-width: 2px; border-left-color: #D3D3D3; }\n",
       " #hhjmsdtkix .gt_caption { padding-top: 4px; padding-bottom: 4px; }\n",
       " #hhjmsdtkix .gt_title { color: #333333; font-size: 125%; font-weight: initial; padding-top: 4px; padding-bottom: 4px; padding-left: 5px; padding-right: 5px; border-bottom-color: #FFFFFF; border-bottom-width: 0; }\n",
       " #hhjmsdtkix .gt_subtitle { color: #333333; font-size: 85%; font-weight: initial; padding-top: 3px; padding-bottom: 5px; padding-left: 5px; padding-right: 5px; border-top-color: #FFFFFF; border-top-width: 0; }\n",
       " #hhjmsdtkix .gt_heading { background-color: #FFFFFF; text-align: center; border-bottom-color: #FFFFFF; border-left-style: none; border-left-width: 1px; border-left-color: #D3D3D3; border-right-style: none; border-right-width: 1px; border-right-color: #D3D3D3; }\n",
       " #hhjmsdtkix .gt_bottom_border { border-bottom-style: solid; border-bottom-width: 2px; border-bottom-color: #D3D3D3; }\n",
       " #hhjmsdtkix .gt_col_headings { border-top-style: solid; border-top-width: 2px; border-top-color: #D3D3D3; border-bottom-style: solid; border-bottom-width: 2px; border-bottom-color: #D3D3D3; border-left-style: none; border-left-width: 1px; border-left-color: #D3D3D3; border-right-style: none; border-right-width: 1px; border-right-color: #D3D3D3; }\n",
       " #hhjmsdtkix .gt_col_heading { color: #333333; background-color: #FFFFFF; font-size: 100%; font-weight: normal; text-transform: inherit; border-left-style: none; border-left-width: 1px; border-left-color: #D3D3D3; border-right-style: none; border-right-width: 1px; border-right-color: #D3D3D3; vertical-align: bottom; padding-top: 5px; padding-bottom: 5px; padding-left: 5px; padding-right: 5px; overflow-x: hidden; }\n",
       " #hhjmsdtkix .gt_column_spanner_outer { color: #333333; background-color: #FFFFFF; font-size: 100%; font-weight: normal; text-transform: inherit; padding-top: 0; padding-bottom: 0; padding-left: 4px; padding-right: 4px; }\n",
       " #hhjmsdtkix .gt_column_spanner_outer:first-child { padding-left: 0; }\n",
       " #hhjmsdtkix .gt_column_spanner_outer:last-child { padding-right: 0; }\n",
       " #hhjmsdtkix .gt_column_spanner { border-bottom-style: solid; border-bottom-width: 2px; border-bottom-color: #D3D3D3; vertical-align: bottom; padding-top: 5px; padding-bottom: 5px; overflow-x: hidden; display: inline-block; width: 100%; }\n",
       " #hhjmsdtkix .gt_spanner_row { border-bottom-style: hidden; }\n",
       " #hhjmsdtkix .gt_group_heading { padding-top: 8px; padding-bottom: 8px; padding-left: 5px; padding-right: 5px; color: #333333; background-color: #FFFFFF; font-size: 100%; font-weight: initial; text-transform: inherit; border-top-style: solid; border-top-width: 2px; border-top-color: #D3D3D3; border-bottom-style: solid; border-bottom-width: 2px; border-bottom-color: #D3D3D3; border-left-style: none; border-left-width: 1px; border-left-color: #D3D3D3; border-right-style: none; border-right-width: 1px; border-right-color: #D3D3D3; vertical-align: middle; text-align: left; }\n",
       " #hhjmsdtkix .gt_empty_group_heading { padding: 0.5px; color: #333333; background-color: #FFFFFF; font-size: 100%; font-weight: initial; border-top-style: solid; border-top-width: 2px; border-top-color: #D3D3D3; border-bottom-style: solid; border-bottom-width: 2px; border-bottom-color: #D3D3D3; vertical-align: middle; }\n",
       " #hhjmsdtkix .gt_from_md> :first-child { margin-top: 0; }\n",
       " #hhjmsdtkix .gt_from_md> :last-child { margin-bottom: 0; }\n",
       " #hhjmsdtkix .gt_row { padding-top: 8px; padding-bottom: 8px; padding-left: 5px; padding-right: 5px; margin: 10px; border-top-style: solid; border-top-width: 1px; border-top-color: #D3D3D3; border-left-style: none; border-left-width: 1px; border-left-color: #D3D3D3; border-right-style: none; border-right-width: 1px; border-right-color: #D3D3D3; vertical-align: middle; overflow-x: hidden; }\n",
       " #hhjmsdtkix .gt_stub { color: #333333; background-color: #FFFFFF; font-size: 100%; font-weight: initial; text-transform: inherit; border-right-style: solid; border-right-width: 2px; border-right-color: #D3D3D3; padding-left: 5px; padding-right: 5px; }\n",
       " #hhjmsdtkix .gt_stub_row_group { color: #333333; background-color: #FFFFFF; font-size: 100%; font-weight: initial; text-transform: inherit; border-right-style: solid; border-right-width: 2px; border-right-color: #D3D3D3; padding-left: 5px; padding-right: 5px; vertical-align: top; }\n",
       " #hhjmsdtkix .gt_row_group_first td { border-top-width: 2px; }\n",
       " #hhjmsdtkix .gt_row_group_first th { border-top-width: 2px; }\n",
       " #hhjmsdtkix .gt_striped { background-color: rgba(128,128,128,0.05); }\n",
       " #hhjmsdtkix .gt_table_body { border-top-style: solid; border-top-width: 2px; border-top-color: #D3D3D3; border-bottom-style: solid; border-bottom-width: 2px; border-bottom-color: #D3D3D3; }\n",
       " #hhjmsdtkix .gt_sourcenotes { color: #333333; background-color: #FFFFFF; border-bottom-style: none; border-bottom-width: 2px; border-bottom-color: #D3D3D3; border-left-style: none; border-left-width: 2px; border-left-color: #D3D3D3; border-right-style: none; border-right-width: 2px; border-right-color: #D3D3D3; }\n",
       " #hhjmsdtkix .gt_sourcenote { font-size: 90%; padding-top: 4px; padding-bottom: 4px; padding-left: 5px; padding-right: 5px; text-align: left; }\n",
       " #hhjmsdtkix .gt_left { text-align: left; }\n",
       " #hhjmsdtkix .gt_center { text-align: center; }\n",
       " #hhjmsdtkix .gt_right { text-align: right; font-variant-numeric: tabular-nums; }\n",
       " #hhjmsdtkix .gt_font_normal { font-weight: normal; }\n",
       " #hhjmsdtkix .gt_font_bold { font-weight: bold; }\n",
       " #hhjmsdtkix .gt_font_italic { font-style: italic; }\n",
       " #hhjmsdtkix .gt_super { font-size: 65%; }\n",
       " #hhjmsdtkix .gt_footnote_marks { font-size: 75%; vertical-align: 0.4em; position: initial; }\n",
       " #hhjmsdtkix .gt_asterisk { font-size: 100%; vertical-align: 0; }\n",
       " \n",
       "</style>\n",
       "<table class=\"gt_table\" data-quarto-disable-processing=\"false\" data-quarto-bootstrap=\"false\">\n",
       "<thead>\n",
       "\n",
       "<tr class=\"gt_col_headings\">\n",
       "  <th class=\"gt_col_heading gt_columns_bottom_border gt_right\" rowspan=\"1\" colspan=\"1\" scope=\"col\" id=\"date\">date</th>\n",
       "  <th class=\"gt_col_heading gt_columns_bottom_border gt_center\" rowspan=\"1\" colspan=\"1\" scope=\"col\" id=\"trips\">trips</th>\n",
       "</tr>\n",
       "</thead>\n",
       "<tbody class=\"gt_table_body\">\n",
       "  <tr>\n",
       "    <td class=\"gt_row gt_right\">2015-01-01</td>\n",
       "    <td class=\"gt_row gt_center\">[28312, 31707, 28068, 24288, 17081, 9112, 6637, 6011, 5586, 6977, 9949, 13870, 16582, 17448, 17994, 18279, 16602, 17511, 18082, 16485, 15017, 14801, 14005, 11610]</td>\n",
       "  </tr>\n",
       "  <tr>\n",
       "    <td class=\"gt_row gt_right\">2015-01-02</td>\n",
       "    <td class=\"gt_row gt_center\">[9388, 6291, 4027, 2905, 2626, 2755, 5811, 8256, 10946, 13373, 15243, 16999, 19252, 19023, 20260, 20429, 18223, 20680, 23008, 23227, 20153, 19611, 21722, 21088]</td>\n",
       "  </tr>\n",
       "  <tr>\n",
       "    <td class=\"gt_row gt_right\">2015-01-03</td>\n",
       "    <td class=\"gt_row gt_center\">[19467, 16660, 13607, 10620, 7061, 3512, 4120, 5216, 7908, 11869, 14975, 17966, 21644, 23718, 24143, 23494, 20350, 22295, 25305, 25667, 20531, 21399, 22409, 22833]</td>\n",
       "  </tr>\n",
       "  <tr>\n",
       "    <td class=\"gt_row gt_right\">2015-01-04</td>\n",
       "    <td class=\"gt_row gt_center\">[20632, 17494, 13485, 9842, 6384, 3365, 3625, 4734, 7070, 10153, 14304, 16325, 18101, 18639, 18722, 18234, 18056, 18257, 18498, 18494, 17529, 14063, 12639, 10203]</td>\n",
       "  </tr>\n",
       "</tbody>\n",
       "\n",
       "\n",
       "</table>\n",
       "\n",
       "</div>\n",
       "        "
      ],
      "text/plain": [
       "GT(_tbl_data=shape: (4, 2)\n",
       "┌────────────┬─────────────────────────┐\n",
       "│ date       ┆ trips                   │\n",
       "│ ---        ┆ ---                     │\n",
       "│ date       ┆ list[u32]               │\n",
       "╞════════════╪═════════════════════════╡\n",
       "│ 2015-01-01 ┆ [28312, 31707, … 11610] │\n",
       "│ 2015-01-02 ┆ [9388, 6291, … 21088]   │\n",
       "│ 2015-01-03 ┆ [19467, 16660, … 22833] │\n",
       "│ 2015-01-04 ┆ [20632, 17494, … 10203] │\n",
       "└────────────┴─────────────────────────┘, _body=<great_tables._gt_data.Body object at 0x334edec90>, _boxhead=Boxhead([ColInfo(var='date', type=<ColInfoTypeEnum.default: 1>, column_label='date', column_align='right', column_width=None), ColInfo(var='trips', type=<ColInfoTypeEnum.default: 1>, column_label='trips', column_align='center', column_width=None)]), _stub=<great_tables._gt_data.Stub object at 0x32e96b350>, _spanners=Spanners([]), _heading=Heading(title=None, subtitle=None, preheader=None), _stubhead=None, _source_notes=[], _footnotes=[], _styles=[], _locale=<great_tables._gt_data.Locale object at 0x334ed6e50>, _formats=[], _substitutions=[], _options=Options(table_id=OptionsInfo(scss=False, category='table', type='value', value=None), table_caption=OptionsInfo(scss=False, category='table', type='value', value=None), table_width=OptionsInfo(scss=True, category='table', type='px', value='auto'), table_layout=OptionsInfo(scss=True, category='table', type='value', value='fixed'), table_margin_left=OptionsInfo(scss=True, category='table', type='px', value='auto'), table_margin_right=OptionsInfo(scss=True, category='table', type='px', value='auto'), table_background_color=OptionsInfo(scss=True, category='table', type='value', value='#FFFFFF'), table_additional_css=OptionsInfo(scss=False, category='table', type='values', value=[]), table_font_names=OptionsInfo(scss=False, category='table', type='values', value=['-apple-system', 'BlinkMacSystemFont', 'Segoe UI', 'Roboto', 'Oxygen', 'Ubuntu', 'Cantarell', 'Helvetica Neue', 'Fira Sans', 'Droid Sans', 'Arial', 'sans-serif']), table_font_size=OptionsInfo(scss=True, category='table', type='px', value='16px'), table_font_weight=OptionsInfo(scss=True, category='table', type='value', value='normal'), table_font_style=OptionsInfo(scss=True, category='table', type='value', value='normal'), table_font_color=OptionsInfo(scss=True, category='table', type='value', value='#333333'), table_font_color_light=OptionsInfo(scss=True, category='table', type='value', value='#FFFFFF'), table_border_top_include=OptionsInfo(scss=False, category='table', type='boolean', value=True), table_border_top_style=OptionsInfo(scss=True, category='table', type='value', value='solid'), table_border_top_width=OptionsInfo(scss=True, category='table', type='px', value='2px'), table_border_top_color=OptionsInfo(scss=True, category='table', type='value', value='#A8A8A8'), table_border_right_style=OptionsInfo(scss=True, category='table', type='value', value='none'), table_border_right_width=OptionsInfo(scss=True, category='table', type='px', value='2px'), table_border_right_color=OptionsInfo(scss=True, category='table', type='value', value='#D3D3D3'), table_border_bottom_include=OptionsInfo(scss=False, category='table', type='boolean', value=True), table_border_bottom_style=OptionsInfo(scss=True, category='table', type='value', value='solid'), table_border_bottom_width=OptionsInfo(scss=True, category='table', type='px', value='2px'), table_border_bottom_color=OptionsInfo(scss=True, category='table', type='value', value='#A8A8A8'), table_border_left_style=OptionsInfo(scss=True, category='table', type='value', value='none'), table_border_left_width=OptionsInfo(scss=True, category='table', type='px', value='2px'), table_border_left_color=OptionsInfo(scss=True, category='table', type='value', value='#D3D3D3'), heading_background_color=OptionsInfo(scss=True, category='heading', type='value', value=None), heading_align=OptionsInfo(scss=True, category='heading', type='value', value='center'), heading_title_font_size=OptionsInfo(scss=True, category='heading', type='px', value='125%'), heading_title_font_weight=OptionsInfo(scss=True, category='heading', type='value', value='initial'), heading_subtitle_font_size=OptionsInfo(scss=True, category='heading', type='px', value='85%'), heading_subtitle_font_weight=OptionsInfo(scss=True, category='heading', type='value', value='initial'), heading_padding=OptionsInfo(scss=True, category='heading', type='px', value='4px'), heading_padding_horizontal=OptionsInfo(scss=True, category='heading', type='px', value='5px'), heading_border_bottom_style=OptionsInfo(scss=True, category='heading', type='value', value='solid'), heading_border_bottom_width=OptionsInfo(scss=True, category='heading', type='px', value='2px'), heading_border_bottom_color=OptionsInfo(scss=True, category='heading', type='value', value='#D3D3D3'), heading_border_lr_style=OptionsInfo(scss=True, category='heading', type='value', value='none'), heading_border_lr_width=OptionsInfo(scss=True, category='heading', type='px', value='1px'), heading_border_lr_color=OptionsInfo(scss=True, category='heading', type='value', value='#D3D3D3'), column_labels_background_color=OptionsInfo(scss=True, category='column_labels', type='value', value=None), column_labels_font_size=OptionsInfo(scss=True, category='column_labels', type='px', value='100%'), column_labels_font_weight=OptionsInfo(scss=True, category='column_labels', type='value', value='normal'), column_labels_text_transform=OptionsInfo(scss=True, category='column_labels', type='value', value='inherit'), column_labels_padding=OptionsInfo(scss=True, category='column_labels', type='px', value='5px'), column_labels_padding_horizontal=OptionsInfo(scss=True, category='column_labels', type='px', value='5px'), column_labels_vlines_style=OptionsInfo(scss=True, category='table_body', type='value', value='none'), column_labels_vlines_width=OptionsInfo(scss=True, category='table_body', type='px', value='1px'), column_labels_vlines_color=OptionsInfo(scss=True, category='table_body', type='value', value='#D3D3D3'), column_labels_border_top_style=OptionsInfo(scss=True, category='column_labels', type='value', value='solid'), column_labels_border_top_width=OptionsInfo(scss=True, category='column_labels', type='px', value='2px'), column_labels_border_top_color=OptionsInfo(scss=True, category='column_labels', type='value', value='#D3D3D3'), column_labels_border_bottom_style=OptionsInfo(scss=True, category='column_labels', type='value', value='solid'), column_labels_border_bottom_width=OptionsInfo(scss=True, category='column_labels', type='px', value='2px'), column_labels_border_bottom_color=OptionsInfo(scss=True, category='column_labels', type='value', value='#D3D3D3'), column_labels_border_lr_style=OptionsInfo(scss=True, category='column_labels', type='value', value='none'), column_labels_border_lr_width=OptionsInfo(scss=True, category='column_labels', type='px', value='1px'), column_labels_border_lr_color=OptionsInfo(scss=True, category='column_labels', type='value', value='#D3D3D3'), column_labels_hidden=OptionsInfo(scss=False, category='column_labels', type='boolean', value=False), row_group_background_color=OptionsInfo(scss=True, category='row_group', type='value', value=None), row_group_font_size=OptionsInfo(scss=True, category='row_group', type='px', value='100%'), row_group_font_weight=OptionsInfo(scss=True, category='row_group', type='value', value='initial'), row_group_text_transform=OptionsInfo(scss=True, category='row_group', type='value', value='inherit'), row_group_padding=OptionsInfo(scss=True, category='row_group', type='px', value='8px'), row_group_padding_horizontal=OptionsInfo(scss=True, category='row_group', type='px', value='5px'), row_group_border_top_style=OptionsInfo(scss=True, category='row_group', type='value', value='solid'), row_group_border_top_width=OptionsInfo(scss=True, category='row_group', type='px', value='2px'), row_group_border_top_color=OptionsInfo(scss=True, category='row_group', type='value', value='#D3D3D3'), row_group_border_right_style=OptionsInfo(scss=True, category='row_group', type='value', value='none'), row_group_border_right_width=OptionsInfo(scss=True, category='row_group', type='px', value='1px'), row_group_border_right_color=OptionsInfo(scss=True, category='row_group', type='value', value='#D3D3D3'), row_group_border_bottom_style=OptionsInfo(scss=True, category='row_group', type='value', value='solid'), row_group_border_bottom_width=OptionsInfo(scss=True, category='row_group', type='px', value='2px'), row_group_border_bottom_color=OptionsInfo(scss=True, category='row_group', type='value', value='#D3D3D3'), row_group_border_left_style=OptionsInfo(scss=True, category='row_group', type='value', value='none'), row_group_border_left_width=OptionsInfo(scss=True, category='row_group', type='px', value='1px'), row_group_border_left_color=OptionsInfo(scss=True, category='row_group', type='value', value='#D3D3D3'), row_group_as_column=OptionsInfo(scss=False, category='row_group', type='boolean', value=False), table_body_hlines_style=OptionsInfo(scss=True, category='table_body', type='value', value='solid'), table_body_hlines_width=OptionsInfo(scss=True, category='table_body', type='px', value='1px'), table_body_hlines_color=OptionsInfo(scss=True, category='table_body', type='value', value='#D3D3D3'), table_body_vlines_style=OptionsInfo(scss=True, category='table_body', type='value', value='none'), table_body_vlines_width=OptionsInfo(scss=True, category='table_body', type='px', value='1px'), table_body_vlines_color=OptionsInfo(scss=True, category='table_body', type='value', value='#D3D3D3'), table_body_border_top_style=OptionsInfo(scss=True, category='table_body', type='value', value='solid'), table_body_border_top_width=OptionsInfo(scss=True, category='table_body', type='px', value='2px'), table_body_border_top_color=OptionsInfo(scss=True, category='table_body', type='value', value='#D3D3D3'), table_body_border_bottom_style=OptionsInfo(scss=True, category='table_body', type='value', value='solid'), table_body_border_bottom_width=OptionsInfo(scss=True, category='table_body', type='px', value='2px'), table_body_border_bottom_color=OptionsInfo(scss=True, category='table_body', type='value', value='#D3D3D3'), data_row_padding=OptionsInfo(scss=True, category='data_row', type='px', value='8px'), data_row_padding_horizontal=OptionsInfo(scss=True, category='data_row', type='px', value='5px'), stub_background_color=OptionsInfo(scss=True, category='stub', type='value', value=None), stub_font_size=OptionsInfo(scss=True, category='stub', type='px', value='100%'), stub_font_weight=OptionsInfo(scss=True, category='stub', type='value', value='initial'), stub_text_transform=OptionsInfo(scss=True, category='stub', type='value', value='inherit'), stub_border_style=OptionsInfo(scss=True, category='stub', type='value', value='solid'), stub_border_width=OptionsInfo(scss=True, category='stub', type='px', value='2px'), stub_border_color=OptionsInfo(scss=True, category='stub', type='value', value='#D3D3D3'), stub_row_group_background_color=OptionsInfo(scss=True, category='stub', type='value', value=None), stub_row_group_font_size=OptionsInfo(scss=True, category='stub', type='px', value='100%'), stub_row_group_font_weight=OptionsInfo(scss=True, category='stub', type='value', value='initial'), stub_row_group_text_transform=OptionsInfo(scss=True, category='stub', type='value', value='inherit'), stub_row_group_border_style=OptionsInfo(scss=True, category='stub', type='value', value='solid'), stub_row_group_border_width=OptionsInfo(scss=True, category='stub', type='px', value='2px'), stub_row_group_border_color=OptionsInfo(scss=True, category='stub', type='value', value='#D3D3D3'), source_notes_padding=OptionsInfo(scss=True, category='source_notes', type='px', value='4px'), source_notes_padding_horizontal=OptionsInfo(scss=True, category='source_notes', type='px', value='5px'), source_notes_background_color=OptionsInfo(scss=True, category='source_notes', type='value', value=None), source_notes_font_size=OptionsInfo(scss=True, category='source_notes', type='px', value='90%'), source_notes_border_bottom_style=OptionsInfo(scss=True, category='source_notes', type='value', value='none'), source_notes_border_bottom_width=OptionsInfo(scss=True, category='source_notes', type='px', value='2px'), source_notes_border_bottom_color=OptionsInfo(scss=True, category='source_notes', type='value', value='#D3D3D3'), source_notes_border_lr_style=OptionsInfo(scss=True, category='source_notes', type='value', value='none'), source_notes_border_lr_width=OptionsInfo(scss=True, category='source_notes', type='px', value='2px'), source_notes_border_lr_color=OptionsInfo(scss=True, category='source_notes', type='value', value='#D3D3D3'), source_notes_multiline=OptionsInfo(scss=False, category='source_notes', type='boolean', value=True), source_notes_sep=OptionsInfo(scss=False, category='source_notes', type='value', value=' '), row_striping_background_color=OptionsInfo(scss=True, category='row', type='value', value='rgba(128,128,128,0.05)'), row_striping_include_stub=OptionsInfo(scss=False, category='row', type='boolean', value=False), row_striping_include_table_body=OptionsInfo(scss=False, category='row', type='boolean', value=False), container_width=OptionsInfo(scss=False, category='container', type='px', value='auto'), container_height=OptionsInfo(scss=False, category='container', type='px', value='auto'), container_padding_x=OptionsInfo(scss=False, category='container', type='px', value='0px'), container_padding_y=OptionsInfo(scss=False, category='container', type='px', value='10px'), container_overflow_x=OptionsInfo(scss=False, category='container', type='overflow', value='auto'), container_overflow_y=OptionsInfo(scss=False, category='container', type='overflow', value='auto'), quarto_disable_processing=OptionsInfo(scss=False, category='quarto', type='logical', value=False), quarto_use_bootstrap=OptionsInfo(scss=False, category='quarto', type='logical', value=False)), _has_built=False)"
      ]
     },
     "execution_count": 128,
     "metadata": {},
     "output_type": "execute_result"
    }
   ],
   "source": [
    "imploded_df.filter(pl.col('date') < pl.lit(date(2015,1,5))).style"
   ]
  },
  {
   "cell_type": "code",
   "execution_count": 129,
   "id": "187f935e",
   "metadata": {},
   "outputs": [
    {
     "data": {
      "text/html": [
       "<div id=\"pualvnifvj\" style=\"padding-left:0px;padding-right:0px;padding-top:10px;padding-bottom:10px;overflow-x:auto;overflow-y:auto;width:auto;height:auto;\">\n",
       "<style>\n",
       "#pualvnifvj table {\n",
       "          font-family: -apple-system, BlinkMacSystemFont, 'Segoe UI', Roboto, Oxygen, Ubuntu, Cantarell, 'Helvetica Neue', 'Fira Sans', 'Droid Sans', Arial, sans-serif;\n",
       "          -webkit-font-smoothing: antialiased;\n",
       "          -moz-osx-font-smoothing: grayscale;\n",
       "        }\n",
       "\n",
       "#pualvnifvj thead, tbody, tfoot, tr, td, th { border-style: none; }\n",
       " tr { background-color: transparent; }\n",
       "#pualvnifvj p { margin: 0; padding: 0; }\n",
       " #pualvnifvj .gt_table { display: table; border-collapse: collapse; line-height: normal; margin-left: auto; margin-right: auto; color: #333333; font-size: 16px; font-weight: normal; font-style: normal; background-color: #FFFFFF; width: auto; border-top-style: solid; border-top-width: 2px; border-top-color: #A8A8A8; border-right-style: none; border-right-width: 2px; border-right-color: #D3D3D3; border-bottom-style: solid; border-bottom-width: 2px; border-bottom-color: #A8A8A8; border-left-style: none; border-left-width: 2px; border-left-color: #D3D3D3; }\n",
       " #pualvnifvj .gt_caption { padding-top: 4px; padding-bottom: 4px; }\n",
       " #pualvnifvj .gt_title { color: #333333; font-size: 125%; font-weight: initial; padding-top: 4px; padding-bottom: 4px; padding-left: 5px; padding-right: 5px; border-bottom-color: #FFFFFF; border-bottom-width: 0; }\n",
       " #pualvnifvj .gt_subtitle { color: #333333; font-size: 85%; font-weight: initial; padding-top: 3px; padding-bottom: 5px; padding-left: 5px; padding-right: 5px; border-top-color: #FFFFFF; border-top-width: 0; }\n",
       " #pualvnifvj .gt_heading { background-color: #FFFFFF; text-align: center; border-bottom-color: #FFFFFF; border-left-style: none; border-left-width: 1px; border-left-color: #D3D3D3; border-right-style: none; border-right-width: 1px; border-right-color: #D3D3D3; }\n",
       " #pualvnifvj .gt_bottom_border { border-bottom-style: solid; border-bottom-width: 2px; border-bottom-color: #D3D3D3; }\n",
       " #pualvnifvj .gt_col_headings { border-top-style: solid; border-top-width: 2px; border-top-color: #D3D3D3; border-bottom-style: solid; border-bottom-width: 2px; border-bottom-color: #D3D3D3; border-left-style: none; border-left-width: 1px; border-left-color: #D3D3D3; border-right-style: none; border-right-width: 1px; border-right-color: #D3D3D3; }\n",
       " #pualvnifvj .gt_col_heading { color: #333333; background-color: #FFFFFF; font-size: 100%; font-weight: normal; text-transform: inherit; border-left-style: none; border-left-width: 1px; border-left-color: #D3D3D3; border-right-style: none; border-right-width: 1px; border-right-color: #D3D3D3; vertical-align: bottom; padding-top: 5px; padding-bottom: 5px; padding-left: 5px; padding-right: 5px; overflow-x: hidden; }\n",
       " #pualvnifvj .gt_column_spanner_outer { color: #333333; background-color: #FFFFFF; font-size: 100%; font-weight: normal; text-transform: inherit; padding-top: 0; padding-bottom: 0; padding-left: 4px; padding-right: 4px; }\n",
       " #pualvnifvj .gt_column_spanner_outer:first-child { padding-left: 0; }\n",
       " #pualvnifvj .gt_column_spanner_outer:last-child { padding-right: 0; }\n",
       " #pualvnifvj .gt_column_spanner { border-bottom-style: solid; border-bottom-width: 2px; border-bottom-color: #D3D3D3; vertical-align: bottom; padding-top: 5px; padding-bottom: 5px; overflow-x: hidden; display: inline-block; width: 100%; }\n",
       " #pualvnifvj .gt_spanner_row { border-bottom-style: hidden; }\n",
       " #pualvnifvj .gt_group_heading { padding-top: 8px; padding-bottom: 8px; padding-left: 5px; padding-right: 5px; color: #333333; background-color: #FFFFFF; font-size: 100%; font-weight: initial; text-transform: inherit; border-top-style: solid; border-top-width: 2px; border-top-color: #D3D3D3; border-bottom-style: solid; border-bottom-width: 2px; border-bottom-color: #D3D3D3; border-left-style: none; border-left-width: 1px; border-left-color: #D3D3D3; border-right-style: none; border-right-width: 1px; border-right-color: #D3D3D3; vertical-align: middle; text-align: left; }\n",
       " #pualvnifvj .gt_empty_group_heading { padding: 0.5px; color: #333333; background-color: #FFFFFF; font-size: 100%; font-weight: initial; border-top-style: solid; border-top-width: 2px; border-top-color: #D3D3D3; border-bottom-style: solid; border-bottom-width: 2px; border-bottom-color: #D3D3D3; vertical-align: middle; }\n",
       " #pualvnifvj .gt_from_md> :first-child { margin-top: 0; }\n",
       " #pualvnifvj .gt_from_md> :last-child { margin-bottom: 0; }\n",
       " #pualvnifvj .gt_row { padding-top: 8px; padding-bottom: 8px; padding-left: 5px; padding-right: 5px; margin: 10px; border-top-style: solid; border-top-width: 1px; border-top-color: #D3D3D3; border-left-style: none; border-left-width: 1px; border-left-color: #D3D3D3; border-right-style: none; border-right-width: 1px; border-right-color: #D3D3D3; vertical-align: middle; overflow-x: hidden; }\n",
       " #pualvnifvj .gt_stub { color: #333333; background-color: #FFFFFF; font-size: 100%; font-weight: initial; text-transform: inherit; border-right-style: solid; border-right-width: 2px; border-right-color: #D3D3D3; padding-left: 5px; padding-right: 5px; }\n",
       " #pualvnifvj .gt_stub_row_group { color: #333333; background-color: #FFFFFF; font-size: 100%; font-weight: initial; text-transform: inherit; border-right-style: solid; border-right-width: 2px; border-right-color: #D3D3D3; padding-left: 5px; padding-right: 5px; vertical-align: top; }\n",
       " #pualvnifvj .gt_row_group_first td { border-top-width: 2px; }\n",
       " #pualvnifvj .gt_row_group_first th { border-top-width: 2px; }\n",
       " #pualvnifvj .gt_striped { background-color: rgba(128,128,128,0.05); }\n",
       " #pualvnifvj .gt_table_body { border-top-style: solid; border-top-width: 2px; border-top-color: #D3D3D3; border-bottom-style: solid; border-bottom-width: 2px; border-bottom-color: #D3D3D3; }\n",
       " #pualvnifvj .gt_sourcenotes { color: #333333; background-color: #FFFFFF; border-bottom-style: none; border-bottom-width: 2px; border-bottom-color: #D3D3D3; border-left-style: none; border-left-width: 2px; border-left-color: #D3D3D3; border-right-style: none; border-right-width: 2px; border-right-color: #D3D3D3; }\n",
       " #pualvnifvj .gt_sourcenote { font-size: 90%; padding-top: 4px; padding-bottom: 4px; padding-left: 5px; padding-right: 5px; text-align: left; }\n",
       " #pualvnifvj .gt_left { text-align: left; }\n",
       " #pualvnifvj .gt_center { text-align: center; }\n",
       " #pualvnifvj .gt_right { text-align: right; font-variant-numeric: tabular-nums; }\n",
       " #pualvnifvj .gt_font_normal { font-weight: normal; }\n",
       " #pualvnifvj .gt_font_bold { font-weight: bold; }\n",
       " #pualvnifvj .gt_font_italic { font-style: italic; }\n",
       " #pualvnifvj .gt_super { font-size: 65%; }\n",
       " #pualvnifvj .gt_footnote_marks { font-size: 75%; vertical-align: 0.4em; position: initial; }\n",
       " #pualvnifvj .gt_asterisk { font-size: 100%; vertical-align: 0; }\n",
       " \n",
       "</style>\n",
       "<table class=\"gt_table\" data-quarto-disable-processing=\"false\" data-quarto-bootstrap=\"false\">\n",
       "<thead>\n",
       "\n",
       "<tr class=\"gt_col_headings\">\n",
       "  <th class=\"gt_col_heading gt_columns_bottom_border gt_right\" rowspan=\"1\" colspan=\"1\" scope=\"col\" id=\"date\">date</th>\n",
       "  <th class=\"gt_col_heading gt_columns_bottom_border gt_center\" rowspan=\"1\" colspan=\"1\" scope=\"col\" id=\"trips\">trips</th>\n",
       "</tr>\n",
       "</thead>\n",
       "<tbody class=\"gt_table_body\">\n",
       "  <tr>\n",
       "    <td class=\"gt_row gt_right\">2015-01-01</td>\n",
       "    <td class=\"gt_row gt_center\"><div><svg role=\"img\" viewBox=\"0 0 1060 130\" style=\"height: 2em; margin-left: auto; margin-right: auto; font-size: inherit; overflow: visible; vertical-align: middle; position:relative;\"><defs><pattern id=\"area_pattern\" width=\"8\" height=\"8\" patternUnits=\"userSpaceOnUse\"><path class=\"pattern-line\" d=\"M 0,8 l 8,-8 M -1,1 l 4,-4 M 6,10 l 4,-4\" stroke=\"#FF0000\" stroke-width=\"1.5\" stroke-linecap=\"round\" shape-rendering=\"geometricPrecision\"></path></pattern></defs><style> text { font-family: ui-monospace, 'Cascadia Code', 'Source Code Pro', Menlo, Consolas, 'DejaVu Sans Mono', monospace; stroke-width: 0.15em; paint-order: stroke; stroke-linejoin: round; cursor: default; } .vert-line:hover rect { fill: #911EB4; fill-opacity: 40%; stroke: #FFFFFF60; color: red; } .vert-line:hover text { stroke: white; fill: #212427; } .horizontal-line:hover text {stroke: white; fill: #212427; } .ref-line:hover rect { stroke: #FFFFFF60; } .ref-line:hover line { stroke: #FF0000; } .ref-line:hover text { stroke: white; fill: #212427; } .y-axis-line:hover rect { fill: #EDEDED; fill-opacity: 60%; stroke: #FFFFFF60; color: red; } .y-axis-line:hover text { stroke: white; stroke-width: 0.20em; fill: #1A1C1F; } </style><path class=\"area-closed\" d=\"M 50.0,27.99720531373224 91.73913043478261,15.0 133.47826086956522,28.931319627885607 175.2173913043478,43.402434822556565 216.95652173913044,70.99326212625857 258.695652173913,101.50128249301329 300.4347826086956,110.97641744190499 342.17391304347825,113.37295662493779 383.9130434782609,115.0 425.65217391304344,109.67478274185521 467.39130434782606,98.296964128479 509.1304347826087,83.2860533670227 550.8695652173913,72.90360246544925 592.6086956521739,69.58826231767544 634.3478260869565,67.49799012288963 676.0869565217391,66.40691397725968 717.8260869565217,72.82703571838749 759.5652173913043,69.34707706443092 801.3043478260869,67.16109643581792 843.0434782608696,73.27495118869874 884.7826086956521,78.89495042303128 926.5217391304348,79.72187129129819 968.2608695652174,82.76922782435588 1010.0,91.93809578500057 1010.0,125 50.0,125 Z\" stroke=\"transparent\" stroke-width=\"2\" fill=\"url(#area_pattern)\" fill-opacity=\"0.7\"></path><path d=\"M 50.0,27.99720531373224 C 70.0,27.99720531373224 71.73913043478261,15.0 91.73913043478261,15.0 C 111.73913043478261,15.0 113.47826086956522,28.931319627885607 133.47826086956522,28.931319627885607 C 153.47826086956522,28.931319627885607 155.2173913043478,43.402434822556565 175.2173913043478,43.402434822556565 C 195.2173913043478,43.402434822556565 196.95652173913044,70.99326212625857 216.95652173913044,70.99326212625857 C 236.95652173913044,70.99326212625857 238.695652173913,101.50128249301329 258.695652173913,101.50128249301329 C 278.695652173913,101.50128249301329 280.4347826086956,110.97641744190499 300.4347826086956,110.97641744190499 C 320.4347826086956,110.97641744190499 322.17391304347825,113.37295662493779 342.17391304347825,113.37295662493779 C 362.17391304347825,113.37295662493779 363.9130434782609,115.0 383.9130434782609,115.0 C 403.9130434782609,115.0 405.65217391304344,109.67478274185521 425.65217391304344,109.67478274185521 C 445.65217391304344,109.67478274185521 447.39130434782606,98.296964128479 467.39130434782606,98.296964128479 C 487.39130434782606,98.296964128479 489.1304347826087,83.2860533670227 509.1304347826087,83.2860533670227 C 529.1304347826087,83.2860533670227 530.8695652173913,72.90360246544925 550.8695652173913,72.90360246544925 C 570.8695652173913,72.90360246544925 572.6086956521739,69.58826231767544 592.6086956521739,69.58826231767544 C 612.6086956521739,69.58826231767544 614.3478260869565,67.49799012288963 634.3478260869565,67.49799012288963 C 654.3478260869565,67.49799012288963 656.0869565217391,66.40691397725968 676.0869565217391,66.40691397725968 C 696.0869565217391,66.40691397725968 697.8260869565217,72.82703571838749 717.8260869565217,72.82703571838749 C 737.8260869565217,72.82703571838749 739.5652173913043,69.34707706443092 759.5652173913043,69.34707706443092 C 779.5652173913043,69.34707706443092 781.3043478260869,67.16109643581792 801.3043478260869,67.16109643581792 C 821.3043478260869,67.16109643581792 823.0434782608696,73.27495118869874 843.0434782608696,73.27495118869874 C 863.0434782608696,73.27495118869874 864.7826086956521,78.89495042303128 884.7826086956521,78.89495042303128 C 904.7826086956521,78.89495042303128 906.5217391304348,79.72187129129819 926.5217391304348,79.72187129129819 C 946.5217391304348,79.72187129129819 948.2608695652174,82.76922782435588 968.2608695652174,82.76922782435588 C 988.2608695652174,82.76922782435588 990.0,91.93809578500057 1010.0,91.93809578500057\" stroke=\"#4682B4\" stroke-width=\"8\" fill=\"none\"></path><circle cx=\"50.0\" cy=\"27.99720531373224\" r=\"10\" stroke=\"#FFFFFF\" stroke-width=\"4\" fill=\"#FF0000\"></circle><circle cx=\"91.73913043478261\" cy=\"15.0\" r=\"10\" stroke=\"#FFFFFF\" stroke-width=\"4\" fill=\"#FF0000\"></circle><circle cx=\"133.47826086956522\" cy=\"28.931319627885607\" r=\"10\" stroke=\"#FFFFFF\" stroke-width=\"4\" fill=\"#FF0000\"></circle><circle cx=\"175.2173913043478\" cy=\"43.402434822556565\" r=\"10\" stroke=\"#FFFFFF\" stroke-width=\"4\" fill=\"#FF0000\"></circle><circle cx=\"216.95652173913044\" cy=\"70.99326212625857\" r=\"10\" stroke=\"#FFFFFF\" stroke-width=\"4\" fill=\"#FF0000\"></circle><circle cx=\"258.695652173913\" cy=\"101.50128249301329\" r=\"10\" stroke=\"#FFFFFF\" stroke-width=\"4\" fill=\"#FF0000\"></circle><circle cx=\"300.4347826086956\" cy=\"110.97641744190499\" r=\"10\" stroke=\"#FFFFFF\" stroke-width=\"4\" fill=\"#FF0000\"></circle><circle cx=\"342.17391304347825\" cy=\"113.37295662493779\" r=\"10\" stroke=\"#FFFFFF\" stroke-width=\"4\" fill=\"#FF0000\"></circle><circle cx=\"383.9130434782609\" cy=\"115.0\" r=\"10\" stroke=\"#FFFFFF\" stroke-width=\"4\" fill=\"#FF0000\"></circle><circle cx=\"425.65217391304344\" cy=\"109.67478274185521\" r=\"10\" stroke=\"#FFFFFF\" stroke-width=\"4\" fill=\"#FF0000\"></circle><circle cx=\"467.39130434782606\" cy=\"98.296964128479\" r=\"10\" stroke=\"#FFFFFF\" stroke-width=\"4\" fill=\"#FF0000\"></circle><circle cx=\"509.1304347826087\" cy=\"83.2860533670227\" r=\"10\" stroke=\"#FFFFFF\" stroke-width=\"4\" fill=\"#FF0000\"></circle><circle cx=\"550.8695652173913\" cy=\"72.90360246544925\" r=\"10\" stroke=\"#FFFFFF\" stroke-width=\"4\" fill=\"#FF0000\"></circle><circle cx=\"592.6086956521739\" cy=\"69.58826231767544\" r=\"10\" stroke=\"#FFFFFF\" stroke-width=\"4\" fill=\"#FF0000\"></circle><circle cx=\"634.3478260869565\" cy=\"67.49799012288963\" r=\"10\" stroke=\"#FFFFFF\" stroke-width=\"4\" fill=\"#FF0000\"></circle><circle cx=\"676.0869565217391\" cy=\"66.40691397725968\" r=\"10\" stroke=\"#FFFFFF\" stroke-width=\"4\" fill=\"#FF0000\"></circle><circle cx=\"717.8260869565217\" cy=\"72.82703571838749\" r=\"10\" stroke=\"#FFFFFF\" stroke-width=\"4\" fill=\"#FF0000\"></circle><circle cx=\"759.5652173913043\" cy=\"69.34707706443092\" r=\"10\" stroke=\"#FFFFFF\" stroke-width=\"4\" fill=\"#FF0000\"></circle><circle cx=\"801.3043478260869\" cy=\"67.16109643581792\" r=\"10\" stroke=\"#FFFFFF\" stroke-width=\"4\" fill=\"#FF0000\"></circle><circle cx=\"843.0434782608696\" cy=\"73.27495118869874\" r=\"10\" stroke=\"#FFFFFF\" stroke-width=\"4\" fill=\"#FF0000\"></circle><circle cx=\"884.7826086956521\" cy=\"78.89495042303128\" r=\"10\" stroke=\"#FFFFFF\" stroke-width=\"4\" fill=\"#FF0000\"></circle><circle cx=\"926.5217391304348\" cy=\"79.72187129129819\" r=\"10\" stroke=\"#FFFFFF\" stroke-width=\"4\" fill=\"#FF0000\"></circle><circle cx=\"968.2608695652174\" cy=\"82.76922782435588\" r=\"10\" stroke=\"#FFFFFF\" stroke-width=\"4\" fill=\"#FF0000\"></circle><circle cx=\"1010.0\" cy=\"91.93809578500057\" r=\"10\" stroke=\"#FFFFFF\" stroke-width=\"4\" fill=\"#FF0000\"></circle><g class=\"y-axis-line\"><rect x=\"0\" y=\"0\" width=\"65\" height=\"130\" stroke=\"transparent\" stroke-width=\"0\" fill=\"transparent\"></rect><text x=\"0\" y=\"19.0\" fill=\"transparent\" stroke=\"transparent\" font-size=\"25\">31.7K</text><text x=\"0\" y=\"126.0\" fill=\"transparent\" stroke=\"transparent\" font-size=\"25\">5.59K</text></g><g class=\"vert-line\"><rect x=\"40.0\" y=\"0\" width=\"20\" height=\"130\" stroke=\"transparent\" stroke-width=\"12\" fill=\"transparent\"></rect><text x=\"60.0\" y=\"20\" fill=\"transparent\" stroke=\"transparent\" font-size=\"30px\">28.3K</text></g><g class=\"vert-line\"><rect x=\"81.73913043478261\" y=\"0\" width=\"20\" height=\"130\" stroke=\"transparent\" stroke-width=\"12\" fill=\"transparent\"></rect><text x=\"101.73913043478261\" y=\"20\" fill=\"transparent\" stroke=\"transparent\" font-size=\"30px\">31.7K</text></g><g class=\"vert-line\"><rect x=\"123.47826086956522\" y=\"0\" width=\"20\" height=\"130\" stroke=\"transparent\" stroke-width=\"12\" fill=\"transparent\"></rect><text x=\"143.47826086956522\" y=\"20\" fill=\"transparent\" stroke=\"transparent\" font-size=\"30px\">28.1K</text></g><g class=\"vert-line\"><rect x=\"165.2173913043478\" y=\"0\" width=\"20\" height=\"130\" stroke=\"transparent\" stroke-width=\"12\" fill=\"transparent\"></rect><text x=\"185.2173913043478\" y=\"20\" fill=\"transparent\" stroke=\"transparent\" font-size=\"30px\">24.3K</text></g><g class=\"vert-line\"><rect x=\"206.95652173913044\" y=\"0\" width=\"20\" height=\"130\" stroke=\"transparent\" stroke-width=\"12\" fill=\"transparent\"></rect><text x=\"226.95652173913044\" y=\"20\" fill=\"transparent\" stroke=\"transparent\" font-size=\"30px\">17.1K</text></g><g class=\"vert-line\"><rect x=\"248.695652173913\" y=\"0\" width=\"20\" height=\"130\" stroke=\"transparent\" stroke-width=\"12\" fill=\"transparent\"></rect><text x=\"268.695652173913\" y=\"20\" fill=\"transparent\" stroke=\"transparent\" font-size=\"30px\">9.11K</text></g><g class=\"vert-line\"><rect x=\"290.4347826086956\" y=\"0\" width=\"20\" height=\"130\" stroke=\"transparent\" stroke-width=\"12\" fill=\"transparent\"></rect><text x=\"310.4347826086956\" y=\"20\" fill=\"transparent\" stroke=\"transparent\" font-size=\"30px\">6.64K</text></g><g class=\"vert-line\"><rect x=\"332.17391304347825\" y=\"0\" width=\"20\" height=\"130\" stroke=\"transparent\" stroke-width=\"12\" fill=\"transparent\"></rect><text x=\"352.17391304347825\" y=\"20\" fill=\"transparent\" stroke=\"transparent\" font-size=\"30px\">6.01K</text></g><g class=\"vert-line\"><rect x=\"373.9130434782609\" y=\"0\" width=\"20\" height=\"130\" stroke=\"transparent\" stroke-width=\"12\" fill=\"transparent\"></rect><text x=\"393.9130434782609\" y=\"20\" fill=\"transparent\" stroke=\"transparent\" font-size=\"30px\">5.59K</text></g><g class=\"vert-line\"><rect x=\"415.65217391304344\" y=\"0\" width=\"20\" height=\"130\" stroke=\"transparent\" stroke-width=\"12\" fill=\"transparent\"></rect><text x=\"435.65217391304344\" y=\"20\" fill=\"transparent\" stroke=\"transparent\" font-size=\"30px\">6.98K</text></g><g class=\"vert-line\"><rect x=\"457.39130434782606\" y=\"0\" width=\"20\" height=\"130\" stroke=\"transparent\" stroke-width=\"12\" fill=\"transparent\"></rect><text x=\"477.39130434782606\" y=\"20\" fill=\"transparent\" stroke=\"transparent\" font-size=\"30px\">9.95K</text></g><g class=\"vert-line\"><rect x=\"499.1304347826087\" y=\"0\" width=\"20\" height=\"130\" stroke=\"transparent\" stroke-width=\"12\" fill=\"transparent\"></rect><text x=\"519.1304347826087\" y=\"20\" fill=\"transparent\" stroke=\"transparent\" font-size=\"30px\">13.9K</text></g><g class=\"vert-line\"><rect x=\"540.8695652173913\" y=\"0\" width=\"20\" height=\"130\" stroke=\"transparent\" stroke-width=\"12\" fill=\"transparent\"></rect><text x=\"560.8695652173913\" y=\"20\" fill=\"transparent\" stroke=\"transparent\" font-size=\"30px\">16.6K</text></g><g class=\"vert-line\"><rect x=\"582.6086956521739\" y=\"0\" width=\"20\" height=\"130\" stroke=\"transparent\" stroke-width=\"12\" fill=\"transparent\"></rect><text x=\"602.6086956521739\" y=\"20\" fill=\"transparent\" stroke=\"transparent\" font-size=\"30px\">17.4K</text></g><g class=\"vert-line\"><rect x=\"624.3478260869565\" y=\"0\" width=\"20\" height=\"130\" stroke=\"transparent\" stroke-width=\"12\" fill=\"transparent\"></rect><text x=\"644.3478260869565\" y=\"20\" fill=\"transparent\" stroke=\"transparent\" font-size=\"30px\">18.0K</text></g><g class=\"vert-line\"><rect x=\"666.0869565217391\" y=\"0\" width=\"20\" height=\"130\" stroke=\"transparent\" stroke-width=\"12\" fill=\"transparent\"></rect><text x=\"686.0869565217391\" y=\"20\" fill=\"transparent\" stroke=\"transparent\" font-size=\"30px\">18.3K</text></g><g class=\"vert-line\"><rect x=\"707.8260869565217\" y=\"0\" width=\"20\" height=\"130\" stroke=\"transparent\" stroke-width=\"12\" fill=\"transparent\"></rect><text x=\"727.8260869565217\" y=\"20\" fill=\"transparent\" stroke=\"transparent\" font-size=\"30px\">16.6K</text></g><g class=\"vert-line\"><rect x=\"749.5652173913043\" y=\"0\" width=\"20\" height=\"130\" stroke=\"transparent\" stroke-width=\"12\" fill=\"transparent\"></rect><text x=\"769.5652173913043\" y=\"20\" fill=\"transparent\" stroke=\"transparent\" font-size=\"30px\">17.5K</text></g><g class=\"vert-line\"><rect x=\"791.3043478260869\" y=\"0\" width=\"20\" height=\"130\" stroke=\"transparent\" stroke-width=\"12\" fill=\"transparent\"></rect><text x=\"811.3043478260869\" y=\"20\" fill=\"transparent\" stroke=\"transparent\" font-size=\"30px\">18.1K</text></g><g class=\"vert-line\"><rect x=\"833.0434782608696\" y=\"0\" width=\"20\" height=\"130\" stroke=\"transparent\" stroke-width=\"12\" fill=\"transparent\"></rect><text x=\"853.0434782608696\" y=\"20\" fill=\"transparent\" stroke=\"transparent\" font-size=\"30px\">16.5K</text></g><g class=\"vert-line\"><rect x=\"874.7826086956521\" y=\"0\" width=\"20\" height=\"130\" stroke=\"transparent\" stroke-width=\"12\" fill=\"transparent\"></rect><text x=\"894.7826086956521\" y=\"20\" fill=\"transparent\" stroke=\"transparent\" font-size=\"30px\">15.0K</text></g><g class=\"vert-line\"><rect x=\"916.5217391304348\" y=\"0\" width=\"20\" height=\"130\" stroke=\"transparent\" stroke-width=\"12\" fill=\"transparent\"></rect><text x=\"936.5217391304348\" y=\"20\" fill=\"transparent\" stroke=\"transparent\" font-size=\"30px\">14.8K</text></g><g class=\"vert-line\"><rect x=\"958.2608695652174\" y=\"0\" width=\"20\" height=\"130\" stroke=\"transparent\" stroke-width=\"12\" fill=\"transparent\"></rect><text x=\"978.2608695652174\" y=\"20\" fill=\"transparent\" stroke=\"transparent\" font-size=\"30px\">14.0K</text></g><g class=\"vert-line\"><rect x=\"1000.0\" y=\"0\" width=\"20\" height=\"130\" stroke=\"transparent\" stroke-width=\"12\" fill=\"transparent\"></rect><text x=\"1020.0\" y=\"20\" fill=\"transparent\" stroke=\"transparent\" font-size=\"30px\">11.6K</text></g></svg></div></td>\n",
       "  </tr>\n",
       "  <tr>\n",
       "    <td class=\"gt_row gt_right\">2015-01-02</td>\n",
       "    <td class=\"gt_row gt_center\"><div><svg role=\"img\" viewBox=\"0 0 1060 130\" style=\"height: 2em; margin-left: auto; margin-right: auto; font-size: inherit; overflow: visible; vertical-align: middle; position:relative;\"><defs><pattern id=\"area_pattern\" width=\"8\" height=\"8\" patternUnits=\"userSpaceOnUse\"><path class=\"pattern-line\" d=\"M 0,8 l 8,-8 M -1,1 l 4,-4 M 6,10 l 4,-4\" stroke=\"#FF0000\" stroke-width=\"1.5\" stroke-linecap=\"round\" shape-rendering=\"geometricPrecision\"></path></pattern></defs><style> text { font-family: ui-monospace, 'Cascadia Code', 'Source Code Pro', Menlo, Consolas, 'DejaVu Sans Mono', monospace; stroke-width: 0.15em; paint-order: stroke; stroke-linejoin: round; cursor: default; } .vert-line:hover rect { fill: #911EB4; fill-opacity: 40%; stroke: #FFFFFF60; color: red; } .vert-line:hover text { stroke: white; fill: #212427; } .horizontal-line:hover text {stroke: white; fill: #212427; } .ref-line:hover rect { stroke: #FFFFFF60; } .ref-line:hover line { stroke: #FF0000; } .ref-line:hover text { stroke: white; fill: #212427; } .y-axis-line:hover rect { fill: #EDEDED; fill-opacity: 60%; stroke: #FFFFFF60; color: red; } .y-axis-line:hover text { stroke: white; stroke-width: 0.20em; fill: #1A1C1F; } </style><path class=\"area-closed\" d=\"M 50.0,82.1763506625892 91.73913043478261,97.20960147565653 133.47826086956522,108.19935925440512 175.2173913043478,113.64569681083442 216.95652173913044,115.0 258.695652173913,114.37381680500947 300.4347826086956,99.53958545701666 342.17391304347825,87.6712295519635 383.9130434782609,74.61361098975777 425.65217391304344,62.83262948400563 467.39130434782606,53.755400223290124 509.1304347826087,45.23154215814766 550.8695652173913,34.295179845638565 592.6086956521739,35.40677637007913 634.3478260869565,29.402213484782287 676.0869565217391,28.581864958011746 717.8260869565217,39.290083005679335 759.5652173913043,27.363477501092177 801.3043478260869,16.063055191495554 843.0434782608696,15.0 884.7826086956521,29.92160574729382 926.5217391304348,32.55254599291296 968.2608695652174,22.305470608222898 1010.0,25.38299111693607 1010.0,125 50.0,125 Z\" stroke=\"transparent\" stroke-width=\"2\" fill=\"url(#area_pattern)\" fill-opacity=\"0.7\"></path><path d=\"M 50.0,82.1763506625892 C 70.0,82.1763506625892 71.73913043478261,97.20960147565653 91.73913043478261,97.20960147565653 C 111.73913043478261,97.20960147565653 113.47826086956522,108.19935925440512 133.47826086956522,108.19935925440512 C 153.47826086956522,108.19935925440512 155.2173913043478,113.64569681083442 175.2173913043478,113.64569681083442 C 195.2173913043478,113.64569681083442 196.95652173913044,115.0 216.95652173913044,115.0 C 236.95652173913044,115.0 238.695652173913,114.37381680500947 258.695652173913,114.37381680500947 C 278.695652173913,114.37381680500947 280.4347826086956,99.53958545701666 300.4347826086956,99.53958545701666 C 320.4347826086956,99.53958545701666 322.17391304347825,87.6712295519635 342.17391304347825,87.6712295519635 C 362.17391304347825,87.6712295519635 363.9130434782609,74.61361098975777 383.9130434782609,74.61361098975777 C 403.9130434782609,74.61361098975777 405.65217391304344,62.83262948400563 425.65217391304344,62.83262948400563 C 445.65217391304344,62.83262948400563 447.39130434782606,53.755400223290124 467.39130434782606,53.755400223290124 C 487.39130434782606,53.755400223290124 489.1304347826087,45.23154215814766 509.1304347826087,45.23154215814766 C 529.1304347826087,45.23154215814766 530.8695652173913,34.295179845638565 550.8695652173913,34.295179845638565 C 570.8695652173913,34.295179845638565 572.6086956521739,35.40677637007913 592.6086956521739,35.40677637007913 C 612.6086956521739,35.40677637007913 614.3478260869565,29.402213484782287 634.3478260869565,29.402213484782287 C 654.3478260869565,29.402213484782287 656.0869565217391,28.581864958011746 676.0869565217391,28.581864958011746 C 696.0869565217391,28.581864958011746 697.8260869565217,39.290083005679335 717.8260869565217,39.290083005679335 C 737.8260869565217,39.290083005679335 739.5652173913043,27.363477501092177 759.5652173913043,27.363477501092177 C 779.5652173913043,27.363477501092177 781.3043478260869,16.063055191495554 801.3043478260869,16.063055191495554 C 821.3043478260869,16.063055191495554 823.0434782608696,15.0 843.0434782608696,15.0 C 863.0434782608696,15.0 864.7826086956521,29.92160574729382 884.7826086956521,29.92160574729382 C 904.7826086956521,29.92160574729382 906.5217391304348,32.55254599291296 926.5217391304348,32.55254599291296 C 946.5217391304348,32.55254599291296 948.2608695652174,22.305470608222898 968.2608695652174,22.305470608222898 C 988.2608695652174,22.305470608222898 990.0,25.38299111693607 1010.0,25.38299111693607\" stroke=\"#4682B4\" stroke-width=\"8\" fill=\"none\"></path><circle cx=\"50.0\" cy=\"82.1763506625892\" r=\"10\" stroke=\"#FFFFFF\" stroke-width=\"4\" fill=\"#FF0000\"></circle><circle cx=\"91.73913043478261\" cy=\"97.20960147565653\" r=\"10\" stroke=\"#FFFFFF\" stroke-width=\"4\" fill=\"#FF0000\"></circle><circle cx=\"133.47826086956522\" cy=\"108.19935925440512\" r=\"10\" stroke=\"#FFFFFF\" stroke-width=\"4\" fill=\"#FF0000\"></circle><circle cx=\"175.2173913043478\" cy=\"113.64569681083442\" r=\"10\" stroke=\"#FFFFFF\" stroke-width=\"4\" fill=\"#FF0000\"></circle><circle cx=\"216.95652173913044\" cy=\"115.0\" r=\"10\" stroke=\"#FFFFFF\" stroke-width=\"4\" fill=\"#FF0000\"></circle><circle cx=\"258.695652173913\" cy=\"114.37381680500947\" r=\"10\" stroke=\"#FFFFFF\" stroke-width=\"4\" fill=\"#FF0000\"></circle><circle cx=\"300.4347826086956\" cy=\"99.53958545701666\" r=\"10\" stroke=\"#FFFFFF\" stroke-width=\"4\" fill=\"#FF0000\"></circle><circle cx=\"342.17391304347825\" cy=\"87.6712295519635\" r=\"10\" stroke=\"#FFFFFF\" stroke-width=\"4\" fill=\"#FF0000\"></circle><circle cx=\"383.9130434782609\" cy=\"74.61361098975777\" r=\"10\" stroke=\"#FFFFFF\" stroke-width=\"4\" fill=\"#FF0000\"></circle><circle cx=\"425.65217391304344\" cy=\"62.83262948400563\" r=\"10\" stroke=\"#FFFFFF\" stroke-width=\"4\" fill=\"#FF0000\"></circle><circle cx=\"467.39130434782606\" cy=\"53.755400223290124\" r=\"10\" stroke=\"#FFFFFF\" stroke-width=\"4\" fill=\"#FF0000\"></circle><circle cx=\"509.1304347826087\" cy=\"45.23154215814766\" r=\"10\" stroke=\"#FFFFFF\" stroke-width=\"4\" fill=\"#FF0000\"></circle><circle cx=\"550.8695652173913\" cy=\"34.295179845638565\" r=\"10\" stroke=\"#FFFFFF\" stroke-width=\"4\" fill=\"#FF0000\"></circle><circle cx=\"592.6086956521739\" cy=\"35.40677637007913\" r=\"10\" stroke=\"#FFFFFF\" stroke-width=\"4\" fill=\"#FF0000\"></circle><circle cx=\"634.3478260869565\" cy=\"29.402213484782287\" r=\"10\" stroke=\"#FFFFFF\" stroke-width=\"4\" fill=\"#FF0000\"></circle><circle cx=\"676.0869565217391\" cy=\"28.581864958011746\" r=\"10\" stroke=\"#FFFFFF\" stroke-width=\"4\" fill=\"#FF0000\"></circle><circle cx=\"717.8260869565217\" cy=\"39.290083005679335\" r=\"10\" stroke=\"#FFFFFF\" stroke-width=\"4\" fill=\"#FF0000\"></circle><circle cx=\"759.5652173913043\" cy=\"27.363477501092177\" r=\"10\" stroke=\"#FFFFFF\" stroke-width=\"4\" fill=\"#FF0000\"></circle><circle cx=\"801.3043478260869\" cy=\"16.063055191495554\" r=\"10\" stroke=\"#FFFFFF\" stroke-width=\"4\" fill=\"#FF0000\"></circle><circle cx=\"843.0434782608696\" cy=\"15.0\" r=\"10\" stroke=\"#FFFFFF\" stroke-width=\"4\" fill=\"#FF0000\"></circle><circle cx=\"884.7826086956521\" cy=\"29.92160574729382\" r=\"10\" stroke=\"#FFFFFF\" stroke-width=\"4\" fill=\"#FF0000\"></circle><circle cx=\"926.5217391304348\" cy=\"32.55254599291296\" r=\"10\" stroke=\"#FFFFFF\" stroke-width=\"4\" fill=\"#FF0000\"></circle><circle cx=\"968.2608695652174\" cy=\"22.305470608222898\" r=\"10\" stroke=\"#FFFFFF\" stroke-width=\"4\" fill=\"#FF0000\"></circle><circle cx=\"1010.0\" cy=\"25.38299111693607\" r=\"10\" stroke=\"#FFFFFF\" stroke-width=\"4\" fill=\"#FF0000\"></circle><g class=\"y-axis-line\"><rect x=\"0\" y=\"0\" width=\"65\" height=\"130\" stroke=\"transparent\" stroke-width=\"0\" fill=\"transparent\"></rect><text x=\"0\" y=\"19.0\" fill=\"transparent\" stroke=\"transparent\" font-size=\"25\">23.2K</text><text x=\"0\" y=\"126.0\" fill=\"transparent\" stroke=\"transparent\" font-size=\"25\">2.63K</text></g><g class=\"vert-line\"><rect x=\"40.0\" y=\"0\" width=\"20\" height=\"130\" stroke=\"transparent\" stroke-width=\"12\" fill=\"transparent\"></rect><text x=\"60.0\" y=\"20\" fill=\"transparent\" stroke=\"transparent\" font-size=\"30px\">9.39K</text></g><g class=\"vert-line\"><rect x=\"81.73913043478261\" y=\"0\" width=\"20\" height=\"130\" stroke=\"transparent\" stroke-width=\"12\" fill=\"transparent\"></rect><text x=\"101.73913043478261\" y=\"20\" fill=\"transparent\" stroke=\"transparent\" font-size=\"30px\">6.29K</text></g><g class=\"vert-line\"><rect x=\"123.47826086956522\" y=\"0\" width=\"20\" height=\"130\" stroke=\"transparent\" stroke-width=\"12\" fill=\"transparent\"></rect><text x=\"143.47826086956522\" y=\"20\" fill=\"transparent\" stroke=\"transparent\" font-size=\"30px\">4.03K</text></g><g class=\"vert-line\"><rect x=\"165.2173913043478\" y=\"0\" width=\"20\" height=\"130\" stroke=\"transparent\" stroke-width=\"12\" fill=\"transparent\"></rect><text x=\"185.2173913043478\" y=\"20\" fill=\"transparent\" stroke=\"transparent\" font-size=\"30px\">2.90K</text></g><g class=\"vert-line\"><rect x=\"206.95652173913044\" y=\"0\" width=\"20\" height=\"130\" stroke=\"transparent\" stroke-width=\"12\" fill=\"transparent\"></rect><text x=\"226.95652173913044\" y=\"20\" fill=\"transparent\" stroke=\"transparent\" font-size=\"30px\">2.63K</text></g><g class=\"vert-line\"><rect x=\"248.695652173913\" y=\"0\" width=\"20\" height=\"130\" stroke=\"transparent\" stroke-width=\"12\" fill=\"transparent\"></rect><text x=\"268.695652173913\" y=\"20\" fill=\"transparent\" stroke=\"transparent\" font-size=\"30px\">2.76K</text></g><g class=\"vert-line\"><rect x=\"290.4347826086956\" y=\"0\" width=\"20\" height=\"130\" stroke=\"transparent\" stroke-width=\"12\" fill=\"transparent\"></rect><text x=\"310.4347826086956\" y=\"20\" fill=\"transparent\" stroke=\"transparent\" font-size=\"30px\">5.81K</text></g><g class=\"vert-line\"><rect x=\"332.17391304347825\" y=\"0\" width=\"20\" height=\"130\" stroke=\"transparent\" stroke-width=\"12\" fill=\"transparent\"></rect><text x=\"352.17391304347825\" y=\"20\" fill=\"transparent\" stroke=\"transparent\" font-size=\"30px\">8.26K</text></g><g class=\"vert-line\"><rect x=\"373.9130434782609\" y=\"0\" width=\"20\" height=\"130\" stroke=\"transparent\" stroke-width=\"12\" fill=\"transparent\"></rect><text x=\"393.9130434782609\" y=\"20\" fill=\"transparent\" stroke=\"transparent\" font-size=\"30px\">10.9K</text></g><g class=\"vert-line\"><rect x=\"415.65217391304344\" y=\"0\" width=\"20\" height=\"130\" stroke=\"transparent\" stroke-width=\"12\" fill=\"transparent\"></rect><text x=\"435.65217391304344\" y=\"20\" fill=\"transparent\" stroke=\"transparent\" font-size=\"30px\">13.4K</text></g><g class=\"vert-line\"><rect x=\"457.39130434782606\" y=\"0\" width=\"20\" height=\"130\" stroke=\"transparent\" stroke-width=\"12\" fill=\"transparent\"></rect><text x=\"477.39130434782606\" y=\"20\" fill=\"transparent\" stroke=\"transparent\" font-size=\"30px\">15.2K</text></g><g class=\"vert-line\"><rect x=\"499.1304347826087\" y=\"0\" width=\"20\" height=\"130\" stroke=\"transparent\" stroke-width=\"12\" fill=\"transparent\"></rect><text x=\"519.1304347826087\" y=\"20\" fill=\"transparent\" stroke=\"transparent\" font-size=\"30px\">17.0K</text></g><g class=\"vert-line\"><rect x=\"540.8695652173913\" y=\"0\" width=\"20\" height=\"130\" stroke=\"transparent\" stroke-width=\"12\" fill=\"transparent\"></rect><text x=\"560.8695652173913\" y=\"20\" fill=\"transparent\" stroke=\"transparent\" font-size=\"30px\">19.3K</text></g><g class=\"vert-line\"><rect x=\"582.6086956521739\" y=\"0\" width=\"20\" height=\"130\" stroke=\"transparent\" stroke-width=\"12\" fill=\"transparent\"></rect><text x=\"602.6086956521739\" y=\"20\" fill=\"transparent\" stroke=\"transparent\" font-size=\"30px\">19.0K</text></g><g class=\"vert-line\"><rect x=\"624.3478260869565\" y=\"0\" width=\"20\" height=\"130\" stroke=\"transparent\" stroke-width=\"12\" fill=\"transparent\"></rect><text x=\"644.3478260869565\" y=\"20\" fill=\"transparent\" stroke=\"transparent\" font-size=\"30px\">20.3K</text></g><g class=\"vert-line\"><rect x=\"666.0869565217391\" y=\"0\" width=\"20\" height=\"130\" stroke=\"transparent\" stroke-width=\"12\" fill=\"transparent\"></rect><text x=\"686.0869565217391\" y=\"20\" fill=\"transparent\" stroke=\"transparent\" font-size=\"30px\">20.4K</text></g><g class=\"vert-line\"><rect x=\"707.8260869565217\" y=\"0\" width=\"20\" height=\"130\" stroke=\"transparent\" stroke-width=\"12\" fill=\"transparent\"></rect><text x=\"727.8260869565217\" y=\"20\" fill=\"transparent\" stroke=\"transparent\" font-size=\"30px\">18.2K</text></g><g class=\"vert-line\"><rect x=\"749.5652173913043\" y=\"0\" width=\"20\" height=\"130\" stroke=\"transparent\" stroke-width=\"12\" fill=\"transparent\"></rect><text x=\"769.5652173913043\" y=\"20\" fill=\"transparent\" stroke=\"transparent\" font-size=\"30px\">20.7K</text></g><g class=\"vert-line\"><rect x=\"791.3043478260869\" y=\"0\" width=\"20\" height=\"130\" stroke=\"transparent\" stroke-width=\"12\" fill=\"transparent\"></rect><text x=\"811.3043478260869\" y=\"20\" fill=\"transparent\" stroke=\"transparent\" font-size=\"30px\">23.0K</text></g><g class=\"vert-line\"><rect x=\"833.0434782608696\" y=\"0\" width=\"20\" height=\"130\" stroke=\"transparent\" stroke-width=\"12\" fill=\"transparent\"></rect><text x=\"853.0434782608696\" y=\"20\" fill=\"transparent\" stroke=\"transparent\" font-size=\"30px\">23.2K</text></g><g class=\"vert-line\"><rect x=\"874.7826086956521\" y=\"0\" width=\"20\" height=\"130\" stroke=\"transparent\" stroke-width=\"12\" fill=\"transparent\"></rect><text x=\"894.7826086956521\" y=\"20\" fill=\"transparent\" stroke=\"transparent\" font-size=\"30px\">20.2K</text></g><g class=\"vert-line\"><rect x=\"916.5217391304348\" y=\"0\" width=\"20\" height=\"130\" stroke=\"transparent\" stroke-width=\"12\" fill=\"transparent\"></rect><text x=\"936.5217391304348\" y=\"20\" fill=\"transparent\" stroke=\"transparent\" font-size=\"30px\">19.6K</text></g><g class=\"vert-line\"><rect x=\"958.2608695652174\" y=\"0\" width=\"20\" height=\"130\" stroke=\"transparent\" stroke-width=\"12\" fill=\"transparent\"></rect><text x=\"978.2608695652174\" y=\"20\" fill=\"transparent\" stroke=\"transparent\" font-size=\"30px\">21.7K</text></g><g class=\"vert-line\"><rect x=\"1000.0\" y=\"0\" width=\"20\" height=\"130\" stroke=\"transparent\" stroke-width=\"12\" fill=\"transparent\"></rect><text x=\"1020.0\" y=\"20\" fill=\"transparent\" stroke=\"transparent\" font-size=\"30px\">21.1K</text></g></svg></div></td>\n",
       "  </tr>\n",
       "  <tr>\n",
       "    <td class=\"gt_row gt_right\">2015-01-03</td>\n",
       "    <td class=\"gt_row gt_center\"><div><svg role=\"img\" viewBox=\"0 0 1060 130\" style=\"height: 2em; margin-left: auto; margin-right: auto; font-size: inherit; overflow: visible; vertical-align: middle; position:relative;\"><defs><pattern id=\"area_pattern\" width=\"8\" height=\"8\" patternUnits=\"userSpaceOnUse\"><path class=\"pattern-line\" d=\"M 0,8 l 8,-8 M -1,1 l 4,-4 M 6,10 l 4,-4\" stroke=\"#FF0000\" stroke-width=\"1.5\" stroke-linecap=\"round\" shape-rendering=\"geometricPrecision\"></path></pattern></defs><style> text { font-family: ui-monospace, 'Cascadia Code', 'Source Code Pro', Menlo, Consolas, 'DejaVu Sans Mono', monospace; stroke-width: 0.15em; paint-order: stroke; stroke-linejoin: round; cursor: default; } .vert-line:hover rect { fill: #911EB4; fill-opacity: 40%; stroke: #FFFFFF60; color: red; } .vert-line:hover text { stroke: white; fill: #212427; } .horizontal-line:hover text {stroke: white; fill: #212427; } .ref-line:hover rect { stroke: #FFFFFF60; } .ref-line:hover line { stroke: #FF0000; } .ref-line:hover text { stroke: white; fill: #212427; } .y-axis-line:hover rect { fill: #EDEDED; fill-opacity: 60%; stroke: #FFFFFF60; color: red; } .y-axis-line:hover text { stroke: white; stroke-width: 0.20em; fill: #1A1C1F; } </style><path class=\"area-closed\" d=\"M 50.0,42.98465357707064 91.73913043478261,55.65447980139923 133.47826086956522,69.43466486120514 175.2173913043478,82.91694877002934 216.95652173913044,98.98104265402844 258.695652173913,115.0 300.4347826086956,112.25569848792598 342.17391304347825,107.30873392010834 383.9130434782609,95.15797788309636 425.65217391304344,77.27939517039043 467.39130434782606,63.25998645903859 509.1304347826087,49.75964793500339 550.8695652173913,33.15842924847664 592.6086956521739,23.797111261566236 634.3478260869565,21.878808395396074 676.0869565217391,24.808169713382988 717.8260869565217,38.99909726923944 759.5652173913043,30.220040622884223 801.3043478260869,16.6339426765967 843.0434782608696,15.0 884.7826086956521,38.1821259309411 926.5217391304348,34.264274430151204 968.2608695652174,29.705484089370344 1010.0,27.791694877002936 1010.0,125 50.0,125 Z\" stroke=\"transparent\" stroke-width=\"2\" fill=\"url(#area_pattern)\" fill-opacity=\"0.7\"></path><path d=\"M 50.0,42.98465357707064 C 70.0,42.98465357707064 71.73913043478261,55.65447980139923 91.73913043478261,55.65447980139923 C 111.73913043478261,55.65447980139923 113.47826086956522,69.43466486120514 133.47826086956522,69.43466486120514 C 153.47826086956522,69.43466486120514 155.2173913043478,82.91694877002934 175.2173913043478,82.91694877002934 C 195.2173913043478,82.91694877002934 196.95652173913044,98.98104265402844 216.95652173913044,98.98104265402844 C 236.95652173913044,98.98104265402844 238.695652173913,115.0 258.695652173913,115.0 C 278.695652173913,115.0 280.4347826086956,112.25569848792598 300.4347826086956,112.25569848792598 C 320.4347826086956,112.25569848792598 322.17391304347825,107.30873392010834 342.17391304347825,107.30873392010834 C 362.17391304347825,107.30873392010834 363.9130434782609,95.15797788309636 383.9130434782609,95.15797788309636 C 403.9130434782609,95.15797788309636 405.65217391304344,77.27939517039043 425.65217391304344,77.27939517039043 C 445.65217391304344,77.27939517039043 447.39130434782606,63.25998645903859 467.39130434782606,63.25998645903859 C 487.39130434782606,63.25998645903859 489.1304347826087,49.75964793500339 509.1304347826087,49.75964793500339 C 529.1304347826087,49.75964793500339 530.8695652173913,33.15842924847664 550.8695652173913,33.15842924847664 C 570.8695652173913,33.15842924847664 572.6086956521739,23.797111261566236 592.6086956521739,23.797111261566236 C 612.6086956521739,23.797111261566236 614.3478260869565,21.878808395396074 634.3478260869565,21.878808395396074 C 654.3478260869565,21.878808395396074 656.0869565217391,24.808169713382988 676.0869565217391,24.808169713382988 C 696.0869565217391,24.808169713382988 697.8260869565217,38.99909726923944 717.8260869565217,38.99909726923944 C 737.8260869565217,38.99909726923944 739.5652173913043,30.220040622884223 759.5652173913043,30.220040622884223 C 779.5652173913043,30.220040622884223 781.3043478260869,16.6339426765967 801.3043478260869,16.6339426765967 C 821.3043478260869,16.6339426765967 823.0434782608696,15.0 843.0434782608696,15.0 C 863.0434782608696,15.0 864.7826086956521,38.1821259309411 884.7826086956521,38.1821259309411 C 904.7826086956521,38.1821259309411 906.5217391304348,34.264274430151204 926.5217391304348,34.264274430151204 C 946.5217391304348,34.264274430151204 948.2608695652174,29.705484089370344 968.2608695652174,29.705484089370344 C 988.2608695652174,29.705484089370344 990.0,27.791694877002936 1010.0,27.791694877002936\" stroke=\"#4682B4\" stroke-width=\"8\" fill=\"none\"></path><circle cx=\"50.0\" cy=\"42.98465357707064\" r=\"10\" stroke=\"#FFFFFF\" stroke-width=\"4\" fill=\"#FF0000\"></circle><circle cx=\"91.73913043478261\" cy=\"55.65447980139923\" r=\"10\" stroke=\"#FFFFFF\" stroke-width=\"4\" fill=\"#FF0000\"></circle><circle cx=\"133.47826086956522\" cy=\"69.43466486120514\" r=\"10\" stroke=\"#FFFFFF\" stroke-width=\"4\" fill=\"#FF0000\"></circle><circle cx=\"175.2173913043478\" cy=\"82.91694877002934\" r=\"10\" stroke=\"#FFFFFF\" stroke-width=\"4\" fill=\"#FF0000\"></circle><circle cx=\"216.95652173913044\" cy=\"98.98104265402844\" r=\"10\" stroke=\"#FFFFFF\" stroke-width=\"4\" fill=\"#FF0000\"></circle><circle cx=\"258.695652173913\" cy=\"115.0\" r=\"10\" stroke=\"#FFFFFF\" stroke-width=\"4\" fill=\"#FF0000\"></circle><circle cx=\"300.4347826086956\" cy=\"112.25569848792598\" r=\"10\" stroke=\"#FFFFFF\" stroke-width=\"4\" fill=\"#FF0000\"></circle><circle cx=\"342.17391304347825\" cy=\"107.30873392010834\" r=\"10\" stroke=\"#FFFFFF\" stroke-width=\"4\" fill=\"#FF0000\"></circle><circle cx=\"383.9130434782609\" cy=\"95.15797788309636\" r=\"10\" stroke=\"#FFFFFF\" stroke-width=\"4\" fill=\"#FF0000\"></circle><circle cx=\"425.65217391304344\" cy=\"77.27939517039043\" r=\"10\" stroke=\"#FFFFFF\" stroke-width=\"4\" fill=\"#FF0000\"></circle><circle cx=\"467.39130434782606\" cy=\"63.25998645903859\" r=\"10\" stroke=\"#FFFFFF\" stroke-width=\"4\" fill=\"#FF0000\"></circle><circle cx=\"509.1304347826087\" cy=\"49.75964793500339\" r=\"10\" stroke=\"#FFFFFF\" stroke-width=\"4\" fill=\"#FF0000\"></circle><circle cx=\"550.8695652173913\" cy=\"33.15842924847664\" r=\"10\" stroke=\"#FFFFFF\" stroke-width=\"4\" fill=\"#FF0000\"></circle><circle cx=\"592.6086956521739\" cy=\"23.797111261566236\" r=\"10\" stroke=\"#FFFFFF\" stroke-width=\"4\" fill=\"#FF0000\"></circle><circle cx=\"634.3478260869565\" cy=\"21.878808395396074\" r=\"10\" stroke=\"#FFFFFF\" stroke-width=\"4\" fill=\"#FF0000\"></circle><circle cx=\"676.0869565217391\" cy=\"24.808169713382988\" r=\"10\" stroke=\"#FFFFFF\" stroke-width=\"4\" fill=\"#FF0000\"></circle><circle cx=\"717.8260869565217\" cy=\"38.99909726923944\" r=\"10\" stroke=\"#FFFFFF\" stroke-width=\"4\" fill=\"#FF0000\"></circle><circle cx=\"759.5652173913043\" cy=\"30.220040622884223\" r=\"10\" stroke=\"#FFFFFF\" stroke-width=\"4\" fill=\"#FF0000\"></circle><circle cx=\"801.3043478260869\" cy=\"16.6339426765967\" r=\"10\" stroke=\"#FFFFFF\" stroke-width=\"4\" fill=\"#FF0000\"></circle><circle cx=\"843.0434782608696\" cy=\"15.0\" r=\"10\" stroke=\"#FFFFFF\" stroke-width=\"4\" fill=\"#FF0000\"></circle><circle cx=\"884.7826086956521\" cy=\"38.1821259309411\" r=\"10\" stroke=\"#FFFFFF\" stroke-width=\"4\" fill=\"#FF0000\"></circle><circle cx=\"926.5217391304348\" cy=\"34.264274430151204\" r=\"10\" stroke=\"#FFFFFF\" stroke-width=\"4\" fill=\"#FF0000\"></circle><circle cx=\"968.2608695652174\" cy=\"29.705484089370344\" r=\"10\" stroke=\"#FFFFFF\" stroke-width=\"4\" fill=\"#FF0000\"></circle><circle cx=\"1010.0\" cy=\"27.791694877002936\" r=\"10\" stroke=\"#FFFFFF\" stroke-width=\"4\" fill=\"#FF0000\"></circle><g class=\"y-axis-line\"><rect x=\"0\" y=\"0\" width=\"65\" height=\"130\" stroke=\"transparent\" stroke-width=\"0\" fill=\"transparent\"></rect><text x=\"0\" y=\"19.0\" fill=\"transparent\" stroke=\"transparent\" font-size=\"25\">25.7K</text><text x=\"0\" y=\"126.0\" fill=\"transparent\" stroke=\"transparent\" font-size=\"25\">3.51K</text></g><g class=\"vert-line\"><rect x=\"40.0\" y=\"0\" width=\"20\" height=\"130\" stroke=\"transparent\" stroke-width=\"12\" fill=\"transparent\"></rect><text x=\"60.0\" y=\"20\" fill=\"transparent\" stroke=\"transparent\" font-size=\"30px\">19.5K</text></g><g class=\"vert-line\"><rect x=\"81.73913043478261\" y=\"0\" width=\"20\" height=\"130\" stroke=\"transparent\" stroke-width=\"12\" fill=\"transparent\"></rect><text x=\"101.73913043478261\" y=\"20\" fill=\"transparent\" stroke=\"transparent\" font-size=\"30px\">16.7K</text></g><g class=\"vert-line\"><rect x=\"123.47826086956522\" y=\"0\" width=\"20\" height=\"130\" stroke=\"transparent\" stroke-width=\"12\" fill=\"transparent\"></rect><text x=\"143.47826086956522\" y=\"20\" fill=\"transparent\" stroke=\"transparent\" font-size=\"30px\">13.6K</text></g><g class=\"vert-line\"><rect x=\"165.2173913043478\" y=\"0\" width=\"20\" height=\"130\" stroke=\"transparent\" stroke-width=\"12\" fill=\"transparent\"></rect><text x=\"185.2173913043478\" y=\"20\" fill=\"transparent\" stroke=\"transparent\" font-size=\"30px\">10.6K</text></g><g class=\"vert-line\"><rect x=\"206.95652173913044\" y=\"0\" width=\"20\" height=\"130\" stroke=\"transparent\" stroke-width=\"12\" fill=\"transparent\"></rect><text x=\"226.95652173913044\" y=\"20\" fill=\"transparent\" stroke=\"transparent\" font-size=\"30px\">7.06K</text></g><g class=\"vert-line\"><rect x=\"248.695652173913\" y=\"0\" width=\"20\" height=\"130\" stroke=\"transparent\" stroke-width=\"12\" fill=\"transparent\"></rect><text x=\"268.695652173913\" y=\"20\" fill=\"transparent\" stroke=\"transparent\" font-size=\"30px\">3.51K</text></g><g class=\"vert-line\"><rect x=\"290.4347826086956\" y=\"0\" width=\"20\" height=\"130\" stroke=\"transparent\" stroke-width=\"12\" fill=\"transparent\"></rect><text x=\"310.4347826086956\" y=\"20\" fill=\"transparent\" stroke=\"transparent\" font-size=\"30px\">4.12K</text></g><g class=\"vert-line\"><rect x=\"332.17391304347825\" y=\"0\" width=\"20\" height=\"130\" stroke=\"transparent\" stroke-width=\"12\" fill=\"transparent\"></rect><text x=\"352.17391304347825\" y=\"20\" fill=\"transparent\" stroke=\"transparent\" font-size=\"30px\">5.22K</text></g><g class=\"vert-line\"><rect x=\"373.9130434782609\" y=\"0\" width=\"20\" height=\"130\" stroke=\"transparent\" stroke-width=\"12\" fill=\"transparent\"></rect><text x=\"393.9130434782609\" y=\"20\" fill=\"transparent\" stroke=\"transparent\" font-size=\"30px\">7.91K</text></g><g class=\"vert-line\"><rect x=\"415.65217391304344\" y=\"0\" width=\"20\" height=\"130\" stroke=\"transparent\" stroke-width=\"12\" fill=\"transparent\"></rect><text x=\"435.65217391304344\" y=\"20\" fill=\"transparent\" stroke=\"transparent\" font-size=\"30px\">11.9K</text></g><g class=\"vert-line\"><rect x=\"457.39130434782606\" y=\"0\" width=\"20\" height=\"130\" stroke=\"transparent\" stroke-width=\"12\" fill=\"transparent\"></rect><text x=\"477.39130434782606\" y=\"20\" fill=\"transparent\" stroke=\"transparent\" font-size=\"30px\">15.0K</text></g><g class=\"vert-line\"><rect x=\"499.1304347826087\" y=\"0\" width=\"20\" height=\"130\" stroke=\"transparent\" stroke-width=\"12\" fill=\"transparent\"></rect><text x=\"519.1304347826087\" y=\"20\" fill=\"transparent\" stroke=\"transparent\" font-size=\"30px\">18.0K</text></g><g class=\"vert-line\"><rect x=\"540.8695652173913\" y=\"0\" width=\"20\" height=\"130\" stroke=\"transparent\" stroke-width=\"12\" fill=\"transparent\"></rect><text x=\"560.8695652173913\" y=\"20\" fill=\"transparent\" stroke=\"transparent\" font-size=\"30px\">21.6K</text></g><g class=\"vert-line\"><rect x=\"582.6086956521739\" y=\"0\" width=\"20\" height=\"130\" stroke=\"transparent\" stroke-width=\"12\" fill=\"transparent\"></rect><text x=\"602.6086956521739\" y=\"20\" fill=\"transparent\" stroke=\"transparent\" font-size=\"30px\">23.7K</text></g><g class=\"vert-line\"><rect x=\"624.3478260869565\" y=\"0\" width=\"20\" height=\"130\" stroke=\"transparent\" stroke-width=\"12\" fill=\"transparent\"></rect><text x=\"644.3478260869565\" y=\"20\" fill=\"transparent\" stroke=\"transparent\" font-size=\"30px\">24.1K</text></g><g class=\"vert-line\"><rect x=\"666.0869565217391\" y=\"0\" width=\"20\" height=\"130\" stroke=\"transparent\" stroke-width=\"12\" fill=\"transparent\"></rect><text x=\"686.0869565217391\" y=\"20\" fill=\"transparent\" stroke=\"transparent\" font-size=\"30px\">23.5K</text></g><g class=\"vert-line\"><rect x=\"707.8260869565217\" y=\"0\" width=\"20\" height=\"130\" stroke=\"transparent\" stroke-width=\"12\" fill=\"transparent\"></rect><text x=\"727.8260869565217\" y=\"20\" fill=\"transparent\" stroke=\"transparent\" font-size=\"30px\">20.4K</text></g><g class=\"vert-line\"><rect x=\"749.5652173913043\" y=\"0\" width=\"20\" height=\"130\" stroke=\"transparent\" stroke-width=\"12\" fill=\"transparent\"></rect><text x=\"769.5652173913043\" y=\"20\" fill=\"transparent\" stroke=\"transparent\" font-size=\"30px\">22.3K</text></g><g class=\"vert-line\"><rect x=\"791.3043478260869\" y=\"0\" width=\"20\" height=\"130\" stroke=\"transparent\" stroke-width=\"12\" fill=\"transparent\"></rect><text x=\"811.3043478260869\" y=\"20\" fill=\"transparent\" stroke=\"transparent\" font-size=\"30px\">25.3K</text></g><g class=\"vert-line\"><rect x=\"833.0434782608696\" y=\"0\" width=\"20\" height=\"130\" stroke=\"transparent\" stroke-width=\"12\" fill=\"transparent\"></rect><text x=\"853.0434782608696\" y=\"20\" fill=\"transparent\" stroke=\"transparent\" font-size=\"30px\">25.7K</text></g><g class=\"vert-line\"><rect x=\"874.7826086956521\" y=\"0\" width=\"20\" height=\"130\" stroke=\"transparent\" stroke-width=\"12\" fill=\"transparent\"></rect><text x=\"894.7826086956521\" y=\"20\" fill=\"transparent\" stroke=\"transparent\" font-size=\"30px\">20.5K</text></g><g class=\"vert-line\"><rect x=\"916.5217391304348\" y=\"0\" width=\"20\" height=\"130\" stroke=\"transparent\" stroke-width=\"12\" fill=\"transparent\"></rect><text x=\"936.5217391304348\" y=\"20\" fill=\"transparent\" stroke=\"transparent\" font-size=\"30px\">21.4K</text></g><g class=\"vert-line\"><rect x=\"958.2608695652174\" y=\"0\" width=\"20\" height=\"130\" stroke=\"transparent\" stroke-width=\"12\" fill=\"transparent\"></rect><text x=\"978.2608695652174\" y=\"20\" fill=\"transparent\" stroke=\"transparent\" font-size=\"30px\">22.4K</text></g><g class=\"vert-line\"><rect x=\"1000.0\" y=\"0\" width=\"20\" height=\"130\" stroke=\"transparent\" stroke-width=\"12\" fill=\"transparent\"></rect><text x=\"1020.0\" y=\"20\" fill=\"transparent\" stroke=\"transparent\" font-size=\"30px\">22.8K</text></g></svg></div></td>\n",
       "  </tr>\n",
       "  <tr>\n",
       "    <td class=\"gt_row gt_right\">2015-01-04</td>\n",
       "    <td class=\"gt_row gt_center\"><div><svg role=\"img\" viewBox=\"0 0 1060 130\" style=\"height: 2em; margin-left: auto; margin-right: auto; font-size: inherit; overflow: visible; vertical-align: middle; position:relative;\"><defs><pattern id=\"area_pattern\" width=\"8\" height=\"8\" patternUnits=\"userSpaceOnUse\"><path class=\"pattern-line\" d=\"M 0,8 l 8,-8 M -1,1 l 4,-4 M 6,10 l 4,-4\" stroke=\"#FF0000\" stroke-width=\"1.5\" stroke-linecap=\"round\" shape-rendering=\"geometricPrecision\"></path></pattern></defs><style> text { font-family: ui-monospace, 'Cascadia Code', 'Source Code Pro', Menlo, Consolas, 'DejaVu Sans Mono', monospace; stroke-width: 0.15em; paint-order: stroke; stroke-linejoin: round; cursor: default; } .vert-line:hover rect { fill: #911EB4; fill-opacity: 40%; stroke: #FFFFFF60; color: red; } .vert-line:hover text { stroke: white; fill: #212427; } .horizontal-line:hover text {stroke: white; fill: #212427; } .ref-line:hover rect { stroke: #FFFFFF60; } .ref-line:hover line { stroke: #FF0000; } .ref-line:hover text { stroke: white; fill: #212427; } .y-axis-line:hover rect { fill: #EDEDED; fill-opacity: 60%; stroke: #FFFFFF60; color: red; } .y-axis-line:hover text { stroke: white; stroke-width: 0.20em; fill: #1A1C1F; } </style><path class=\"area-closed\" d=\"M 50.0,15.0 91.73913043478261,33.17339433601668 133.47826086956522,56.39109283604564 175.2173913043478,77.48914113627151 216.95652173913044,97.51578154861875 258.695652173913,115.0 300.4347826086956,113.49423756298141 342.17391304347825,107.07158162969826 383.9130434782609,93.54288527248508 425.65217391304344,75.68801760583773 467.39130434782606,51.64794115943708 509.1304347826087,39.943533908611805 550.8695652173913,29.65801818497713 592.6086956521739,26.542248219146344 634.3478260869565,26.06156251809811 676.0869565217391,28.887762784502232 717.8260869565217,29.918630914461104 759.5652173913043,28.754560722765973 801.3043478260869,27.3588347715295 843.0434782608696,27.382000347483633 884.7826086956521,32.97069554641803 926.5217391304348,53.04366711067354 968.2608695652174,61.29061215034459 1010.0,75.39844790641106 1010.0,125 50.0,125 Z\" stroke=\"transparent\" stroke-width=\"2\" fill=\"url(#area_pattern)\" fill-opacity=\"0.7\"></path><path d=\"M 50.0,15.0 C 70.0,15.0 71.73913043478261,33.17339433601668 91.73913043478261,33.17339433601668 C 111.73913043478261,33.17339433601668 113.47826086956522,56.39109283604564 133.47826086956522,56.39109283604564 C 153.47826086956522,56.39109283604564 155.2173913043478,77.48914113627151 175.2173913043478,77.48914113627151 C 195.2173913043478,77.48914113627151 196.95652173913044,97.51578154861875 216.95652173913044,97.51578154861875 C 236.95652173913044,97.51578154861875 238.695652173913,115.0 258.695652173913,115.0 C 278.695652173913,115.0 280.4347826086956,113.49423756298141 300.4347826086956,113.49423756298141 C 320.4347826086956,113.49423756298141 322.17391304347825,107.07158162969826 342.17391304347825,107.07158162969826 C 362.17391304347825,107.07158162969826 363.9130434782609,93.54288527248508 383.9130434782609,93.54288527248508 C 403.9130434782609,93.54288527248508 405.65217391304344,75.68801760583773 425.65217391304344,75.68801760583773 C 445.65217391304344,75.68801760583773 447.39130434782606,51.64794115943708 467.39130434782606,51.64794115943708 C 487.39130434782606,51.64794115943708 489.1304347826087,39.943533908611805 509.1304347826087,39.943533908611805 C 529.1304347826087,39.943533908611805 530.8695652173913,29.65801818497713 550.8695652173913,29.65801818497713 C 570.8695652173913,29.65801818497713 572.6086956521739,26.542248219146344 592.6086956521739,26.542248219146344 C 612.6086956521739,26.542248219146344 614.3478260869565,26.06156251809811 634.3478260869565,26.06156251809811 C 654.3478260869565,26.06156251809811 656.0869565217391,28.887762784502232 676.0869565217391,28.887762784502232 C 696.0869565217391,28.887762784502232 697.8260869565217,29.918630914461104 717.8260869565217,29.918630914461104 C 737.8260869565217,29.918630914461104 739.5652173913043,28.754560722765973 759.5652173913043,28.754560722765973 C 779.5652173913043,28.754560722765973 781.3043478260869,27.3588347715295 801.3043478260869,27.3588347715295 C 821.3043478260869,27.3588347715295 823.0434782608696,27.382000347483633 843.0434782608696,27.382000347483633 C 863.0434782608696,27.382000347483633 864.7826086956521,32.97069554641803 884.7826086956521,32.97069554641803 C 904.7826086956521,32.97069554641803 906.5217391304348,53.04366711067354 926.5217391304348,53.04366711067354 C 946.5217391304348,53.04366711067354 948.2608695652174,61.29061215034459 968.2608695652174,61.29061215034459 C 988.2608695652174,61.29061215034459 990.0,75.39844790641106 1010.0,75.39844790641106\" stroke=\"#4682B4\" stroke-width=\"8\" fill=\"none\"></path><circle cx=\"50.0\" cy=\"15.0\" r=\"10\" stroke=\"#FFFFFF\" stroke-width=\"4\" fill=\"#FF0000\"></circle><circle cx=\"91.73913043478261\" cy=\"33.17339433601668\" r=\"10\" stroke=\"#FFFFFF\" stroke-width=\"4\" fill=\"#FF0000\"></circle><circle cx=\"133.47826086956522\" cy=\"56.39109283604564\" r=\"10\" stroke=\"#FFFFFF\" stroke-width=\"4\" fill=\"#FF0000\"></circle><circle cx=\"175.2173913043478\" cy=\"77.48914113627151\" r=\"10\" stroke=\"#FFFFFF\" stroke-width=\"4\" fill=\"#FF0000\"></circle><circle cx=\"216.95652173913044\" cy=\"97.51578154861875\" r=\"10\" stroke=\"#FFFFFF\" stroke-width=\"4\" fill=\"#FF0000\"></circle><circle cx=\"258.695652173913\" cy=\"115.0\" r=\"10\" stroke=\"#FFFFFF\" stroke-width=\"4\" fill=\"#FF0000\"></circle><circle cx=\"300.4347826086956\" cy=\"113.49423756298141\" r=\"10\" stroke=\"#FFFFFF\" stroke-width=\"4\" fill=\"#FF0000\"></circle><circle cx=\"342.17391304347825\" cy=\"107.07158162969826\" r=\"10\" stroke=\"#FFFFFF\" stroke-width=\"4\" fill=\"#FF0000\"></circle><circle cx=\"383.9130434782609\" cy=\"93.54288527248508\" r=\"10\" stroke=\"#FFFFFF\" stroke-width=\"4\" fill=\"#FF0000\"></circle><circle cx=\"425.65217391304344\" cy=\"75.68801760583773\" r=\"10\" stroke=\"#FFFFFF\" stroke-width=\"4\" fill=\"#FF0000\"></circle><circle cx=\"467.39130434782606\" cy=\"51.64794115943708\" r=\"10\" stroke=\"#FFFFFF\" stroke-width=\"4\" fill=\"#FF0000\"></circle><circle cx=\"509.1304347826087\" cy=\"39.943533908611805\" r=\"10\" stroke=\"#FFFFFF\" stroke-width=\"4\" fill=\"#FF0000\"></circle><circle cx=\"550.8695652173913\" cy=\"29.65801818497713\" r=\"10\" stroke=\"#FFFFFF\" stroke-width=\"4\" fill=\"#FF0000\"></circle><circle cx=\"592.6086956521739\" cy=\"26.542248219146344\" r=\"10\" stroke=\"#FFFFFF\" stroke-width=\"4\" fill=\"#FF0000\"></circle><circle cx=\"634.3478260869565\" cy=\"26.06156251809811\" r=\"10\" stroke=\"#FFFFFF\" stroke-width=\"4\" fill=\"#FF0000\"></circle><circle cx=\"676.0869565217391\" cy=\"28.887762784502232\" r=\"10\" stroke=\"#FFFFFF\" stroke-width=\"4\" fill=\"#FF0000\"></circle><circle cx=\"717.8260869565217\" cy=\"29.918630914461104\" r=\"10\" stroke=\"#FFFFFF\" stroke-width=\"4\" fill=\"#FF0000\"></circle><circle cx=\"759.5652173913043\" cy=\"28.754560722765973\" r=\"10\" stroke=\"#FFFFFF\" stroke-width=\"4\" fill=\"#FF0000\"></circle><circle cx=\"801.3043478260869\" cy=\"27.3588347715295\" r=\"10\" stroke=\"#FFFFFF\" stroke-width=\"4\" fill=\"#FF0000\"></circle><circle cx=\"843.0434782608696\" cy=\"27.382000347483633\" r=\"10\" stroke=\"#FFFFFF\" stroke-width=\"4\" fill=\"#FF0000\"></circle><circle cx=\"884.7826086956521\" cy=\"32.97069554641803\" r=\"10\" stroke=\"#FFFFFF\" stroke-width=\"4\" fill=\"#FF0000\"></circle><circle cx=\"926.5217391304348\" cy=\"53.04366711067354\" r=\"10\" stroke=\"#FFFFFF\" stroke-width=\"4\" fill=\"#FF0000\"></circle><circle cx=\"968.2608695652174\" cy=\"61.29061215034459\" r=\"10\" stroke=\"#FFFFFF\" stroke-width=\"4\" fill=\"#FF0000\"></circle><circle cx=\"1010.0\" cy=\"75.39844790641106\" r=\"10\" stroke=\"#FFFFFF\" stroke-width=\"4\" fill=\"#FF0000\"></circle><g class=\"y-axis-line\"><rect x=\"0\" y=\"0\" width=\"65\" height=\"130\" stroke=\"transparent\" stroke-width=\"0\" fill=\"transparent\"></rect><text x=\"0\" y=\"19.0\" fill=\"transparent\" stroke=\"transparent\" font-size=\"25\">20.6K</text><text x=\"0\" y=\"126.0\" fill=\"transparent\" stroke=\"transparent\" font-size=\"25\">3.36K</text></g><g class=\"vert-line\"><rect x=\"40.0\" y=\"0\" width=\"20\" height=\"130\" stroke=\"transparent\" stroke-width=\"12\" fill=\"transparent\"></rect><text x=\"60.0\" y=\"20\" fill=\"transparent\" stroke=\"transparent\" font-size=\"30px\">20.6K</text></g><g class=\"vert-line\"><rect x=\"81.73913043478261\" y=\"0\" width=\"20\" height=\"130\" stroke=\"transparent\" stroke-width=\"12\" fill=\"transparent\"></rect><text x=\"101.73913043478261\" y=\"20\" fill=\"transparent\" stroke=\"transparent\" font-size=\"30px\">17.5K</text></g><g class=\"vert-line\"><rect x=\"123.47826086956522\" y=\"0\" width=\"20\" height=\"130\" stroke=\"transparent\" stroke-width=\"12\" fill=\"transparent\"></rect><text x=\"143.47826086956522\" y=\"20\" fill=\"transparent\" stroke=\"transparent\" font-size=\"30px\">13.5K</text></g><g class=\"vert-line\"><rect x=\"165.2173913043478\" y=\"0\" width=\"20\" height=\"130\" stroke=\"transparent\" stroke-width=\"12\" fill=\"transparent\"></rect><text x=\"185.2173913043478\" y=\"20\" fill=\"transparent\" stroke=\"transparent\" font-size=\"30px\">9.84K</text></g><g class=\"vert-line\"><rect x=\"206.95652173913044\" y=\"0\" width=\"20\" height=\"130\" stroke=\"transparent\" stroke-width=\"12\" fill=\"transparent\"></rect><text x=\"226.95652173913044\" y=\"20\" fill=\"transparent\" stroke=\"transparent\" font-size=\"30px\">6.38K</text></g><g class=\"vert-line\"><rect x=\"248.695652173913\" y=\"0\" width=\"20\" height=\"130\" stroke=\"transparent\" stroke-width=\"12\" fill=\"transparent\"></rect><text x=\"268.695652173913\" y=\"20\" fill=\"transparent\" stroke=\"transparent\" font-size=\"30px\">3.36K</text></g><g class=\"vert-line\"><rect x=\"290.4347826086956\" y=\"0\" width=\"20\" height=\"130\" stroke=\"transparent\" stroke-width=\"12\" fill=\"transparent\"></rect><text x=\"310.4347826086956\" y=\"20\" fill=\"transparent\" stroke=\"transparent\" font-size=\"30px\">3.62K</text></g><g class=\"vert-line\"><rect x=\"332.17391304347825\" y=\"0\" width=\"20\" height=\"130\" stroke=\"transparent\" stroke-width=\"12\" fill=\"transparent\"></rect><text x=\"352.17391304347825\" y=\"20\" fill=\"transparent\" stroke=\"transparent\" font-size=\"30px\">4.73K</text></g><g class=\"vert-line\"><rect x=\"373.9130434782609\" y=\"0\" width=\"20\" height=\"130\" stroke=\"transparent\" stroke-width=\"12\" fill=\"transparent\"></rect><text x=\"393.9130434782609\" y=\"20\" fill=\"transparent\" stroke=\"transparent\" font-size=\"30px\">7.07K</text></g><g class=\"vert-line\"><rect x=\"415.65217391304344\" y=\"0\" width=\"20\" height=\"130\" stroke=\"transparent\" stroke-width=\"12\" fill=\"transparent\"></rect><text x=\"435.65217391304344\" y=\"20\" fill=\"transparent\" stroke=\"transparent\" font-size=\"30px\">10.2K</text></g><g class=\"vert-line\"><rect x=\"457.39130434782606\" y=\"0\" width=\"20\" height=\"130\" stroke=\"transparent\" stroke-width=\"12\" fill=\"transparent\"></rect><text x=\"477.39130434782606\" y=\"20\" fill=\"transparent\" stroke=\"transparent\" font-size=\"30px\">14.3K</text></g><g class=\"vert-line\"><rect x=\"499.1304347826087\" y=\"0\" width=\"20\" height=\"130\" stroke=\"transparent\" stroke-width=\"12\" fill=\"transparent\"></rect><text x=\"519.1304347826087\" y=\"20\" fill=\"transparent\" stroke=\"transparent\" font-size=\"30px\">16.3K</text></g><g class=\"vert-line\"><rect x=\"540.8695652173913\" y=\"0\" width=\"20\" height=\"130\" stroke=\"transparent\" stroke-width=\"12\" fill=\"transparent\"></rect><text x=\"560.8695652173913\" y=\"20\" fill=\"transparent\" stroke=\"transparent\" font-size=\"30px\">18.1K</text></g><g class=\"vert-line\"><rect x=\"582.6086956521739\" y=\"0\" width=\"20\" height=\"130\" stroke=\"transparent\" stroke-width=\"12\" fill=\"transparent\"></rect><text x=\"602.6086956521739\" y=\"20\" fill=\"transparent\" stroke=\"transparent\" font-size=\"30px\">18.6K</text></g><g class=\"vert-line\"><rect x=\"624.3478260869565\" y=\"0\" width=\"20\" height=\"130\" stroke=\"transparent\" stroke-width=\"12\" fill=\"transparent\"></rect><text x=\"644.3478260869565\" y=\"20\" fill=\"transparent\" stroke=\"transparent\" font-size=\"30px\">18.7K</text></g><g class=\"vert-line\"><rect x=\"666.0869565217391\" y=\"0\" width=\"20\" height=\"130\" stroke=\"transparent\" stroke-width=\"12\" fill=\"transparent\"></rect><text x=\"686.0869565217391\" y=\"20\" fill=\"transparent\" stroke=\"transparent\" font-size=\"30px\">18.2K</text></g><g class=\"vert-line\"><rect x=\"707.8260869565217\" y=\"0\" width=\"20\" height=\"130\" stroke=\"transparent\" stroke-width=\"12\" fill=\"transparent\"></rect><text x=\"727.8260869565217\" y=\"20\" fill=\"transparent\" stroke=\"transparent\" font-size=\"30px\">18.1K</text></g><g class=\"vert-line\"><rect x=\"749.5652173913043\" y=\"0\" width=\"20\" height=\"130\" stroke=\"transparent\" stroke-width=\"12\" fill=\"transparent\"></rect><text x=\"769.5652173913043\" y=\"20\" fill=\"transparent\" stroke=\"transparent\" font-size=\"30px\">18.3K</text></g><g class=\"vert-line\"><rect x=\"791.3043478260869\" y=\"0\" width=\"20\" height=\"130\" stroke=\"transparent\" stroke-width=\"12\" fill=\"transparent\"></rect><text x=\"811.3043478260869\" y=\"20\" fill=\"transparent\" stroke=\"transparent\" font-size=\"30px\">18.5K</text></g><g class=\"vert-line\"><rect x=\"833.0434782608696\" y=\"0\" width=\"20\" height=\"130\" stroke=\"transparent\" stroke-width=\"12\" fill=\"transparent\"></rect><text x=\"853.0434782608696\" y=\"20\" fill=\"transparent\" stroke=\"transparent\" font-size=\"30px\">18.5K</text></g><g class=\"vert-line\"><rect x=\"874.7826086956521\" y=\"0\" width=\"20\" height=\"130\" stroke=\"transparent\" stroke-width=\"12\" fill=\"transparent\"></rect><text x=\"894.7826086956521\" y=\"20\" fill=\"transparent\" stroke=\"transparent\" font-size=\"30px\">17.5K</text></g><g class=\"vert-line\"><rect x=\"916.5217391304348\" y=\"0\" width=\"20\" height=\"130\" stroke=\"transparent\" stroke-width=\"12\" fill=\"transparent\"></rect><text x=\"936.5217391304348\" y=\"20\" fill=\"transparent\" stroke=\"transparent\" font-size=\"30px\">14.1K</text></g><g class=\"vert-line\"><rect x=\"958.2608695652174\" y=\"0\" width=\"20\" height=\"130\" stroke=\"transparent\" stroke-width=\"12\" fill=\"transparent\"></rect><text x=\"978.2608695652174\" y=\"20\" fill=\"transparent\" stroke=\"transparent\" font-size=\"30px\">12.6K</text></g><g class=\"vert-line\"><rect x=\"1000.0\" y=\"0\" width=\"20\" height=\"130\" stroke=\"transparent\" stroke-width=\"12\" fill=\"transparent\"></rect><text x=\"1020.0\" y=\"20\" fill=\"transparent\" stroke=\"transparent\" font-size=\"30px\">10.2K</text></g></svg></div></td>\n",
       "  </tr>\n",
       "</tbody>\n",
       "\n",
       "\n",
       "</table>\n",
       "\n",
       "</div>\n",
       "        "
      ],
      "text/plain": [
       "GT(_tbl_data=shape: (4, 2)\n",
       "┌────────────┬─────────────────────────┐\n",
       "│ date       ┆ trips                   │\n",
       "│ ---        ┆ ---                     │\n",
       "│ date       ┆ list[u32]               │\n",
       "╞════════════╪═════════════════════════╡\n",
       "│ 2015-01-01 ┆ [28312, 31707, … 11610] │\n",
       "│ 2015-01-02 ┆ [9388, 6291, … 21088]   │\n",
       "│ 2015-01-03 ┆ [19467, 16660, … 22833] │\n",
       "│ 2015-01-04 ┆ [20632, 17494, … 10203] │\n",
       "└────────────┴─────────────────────────┘, _body=<great_tables._gt_data.Body object at 0x334545250>, _boxhead=Boxhead([ColInfo(var='date', type=<ColInfoTypeEnum.default: 1>, column_label='date', column_align='right', column_width=None), ColInfo(var='trips', type=<ColInfoTypeEnum.default: 1>, column_label='trips', column_align='center', column_width=None)]), _stub=<great_tables._gt_data.Stub object at 0x3341a8390>, _spanners=Spanners([]), _heading=Heading(title=None, subtitle=None, preheader=None), _stubhead=None, _source_notes=[], _footnotes=[], _styles=[], _locale=<great_tables._gt_data.Locale object at 0x334135fd0>, _formats=[<great_tables._gt_data.FormatInfo object at 0x3340bb490>], _substitutions=[], _options=Options(table_id=OptionsInfo(scss=False, category='table', type='value', value=None), table_caption=OptionsInfo(scss=False, category='table', type='value', value=None), table_width=OptionsInfo(scss=True, category='table', type='px', value='auto'), table_layout=OptionsInfo(scss=True, category='table', type='value', value='fixed'), table_margin_left=OptionsInfo(scss=True, category='table', type='px', value='auto'), table_margin_right=OptionsInfo(scss=True, category='table', type='px', value='auto'), table_background_color=OptionsInfo(scss=True, category='table', type='value', value='#FFFFFF'), table_additional_css=OptionsInfo(scss=False, category='table', type='values', value=[]), table_font_names=OptionsInfo(scss=False, category='table', type='values', value=['-apple-system', 'BlinkMacSystemFont', 'Segoe UI', 'Roboto', 'Oxygen', 'Ubuntu', 'Cantarell', 'Helvetica Neue', 'Fira Sans', 'Droid Sans', 'Arial', 'sans-serif']), table_font_size=OptionsInfo(scss=True, category='table', type='px', value='16px'), table_font_weight=OptionsInfo(scss=True, category='table', type='value', value='normal'), table_font_style=OptionsInfo(scss=True, category='table', type='value', value='normal'), table_font_color=OptionsInfo(scss=True, category='table', type='value', value='#333333'), table_font_color_light=OptionsInfo(scss=True, category='table', type='value', value='#FFFFFF'), table_border_top_include=OptionsInfo(scss=False, category='table', type='boolean', value=True), table_border_top_style=OptionsInfo(scss=True, category='table', type='value', value='solid'), table_border_top_width=OptionsInfo(scss=True, category='table', type='px', value='2px'), table_border_top_color=OptionsInfo(scss=True, category='table', type='value', value='#A8A8A8'), table_border_right_style=OptionsInfo(scss=True, category='table', type='value', value='none'), table_border_right_width=OptionsInfo(scss=True, category='table', type='px', value='2px'), table_border_right_color=OptionsInfo(scss=True, category='table', type='value', value='#D3D3D3'), table_border_bottom_include=OptionsInfo(scss=False, category='table', type='boolean', value=True), table_border_bottom_style=OptionsInfo(scss=True, category='table', type='value', value='solid'), table_border_bottom_width=OptionsInfo(scss=True, category='table', type='px', value='2px'), table_border_bottom_color=OptionsInfo(scss=True, category='table', type='value', value='#A8A8A8'), table_border_left_style=OptionsInfo(scss=True, category='table', type='value', value='none'), table_border_left_width=OptionsInfo(scss=True, category='table', type='px', value='2px'), table_border_left_color=OptionsInfo(scss=True, category='table', type='value', value='#D3D3D3'), heading_background_color=OptionsInfo(scss=True, category='heading', type='value', value=None), heading_align=OptionsInfo(scss=True, category='heading', type='value', value='center'), heading_title_font_size=OptionsInfo(scss=True, category='heading', type='px', value='125%'), heading_title_font_weight=OptionsInfo(scss=True, category='heading', type='value', value='initial'), heading_subtitle_font_size=OptionsInfo(scss=True, category='heading', type='px', value='85%'), heading_subtitle_font_weight=OptionsInfo(scss=True, category='heading', type='value', value='initial'), heading_padding=OptionsInfo(scss=True, category='heading', type='px', value='4px'), heading_padding_horizontal=OptionsInfo(scss=True, category='heading', type='px', value='5px'), heading_border_bottom_style=OptionsInfo(scss=True, category='heading', type='value', value='solid'), heading_border_bottom_width=OptionsInfo(scss=True, category='heading', type='px', value='2px'), heading_border_bottom_color=OptionsInfo(scss=True, category='heading', type='value', value='#D3D3D3'), heading_border_lr_style=OptionsInfo(scss=True, category='heading', type='value', value='none'), heading_border_lr_width=OptionsInfo(scss=True, category='heading', type='px', value='1px'), heading_border_lr_color=OptionsInfo(scss=True, category='heading', type='value', value='#D3D3D3'), column_labels_background_color=OptionsInfo(scss=True, category='column_labels', type='value', value=None), column_labels_font_size=OptionsInfo(scss=True, category='column_labels', type='px', value='100%'), column_labels_font_weight=OptionsInfo(scss=True, category='column_labels', type='value', value='normal'), column_labels_text_transform=OptionsInfo(scss=True, category='column_labels', type='value', value='inherit'), column_labels_padding=OptionsInfo(scss=True, category='column_labels', type='px', value='5px'), column_labels_padding_horizontal=OptionsInfo(scss=True, category='column_labels', type='px', value='5px'), column_labels_vlines_style=OptionsInfo(scss=True, category='table_body', type='value', value='none'), column_labels_vlines_width=OptionsInfo(scss=True, category='table_body', type='px', value='1px'), column_labels_vlines_color=OptionsInfo(scss=True, category='table_body', type='value', value='#D3D3D3'), column_labels_border_top_style=OptionsInfo(scss=True, category='column_labels', type='value', value='solid'), column_labels_border_top_width=OptionsInfo(scss=True, category='column_labels', type='px', value='2px'), column_labels_border_top_color=OptionsInfo(scss=True, category='column_labels', type='value', value='#D3D3D3'), column_labels_border_bottom_style=OptionsInfo(scss=True, category='column_labels', type='value', value='solid'), column_labels_border_bottom_width=OptionsInfo(scss=True, category='column_labels', type='px', value='2px'), column_labels_border_bottom_color=OptionsInfo(scss=True, category='column_labels', type='value', value='#D3D3D3'), column_labels_border_lr_style=OptionsInfo(scss=True, category='column_labels', type='value', value='none'), column_labels_border_lr_width=OptionsInfo(scss=True, category='column_labels', type='px', value='1px'), column_labels_border_lr_color=OptionsInfo(scss=True, category='column_labels', type='value', value='#D3D3D3'), column_labels_hidden=OptionsInfo(scss=False, category='column_labels', type='boolean', value=False), row_group_background_color=OptionsInfo(scss=True, category='row_group', type='value', value=None), row_group_font_size=OptionsInfo(scss=True, category='row_group', type='px', value='100%'), row_group_font_weight=OptionsInfo(scss=True, category='row_group', type='value', value='initial'), row_group_text_transform=OptionsInfo(scss=True, category='row_group', type='value', value='inherit'), row_group_padding=OptionsInfo(scss=True, category='row_group', type='px', value='8px'), row_group_padding_horizontal=OptionsInfo(scss=True, category='row_group', type='px', value='5px'), row_group_border_top_style=OptionsInfo(scss=True, category='row_group', type='value', value='solid'), row_group_border_top_width=OptionsInfo(scss=True, category='row_group', type='px', value='2px'), row_group_border_top_color=OptionsInfo(scss=True, category='row_group', type='value', value='#D3D3D3'), row_group_border_right_style=OptionsInfo(scss=True, category='row_group', type='value', value='none'), row_group_border_right_width=OptionsInfo(scss=True, category='row_group', type='px', value='1px'), row_group_border_right_color=OptionsInfo(scss=True, category='row_group', type='value', value='#D3D3D3'), row_group_border_bottom_style=OptionsInfo(scss=True, category='row_group', type='value', value='solid'), row_group_border_bottom_width=OptionsInfo(scss=True, category='row_group', type='px', value='2px'), row_group_border_bottom_color=OptionsInfo(scss=True, category='row_group', type='value', value='#D3D3D3'), row_group_border_left_style=OptionsInfo(scss=True, category='row_group', type='value', value='none'), row_group_border_left_width=OptionsInfo(scss=True, category='row_group', type='px', value='1px'), row_group_border_left_color=OptionsInfo(scss=True, category='row_group', type='value', value='#D3D3D3'), row_group_as_column=OptionsInfo(scss=False, category='row_group', type='boolean', value=False), table_body_hlines_style=OptionsInfo(scss=True, category='table_body', type='value', value='solid'), table_body_hlines_width=OptionsInfo(scss=True, category='table_body', type='px', value='1px'), table_body_hlines_color=OptionsInfo(scss=True, category='table_body', type='value', value='#D3D3D3'), table_body_vlines_style=OptionsInfo(scss=True, category='table_body', type='value', value='none'), table_body_vlines_width=OptionsInfo(scss=True, category='table_body', type='px', value='1px'), table_body_vlines_color=OptionsInfo(scss=True, category='table_body', type='value', value='#D3D3D3'), table_body_border_top_style=OptionsInfo(scss=True, category='table_body', type='value', value='solid'), table_body_border_top_width=OptionsInfo(scss=True, category='table_body', type='px', value='2px'), table_body_border_top_color=OptionsInfo(scss=True, category='table_body', type='value', value='#D3D3D3'), table_body_border_bottom_style=OptionsInfo(scss=True, category='table_body', type='value', value='solid'), table_body_border_bottom_width=OptionsInfo(scss=True, category='table_body', type='px', value='2px'), table_body_border_bottom_color=OptionsInfo(scss=True, category='table_body', type='value', value='#D3D3D3'), data_row_padding=OptionsInfo(scss=True, category='data_row', type='px', value='8px'), data_row_padding_horizontal=OptionsInfo(scss=True, category='data_row', type='px', value='5px'), stub_background_color=OptionsInfo(scss=True, category='stub', type='value', value=None), stub_font_size=OptionsInfo(scss=True, category='stub', type='px', value='100%'), stub_font_weight=OptionsInfo(scss=True, category='stub', type='value', value='initial'), stub_text_transform=OptionsInfo(scss=True, category='stub', type='value', value='inherit'), stub_border_style=OptionsInfo(scss=True, category='stub', type='value', value='solid'), stub_border_width=OptionsInfo(scss=True, category='stub', type='px', value='2px'), stub_border_color=OptionsInfo(scss=True, category='stub', type='value', value='#D3D3D3'), stub_row_group_background_color=OptionsInfo(scss=True, category='stub', type='value', value=None), stub_row_group_font_size=OptionsInfo(scss=True, category='stub', type='px', value='100%'), stub_row_group_font_weight=OptionsInfo(scss=True, category='stub', type='value', value='initial'), stub_row_group_text_transform=OptionsInfo(scss=True, category='stub', type='value', value='inherit'), stub_row_group_border_style=OptionsInfo(scss=True, category='stub', type='value', value='solid'), stub_row_group_border_width=OptionsInfo(scss=True, category='stub', type='px', value='2px'), stub_row_group_border_color=OptionsInfo(scss=True, category='stub', type='value', value='#D3D3D3'), source_notes_padding=OptionsInfo(scss=True, category='source_notes', type='px', value='4px'), source_notes_padding_horizontal=OptionsInfo(scss=True, category='source_notes', type='px', value='5px'), source_notes_background_color=OptionsInfo(scss=True, category='source_notes', type='value', value=None), source_notes_font_size=OptionsInfo(scss=True, category='source_notes', type='px', value='90%'), source_notes_border_bottom_style=OptionsInfo(scss=True, category='source_notes', type='value', value='none'), source_notes_border_bottom_width=OptionsInfo(scss=True, category='source_notes', type='px', value='2px'), source_notes_border_bottom_color=OptionsInfo(scss=True, category='source_notes', type='value', value='#D3D3D3'), source_notes_border_lr_style=OptionsInfo(scss=True, category='source_notes', type='value', value='none'), source_notes_border_lr_width=OptionsInfo(scss=True, category='source_notes', type='px', value='2px'), source_notes_border_lr_color=OptionsInfo(scss=True, category='source_notes', type='value', value='#D3D3D3'), source_notes_multiline=OptionsInfo(scss=False, category='source_notes', type='boolean', value=True), source_notes_sep=OptionsInfo(scss=False, category='source_notes', type='value', value=' '), row_striping_background_color=OptionsInfo(scss=True, category='row', type='value', value='rgba(128,128,128,0.05)'), row_striping_include_stub=OptionsInfo(scss=False, category='row', type='boolean', value=False), row_striping_include_table_body=OptionsInfo(scss=False, category='row', type='boolean', value=False), container_width=OptionsInfo(scss=False, category='container', type='px', value='auto'), container_height=OptionsInfo(scss=False, category='container', type='px', value='auto'), container_padding_x=OptionsInfo(scss=False, category='container', type='px', value='0px'), container_padding_y=OptionsInfo(scss=False, category='container', type='px', value='10px'), container_overflow_x=OptionsInfo(scss=False, category='container', type='overflow', value='auto'), container_overflow_y=OptionsInfo(scss=False, category='container', type='overflow', value='auto'), quarto_disable_processing=OptionsInfo(scss=False, category='quarto', type='logical', value=False), quarto_use_bootstrap=OptionsInfo(scss=False, category='quarto', type='logical', value=False)), _has_built=False)"
      ]
     },
     "execution_count": 129,
     "metadata": {},
     "output_type": "execute_result"
    }
   ],
   "source": [
    "imploded_df.filter(pl.col('date') < pl.lit(date(2015,1,5))).style.fmt_nanoplot(columns='trips')"
   ]
  },
  {
   "cell_type": "markdown",
   "id": "83961920",
   "metadata": {},
   "source": [
    "## SQL API (Lazy by definition)"
   ]
  },
  {
   "cell_type": "markdown",
   "id": "31da6898",
   "metadata": {},
   "source": [
    "<img src=\"./sql_api.png\" width=\"400\" height=\"400\"></img>"
   ]
  },
  {
   "cell_type": "code",
   "execution_count": 130,
   "id": "9328fbeb",
   "metadata": {},
   "outputs": [],
   "source": [
    "result1 = (\n",
    "    df.filter(pl.col('month_day') == 1)\n",
    "        .sort('tpep_pickup_datetime')\n",
    "        .group_by_dynamic('tpep_pickup_datetime', every='1h')\n",
    "        .agg(\n",
    "            pl.len().alias('trips'),\n",
    "            pl.col('passenger_count').sum().alias('passengers'),\n",
    "            pl.col('trip_distance').sum().alias('distance_driven')\n",
    "        )\n",
    "    .with_columns(pl.col('tpep_pickup_datetime').dt.strftime('%H').alias('hour'))\n",
    ")\n"
   ]
  },
  {
   "cell_type": "code",
   "execution_count": 131,
   "id": "25cd2f83",
   "metadata": {},
   "outputs": [
    {
     "data": {
      "text/html": [
       "<div><style>\n",
       ".dataframe > thead > tr,\n",
       ".dataframe > tbody > tr {\n",
       "  text-align: right;\n",
       "  white-space: pre-wrap;\n",
       "}\n",
       "</style>\n",
       "<small>shape: (24, 5)</small><table border=\"1\" class=\"dataframe\"><thead><tr><th>tpep_pickup_datetime</th><th>trips</th><th>passengers</th><th>distance_driven</th><th>hour</th></tr><tr><td>datetime[ms]</td><td>u32</td><td>i64</td><td>f64</td><td>str</td></tr></thead><tbody><tr><td>2015-01-01 00:00:00</td><td>28312</td><td>51700</td><td>82489.09</td><td>&quot;00&quot;</td></tr><tr><td>2015-01-01 01:00:00</td><td>31707</td><td>58584</td><td>99258.12</td><td>&quot;01&quot;</td></tr><tr><td>2015-01-01 02:00:00</td><td>28068</td><td>51507</td><td>91865.7</td><td>&quot;02&quot;</td></tr><tr><td>2015-01-01 03:00:00</td><td>24288</td><td>44134</td><td>84036.57</td><td>&quot;03&quot;</td></tr><tr><td>2015-01-01 04:00:00</td><td>17081</td><td>30799</td><td>63055.28</td><td>&quot;04&quot;</td></tr><tr><td>&hellip;</td><td>&hellip;</td><td>&hellip;</td><td>&hellip;</td><td>&hellip;</td></tr><tr><td>2015-01-01 19:00:00</td><td>16485</td><td>29930</td><td>45510.07</td><td>&quot;19&quot;</td></tr><tr><td>2015-01-01 20:00:00</td><td>15017</td><td>27319</td><td>46798.67</td><td>&quot;20&quot;</td></tr><tr><td>2015-01-01 21:00:00</td><td>14801</td><td>26886</td><td>44651.48</td><td>&quot;21&quot;</td></tr><tr><td>2015-01-01 22:00:00</td><td>14005</td><td>25263</td><td>43666.51</td><td>&quot;22&quot;</td></tr><tr><td>2015-01-01 23:00:00</td><td>11610</td><td>20620</td><td>39241.84</td><td>&quot;23&quot;</td></tr></tbody></table></div>"
      ],
      "text/plain": [
       "shape: (24, 5)\n",
       "┌──────────────────────┬───────┬────────────┬─────────────────┬──────┐\n",
       "│ tpep_pickup_datetime ┆ trips ┆ passengers ┆ distance_driven ┆ hour │\n",
       "│ ---                  ┆ ---   ┆ ---        ┆ ---             ┆ ---  │\n",
       "│ datetime[ms]         ┆ u32   ┆ i64        ┆ f64             ┆ str  │\n",
       "╞══════════════════════╪═══════╪════════════╪═════════════════╪══════╡\n",
       "│ 2015-01-01 00:00:00  ┆ 28312 ┆ 51700      ┆ 82489.09        ┆ 00   │\n",
       "│ 2015-01-01 01:00:00  ┆ 31707 ┆ 58584      ┆ 99258.12        ┆ 01   │\n",
       "│ 2015-01-01 02:00:00  ┆ 28068 ┆ 51507      ┆ 91865.7         ┆ 02   │\n",
       "│ 2015-01-01 03:00:00  ┆ 24288 ┆ 44134      ┆ 84036.57        ┆ 03   │\n",
       "│ 2015-01-01 04:00:00  ┆ 17081 ┆ 30799      ┆ 63055.28        ┆ 04   │\n",
       "│ …                    ┆ …     ┆ …          ┆ …               ┆ …    │\n",
       "│ 2015-01-01 19:00:00  ┆ 16485 ┆ 29930      ┆ 45510.07        ┆ 19   │\n",
       "│ 2015-01-01 20:00:00  ┆ 15017 ┆ 27319      ┆ 46798.67        ┆ 20   │\n",
       "│ 2015-01-01 21:00:00  ┆ 14801 ┆ 26886      ┆ 44651.48        ┆ 21   │\n",
       "│ 2015-01-01 22:00:00  ┆ 14005 ┆ 25263      ┆ 43666.51        ┆ 22   │\n",
       "│ 2015-01-01 23:00:00  ┆ 11610 ┆ 20620      ┆ 39241.84        ┆ 23   │\n",
       "└──────────────────────┴───────┴────────────┴─────────────────┴──────┘"
      ]
     },
     "execution_count": 131,
     "metadata": {},
     "output_type": "execute_result"
    }
   ],
   "source": [
    "result1"
   ]
  },
  {
   "cell_type": "code",
   "execution_count": 132,
   "id": "9343d6fc",
   "metadata": {},
   "outputs": [
    {
     "data": {
      "text/html": [
       "<h4>NAIVE QUERY PLAN</h4><p>run <b>LazyFrame.show_graph()</b> to see the optimized version</p><?xml version=\"1.0\" encoding=\"UTF-8\" standalone=\"no\"?>\n",
       "<!DOCTYPE svg PUBLIC \"-//W3C//DTD SVG 1.1//EN\"\n",
       " \"http://www.w3.org/Graphics/SVG/1.1/DTD/svg11.dtd\">\n",
       "<!-- Generated by graphviz version 12.0.0 (20240704.0754)\n",
       " -->\n",
       "<!-- Title: polars_query Pages: 1 -->\n",
       "<svg width=\"68pt\" height=\"138pt\"\n",
       " viewBox=\"0.00 0.00 67.50 137.50\" xmlns=\"http://www.w3.org/2000/svg\" xmlns:xlink=\"http://www.w3.org/1999/xlink\">\n",
       "<g id=\"graph0\" class=\"graph\" transform=\"scale(1 1) rotate(0) translate(4 133.5)\">\n",
       "<title>polars_query</title>\n",
       "<polygon fill=\"white\" stroke=\"none\" points=\"-4,4 -4,-133.5 63.5,-133.5 63.5,4 -4,4\"/>\n",
       "<!-- p1 -->\n",
       "<g id=\"node1\" class=\"node\">\n",
       "<title>p1</title>\n",
       "<polygon fill=\"none\" stroke=\"black\" points=\"56.75,-129.5 2.75,-129.5 2.75,-93.5 56.75,-93.5 56.75,-129.5\"/>\n",
       "<text text-anchor=\"middle\" x=\"29.75\" y=\"-106.45\" font-family=\"Times,serif\" font-size=\"14.00\">π 1/1</text>\n",
       "</g>\n",
       "<!-- p2 -->\n",
       "<g id=\"node2\" class=\"node\">\n",
       "<title>p2</title>\n",
       "<polygon fill=\"none\" stroke=\"black\" points=\"59.5,-57.5 0,-57.5 0,0 59.5,0 59.5,-57.5\"/>\n",
       "<text text-anchor=\"middle\" x=\"29.75\" y=\"-40.2\" font-family=\"Times,serif\" font-size=\"14.00\">TABLE</text>\n",
       "<text text-anchor=\"middle\" x=\"29.75\" y=\"-23.7\" font-family=\"Times,serif\" font-size=\"14.00\">π */5;</text>\n",
       "<text text-anchor=\"middle\" x=\"29.75\" y=\"-7.2\" font-family=\"Times,serif\" font-size=\"14.00\">σ None</text>\n",
       "</g>\n",
       "<!-- p1&#45;&#45;p2 -->\n",
       "<g id=\"edge1\" class=\"edge\">\n",
       "<title>p1&#45;&#45;p2</title>\n",
       "<path fill=\"none\" stroke=\"black\" d=\"M29.75,-93.38C29.75,-83.1 29.75,-69.77 29.75,-57.97\"/>\n",
       "</g>\n",
       "</g>\n",
       "</svg>\n"
      ],
      "text/plain": [
       "<LazyFrame at 0x33450DCD0>"
      ]
     },
     "execution_count": 132,
     "metadata": {},
     "output_type": "execute_result"
    }
   ],
   "source": [
    "pl.sql(\"\"\"select avg(distance_driven) as avg_distance from result1\"\"\")"
   ]
  },
  {
   "cell_type": "markdown",
   "id": "62f8550c",
   "metadata": {},
   "source": [
    "#### In order to see the result we should use `collect`"
   ]
  },
  {
   "cell_type": "code",
   "execution_count": 140,
   "id": "33bcf03c",
   "metadata": {},
   "outputs": [
    {
     "data": {
      "text/html": [
       "<div><style>\n",
       ".dataframe > thead > tr,\n",
       ".dataframe > tbody > tr {\n",
       "  text-align: right;\n",
       "  white-space: pre-wrap;\n",
       "}\n",
       "</style>\n",
       "<small>shape: (1, 1)</small><table border=\"1\" class=\"dataframe\"><thead><tr><th>avg_distance</th></tr><tr><td>f64</td></tr></thead><tbody><tr><td>51498.824583</td></tr></tbody></table></div>"
      ],
      "text/plain": [
       "shape: (1, 1)\n",
       "┌──────────────┐\n",
       "│ avg_distance │\n",
       "│ ---          │\n",
       "│ f64          │\n",
       "╞══════════════╡\n",
       "│ 51498.824583 │\n",
       "└──────────────┘"
      ]
     },
     "execution_count": 140,
     "metadata": {},
     "output_type": "execute_result"
    }
   ],
   "source": [
    "pl.sql(\"\"\"select avg(distance_driven) as avg_distance from result1\"\"\").collect()"
   ]
  },
  {
   "cell_type": "markdown",
   "id": "95d3ade8",
   "metadata": {},
   "source": [
    "#### Or, use the `eager=True` attribute"
   ]
  },
  {
   "cell_type": "code",
   "execution_count": 141,
   "id": "a00987e8",
   "metadata": {},
   "outputs": [
    {
     "data": {
      "text/html": [
       "<div><style>\n",
       ".dataframe > thead > tr,\n",
       ".dataframe > tbody > tr {\n",
       "  text-align: right;\n",
       "  white-space: pre-wrap;\n",
       "}\n",
       "</style>\n",
       "<small>shape: (1, 1)</small><table border=\"1\" class=\"dataframe\"><thead><tr><th>avg_distance</th></tr><tr><td>f64</td></tr></thead><tbody><tr><td>51498.824583</td></tr></tbody></table></div>"
      ],
      "text/plain": [
       "shape: (1, 1)\n",
       "┌──────────────┐\n",
       "│ avg_distance │\n",
       "│ ---          │\n",
       "│ f64          │\n",
       "╞══════════════╡\n",
       "│ 51498.824583 │\n",
       "└──────────────┘"
      ]
     },
     "execution_count": 141,
     "metadata": {},
     "output_type": "execute_result"
    }
   ],
   "source": [
    "pl.sql(\"\"\"select avg(distance_driven) as avg_distance from result1\"\"\", eager=True)"
   ]
  },
  {
   "cell_type": "markdown",
   "id": "0677bdc5",
   "metadata": {},
   "source": [
    "#### SQL Joins"
   ]
  },
  {
   "cell_type": "code",
   "execution_count": 143,
   "id": "237de79f",
   "metadata": {},
   "outputs": [],
   "source": [
    "result2 = (\n",
    "    df.filter(pl.col('month_day') == 3) # <-- 2nd day\n",
    "        .sort('tpep_pickup_datetime')\n",
    "        .group_by_dynamic('tpep_pickup_datetime', every='1h')\n",
    "        .agg(\n",
    "            pl.len().alias('trips'),\n",
    "            pl.col('passenger_count').sum().alias('passengers'),\n",
    "            pl.col('trip_distance').sum().alias('distance_driven')\n",
    "        )\n",
    "    .with_columns(pl.col('tpep_pickup_datetime').dt.strftime('%H').alias('hour'))\n",
    ")"
   ]
  },
  {
   "cell_type": "code",
   "execution_count": 144,
   "id": "818554e9",
   "metadata": {},
   "outputs": [],
   "source": [
    "result = pl.sql(\"\"\"\n",
    "    select \n",
    "        t1.hour, \n",
    "        t1.distance_driven as dist1, \n",
    "        t2.distance_driven as dist2\n",
    "    from result1 as t1 join result2 as t2 on t1.hour = t2.hour\n",
    "    order by 1\n",
    "\"\"\")\n",
    "\n",
    "mat = result.collect()"
   ]
  },
  {
   "cell_type": "code",
   "execution_count": 145,
   "id": "8bed7c65",
   "metadata": {},
   "outputs": [
    {
     "data": {
      "text/html": [
       "<div><style>\n",
       ".dataframe > thead > tr,\n",
       ".dataframe > tbody > tr {\n",
       "  text-align: right;\n",
       "  white-space: pre-wrap;\n",
       "}\n",
       "</style>\n",
       "<small>shape: (24, 3)</small><table border=\"1\" class=\"dataframe\"><thead><tr><th>hour</th><th>dist1</th><th>dist2</th></tr><tr><td>str</td><td>f64</td><td>f64</td></tr></thead><tbody><tr><td>&quot;00&quot;</td><td>82489.09</td><td>59056.22</td></tr><tr><td>&quot;01&quot;</td><td>99258.12</td><td>49830.61</td></tr><tr><td>&quot;02&quot;</td><td>91865.7</td><td>41690.15</td></tr><tr><td>&quot;03&quot;</td><td>84036.57</td><td>35877.24</td></tr><tr><td>&quot;04&quot;</td><td>63055.28</td><td>28130.54</td></tr><tr><td>&hellip;</td><td>&hellip;</td><td>&hellip;</td></tr><tr><td>&quot;19&quot;</td><td>45510.07</td><td>3240988.5</td></tr><tr><td>&quot;20&quot;</td><td>46798.67</td><td>54915.04</td></tr><tr><td>&quot;21&quot;</td><td>44651.48</td><td>56920.38</td></tr><tr><td>&quot;22&quot;</td><td>43666.51</td><td>64932.34</td></tr><tr><td>&quot;23&quot;</td><td>39241.84</td><td>201639.07</td></tr></tbody></table></div>"
      ],
      "text/plain": [
       "shape: (24, 3)\n",
       "┌──────┬──────────┬───────────┐\n",
       "│ hour ┆ dist1    ┆ dist2     │\n",
       "│ ---  ┆ ---      ┆ ---       │\n",
       "│ str  ┆ f64      ┆ f64       │\n",
       "╞══════╪══════════╪═══════════╡\n",
       "│ 00   ┆ 82489.09 ┆ 59056.22  │\n",
       "│ 01   ┆ 99258.12 ┆ 49830.61  │\n",
       "│ 02   ┆ 91865.7  ┆ 41690.15  │\n",
       "│ 03   ┆ 84036.57 ┆ 35877.24  │\n",
       "│ 04   ┆ 63055.28 ┆ 28130.54  │\n",
       "│ …    ┆ …        ┆ …         │\n",
       "│ 19   ┆ 45510.07 ┆ 3240988.5 │\n",
       "│ 20   ┆ 46798.67 ┆ 54915.04  │\n",
       "│ 21   ┆ 44651.48 ┆ 56920.38  │\n",
       "│ 22   ┆ 43666.51 ┆ 64932.34  │\n",
       "│ 23   ┆ 39241.84 ┆ 201639.07 │\n",
       "└──────┴──────────┴───────────┘"
      ]
     },
     "execution_count": 145,
     "metadata": {},
     "output_type": "execute_result"
    }
   ],
   "source": [
    "mat"
   ]
  },
  {
   "cell_type": "code",
   "execution_count": 148,
   "id": "a8819578",
   "metadata": {},
   "outputs": [
    {
     "data": {
      "image/png": "[encoded data removed]",
      "text/plain": [
       "<Figure size 1000x300 with 1 Axes>"
      ]
     },
     "metadata": {},
     "output_type": "display_data"
    }
   ],
   "source": [
    "plt.figure(figsize=(10,3))\n",
    "plt.plot(mat['hour'], mat['dist1'], label='day 1')\n",
    "plt.plot(mat['hour'], mat['dist2'], label='day 2')\n",
    "plt.legend()\n",
    "plt.yscale('symlog')\n",
    "plt.show()"
   ]
  },
  {
   "cell_type": "markdown",
   "id": "a737758c",
   "metadata": {},
   "source": [
    "## The SQL API also supports `pandas` DataFrames "
   ]
  },
  {
   "cell_type": "code",
   "execution_count": 149,
   "id": "599d1892",
   "metadata": {},
   "outputs": [
    {
     "data": {
      "text/html": [
       "<div><style>\n",
       ".dataframe > thead > tr,\n",
       ".dataframe > tbody > tr {\n",
       "  text-align: right;\n",
       "  white-space: pre-wrap;\n",
       "}\n",
       "</style>\n",
       "<small>shape: (3, 5)</small><table border=\"1\" class=\"dataframe\"><thead><tr><th>key</th><th>a</th><th>b</th><th>max_ab</th><th>cumsum_max_ab</th></tr><tr><td>i64</td><td>i64</td><td>i64</td><td>i64</td><td>i64</td></tr></thead><tbody><tr><td>1</td><td>0</td><td>1</td><td>1</td><td>1</td></tr><tr><td>2</td><td>0</td><td>0</td><td>0</td><td>1</td></tr><tr><td>3</td><td>1</td><td>0</td><td>1</td><td>2</td></tr></tbody></table></div>"
      ],
      "text/plain": [
       "shape: (3, 5)\n",
       "┌─────┬─────┬─────┬────────┬───────────────┐\n",
       "│ key ┆ a   ┆ b   ┆ max_ab ┆ cumsum_max_ab │\n",
       "│ --- ┆ --- ┆ --- ┆ ---    ┆ ---           │\n",
       "│ i64 ┆ i64 ┆ i64 ┆ i64    ┆ i64           │\n",
       "╞═════╪═════╪═════╪════════╪═══════════════╡\n",
       "│ 1   ┆ 0   ┆ 1   ┆ 1      ┆ 1             │\n",
       "│ 2   ┆ 0   ┆ 0   ┆ 0      ┆ 1             │\n",
       "│ 3   ┆ 1   ┆ 0   ┆ 1      ┆ 2             │\n",
       "└─────┴─────┴─────┴────────┴───────────────┘"
      ]
     },
     "execution_count": 149,
     "metadata": {},
     "output_type": "execute_result"
    }
   ],
   "source": [
    "pd_df = pd.DataFrame({'key':[1,2,3], 'a':[0,0,1]})\n",
    "pl_df = pl.DataFrame({'key':[1,2,3], 'b':[1,0,0]})\n",
    "\n",
    "pl.sql(\"\"\"\n",
    "    select\n",
    "        pd_df.key,\n",
    "        pd_df.a,\n",
    "        pl_df.b,\n",
    "        greatest(pd_df.a, pl_df.b) as max_ab,\n",
    "        sum(greatest(pd_df.a, pl_df.b)) over(order by key) as cumsum_max_ab\n",
    "    from\n",
    "        pd_df join pl_df on pd_df.key = pl_df.key\n",
    "\"\"\").collect()"
   ]
  },
  {
   "cell_type": "markdown",
   "id": "dea49223",
   "metadata": {},
   "source": [
    "## What is supported in SQL?\n",
    "\n",
    "### The polars team claim they are trying to have everything that PostgreSQL support, but it's still wip\n",
    "\n",
    "### What's supported right now\n",
    "\n",
    "- `SELECT`\n",
    "- `DISTINCT`\n",
    "- `FROM`\n",
    "- `JOIN (CROSS JOIN, FULL JOIN, INNER JOIN, [LEFT | RIGHT] [ANTI | SEMI] JOIN`, \n",
    "- `WHERE`\n",
    "- `GROUP BY`\n",
    "- `HAVING`\n",
    "- `ORDER BY`\n",
    "- `LIMIT/OFFSET`\n",
    "- `EXCEPT`\n",
    "- `INTERSECT`\n",
    "- `UNION [ALL]`\n",
    "- `UNNEST`\n",
    "- `WITH`\n",
    "- `OVER`\n",
    "- Lots and lots of functions...\n",
    "\n",
    "### Not supported\n",
    "\n",
    "- `QUALIFY`"
   ]
  },
  {
   "cell_type": "markdown",
   "id": "a7877cc0",
   "metadata": {},
   "source": [
    "## Working with BigQuery\n",
    "\n",
    "There is no direct connector to BigQuery, however, BigQuery queries can be transfered in Arrow format\n",
    "\n",
    "```python\n",
    "import polars as pl\n",
    "from google.cloud import bigquery\n",
    "\n",
    "client = bigquery.Client()\n",
    "\n",
    "# Perform a query.\n",
    "QUERY = \"\"\"\n",
    "    SELECT a,b,c\n",
    "    FROM some_table \n",
    "    WHERE condition\n",
    "    LIMIT 100\"\"\"\"\n",
    "\n",
    "query_job = client.query(QUERY)  \n",
    "rows = query_job.result() \n",
    "\n",
    "df = pl.from_arrow(rows.to_arrow())\n",
    "```"
   ]
  },
  {
   "cell_type": "markdown",
   "id": "3ca21bb5",
   "metadata": {},
   "source": [
    "# Lazy API\n",
    "\n",
    "So far we've been showing the 'eager' api, that performs calculations 'as they come'.\n",
    "\n",
    "The **lazy** api works in a 'tell me what you want to do, and let me do it on my own' fashion"
   ]
  },
  {
   "cell_type": "code",
   "execution_count": 157,
   "id": "40db4eb8",
   "metadata": {},
   "outputs": [
    {
     "data": {
      "text/html": [
       "<h4>NAIVE QUERY PLAN</h4><p>run <b>LazyFrame.show_graph()</b> to see the optimized version</p><?xml version=\"1.0\" encoding=\"UTF-8\" standalone=\"no\"?>\n",
       "<!DOCTYPE svg PUBLIC \"-//W3C//DTD SVG 1.1//EN\"\n",
       " \"http://www.w3.org/Graphics/SVG/1.1/DTD/svg11.dtd\">\n",
       "<!-- Generated by graphviz version 12.0.0 (20240704.0754)\n",
       " -->\n",
       "<!-- Title: polars_query Pages: 1 -->\n",
       "<svg width=\"408pt\" height=\"49pt\"\n",
       " viewBox=\"0.00 0.00 408.00 49.00\" xmlns=\"http://www.w3.org/2000/svg\" xmlns:xlink=\"http://www.w3.org/1999/xlink\">\n",
       "<g id=\"graph0\" class=\"graph\" transform=\"scale(1 1) rotate(0) translate(4 45)\">\n",
       "<title>polars_query</title>\n",
       "<polygon fill=\"white\" stroke=\"none\" points=\"-4,4 -4,-45 404,-45 404,4 -4,4\"/>\n",
       "<!-- p1 -->\n",
       "<g id=\"node1\" class=\"node\">\n",
       "<title>p1</title>\n",
       "<polygon fill=\"none\" stroke=\"black\" points=\"400,-41 0,-41 0,0 400,0 400,-41\"/>\n",
       "<text text-anchor=\"middle\" x=\"200\" y=\"-23.7\" font-family=\"Times,serif\" font-size=\"14.00\">Csv SCAN [./limited&#45;memory&#45;example/yellow_tripdata_2015&#45;01.csv]</text>\n",
       "<text text-anchor=\"middle\" x=\"200\" y=\"-7.2\" font-family=\"Times,serif\" font-size=\"14.00\">π */19;</text>\n",
       "</g>\n",
       "</g>\n",
       "</svg>\n"
      ],
      "text/plain": [
       "<LazyFrame at 0x335DA49D0>"
      ]
     },
     "execution_count": 157,
     "metadata": {},
     "output_type": "execute_result"
    }
   ],
   "source": [
    "lf = pl.scan_csv(_file_location)\n",
    "lf"
   ]
  },
  {
   "cell_type": "code",
   "execution_count": 158,
   "id": "90029c7d",
   "metadata": {},
   "outputs": [
    {
     "data": {
      "text/plain": [
       "polars.lazyframe.frame.LazyFrame"
      ]
     },
     "execution_count": 158,
     "metadata": {},
     "output_type": "execute_result"
    }
   ],
   "source": [
    "type(lf)"
   ]
  },
  {
   "cell_type": "markdown",
   "id": "aa79e630",
   "metadata": {},
   "source": [
    "### What the hell is $\\pi */19$?\n",
    "\n",
    "It's part of **relational algebra** (the math behind SQL), and it means:\n",
    "- $\\pi$ is the projection operator (in this case it just means 'select')\n",
    "- ... the set of all rows * \n",
    "- ... over 19 columns"
   ]
  },
  {
   "cell_type": "code",
   "execution_count": 159,
   "id": "c1d98a5c",
   "metadata": {},
   "outputs": [],
   "source": [
    "lf = (\n",
    "    pl.scan_csv(_file_location)\n",
    "    .with_columns(pl.col('tpep_pickup_datetime').str.strptime(pl.Datetime, format=\"%Y-%m-%d %H:%M:%S\"))\n",
    "    .filter(pl.col('VendorID') == 1)\n",
    "    .sort('tpep_pickup_datetime')\n",
    "    .group_by_dynamic('tpep_pickup_datetime', every='1h')\n",
    "    .agg(\n",
    "        pl.len().alias('trips'),\n",
    "        pl.col('passenger_count').sum().alias('passengers'),\n",
    "        pl.col('trip_distance').sum().alias('distance_driven')\n",
    "    )\n",
    ")"
   ]
  },
  {
   "cell_type": "code",
   "execution_count": 160,
   "id": "55cad838",
   "metadata": {},
   "outputs": [
    {
     "data": {
      "image/svg+xml": [
       "<svg xmlns=\"http://www.w3.org/2000/svg\" xmlns:xlink=\"http://www.w3.org/1999/xlink\" width=\"730pt\" height=\"380pt\" viewBox=\"0.00 0.00 729.75 380.00\">\n",
       "<g id=\"graph0\" class=\"graph\" transform=\"scale(1 1) rotate(0) translate(4 376)\">\n",
       "<title>polars_query</title>\n",
       "<polygon fill=\"white\" stroke=\"none\" points=\"-4,4 -4,-376 725.75,-376 725.75,4 -4,4\"/>\n",
       "<!-- p1 -->\n",
       "<g id=\"node1\" class=\"node\">\n",
       "<title>p1</title>\n",
       "<polygon fill=\"none\" stroke=\"black\" points=\"721.75,-372 0,-372 0,-314.5 721.75,-314.5 721.75,-372\"/>\n",
       "<text text-anchor=\"middle\" x=\"360.88\" y=\"-354.7\" font-family=\"Times,serif\" font-size=\"14.00\">AGG [len().alias(&quot;trips&quot;), col(&quot;passenger_count&quot;).sum().alias(&quot;passengers&quot;), col(&quot;trip_distance&quot;).sum().alias(&quot;distance_driven&quot;)]</text>\n",
       "<text text-anchor=\"middle\" x=\"360.88\" y=\"-338.2\" font-family=\"Times,serif\" font-size=\"14.00\">BY</text>\n",
       "<text text-anchor=\"middle\" x=\"360.88\" y=\"-321.7\" font-family=\"Times,serif\" font-size=\"14.00\">[]</text>\n",
       "</g>\n",
       "<!-- p2 -->\n",
       "<g id=\"node2\" class=\"node\">\n",
       "<title>p2</title>\n",
       "<polygon fill=\"none\" stroke=\"black\" points=\"482.12,-278.5 239.62,-278.5 239.62,-242.5 482.12,-242.5 482.12,-278.5\"/>\n",
       "<text text-anchor=\"middle\" x=\"360.88\" y=\"-255.45\" font-family=\"Times,serif\" font-size=\"14.00\">SORT BY [col(&quot;tpep_pickup_datetime&quot;)]</text>\n",
       "</g>\n",
       "<!-- p1&#45;&#45;p2 -->\n",
       "<g id=\"edge1\" class=\"edge\">\n",
       "<title>p1--p2</title>\n",
       "<path fill=\"none\" stroke=\"black\" d=\"M360.88,-314.01C360.88,-302.18 360.88,-288.83 360.88,-278.54\"/>\n",
       "</g>\n",
       "<!-- p3 -->\n",
       "<g id=\"node3\" class=\"node\">\n",
       "<title>p3</title>\n",
       "<polygon fill=\"none\" stroke=\"black\" points=\"583,-206.5 138.75,-206.5 138.75,-170.5 583,-170.5 583,-206.5\"/>\n",
       "<text text-anchor=\"middle\" x=\"360.88\" y=\"-183.45\" font-family=\"Times,serif\" font-size=\"14.00\">WITH COLUMNS [col(&quot;tpep_pickup_datetime&quot;).str.strptime([String(raise)])]</text>\n",
       "</g>\n",
       "<!-- p2&#45;&#45;p3 -->\n",
       "<g id=\"edge2\" class=\"edge\">\n",
       "<title>p2--p3</title>\n",
       "<path fill=\"none\" stroke=\"black\" d=\"M360.88,-242.2C360.88,-231.35 360.88,-217.42 360.88,-206.6\"/>\n",
       "</g>\n",
       "<!-- p4 -->\n",
       "<g id=\"node4\" class=\"node\">\n",
       "<title>p4</title>\n",
       "<polygon fill=\"none\" stroke=\"black\" points=\"479.88,-134.5 241.88,-134.5 241.88,-93.5 479.88,-93.5 479.88,-134.5\"/>\n",
       "<text text-anchor=\"middle\" x=\"360.88\" y=\"-117.2\" font-family=\"Times,serif\" font-size=\"14.00\">simple π 4/4</text>\n",
       "<text text-anchor=\"middle\" x=\"360.88\" y=\"-100.7\" font-family=\"Times,serif\" font-size=\"14.00\">[&quot;passenger_count&quot;, ... 3 other columns]</text>\n",
       "</g>\n",
       "<!-- p3&#45;&#45;p4 -->\n",
       "<g id=\"edge3\" class=\"edge\">\n",
       "<title>p3--p4</title>\n",
       "<path fill=\"none\" stroke=\"black\" d=\"M360.88,-170.32C360.88,-159.68 360.88,-145.99 360.88,-134.88\"/>\n",
       "</g>\n",
       "<!-- p5 -->\n",
       "<g id=\"node5\" class=\"node\">\n",
       "<title>p5</title>\n",
       "<polygon fill=\"none\" stroke=\"black\" points=\"560.88,-57.5 160.88,-57.5 160.88,0 560.88,0 560.88,-57.5\"/>\n",
       "<text text-anchor=\"middle\" x=\"360.88\" y=\"-40.2\" font-family=\"Times,serif\" font-size=\"14.00\">Csv SCAN [./limited-memory-example/yellow_tripdata_2015-01.csv]</text>\n",
       "<text text-anchor=\"middle\" x=\"360.88\" y=\"-23.7\" font-family=\"Times,serif\" font-size=\"14.00\">π 4/19;</text>\n",
       "<text text-anchor=\"middle\" x=\"360.88\" y=\"-7.2\" font-family=\"Times,serif\" font-size=\"14.00\">σ [(col(&quot;VendorID&quot;)) == (1)]</text>\n",
       "</g>\n",
       "<!-- p4&#45;&#45;p5 -->\n",
       "<g id=\"edge4\" class=\"edge\">\n",
       "<title>p4--p5</title>\n",
       "<path fill=\"none\" stroke=\"black\" d=\"M360.88,-93.27C360.88,-82.69 360.88,-69.48 360.88,-57.84\"/>\n",
       "</g>\n",
       "</g>\n",
       "</svg>"
      ],
      "text/plain": [
       "<IPython.core.display.SVG object>"
      ]
     },
     "metadata": {},
     "output_type": "display_data"
    }
   ],
   "source": [
    "lf.show_graph()"
   ]
  },
  {
   "cell_type": "markdown",
   "id": "e4aafcc2",
   "metadata": {},
   "source": [
    "The $\\sigma$ operator is another of operation in Relational Algebra that is related to filters."
   ]
  },
  {
   "cell_type": "markdown",
   "id": "80de7618",
   "metadata": {},
   "source": [
    "### What can we know about the LazyFrame without materializing it?"
   ]
  },
  {
   "cell_type": "markdown",
   "id": "020559b0",
   "metadata": {},
   "source": [
    "#### <font color='red'>Materialization Warning:</font> calling `columns` will perform materialization"
   ]
  },
  {
   "cell_type": "code",
   "execution_count": 161,
   "id": "ec582a7f",
   "metadata": {},
   "outputs": [
    {
     "name": "stdout",
     "output_type": "stream",
     "text": [
      "CPU times: user 703 µs, sys: 3.81 ms, total: 4.51 ms\n",
      "Wall time: 3.34 ms\n"
     ]
    },
    {
     "name": "stderr",
     "output_type": "stream",
     "text": [
      "<timed eval>:1: PerformanceWarning: Determining the column names of a LazyFrame requires resolving its schema, which is a potentially expensive operation. Use `LazyFrame.collect_schema().names()` to get the column names without this warning.\n"
     ]
    },
    {
     "data": {
      "text/plain": [
       "['tpep_pickup_datetime', 'trips', 'passengers', 'distance_driven']"
      ]
     },
     "execution_count": 161,
     "metadata": {},
     "output_type": "execute_result"
    }
   ],
   "source": [
    "# should warn with PerformanceWarning\n",
    "%time lf.columns"
   ]
  },
  {
   "cell_type": "code",
   "execution_count": 162,
   "id": "4b451562",
   "metadata": {},
   "outputs": [
    {
     "name": "stdout",
     "output_type": "stream",
     "text": [
      "CPU times: user 84 µs, sys: 19 µs, total: 103 µs\n",
      "Wall time: 99.2 µs\n"
     ]
    },
    {
     "data": {
      "text/plain": [
       "Schema([('tpep_pickup_datetime', Datetime(time_unit='us', time_zone=None)),\n",
       "        ('trips', UInt32),\n",
       "        ('passengers', Int64),\n",
       "        ('distance_driven', Float64)])"
      ]
     },
     "execution_count": 162,
     "metadata": {},
     "output_type": "execute_result"
    }
   ],
   "source": [
    "# better to use 'collect_schema'\n",
    "%time lf.collect_schema()"
   ]
  },
  {
   "cell_type": "markdown",
   "id": "be9cd492",
   "metadata": {},
   "source": [
    "### But there's no data here, just instructions. So using indices for example, will result in an error"
   ]
  },
  {
   "cell_type": "code",
   "execution_count": null,
   "id": "7f6adb8a",
   "metadata": {},
   "outputs": [],
   "source": [
    "lf[0:1,'trips'] # this should fail"
   ]
  },
  {
   "cell_type": "markdown",
   "id": "5e0313ea",
   "metadata": {},
   "source": [
    "### Materialization has to be explicit, using `collect` to get a `polars.DataFrame`"
   ]
  },
  {
   "cell_type": "code",
   "execution_count": null,
   "id": "9c2eba18",
   "metadata": {},
   "outputs": [],
   "source": [
    "%time lazy_result = lf.collect()"
   ]
  },
  {
   "cell_type": "code",
   "execution_count": null,
   "id": "1c9c2327",
   "metadata": {},
   "outputs": [],
   "source": [
    "def eager_time_test():\n",
    "    return (\n",
    "        pl.read_csv(_file_location)\n",
    "        .with_columns(pl.col('tpep_pickup_datetime').str.strptime(pl.Datetime, format=\"%Y-%m-%d %H:%M:%S\"))\n",
    "        .filter(pl.col('VendorID') == 1)\n",
    "        .sort('tpep_pickup_datetime')\n",
    "        .group_by_dynamic('tpep_pickup_datetime', every='1h')\n",
    "        .agg(\n",
    "            pl.len().alias('trips'),\n",
    "            pl.col('passenger_count').sum().alias('passengers'),\n",
    "            pl.col('trip_distance').sum().alias('distance_driven')\n",
    "        )\n",
    "    )"
   ]
  },
  {
   "cell_type": "code",
   "execution_count": null,
   "id": "0350353c",
   "metadata": {},
   "outputs": [],
   "source": [
    "%time eager_result = eager_time_test()"
   ]
  },
  {
   "cell_type": "code",
   "execution_count": null,
   "id": "0490dc1d",
   "metadata": {},
   "outputs": [],
   "source": [
    "%time lazy_result = lf.collect() "
   ]
  },
  {
   "cell_type": "code",
   "execution_count": null,
   "id": "b427ed0d",
   "metadata": {},
   "outputs": [],
   "source": [
    "lazy_result.head()"
   ]
  },
  {
   "cell_type": "code",
   "execution_count": null,
   "id": "f12f8cad",
   "metadata": {},
   "outputs": [],
   "source": [
    "eager_result.head()"
   ]
  },
  {
   "cell_type": "code",
   "execution_count": null,
   "id": "448b6dc3",
   "metadata": {},
   "outputs": [],
   "source": [
    "lazy_result.equals(eager_result)"
   ]
  },
  {
   "cell_type": "markdown",
   "id": "df2bea26",
   "metadata": {},
   "source": [
    "### Profiling"
   ]
  },
  {
   "cell_type": "code",
   "execution_count": null,
   "id": "b593a7a4",
   "metadata": {},
   "outputs": [],
   "source": [
    "result, profile_result = lf.profile(show_plot=True)"
   ]
  },
  {
   "cell_type": "code",
   "execution_count": null,
   "id": "9efb5217",
   "metadata": {},
   "outputs": [],
   "source": [
    "profile_result"
   ]
  },
  {
   "cell_type": "code",
   "execution_count": null,
   "id": "1b7330fd",
   "metadata": {},
   "outputs": [],
   "source": [
    "_, profile_result = lf.profile(show_plot=True, predicate_pushdown=False, projection_pushdown=False)"
   ]
  },
  {
   "cell_type": "code",
   "execution_count": null,
   "id": "2d0ff452",
   "metadata": {},
   "outputs": [],
   "source": [
    "profile_result"
   ]
  },
  {
   "cell_type": "markdown",
   "id": "954e46ee",
   "metadata": {},
   "source": [
    "### Directly creating LazyDataFrame"
   ]
  },
  {
   "cell_type": "code",
   "execution_count": null,
   "id": "9ac3c6d3",
   "metadata": {},
   "outputs": [],
   "source": [
    "pl.DataFrame({'a': [1,2,3]}).lazy()"
   ]
  },
  {
   "cell_type": "markdown",
   "id": "25a5131f",
   "metadata": {},
   "source": [
    "## If you don't want to run the entire computation, just to check if you did things correctly\n",
    "\n",
    "### Use `head(n).collect()`"
   ]
  },
  {
   "cell_type": "code",
   "execution_count": null,
   "id": "fc1a445b",
   "metadata": {},
   "outputs": [],
   "source": [
    "result.head(2).collect()"
   ]
  },
  {
   "cell_type": "markdown",
   "id": "06522bd4",
   "metadata": {},
   "source": [
    "# Summary:\n",
    "\n",
    "1. Used correctly, `polars` is superior to `pandas` in terms of performance<br>\n",
    "2. Not limited to RAM when using lazy execution<br>\n",
    "2. SQL api, Lazy execution are very handy<br>\n",
    "3. I personally prefer the functional expression API<br>\n",
    "4. Multiple connectors are availble (parquet, Excel, CSV, ...)<br>\n",
    "5. As of Dec 2024 numpy/pandas conversion happens behind the scenes when we fit models and plot stuff, so there is no speed up on scikit-learn/LightGBM/catboost/matplotlib - but, polars is moving quickly and we might see more and more direct integrations<br>\n",
    "6. Rust - since this is A rapidly growing community, it might have some future for DS/Analytics too, and then polars will be rust's pandas equivalent<br>"
   ]
  },
  {
   "cell_type": "markdown",
   "id": "5e4ffa6c",
   "metadata": {},
   "source": [
    "## Bonus: `great-tables`\n",
    "\n",
    "Integrates seamlessly with `polars` you can also use the `selectors` directly when selecting columns."
   ]
  },
  {
   "cell_type": "code",
   "execution_count": null,
   "id": "f8437d58",
   "metadata": {},
   "outputs": [],
   "source": [
    "from great_tables import GT, md, html, nanoplot_options\n",
    "from colorzero import *"
   ]
  },
  {
   "cell_type": "code",
   "execution_count": null,
   "id": "41c37de6",
   "metadata": {},
   "outputs": [],
   "source": [
    "_file_location = './limited-memory-example/yellow_tripdata_2015-01.csv'\n",
    "df = pl.read_csv(_file_location)"
   ]
  },
  {
   "cell_type": "code",
   "execution_count": null,
   "id": "a8ebe66a",
   "metadata": {},
   "outputs": [],
   "source": [
    "bw = (\n",
    "    df\n",
    "    .sort(pl.col('tpep_pickup_datetime'), descending=False)\n",
    "    .group_by_dynamic(pl.col('tpep_pickup_datetime').str.to_datetime('%Y-%m-%d %H:%M:%S'), every=\"1w\")\n",
    "    .agg(\n",
    "        pl.col('passenger_count').mean().alias('average_passenger_count'),\n",
    "        pl.col('trip_distance').mean().alias('average_trip_distance'),\n",
    "        pl.col('fare_amount').mean(),\n",
    "        pl.col('extra').mean(),\n",
    "        pl.col('mta_tax').mean(),\n",
    "        pl.col('tip_amount').mean(),\n",
    "        pl.col('tolls_amount').mean(),\n",
    "        pl.col('total_amount').mean())\n",
    "    ).rename(mapping={'tpep_pickup_datetime':'week'})\n",
    "\n",
    "bw2 = (\n",
    "    df\n",
    "    .sort(pl.col('tpep_pickup_datetime'), descending=False)\n",
    "    .group_by_dynamic(pl.col('tpep_pickup_datetime').str.to_datetime('%Y-%m-%d %H:%M:%S'), every=\"1d\")\n",
    "    .agg(pl.col('passenger_count').sum().alias('passenger_count_daily'))\n",
    "    .rename(mapping={'tpep_pickup_datetime':'day'})\n",
    "    .sort(pl.col('day'), descending=False)\n",
    "    .group_by_dynamic(pl.col('day'), every=\"1w\")\n",
    "    .agg(pl.col('passenger_count_daily').implode())\n",
    "    .with_columns(pl.col('passenger_count_daily').list.get(0))\n",
    "    .rename(mapping={'day':'week'})\n",
    "    )\n",
    "\n",
    "gt1 = (\n",
    "    bw.join(bw2, on='week', how='inner').style\n",
    "        .tab_header('NYC Taxi dataset', subtitle=f\"Weekly statistics between Dec 29, 2014 to Jan 26, 2015\")\n",
    "        .tab_stub(rowname_col='week')\n",
    "        .tab_source_note(source_note='Kaggle, July 2017. https://www.kaggle.com/competitions/nyc-taxi-trip-duration')\n",
    "        .tab_spanner(label='Averages', columns=['average_passenger_count', 'average_trip_distance'])\n",
    "        .tab_spanner(label='Avg. Costs', columns=['fare_amount', 'extra', 'mta_tax', 'tip_amount', 'tolls_amount', 'total_amount'])\n",
    "        .fmt_currency(columns=['fare_amount', 'extra', 'mta_tax', 'tip_amount', 'tolls_amount', 'total_amount'])\n",
    "        .fmt_date(columns=['week'], date_style='m_day_year')\n",
    "        .fmt_number(columns=['average_passenger_count', 'average_trip_distance'], compact=True)\n",
    "        .fmt_nanoplot(columns='passenger_count_daily', autoscale=True)\n",
    "        .cols_label(\n",
    "            average_passenger_count=html('Passenger<br>count'),\n",
    "            average_trip_distance=html('Trip<br>distance'),\n",
    "            fare_amount=html('Fare'),\n",
    "            extra='Extra',\n",
    "            mta_tax='MTA tax',\n",
    "            tip_amount='Tip',\n",
    "            tolls_amount=html('Tolls'),\n",
    "            total_amount=html('Total'),\n",
    "            passenger_count_daily=html('Passenger count<br>(daily)')\n",
    "        )\n",
    ")\n",
    "low_col = Color('lime') - Saturation(0.4)\n",
    "high_col = Color('yellow') - Saturation(0.2)\n",
    "gt2 = (\n",
    "    gt1\n",
    "    .data_color(\n",
    "        palette=[low_col.html, high_col.html], \n",
    "        columns=[k for k,v in bw.schema.items() \n",
    "                 if v.is_numeric() \n",
    "                 and k not in ('average_passenger_count', 'average_trip_distance')])\n",
    "    .data_color(\n",
    "        palette=[\"white\", \"blue\"], \n",
    "        columns=['average_passenger_count', 'average_trip_distance']\n",
    "    )\n",
    ")"
   ]
  },
  {
   "cell_type": "code",
   "execution_count": null,
   "id": "b89d2193",
   "metadata": {},
   "outputs": [],
   "source": [
    "gt2"
   ]
  },
  {
   "cell_type": "markdown",
   "id": "8148074f",
   "metadata": {},
   "source": [
    "# The main claim to fame: _speed_\n",
    "\n",
    "[Link1](https://duckdblabs.github.io/db-benchmark/), [Link2](https://pola.rs/posts/benchmarks/)\n",
    "\n",
    "## `polars` uses apache's Arrow internally which allows for optimized columnar storage\n",
    "\n",
    "- `numpy`/`pandas` $\\rightarrow$ `polars`: slow since a lot of conversion takes place...\n",
    "- python primitives $\\rightarrow$ `polars`: very fast\n",
    "- binary files, parquet files... $\\rightarrow$ `polars`: smart and fast"
   ]
  },
  {
   "cell_type": "code",
   "execution_count": null,
   "id": "1407dc67",
   "metadata": {},
   "outputs": [],
   "source": [
    "%time _ = pl.Series([_ for _ in range(50_000_000)])"
   ]
  },
  {
   "cell_type": "code",
   "execution_count": null,
   "id": "877a8c21",
   "metadata": {},
   "outputs": [],
   "source": [
    "# fails on 100M, while polars achieves it in ~6.2 seconds\n",
    "%time _ = pd.Series([_ for _ in range(50_000_000)])"
   ]
  },
  {
   "cell_type": "code",
   "execution_count": null,
   "id": "3eb33a37",
   "metadata": {},
   "outputs": [],
   "source": [
    "arr = np.random.choice(['A', 'B', 'C'], size=100_000_000)"
   ]
  },
  {
   "cell_type": "code",
   "execution_count": null,
   "id": "908893f0",
   "metadata": {},
   "outputs": [],
   "source": [
    "%time pls = pl.Series(arr) # very slow due to conversion from numpy, better to work with primitives"
   ]
  },
  {
   "cell_type": "code",
   "execution_count": null,
   "id": "fd835e46",
   "metadata": {},
   "outputs": [],
   "source": [
    "%time pds = pd.Series(arr)"
   ]
  },
  {
   "cell_type": "code",
   "execution_count": null,
   "id": "687c6c57",
   "metadata": {},
   "outputs": [],
   "source": [
    "%time pls.max()"
   ]
  },
  {
   "cell_type": "code",
   "execution_count": null,
   "id": "c2b37b99",
   "metadata": {},
   "outputs": [],
   "source": [
    "%time pds.max()"
   ]
  },
  {
   "cell_type": "markdown",
   "id": "c6a0ac48",
   "metadata": {},
   "source": [
    "## How long does it take to load a 5M row data set in Polars vs. Pandas? "
   ]
  },
  {
   "cell_type": "code",
   "execution_count": null,
   "id": "60c89cee",
   "metadata": {},
   "outputs": [],
   "source": [
    "%time df_5m = pl.read_csv(_file_location, n_rows=5_000_000)"
   ]
  },
  {
   "cell_type": "code",
   "execution_count": null,
   "id": "23c9a4dc",
   "metadata": {},
   "outputs": [],
   "source": [
    "%time pd_df = pd.read_csv(_file_location, nrows=5_000_000)"
   ]
  }
 ],
 "metadata": {
  "kernelspec": {
   "display_name": "Python 3 (ipykernel)",
   "language": "python",
   "name": "python3"
  },
  "language_info": {
   "codemirror_mode": {
    "name": "ipython",
    "version": 3
   },
   "file_extension": ".py",
   "mimetype": "text/x-python",
   "name": "python",
   "nbconvert_exporter": "python",
   "pygments_lexer": "ipython3",
   "version": "3.11.2"
  }
 },
 "nbformat": 4,
 "nbformat_minor": 5
}
